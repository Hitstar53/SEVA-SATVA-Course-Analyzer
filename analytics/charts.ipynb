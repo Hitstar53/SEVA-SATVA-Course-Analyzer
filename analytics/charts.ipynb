{
 "cells": [
  {
   "cell_type": "code",
   "execution_count": 1,
   "metadata": {},
   "outputs": [],
   "source": [
    "import numpy as np\n",
    "import pandas as pd\n",
    "import seaborn as sns\n",
    "import matplotlib.pyplot as plt\n",
    "import plotly.express as px"
   ]
  },
  {
   "cell_type": "code",
   "execution_count": 2,
   "metadata": {},
   "outputs": [
    {
     "data": {
      "text/html": [
       "<div>\n",
       "<style scoped>\n",
       "    .dataframe tbody tr th:only-of-type {\n",
       "        vertical-align: middle;\n",
       "    }\n",
       "\n",
       "    .dataframe tbody tr th {\n",
       "        vertical-align: top;\n",
       "    }\n",
       "\n",
       "    .dataframe thead th {\n",
       "        text-align: right;\n",
       "    }\n",
       "</style>\n",
       "<table border=\"1\" class=\"dataframe\">\n",
       "  <thead>\n",
       "    <tr style=\"text-align: right;\">\n",
       "      <th></th>\n",
       "      <th>email</th>\n",
       "      <th>name</th>\n",
       "      <th>uid</th>\n",
       "      <th>branch</th>\n",
       "      <th>sem</th>\n",
       "      <th>course</th>\n",
       "      <th>category</th>\n",
       "      <th>period</th>\n",
       "    </tr>\n",
       "  </thead>\n",
       "  <tbody>\n",
       "    <tr>\n",
       "      <th>0</th>\n",
       "      <td>shaun.dsouza@spit.ac.in</td>\n",
       "      <td>Shaun D'Souza</td>\n",
       "      <td>2021300031</td>\n",
       "      <td>COMP</td>\n",
       "      <td>1</td>\n",
       "      <td>Basics of Fire Safety</td>\n",
       "      <td>Intellectual</td>\n",
       "      <td>ODD_SEM_22_23</td>\n",
       "    </tr>\n",
       "    <tr>\n",
       "      <th>1</th>\n",
       "      <td>ganesh.chaudhari@spit.ac.in</td>\n",
       "      <td>Ganesh Chaudhari</td>\n",
       "      <td>2021510007</td>\n",
       "      <td>MCA</td>\n",
       "      <td>1</td>\n",
       "      <td>Basics of Fire Safety</td>\n",
       "      <td>Intellectual</td>\n",
       "      <td>ODD_SEM_22_23</td>\n",
       "    </tr>\n",
       "    <tr>\n",
       "      <th>2</th>\n",
       "      <td>chetan.dhandge@spit.ac.in</td>\n",
       "      <td>Chetan Dhandge</td>\n",
       "      <td>2021510010</td>\n",
       "      <td>MCA</td>\n",
       "      <td>1</td>\n",
       "      <td>Basics of Fire Safety</td>\n",
       "      <td>Intellectual</td>\n",
       "      <td>ODD_SEM_22_23</td>\n",
       "    </tr>\n",
       "    <tr>\n",
       "      <th>3</th>\n",
       "      <td>sudhir.gomase@spit.ac.in</td>\n",
       "      <td>Sudhir Narayan Gomase</td>\n",
       "      <td>2021510018</td>\n",
       "      <td>MCA</td>\n",
       "      <td>1</td>\n",
       "      <td>Basics of Fire Safety</td>\n",
       "      <td>Intellectual</td>\n",
       "      <td>ODD_SEM_22_23</td>\n",
       "    </tr>\n",
       "    <tr>\n",
       "      <th>4</th>\n",
       "      <td>vishal.padme@spit.ac.in</td>\n",
       "      <td>Vishal Devidas Padme</td>\n",
       "      <td>2021510041</td>\n",
       "      <td>MCA</td>\n",
       "      <td>1</td>\n",
       "      <td>Basics of Fire Safety</td>\n",
       "      <td>Intellectual</td>\n",
       "      <td>ODD_SEM_22_23</td>\n",
       "    </tr>\n",
       "    <tr>\n",
       "      <th>5</th>\n",
       "      <td>pratik.parale@spit.ac.in</td>\n",
       "      <td>Pratik Parale</td>\n",
       "      <td>2021510045</td>\n",
       "      <td>MCA</td>\n",
       "      <td>1</td>\n",
       "      <td>Basics of Fire Safety</td>\n",
       "      <td>Intellectual</td>\n",
       "      <td>ODD_SEM_22_23</td>\n",
       "    </tr>\n",
       "    <tr>\n",
       "      <th>6</th>\n",
       "      <td>amit.rathod@spit.ac.in</td>\n",
       "      <td>Amit Manohar Rathod</td>\n",
       "      <td>2021510053</td>\n",
       "      <td>MCA</td>\n",
       "      <td>1</td>\n",
       "      <td>Basics of Fire Safety</td>\n",
       "      <td>Intellectual</td>\n",
       "      <td>ODD_SEM_22_23</td>\n",
       "    </tr>\n",
       "    <tr>\n",
       "      <th>7</th>\n",
       "      <td>sandesh.shivane@spit.ac.in</td>\n",
       "      <td>Sandesh Shivane</td>\n",
       "      <td>2021510063</td>\n",
       "      <td>MCA</td>\n",
       "      <td>1</td>\n",
       "      <td>Basics of Fire Safety</td>\n",
       "      <td>Intellectual</td>\n",
       "      <td>ODD_SEM_22_23</td>\n",
       "    </tr>\n",
       "    <tr>\n",
       "      <th>8</th>\n",
       "      <td>prashant.singh2@spit.ac.in</td>\n",
       "      <td>Prashant Singh</td>\n",
       "      <td>2021510064</td>\n",
       "      <td>MCA</td>\n",
       "      <td>1</td>\n",
       "      <td>Basics of Fire Safety</td>\n",
       "      <td>Intellectual</td>\n",
       "      <td>ODD_SEM_22_23</td>\n",
       "    </tr>\n",
       "    <tr>\n",
       "      <th>9</th>\n",
       "      <td>rahul.shinde@spit.ac.in</td>\n",
       "      <td>Rahul Pandharinath Shinde</td>\n",
       "      <td>2021600061</td>\n",
       "      <td>CSE-AIML</td>\n",
       "      <td>3</td>\n",
       "      <td>Basics of Fire Safety</td>\n",
       "      <td>Intellectual</td>\n",
       "      <td>ODD_SEM_22_23</td>\n",
       "    </tr>\n",
       "  </tbody>\n",
       "</table>\n",
       "</div>"
      ],
      "text/plain": [
       "                         email                       name         uid  \\\n",
       "0      shaun.dsouza@spit.ac.in              Shaun D'Souza  2021300031   \n",
       "1  ganesh.chaudhari@spit.ac.in           Ganesh Chaudhari  2021510007   \n",
       "2    chetan.dhandge@spit.ac.in             Chetan Dhandge  2021510010   \n",
       "3     sudhir.gomase@spit.ac.in      Sudhir Narayan Gomase  2021510018   \n",
       "4      vishal.padme@spit.ac.in       Vishal Devidas Padme  2021510041   \n",
       "5     pratik.parale@spit.ac.in              Pratik Parale  2021510045   \n",
       "6       amit.rathod@spit.ac.in        Amit Manohar Rathod  2021510053   \n",
       "7   sandesh.shivane@spit.ac.in            Sandesh Shivane  2021510063   \n",
       "8   prashant.singh2@spit.ac.in             Prashant Singh  2021510064   \n",
       "9      rahul.shinde@spit.ac.in  Rahul Pandharinath Shinde  2021600061   \n",
       "\n",
       "     branch  sem                 course      category         period  \n",
       "0      COMP    1  Basics of Fire Safety  Intellectual  ODD_SEM_22_23  \n",
       "1       MCA    1  Basics of Fire Safety  Intellectual  ODD_SEM_22_23  \n",
       "2       MCA    1  Basics of Fire Safety  Intellectual  ODD_SEM_22_23  \n",
       "3       MCA    1  Basics of Fire Safety  Intellectual  ODD_SEM_22_23  \n",
       "4       MCA    1  Basics of Fire Safety  Intellectual  ODD_SEM_22_23  \n",
       "5       MCA    1  Basics of Fire Safety  Intellectual  ODD_SEM_22_23  \n",
       "6       MCA    1  Basics of Fire Safety  Intellectual  ODD_SEM_22_23  \n",
       "7       MCA    1  Basics of Fire Safety  Intellectual  ODD_SEM_22_23  \n",
       "8       MCA    1  Basics of Fire Safety  Intellectual  ODD_SEM_22_23  \n",
       "9  CSE-AIML    3  Basics of Fire Safety  Intellectual  ODD_SEM_22_23  "
      ]
     },
     "execution_count": 2,
     "metadata": {},
     "output_type": "execute_result"
    }
   ],
   "source": [
    "enrolments = pd.read_csv('../data/enrolments.csv')\n",
    "enrolments.drop(columns='id', inplace=True)\n",
    "enrolments.head(10)"
   ]
  },
  {
   "cell_type": "code",
   "execution_count": 3,
   "metadata": {},
   "outputs": [
    {
     "name": "stdout",
     "output_type": "stream",
     "text": [
      "<class 'pandas.core.frame.DataFrame'>\n",
      "RangeIndex: 5377 entries, 0 to 5376\n",
      "Data columns (total 8 columns):\n",
      " #   Column    Non-Null Count  Dtype \n",
      "---  ------    --------------  ----- \n",
      " 0   email     5377 non-null   object\n",
      " 1   name      5377 non-null   object\n",
      " 2   uid       5377 non-null   int64 \n",
      " 3   branch    5377 non-null   object\n",
      " 4   sem       5377 non-null   int64 \n",
      " 5   course    5377 non-null   object\n",
      " 6   category  5377 non-null   object\n",
      " 7   period    5377 non-null   object\n",
      "dtypes: int64(2), object(6)\n",
      "memory usage: 336.2+ KB\n"
     ]
    }
   ],
   "source": [
    "enrolments.info()"
   ]
  },
  {
   "cell_type": "code",
   "execution_count": 4,
   "metadata": {},
   "outputs": [
    {
     "data": {
      "text/html": [
       "<div>\n",
       "<style scoped>\n",
       "    .dataframe tbody tr th:only-of-type {\n",
       "        vertical-align: middle;\n",
       "    }\n",
       "\n",
       "    .dataframe tbody tr th {\n",
       "        vertical-align: top;\n",
       "    }\n",
       "\n",
       "    .dataframe thead th {\n",
       "        text-align: right;\n",
       "    }\n",
       "</style>\n",
       "<table border=\"1\" class=\"dataframe\">\n",
       "  <thead>\n",
       "    <tr style=\"text-align: right;\">\n",
       "      <th></th>\n",
       "      <th>course_id</th>\n",
       "      <th>course_name</th>\n",
       "      <th>category</th>\n",
       "    </tr>\n",
       "  </thead>\n",
       "  <tbody>\n",
       "    <tr>\n",
       "      <th>0</th>\n",
       "      <td>1</td>\n",
       "      <td>Art of living</td>\n",
       "      <td>Spiritual</td>\n",
       "    </tr>\n",
       "    <tr>\n",
       "      <th>1</th>\n",
       "      <td>2</td>\n",
       "      <td>Introduction to Bhagvadgita</td>\n",
       "      <td>Spiritual</td>\n",
       "    </tr>\n",
       "    <tr>\n",
       "      <th>2</th>\n",
       "      <td>3</td>\n",
       "      <td>Pranvidya</td>\n",
       "      <td>Spiritual</td>\n",
       "    </tr>\n",
       "    <tr>\n",
       "      <th>3</th>\n",
       "      <td>4</td>\n",
       "      <td>Yog Vidya</td>\n",
       "      <td>Spiritual</td>\n",
       "    </tr>\n",
       "    <tr>\n",
       "      <th>4</th>\n",
       "      <td>5</td>\n",
       "      <td>Mentoring School Children (Abhyudaya)</td>\n",
       "      <td>Social</td>\n",
       "    </tr>\n",
       "    <tr>\n",
       "      <th>5</th>\n",
       "      <td>6</td>\n",
       "      <td>Mentorship to Juniors</td>\n",
       "      <td>Social</td>\n",
       "    </tr>\n",
       "    <tr>\n",
       "      <th>6</th>\n",
       "      <td>7</td>\n",
       "      <td>NSS</td>\n",
       "      <td>Social</td>\n",
       "    </tr>\n",
       "    <tr>\n",
       "      <th>7</th>\n",
       "      <td>8</td>\n",
       "      <td>Principle Centered Leadership</td>\n",
       "      <td>Social</td>\n",
       "    </tr>\n",
       "    <tr>\n",
       "      <th>8</th>\n",
       "      <td>9</td>\n",
       "      <td>Teaching Assistantship</td>\n",
       "      <td>Social</td>\n",
       "    </tr>\n",
       "    <tr>\n",
       "      <th>9</th>\n",
       "      <td>10</td>\n",
       "      <td>Terrace Gardening</td>\n",
       "      <td>Social</td>\n",
       "    </tr>\n",
       "  </tbody>\n",
       "</table>\n",
       "</div>"
      ],
      "text/plain": [
       "   course_id                            course_name   category\n",
       "0          1                          Art of living  Spiritual\n",
       "1          2            Introduction to Bhagvadgita  Spiritual\n",
       "2          3                              Pranvidya  Spiritual\n",
       "3          4                              Yog Vidya  Spiritual\n",
       "4          5  Mentoring School Children (Abhyudaya)     Social\n",
       "5          6                  Mentorship to Juniors     Social\n",
       "6          7                                    NSS     Social\n",
       "7          8          Principle Centered Leadership     Social\n",
       "8          9                 Teaching Assistantship     Social\n",
       "9         10                      Terrace Gardening     Social"
      ]
     },
     "execution_count": 4,
     "metadata": {},
     "output_type": "execute_result"
    }
   ],
   "source": [
    "courses = pd.read_csv('../data/courses.csv')\n",
    "courses.head(10)"
   ]
  },
  {
   "cell_type": "markdown",
   "metadata": {},
   "source": [
    "Graphs:"
   ]
  },
  {
   "cell_type": "markdown",
   "metadata": {},
   "source": [
    "Overall popularity of categories according to total number of enrolments:"
   ]
  },
  {
   "cell_type": "code",
   "execution_count": 5,
   "metadata": {},
   "outputs": [
    {
     "data": {
      "application/vnd.plotly.v1+json": {
       "config": {
        "plotlyServerURL": "https://plot.ly"
       },
       "data": [
        {
         "domain": {
          "x": [
           0,
           1
          ],
          "y": [
           0,
           1
          ]
         },
         "hovertemplate": "category=%{label}<extra></extra>",
         "labels": [
          "Intellectual",
          "Intellectual",
          "Intellectual",
          "Intellectual",
          "Intellectual",
          "Intellectual",
          "Intellectual",
          "Intellectual",
          "Intellectual",
          "Intellectual",
          "Intellectual",
          "Intellectual",
          "Intellectual",
          "Intellectual",
          "Intellectual",
          "Intellectual",
          "Intellectual",
          "Intellectual",
          "Intellectual",
          "Intellectual",
          "Intellectual",
          "Intellectual",
          "Intellectual",
          "Intellectual",
          "Intellectual",
          "Intellectual",
          "Intellectual",
          "Intellectual",
          "Intellectual",
          "Intellectual",
          "Intellectual",
          "Intellectual",
          "Intellectual",
          "Intellectual",
          "Intellectual",
          "Intellectual",
          "Intellectual",
          "Intellectual",
          "Intellectual",
          "Intellectual",
          "Intellectual",
          "Intellectual",
          "Intellectual",
          "Intellectual",
          "Intellectual",
          "Intellectual",
          "Intellectual",
          "Intellectual",
          "Intellectual",
          "Intellectual",
          "Intellectual",
          "Intellectual",
          "Intellectual",
          "Intellectual",
          "Intellectual",
          "Intellectual",
          "Intellectual",
          "Intellectual",
          "Intellectual",
          "Intellectual",
          "Intellectual",
          "Intellectual",
          "Intellectual",
          "Intellectual",
          "Intellectual",
          "Intellectual",
          "Intellectual",
          "Intellectual",
          "Intellectual",
          "Intellectual",
          "Intellectual",
          "Intellectual",
          "Intellectual",
          "Intellectual",
          "Intellectual",
          "Intellectual",
          "Intellectual",
          "Intellectual",
          "Intellectual",
          "Intellectual",
          "Intellectual",
          "Intellectual",
          "Intellectual",
          "Intellectual",
          "Intellectual",
          "Intellectual",
          "Intellectual",
          "Intellectual",
          "Intellectual",
          "Intellectual",
          "Intellectual",
          "Intellectual",
          "Intellectual",
          "Intellectual",
          "Intellectual",
          "Intellectual",
          "Intellectual",
          "Intellectual",
          "Intellectual",
          "Intellectual",
          "Intellectual",
          "Intellectual",
          "Intellectual",
          "Intellectual",
          "Intellectual",
          "Intellectual",
          "Intellectual",
          "Intellectual",
          "Intellectual",
          "Intellectual",
          "Intellectual",
          "Intellectual",
          "Intellectual",
          "Intellectual",
          "Intellectual",
          "Intellectual",
          "Intellectual",
          "Intellectual",
          "Intellectual",
          "Intellectual",
          "Intellectual",
          "Intellectual",
          "Intellectual",
          "Intellectual",
          "Intellectual",
          "Intellectual",
          "Intellectual",
          "Intellectual",
          "Intellectual",
          "Intellectual",
          "Intellectual",
          "Intellectual",
          "Intellectual",
          "Intellectual",
          "Intellectual",
          "Intellectual",
          "Intellectual",
          "Intellectual",
          "Intellectual",
          "Intellectual",
          "Intellectual",
          "Intellectual",
          "Intellectual",
          "Intellectual",
          "Intellectual",
          "Intellectual",
          "Intellectual",
          "Intellectual",
          "Intellectual",
          "Intellectual",
          "Intellectual",
          "Intellectual",
          "Intellectual",
          "Intellectual",
          "Intellectual",
          "Intellectual",
          "Intellectual",
          "Intellectual",
          "Intellectual",
          "Intellectual",
          "Intellectual",
          "Intellectual",
          "Intellectual",
          "Intellectual",
          "Intellectual",
          "Intellectual",
          "Intellectual",
          "Intellectual",
          "Intellectual",
          "Intellectual",
          "Intellectual",
          "Intellectual",
          "Intellectual",
          "Intellectual",
          "Intellectual",
          "Intellectual",
          "Intellectual",
          "Intellectual",
          "Intellectual",
          "Intellectual",
          "Intellectual",
          "Intellectual",
          "Intellectual",
          "Intellectual",
          "Intellectual",
          "Intellectual",
          "Intellectual",
          "Intellectual",
          "Intellectual",
          "Intellectual",
          "Intellectual",
          "Intellectual",
          "Intellectual",
          "Intellectual",
          "Intellectual",
          "Intellectual",
          "Intellectual",
          "Intellectual",
          "Intellectual",
          "Intellectual",
          "Intellectual",
          "Intellectual",
          "Intellectual",
          "Intellectual",
          "Intellectual",
          "Intellectual",
          "Intellectual",
          "Intellectual",
          "Intellectual",
          "Intellectual",
          "Intellectual",
          "Intellectual",
          "Intellectual",
          "Intellectual",
          "Intellectual",
          "Intellectual",
          "Intellectual",
          "Intellectual",
          "Intellectual",
          "Intellectual",
          "Intellectual",
          "Intellectual",
          "Intellectual",
          "Intellectual",
          "Intellectual",
          "Intellectual",
          "Intellectual",
          "Intellectual",
          "Intellectual",
          "Intellectual",
          "Intellectual",
          "Intellectual",
          "Intellectual",
          "Intellectual",
          "Intellectual",
          "Intellectual",
          "Intellectual",
          "Intellectual",
          "Intellectual",
          "Intellectual",
          "Intellectual",
          "Intellectual",
          "Intellectual",
          "Intellectual",
          "Intellectual",
          "Intellectual",
          "Intellectual",
          "Intellectual",
          "Intellectual",
          "Intellectual",
          "Intellectual",
          "Intellectual",
          "Intellectual",
          "Intellectual",
          "Intellectual",
          "Intellectual",
          "Intellectual",
          "Intellectual",
          "Intellectual",
          "Intellectual",
          "Intellectual",
          "Intellectual",
          "Intellectual",
          "Intellectual",
          "Intellectual",
          "Intellectual",
          "Intellectual",
          "Intellectual",
          "Intellectual",
          "Intellectual",
          "Intellectual",
          "Intellectual",
          "Intellectual",
          "Intellectual",
          "Intellectual",
          "Intellectual",
          "Intellectual",
          "Intellectual",
          "Intellectual",
          "Intellectual",
          "Intellectual",
          "Intellectual",
          "Intellectual",
          "Intellectual",
          "Intellectual",
          "Intellectual",
          "Intellectual",
          "Intellectual",
          "Intellectual",
          "Intellectual",
          "Intellectual",
          "Intellectual",
          "Intellectual",
          "Intellectual",
          "Intellectual",
          "Intellectual",
          "Intellectual",
          "Intellectual",
          "Intellectual",
          "Intellectual",
          "Intellectual",
          "Intellectual",
          "Intellectual",
          "Intellectual",
          "Intellectual",
          "Intellectual",
          "Intellectual",
          "Intellectual",
          "Intellectual",
          "Intellectual",
          "Intellectual",
          "Intellectual",
          "Intellectual",
          "Intellectual",
          "Intellectual",
          "Intellectual",
          "Intellectual",
          "Intellectual",
          "Intellectual",
          "Intellectual",
          "Intellectual",
          "Intellectual",
          "Intellectual",
          "Intellectual",
          "Intellectual",
          "Intellectual",
          "Intellectual",
          "Intellectual",
          "Intellectual",
          "Intellectual",
          "Intellectual",
          "Intellectual",
          "Intellectual",
          "Intellectual",
          "Intellectual",
          "Intellectual",
          "Intellectual",
          "Intellectual",
          "Intellectual",
          "Intellectual",
          "Intellectual",
          "Intellectual",
          "Intellectual",
          "Intellectual",
          "Intellectual",
          "Intellectual",
          "Intellectual",
          "Intellectual",
          "Intellectual",
          "Intellectual",
          "Intellectual",
          "Intellectual",
          "Intellectual",
          "Intellectual",
          "Intellectual",
          "Intellectual",
          "Intellectual",
          "Intellectual",
          "Intellectual",
          "Intellectual",
          "Intellectual",
          "Intellectual",
          "Intellectual",
          "Intellectual",
          "Intellectual",
          "Intellectual",
          "Intellectual",
          "Intellectual",
          "Intellectual",
          "Intellectual",
          "Intellectual",
          "Intellectual",
          "Intellectual",
          "Intellectual",
          "Intellectual",
          "Intellectual",
          "Intellectual",
          "Intellectual",
          "Intellectual",
          "Intellectual",
          "Intellectual",
          "Intellectual",
          "Intellectual",
          "Intellectual",
          "Intellectual",
          "Intellectual",
          "Intellectual",
          "Intellectual",
          "Intellectual",
          "Intellectual",
          "Intellectual",
          "Intellectual",
          "Intellectual",
          "Intellectual",
          "Intellectual",
          "Intellectual",
          "Intellectual",
          "Intellectual",
          "Intellectual",
          "Intellectual",
          "Intellectual",
          "Intellectual",
          "Intellectual",
          "Intellectual",
          "Intellectual",
          "Intellectual",
          "Intellectual",
          "Intellectual",
          "Intellectual",
          "Intellectual",
          "Intellectual",
          "Intellectual",
          "Intellectual",
          "Intellectual",
          "Intellectual",
          "Intellectual",
          "Intellectual",
          "Intellectual",
          "Intellectual",
          "Intellectual",
          "Intellectual",
          "Intellectual",
          "Intellectual",
          "Intellectual",
          "Intellectual",
          "Intellectual",
          "Intellectual",
          "Intellectual",
          "Intellectual",
          "Intellectual",
          "Intellectual",
          "Intellectual",
          "Intellectual",
          "Intellectual",
          "Intellectual",
          "Intellectual",
          "Intellectual",
          "Intellectual",
          "Intellectual",
          "Intellectual",
          "Intellectual",
          "Intellectual",
          "Intellectual",
          "Intellectual",
          "Intellectual",
          "Intellectual",
          "Intellectual",
          "Intellectual",
          "Intellectual",
          "Intellectual",
          "Intellectual",
          "Intellectual",
          "Intellectual",
          "Intellectual",
          "Intellectual",
          "Intellectual",
          "Intellectual",
          "Intellectual",
          "Intellectual",
          "Intellectual",
          "Intellectual",
          "Intellectual",
          "Intellectual",
          "Intellectual",
          "Intellectual",
          "Intellectual",
          "Intellectual",
          "Intellectual",
          "Intellectual",
          "Intellectual",
          "Intellectual",
          "Intellectual",
          "Intellectual",
          "Intellectual",
          "Intellectual",
          "Intellectual",
          "Intellectual",
          "Intellectual",
          "Intellectual",
          "Intellectual",
          "Intellectual",
          "Intellectual",
          "Intellectual",
          "Intellectual",
          "Intellectual",
          "Intellectual",
          "Intellectual",
          "Intellectual",
          "Intellectual",
          "Intellectual",
          "Intellectual",
          "Intellectual",
          "Intellectual",
          "Intellectual",
          "Intellectual",
          "Intellectual",
          "Intellectual",
          "Intellectual",
          "Intellectual",
          "Intellectual",
          "Intellectual",
          "Intellectual",
          "Intellectual",
          "Intellectual",
          "Intellectual",
          "Intellectual",
          "Intellectual",
          "Intellectual",
          "Intellectual",
          "Intellectual",
          "Intellectual",
          "Intellectual",
          "Intellectual",
          "Intellectual",
          "Intellectual",
          "Intellectual",
          "Intellectual",
          "Intellectual",
          "Intellectual",
          "Intellectual",
          "Intellectual",
          "Intellectual",
          "Intellectual",
          "Intellectual",
          "Intellectual",
          "Intellectual",
          "Intellectual",
          "Intellectual",
          "Intellectual",
          "Intellectual",
          "Intellectual",
          "Intellectual",
          "Intellectual",
          "Intellectual",
          "Intellectual",
          "Intellectual",
          "Intellectual",
          "Intellectual",
          "Intellectual",
          "Intellectual",
          "Intellectual",
          "Intellectual",
          "Intellectual",
          "Intellectual",
          "Intellectual",
          "Intellectual",
          "Intellectual",
          "Intellectual",
          "Intellectual",
          "Intellectual",
          "Intellectual",
          "Intellectual",
          "Intellectual",
          "Intellectual",
          "Intellectual",
          "Intellectual",
          "Intellectual",
          "Intellectual",
          "Emotional",
          "Emotional",
          "Emotional",
          "Emotional",
          "Emotional",
          "Emotional",
          "Emotional",
          "Emotional",
          "Emotional",
          "Emotional",
          "Emotional",
          "Emotional",
          "Emotional",
          "Emotional",
          "Emotional",
          "Emotional",
          "Emotional",
          "Emotional",
          "Emotional",
          "Emotional",
          "Emotional",
          "Emotional",
          "Emotional",
          "Emotional",
          "Emotional",
          "Emotional",
          "Emotional",
          "Emotional",
          "Emotional",
          "Emotional",
          "Emotional",
          "Emotional",
          "Emotional",
          "Emotional",
          "Emotional",
          "Emotional",
          "Emotional",
          "Emotional",
          "Emotional",
          "Emotional",
          "Emotional",
          "Emotional",
          "Emotional",
          "Emotional",
          "Emotional",
          "Emotional",
          "Emotional",
          "Emotional",
          "Emotional",
          "Emotional",
          "Emotional",
          "Emotional",
          "Emotional",
          "Emotional",
          "Emotional",
          "Emotional",
          "Emotional",
          "Emotional",
          "Emotional",
          "Emotional",
          "Emotional",
          "Emotional",
          "Emotional",
          "Emotional",
          "Emotional",
          "Emotional",
          "Emotional",
          "Emotional",
          "Emotional",
          "Emotional",
          "Emotional",
          "Emotional",
          "Emotional",
          "Emotional",
          "Emotional",
          "Emotional",
          "Emotional",
          "Emotional",
          "Emotional",
          "Emotional",
          "Emotional",
          "Emotional",
          "Emotional",
          "Emotional",
          "Emotional",
          "Emotional",
          "Emotional",
          "Emotional",
          "Emotional",
          "Emotional",
          "Emotional",
          "Emotional",
          "Emotional",
          "Emotional",
          "Emotional",
          "Emotional",
          "Emotional",
          "Emotional",
          "Emotional",
          "Emotional",
          "Emotional",
          "Emotional",
          "Emotional",
          "Physical",
          "Physical",
          "Physical",
          "Physical",
          "Physical",
          "Physical",
          "Physical",
          "Physical",
          "Physical",
          "Physical",
          "Physical",
          "Physical",
          "Physical",
          "Physical",
          "Social",
          "Social",
          "Social",
          "Social",
          "Social",
          "Social",
          "Social",
          "Social",
          "Social",
          "Social",
          "Social",
          "Social",
          "Social",
          "Social",
          "Social",
          "Social",
          "Social",
          "Social",
          "Social",
          "Social",
          "Social",
          "Social",
          "Social",
          "Social",
          "Social",
          "Social",
          "Social",
          "Social",
          "Social",
          "Social",
          "Social",
          "Social",
          "Social",
          "Social",
          "Social",
          "Social",
          "Social",
          "Social",
          "Social",
          "Social",
          "Social",
          "Social",
          "Social",
          "Social",
          "Social",
          "Social",
          "Social",
          "Social",
          "Social",
          "Social",
          "Social",
          "Social",
          "Social",
          "Social",
          "Social",
          "Social",
          "Social",
          "Social",
          "Social",
          "Social",
          "Social",
          "Social",
          "Social",
          "Social",
          "Social",
          "Social",
          "Social",
          "Social",
          "Social",
          "Social",
          "Social",
          "Social",
          "Social",
          "Social",
          "Social",
          "Social",
          "Social",
          "Social",
          "Social",
          "Social",
          "Social",
          "Social",
          "Social",
          "Social",
          "Social",
          "Social",
          "Social",
          "Social",
          "Social",
          "Social",
          "Social",
          "Social",
          "Social",
          "Social",
          "Social",
          "Social",
          "Social",
          "Social",
          "Social",
          "Social",
          "Social",
          "Social",
          "Social",
          "Social",
          "Social",
          "Social",
          "Social",
          "Social",
          "Social",
          "Social",
          "Social",
          "Social",
          "Social",
          "Social",
          "Social",
          "Social",
          "Social",
          "Social",
          "Social",
          "Social",
          "Social",
          "Social",
          "Social",
          "Social",
          "Social",
          "Social",
          "Social",
          "Social",
          "Social",
          "Social",
          "Social",
          "Social",
          "Social",
          "Social",
          "Social",
          "Social",
          "Social",
          "Social",
          "Social",
          "Social",
          "Social",
          "Social",
          "Social",
          "Social",
          "Social",
          "Social",
          "Social",
          "Social",
          "Social",
          "Social",
          "Social",
          "Social",
          "Social",
          "Social",
          "Social",
          "Social",
          "Social",
          "Social",
          "Social",
          "Social",
          "Physical",
          "Physical",
          "Physical",
          "Physical",
          "Physical",
          "Physical",
          "Physical",
          "Physical",
          "Physical",
          "Physical",
          "Physical",
          "Physical",
          "Physical",
          "Physical",
          "Physical",
          "Physical",
          "Physical",
          "Physical",
          "Physical",
          "Physical",
          "Physical",
          "Physical",
          "Physical",
          "Physical",
          "Physical",
          "Physical",
          "Physical",
          "Physical",
          "Physical",
          "Physical",
          "Physical",
          "Physical",
          "Physical",
          "Physical",
          "Physical",
          "Physical",
          "Physical",
          "Spiritual",
          "Spiritual",
          "Spiritual",
          "Spiritual",
          "Spiritual",
          "Spiritual",
          "Spiritual",
          "Spiritual",
          "Spiritual",
          "Spiritual",
          "Spiritual",
          "Spiritual",
          "Spiritual",
          "Spiritual",
          "Spiritual",
          "Spiritual",
          "Spiritual",
          "Spiritual",
          "Spiritual",
          "Spiritual",
          "Spiritual",
          "Spiritual",
          "Spiritual",
          "Spiritual",
          "Spiritual",
          "Spiritual",
          "Spiritual",
          "Spiritual",
          "Spiritual",
          "Spiritual",
          "Spiritual",
          "Spiritual",
          "Spiritual",
          "Spiritual",
          "Spiritual",
          "Spiritual",
          "Spiritual",
          "Spiritual",
          "Spiritual",
          "Spiritual",
          "Spiritual",
          "Spiritual",
          "Social",
          "Social",
          "Social",
          "Social",
          "Social",
          "Social",
          "Social",
          "Social",
          "Social",
          "Social",
          "Social",
          "Social",
          "Intellectual",
          "Intellectual",
          "Intellectual",
          "Intellectual",
          "Intellectual",
          "Intellectual",
          "Intellectual",
          "Intellectual",
          "Intellectual",
          "Intellectual",
          "Intellectual",
          "Intellectual",
          "Intellectual",
          "Intellectual",
          "Intellectual",
          "Intellectual",
          "Intellectual",
          "Intellectual",
          "Intellectual",
          "Intellectual",
          "Intellectual",
          "Intellectual",
          "Intellectual",
          "Intellectual",
          "Intellectual",
          "Intellectual",
          "Intellectual",
          "Intellectual",
          "Intellectual",
          "Intellectual",
          "Intellectual",
          "Intellectual",
          "Intellectual",
          "Intellectual",
          "Intellectual",
          "Intellectual",
          "Intellectual",
          "Intellectual",
          "Intellectual",
          "Intellectual",
          "Intellectual",
          "Intellectual",
          "Intellectual",
          "Intellectual",
          "Intellectual",
          "Intellectual",
          "Intellectual",
          "Intellectual",
          "Intellectual",
          "Intellectual",
          "Intellectual",
          "Intellectual",
          "Intellectual",
          "Intellectual",
          "Intellectual",
          "Intellectual",
          "Intellectual",
          "Intellectual",
          "Intellectual",
          "Intellectual",
          "Intellectual",
          "Intellectual",
          "Intellectual",
          "Intellectual",
          "Intellectual",
          "Intellectual",
          "Intellectual",
          "Intellectual",
          "Intellectual",
          "Intellectual",
          "Intellectual",
          "Intellectual",
          "Intellectual",
          "Intellectual",
          "Intellectual",
          "Intellectual",
          "Intellectual",
          "Intellectual",
          "Intellectual",
          "Intellectual",
          "Intellectual",
          "Intellectual",
          "Intellectual",
          "Intellectual",
          "Intellectual",
          "Intellectual",
          "Intellectual",
          "Intellectual",
          "Intellectual",
          "Intellectual",
          "Intellectual",
          "Intellectual",
          "Intellectual",
          "Intellectual",
          "Intellectual",
          "Intellectual",
          "Intellectual",
          "Intellectual",
          "Intellectual",
          "Intellectual",
          "Intellectual",
          "Intellectual",
          "Intellectual",
          "Intellectual",
          "Intellectual",
          "Intellectual",
          "Intellectual",
          "Intellectual",
          "Intellectual",
          "Intellectual",
          "Intellectual",
          "Intellectual",
          "Intellectual",
          "Intellectual",
          "Intellectual",
          "Intellectual",
          "Intellectual",
          "Intellectual",
          "Intellectual",
          "Intellectual",
          "Intellectual",
          "Intellectual",
          "Intellectual",
          "Intellectual",
          "Intellectual",
          "Intellectual",
          "Intellectual",
          "Intellectual",
          "Intellectual",
          "Intellectual",
          "Intellectual",
          "Intellectual",
          "Intellectual",
          "Intellectual",
          "Intellectual",
          "Intellectual",
          "Intellectual",
          "Intellectual",
          "Intellectual",
          "Intellectual",
          "Intellectual",
          "Intellectual",
          "Intellectual",
          "Intellectual",
          "Intellectual",
          "Intellectual",
          "Intellectual",
          "Intellectual",
          "Intellectual",
          "Intellectual",
          "Intellectual",
          "Intellectual",
          "Intellectual",
          "Intellectual",
          "Intellectual",
          "Intellectual",
          "Intellectual",
          "Intellectual",
          "Intellectual",
          "Intellectual",
          "Intellectual",
          "Intellectual",
          "Intellectual",
          "Intellectual",
          "Intellectual",
          "Intellectual",
          "Intellectual",
          "Intellectual",
          "Intellectual",
          "Intellectual",
          "Intellectual",
          "Intellectual",
          "Intellectual",
          "Intellectual",
          "Intellectual",
          "Intellectual",
          "Intellectual",
          "Intellectual",
          "Intellectual",
          "Intellectual",
          "Intellectual",
          "Intellectual",
          "Intellectual",
          "Physical",
          "Physical",
          "Physical",
          "Physical",
          "Physical",
          "Physical",
          "Physical",
          "Physical",
          "Physical",
          "Physical",
          "Physical",
          "Physical",
          "Physical",
          "Physical",
          "Physical",
          "Physical",
          "Intellectual",
          "Intellectual",
          "Intellectual",
          "Intellectual",
          "Intellectual",
          "Intellectual",
          "Intellectual",
          "Intellectual",
          "Intellectual",
          "Intellectual",
          "Intellectual",
          "Intellectual",
          "Intellectual",
          "Intellectual",
          "Intellectual",
          "Intellectual",
          "Social",
          "Social",
          "Social",
          "Social",
          "Social",
          "Social",
          "Social",
          "Social",
          "Social",
          "Social",
          "Social",
          "Social",
          "Social",
          "Social",
          "Social",
          "Social",
          "Social",
          "Social",
          "Social",
          "Social",
          "Social",
          "Social",
          "Social",
          "Social",
          "Social",
          "Social",
          "Social",
          "Social",
          "Social",
          "Social",
          "Social",
          "Social",
          "Social",
          "Social",
          "Social",
          "Social",
          "Social",
          "Social",
          "Social",
          "Social",
          "Social",
          "Social",
          "Social",
          "Social",
          "Social",
          "Social",
          "Social",
          "Social",
          "Social",
          "Social",
          "Social",
          "Social",
          "Social",
          "Social",
          "Intellectual",
          "Intellectual",
          "Intellectual",
          "Intellectual",
          "Intellectual",
          "Intellectual",
          "Intellectual",
          "Intellectual",
          "Intellectual",
          "Intellectual",
          "Intellectual",
          "Intellectual",
          "Intellectual",
          "Intellectual",
          "Intellectual",
          "Intellectual",
          "Intellectual",
          "Intellectual",
          "Intellectual",
          "Intellectual",
          "Intellectual",
          "Intellectual",
          "Intellectual",
          "Intellectual",
          "Intellectual",
          "Intellectual",
          "Intellectual",
          "Intellectual",
          "Intellectual",
          "Intellectual",
          "Intellectual",
          "Intellectual",
          "Intellectual",
          "Intellectual",
          "Intellectual",
          "Intellectual",
          "Intellectual",
          "Intellectual",
          "Intellectual",
          "Intellectual",
          "Intellectual",
          "Intellectual",
          "Intellectual",
          "Intellectual",
          "Intellectual",
          "Intellectual",
          "Intellectual",
          "Intellectual",
          "Intellectual",
          "Intellectual",
          "Intellectual",
          "Intellectual",
          "Intellectual",
          "Intellectual",
          "Intellectual",
          "Intellectual",
          "Intellectual",
          "Intellectual",
          "Intellectual",
          "Intellectual",
          "Intellectual",
          "Intellectual",
          "Intellectual",
          "Intellectual",
          "Intellectual",
          "Intellectual",
          "Intellectual",
          "Intellectual",
          "Intellectual",
          "Intellectual",
          "Intellectual",
          "Intellectual",
          "Intellectual",
          "Intellectual",
          "Intellectual",
          "Intellectual",
          "Intellectual",
          "Intellectual",
          "Intellectual",
          "Intellectual",
          "Intellectual",
          "Intellectual",
          "Intellectual",
          "Intellectual",
          "Intellectual",
          "Intellectual",
          "Intellectual",
          "Intellectual",
          "Intellectual",
          "Intellectual",
          "Intellectual",
          "Intellectual",
          "Intellectual",
          "Intellectual",
          "Intellectual",
          "Intellectual",
          "Intellectual",
          "Intellectual",
          "Intellectual",
          "Intellectual",
          "Intellectual",
          "Intellectual",
          "Intellectual",
          "Intellectual",
          "Intellectual",
          "Intellectual",
          "Intellectual",
          "Intellectual",
          "Intellectual",
          "Intellectual",
          "Intellectual",
          "Intellectual",
          "Intellectual",
          "Intellectual",
          "Intellectual",
          "Intellectual",
          "Intellectual",
          "Intellectual",
          "Intellectual",
          "Intellectual",
          "Intellectual",
          "Intellectual",
          "Intellectual",
          "Intellectual",
          "Intellectual",
          "Intellectual",
          "Intellectual",
          "Intellectual",
          "Intellectual",
          "Intellectual",
          "Intellectual",
          "Intellectual",
          "Intellectual",
          "Intellectual",
          "Intellectual",
          "Intellectual",
          "Intellectual",
          "Intellectual",
          "Intellectual",
          "Intellectual",
          "Intellectual",
          "Intellectual",
          "Intellectual",
          "Intellectual",
          "Intellectual",
          "Intellectual",
          "Intellectual",
          "Intellectual",
          "Intellectual",
          "Intellectual",
          "Intellectual",
          "Intellectual",
          "Intellectual",
          "Intellectual",
          "Intellectual",
          "Intellectual",
          "Intellectual",
          "Intellectual",
          "Intellectual",
          "Intellectual",
          "Intellectual",
          "Intellectual",
          "Intellectual",
          "Intellectual",
          "Intellectual",
          "Intellectual",
          "Intellectual",
          "Intellectual",
          "Intellectual",
          "Intellectual",
          "Intellectual",
          "Intellectual",
          "Intellectual",
          "Intellectual",
          "Intellectual",
          "Intellectual",
          "Intellectual",
          "Intellectual",
          "Intellectual",
          "Intellectual",
          "Intellectual",
          "Intellectual",
          "Intellectual",
          "Intellectual",
          "Intellectual",
          "Intellectual",
          "Intellectual",
          "Intellectual",
          "Intellectual",
          "Intellectual",
          "Intellectual",
          "Intellectual",
          "Intellectual",
          "Intellectual",
          "Intellectual",
          "Intellectual",
          "Intellectual",
          "Intellectual",
          "Intellectual",
          "Intellectual",
          "Intellectual",
          "Intellectual",
          "Intellectual",
          "Intellectual",
          "Intellectual",
          "Intellectual",
          "Intellectual",
          "Intellectual",
          "Intellectual",
          "Intellectual",
          "Intellectual",
          "Intellectual",
          "Intellectual",
          "Intellectual",
          "Intellectual",
          "Intellectual",
          "Intellectual",
          "Intellectual",
          "Intellectual",
          "Intellectual",
          "Intellectual",
          "Intellectual",
          "Intellectual",
          "Intellectual",
          "Intellectual",
          "Intellectual",
          "Intellectual",
          "Intellectual",
          "Intellectual",
          "Intellectual",
          "Intellectual",
          "Intellectual",
          "Intellectual",
          "Intellectual",
          "Intellectual",
          "Intellectual",
          "Intellectual",
          "Intellectual",
          "Intellectual",
          "Intellectual",
          "Intellectual",
          "Intellectual",
          "Intellectual",
          "Intellectual",
          "Intellectual",
          "Intellectual",
          "Intellectual",
          "Intellectual",
          "Intellectual",
          "Intellectual",
          "Intellectual",
          "Intellectual",
          "Intellectual",
          "Intellectual",
          "Intellectual",
          "Intellectual",
          "Intellectual",
          "Intellectual",
          "Intellectual",
          "Intellectual",
          "Intellectual",
          "Intellectual",
          "Intellectual",
          "Intellectual",
          "Intellectual",
          "Intellectual",
          "Intellectual",
          "Intellectual",
          "Intellectual",
          "Intellectual",
          "Intellectual",
          "Intellectual",
          "Intellectual",
          "Intellectual",
          "Intellectual",
          "Intellectual",
          "Intellectual",
          "Intellectual",
          "Intellectual",
          "Intellectual",
          "Intellectual",
          "Intellectual",
          "Intellectual",
          "Intellectual",
          "Intellectual",
          "Intellectual",
          "Intellectual",
          "Intellectual",
          "Intellectual",
          "Intellectual",
          "Intellectual",
          "Intellectual",
          "Intellectual",
          "Intellectual",
          "Intellectual",
          "Intellectual",
          "Intellectual",
          "Intellectual",
          "Intellectual",
          "Intellectual",
          "Intellectual",
          "Intellectual",
          "Intellectual",
          "Intellectual",
          "Intellectual",
          "Intellectual",
          "Intellectual",
          "Intellectual",
          "Intellectual",
          "Intellectual",
          "Intellectual",
          "Intellectual",
          "Intellectual",
          "Intellectual",
          "Intellectual",
          "Intellectual",
          "Intellectual",
          "Intellectual",
          "Intellectual",
          "Intellectual",
          "Intellectual",
          "Intellectual",
          "Intellectual",
          "Intellectual",
          "Intellectual",
          "Intellectual",
          "Intellectual",
          "Intellectual",
          "Intellectual",
          "Intellectual",
          "Intellectual",
          "Intellectual",
          "Intellectual",
          "Intellectual",
          "Intellectual",
          "Intellectual",
          "Intellectual",
          "Intellectual",
          "Intellectual",
          "Intellectual",
          "Intellectual",
          "Intellectual",
          "Intellectual",
          "Intellectual",
          "Intellectual",
          "Intellectual",
          "Intellectual",
          "Intellectual",
          "Intellectual",
          "Intellectual",
          "Intellectual",
          "Intellectual",
          "Intellectual",
          "Intellectual",
          "Intellectual",
          "Intellectual",
          "Intellectual",
          "Intellectual",
          "Intellectual",
          "Intellectual",
          "Intellectual",
          "Intellectual",
          "Intellectual",
          "Intellectual",
          "Intellectual",
          "Intellectual",
          "Intellectual",
          "Intellectual",
          "Intellectual",
          "Intellectual",
          "Intellectual",
          "Intellectual",
          "Intellectual",
          "Intellectual",
          "Intellectual",
          "Intellectual",
          "Intellectual",
          "Intellectual",
          "Intellectual",
          "Intellectual",
          "Intellectual",
          "Intellectual",
          "Intellectual",
          "Intellectual",
          "Intellectual",
          "Intellectual",
          "Intellectual",
          "Intellectual",
          "Intellectual",
          "Intellectual",
          "Intellectual",
          "Intellectual",
          "Intellectual",
          "Intellectual",
          "Intellectual",
          "Intellectual",
          "Intellectual",
          "Intellectual",
          "Intellectual",
          "Intellectual",
          "Intellectual",
          "Intellectual",
          "Intellectual",
          "Intellectual",
          "Intellectual",
          "Intellectual",
          "Intellectual",
          "Intellectual",
          "Intellectual",
          "Intellectual",
          "Intellectual",
          "Intellectual",
          "Intellectual",
          "Intellectual",
          "Intellectual",
          "Intellectual",
          "Intellectual",
          "Intellectual",
          "Intellectual",
          "Intellectual",
          "Intellectual",
          "Intellectual",
          "Intellectual",
          "Intellectual",
          "Intellectual",
          "Intellectual",
          "Intellectual",
          "Intellectual",
          "Intellectual",
          "Intellectual",
          "Intellectual",
          "Intellectual",
          "Intellectual",
          "Intellectual",
          "Intellectual",
          "Intellectual",
          "Intellectual",
          "Intellectual",
          "Intellectual",
          "Intellectual",
          "Intellectual",
          "Intellectual",
          "Intellectual",
          "Intellectual",
          "Intellectual",
          "Intellectual",
          "Intellectual",
          "Intellectual",
          "Intellectual",
          "Intellectual",
          "Intellectual",
          "Intellectual",
          "Intellectual",
          "Intellectual",
          "Intellectual",
          "Intellectual",
          "Intellectual",
          "Intellectual",
          "Intellectual",
          "Intellectual",
          "Intellectual",
          "Intellectual",
          "Intellectual",
          "Intellectual",
          "Intellectual",
          "Intellectual",
          "Intellectual",
          "Intellectual",
          "Intellectual",
          "Intellectual",
          "Intellectual",
          "Intellectual",
          "Intellectual",
          "Intellectual",
          "Intellectual",
          "Intellectual",
          "Intellectual",
          "Intellectual",
          "Intellectual",
          "Intellectual",
          "Intellectual",
          "Intellectual",
          "Intellectual",
          "Intellectual",
          "Intellectual",
          "Intellectual",
          "Intellectual",
          "Intellectual",
          "Intellectual",
          "Intellectual",
          "Intellectual",
          "Intellectual",
          "Intellectual",
          "Intellectual",
          "Intellectual",
          "Intellectual",
          "Intellectual",
          "Intellectual",
          "Intellectual",
          "Intellectual",
          "Intellectual",
          "Intellectual",
          "Intellectual",
          "Intellectual",
          "Intellectual",
          "Intellectual",
          "Intellectual",
          "Intellectual",
          "Intellectual",
          "Intellectual",
          "Intellectual",
          "Intellectual",
          "Intellectual",
          "Intellectual",
          "Intellectual",
          "Intellectual",
          "Intellectual",
          "Intellectual",
          "Intellectual",
          "Intellectual",
          "Intellectual",
          "Intellectual",
          "Intellectual",
          "Intellectual",
          "Intellectual",
          "Intellectual",
          "Intellectual",
          "Intellectual",
          "Intellectual",
          "Intellectual",
          "Intellectual",
          "Intellectual",
          "Intellectual",
          "Intellectual",
          "Intellectual",
          "Intellectual",
          "Intellectual",
          "Intellectual",
          "Intellectual",
          "Intellectual",
          "Intellectual",
          "Intellectual",
          "Intellectual",
          "Intellectual",
          "Intellectual",
          "Intellectual",
          "Intellectual",
          "Intellectual",
          "Intellectual",
          "Intellectual",
          "Intellectual",
          "Intellectual",
          "Intellectual",
          "Intellectual",
          "Intellectual",
          "Intellectual",
          "Intellectual",
          "Intellectual",
          "Intellectual",
          "Intellectual",
          "Intellectual",
          "Intellectual",
          "Intellectual",
          "Intellectual",
          "Intellectual",
          "Intellectual",
          "Intellectual",
          "Intellectual",
          "Intellectual",
          "Intellectual",
          "Intellectual",
          "Intellectual",
          "Intellectual",
          "Intellectual",
          "Intellectual",
          "Intellectual",
          "Intellectual",
          "Intellectual",
          "Intellectual",
          "Intellectual",
          "Intellectual",
          "Intellectual",
          "Intellectual",
          "Intellectual",
          "Intellectual",
          "Intellectual",
          "Intellectual",
          "Intellectual",
          "Emotional",
          "Emotional",
          "Emotional",
          "Emotional",
          "Emotional",
          "Emotional",
          "Emotional",
          "Emotional",
          "Emotional",
          "Emotional",
          "Emotional",
          "Emotional",
          "Emotional",
          "Emotional",
          "Emotional",
          "Emotional",
          "Emotional",
          "Emotional",
          "Emotional",
          "Emotional",
          "Emotional",
          "Emotional",
          "Emotional",
          "Emotional",
          "Emotional",
          "Emotional",
          "Emotional",
          "Emotional",
          "Emotional",
          "Emotional",
          "Emotional",
          "Emotional",
          "Emotional",
          "Emotional",
          "Emotional",
          "Emotional",
          "Emotional",
          "Emotional",
          "Emotional",
          "Emotional",
          "Emotional",
          "Emotional",
          "Social",
          "Social",
          "Social",
          "Social",
          "Social",
          "Social",
          "Social",
          "Social",
          "Social",
          "Social",
          "Social",
          "Social",
          "Social",
          "Social",
          "Social",
          "Social",
          "Social",
          "Social",
          "Social",
          "Social",
          "Social",
          "Social",
          "Social",
          "Social",
          "Social",
          "Social",
          "Social",
          "Social",
          "Social",
          "Social",
          "Social",
          "Social",
          "Social",
          "Social",
          "Social",
          "Social",
          "Social",
          "Social",
          "Social",
          "Social",
          "Social",
          "Social",
          "Social",
          "Social",
          "Social",
          "Social",
          "Social",
          "Social",
          "Social",
          "Social",
          "Social",
          "Social",
          "Social",
          "Social",
          "Social",
          "Social",
          "Social",
          "Social",
          "Social",
          "Social",
          "Social",
          "Social",
          "Social",
          "Social",
          "Social",
          "Social",
          "Social",
          "Social",
          "Social",
          "Social",
          "Social",
          "Social",
          "Social",
          "Social",
          "Social",
          "Social",
          "Social",
          "Social",
          "Social",
          "Social",
          "Social",
          "Social",
          "Social",
          "Social",
          "Social",
          "Social",
          "Social",
          "Social",
          "Social",
          "Social",
          "Social",
          "Social",
          "Social",
          "Social",
          "Social",
          "Social",
          "Social",
          "Social",
          "Social",
          "Social",
          "Social",
          "Intellectual",
          "Intellectual",
          "Intellectual",
          "Intellectual",
          "Intellectual",
          "Intellectual",
          "Intellectual",
          "Intellectual",
          "Intellectual",
          "Intellectual",
          "Intellectual",
          "Intellectual",
          "Intellectual",
          "Intellectual",
          "Intellectual",
          "Intellectual",
          "Intellectual",
          "Intellectual",
          "Intellectual",
          "Intellectual",
          "Intellectual",
          "Intellectual",
          "Intellectual",
          "Intellectual",
          "Intellectual",
          "Intellectual",
          "Physical",
          "Physical",
          "Physical",
          "Physical",
          "Physical",
          "Physical",
          "Physical",
          "Physical",
          "Physical",
          "Physical",
          "Physical",
          "Physical",
          "Physical",
          "Physical",
          "Physical",
          "Physical",
          "Physical",
          "Physical",
          "Physical",
          "Physical",
          "Physical",
          "Physical",
          "Physical",
          "Physical",
          "Physical",
          "Physical",
          "Physical",
          "Physical",
          "Physical",
          "Physical",
          "Physical",
          "Physical",
          "Physical",
          "Physical",
          "Physical",
          "Physical",
          "Physical",
          "Physical",
          "Physical",
          "Physical",
          "Physical",
          "Physical",
          "Physical",
          "Physical",
          "Physical",
          "Physical",
          "Physical",
          "Physical",
          "Physical",
          "Physical",
          "Physical",
          "Physical",
          "Physical",
          "Physical",
          "Physical",
          "Physical",
          "Physical",
          "Physical",
          "Physical",
          "Physical",
          "Physical",
          "Physical",
          "Physical",
          "Physical",
          "Physical",
          "Physical",
          "Physical",
          "Physical",
          "Physical",
          "Physical",
          "Physical",
          "Physical",
          "Physical",
          "Physical",
          "Physical",
          "Physical",
          "Physical",
          "Physical",
          "Physical",
          "Physical",
          "Physical",
          "Physical",
          "Physical",
          "Physical",
          "Physical",
          "Physical",
          "Physical",
          "Physical",
          "Physical",
          "Physical",
          "Physical",
          "Physical",
          "Physical",
          "Physical",
          "Physical",
          "Physical",
          "Physical",
          "Physical",
          "Physical",
          "Physical",
          "Physical",
          "Physical",
          "Physical",
          "Physical",
          "Physical",
          "Physical",
          "Physical",
          "Physical",
          "Physical",
          "Physical",
          "Physical",
          "Physical",
          "Physical",
          "Physical",
          "Physical",
          "Physical",
          "Physical",
          "Physical",
          "Physical",
          "Physical",
          "Physical",
          "Physical",
          "Physical",
          "Physical",
          "Physical",
          "Physical",
          "Physical",
          "Physical",
          "Physical",
          "Physical",
          "Physical",
          "Physical",
          "Physical",
          "Physical",
          "Physical",
          "Social",
          "Social",
          "Social",
          "Social",
          "Social",
          "Social",
          "Social",
          "Social",
          "Intellectual",
          "Intellectual",
          "Intellectual",
          "Intellectual",
          "Intellectual",
          "Intellectual",
          "Intellectual",
          "Intellectual",
          "Intellectual",
          "Intellectual",
          "Intellectual",
          "Intellectual",
          "Intellectual",
          "Intellectual",
          "Intellectual",
          "Intellectual",
          "Intellectual",
          "Physical",
          "Physical",
          "Physical",
          "Physical",
          "Physical",
          "Physical",
          "Physical",
          "Physical",
          "Physical",
          "Physical",
          "Physical",
          "Physical",
          "Physical",
          "Physical",
          "Physical",
          "Physical",
          "Physical",
          "Physical",
          "Physical",
          "Physical",
          "Physical",
          "Physical",
          "Physical",
          "Physical",
          "Physical",
          "Physical",
          "Physical",
          "Physical",
          "Physical",
          "Physical",
          "Physical",
          "Physical",
          "Physical",
          "Physical",
          "Physical",
          "Physical",
          "Physical",
          "Physical",
          "Physical",
          "Physical",
          "Physical",
          "Physical",
          "Physical",
          "Physical",
          "Physical",
          "Physical",
          "Physical",
          "Physical",
          "Physical",
          "Physical",
          "Physical",
          "Physical",
          "Physical",
          "Physical",
          "Physical",
          "Physical",
          "Physical",
          "Physical",
          "Physical",
          "Physical",
          "Physical",
          "Physical",
          "Physical",
          "Physical",
          "Physical",
          "Physical",
          "Physical",
          "Physical",
          "Physical",
          "Physical",
          "Physical",
          "Physical",
          "Physical",
          "Physical",
          "Physical",
          "Physical",
          "Physical",
          "Physical",
          "Physical",
          "Physical",
          "Physical",
          "Physical",
          "Physical",
          "Physical",
          "Physical",
          "Physical",
          "Physical",
          "Physical",
          "Physical",
          "Physical",
          "Physical",
          "Physical",
          "Physical",
          "Physical",
          "Physical",
          "Physical",
          "Physical",
          "Physical",
          "Physical",
          "Physical",
          "Physical",
          "Physical",
          "Physical",
          "Physical",
          "Physical",
          "Physical",
          "Physical",
          "Physical",
          "Physical",
          "Physical",
          "Physical",
          "Physical",
          "Physical",
          "Physical",
          "Physical",
          "Physical",
          "Physical",
          "Physical",
          "Physical",
          "Physical",
          "Physical",
          "Physical",
          "Physical",
          "Physical",
          "Physical",
          "Physical",
          "Physical",
          "Physical",
          "Physical",
          "Physical",
          "Physical",
          "Physical",
          "Physical",
          "Physical",
          "Physical",
          "Physical",
          "Physical",
          "Physical",
          "Physical",
          "Physical",
          "Physical",
          "Social",
          "Social",
          "Social",
          "Social",
          "Social",
          "Social",
          "Social",
          "Social",
          "Social",
          "Social",
          "Social",
          "Social",
          "Social",
          "Social",
          "Social",
          "Social",
          "Social",
          "Social",
          "Social",
          "Social",
          "Social",
          "Social",
          "Social",
          "Social",
          "Social",
          "Social",
          "Social",
          "Social",
          "Social",
          "Social",
          "Social",
          "Social",
          "Social",
          "Social",
          "Social",
          "Social",
          "Social",
          "Social",
          "Social",
          "Spiritual",
          "Spiritual",
          "Spiritual",
          "Spiritual",
          "Spiritual",
          "Spiritual",
          "Spiritual",
          "Spiritual",
          "Spiritual",
          "Spiritual",
          "Spiritual",
          "Spiritual",
          "Spiritual",
          "Spiritual",
          "Spiritual",
          "Intellectual",
          "Intellectual",
          "Intellectual",
          "Intellectual",
          "Intellectual",
          "Intellectual",
          "Intellectual",
          "Intellectual",
          "Intellectual",
          "Intellectual",
          "Intellectual",
          "Intellectual",
          "Intellectual",
          "Intellectual",
          "Intellectual",
          "Intellectual",
          "Intellectual",
          "Intellectual",
          "Intellectual",
          "Intellectual",
          "Intellectual",
          "Intellectual",
          "Intellectual",
          "Intellectual",
          "Intellectual",
          "Intellectual",
          "Intellectual",
          "Intellectual",
          "Intellectual",
          "Intellectual",
          "Intellectual",
          "Intellectual",
          "Intellectual",
          "Intellectual",
          "Intellectual",
          "Intellectual",
          "Intellectual",
          "Intellectual",
          "Intellectual",
          "Intellectual",
          "Intellectual",
          "Intellectual",
          "Intellectual",
          "Intellectual",
          "Intellectual",
          "Intellectual",
          "Intellectual",
          "Intellectual",
          "Intellectual",
          "Intellectual",
          "Intellectual",
          "Intellectual",
          "Intellectual",
          "Intellectual",
          "Intellectual",
          "Intellectual",
          "Intellectual",
          "Intellectual",
          "Intellectual",
          "Intellectual",
          "Intellectual",
          "Intellectual",
          "Intellectual",
          "Intellectual",
          "Intellectual",
          "Intellectual",
          "Intellectual",
          "Intellectual",
          "Intellectual",
          "Intellectual",
          "Intellectual",
          "Intellectual",
          "Intellectual",
          "Intellectual",
          "Intellectual",
          "Intellectual",
          "Intellectual",
          "Intellectual",
          "Intellectual",
          "Intellectual",
          "Intellectual",
          "Intellectual",
          "Intellectual",
          "Intellectual",
          "Intellectual",
          "Intellectual",
          "Intellectual",
          "Intellectual",
          "Intellectual",
          "Intellectual",
          "Intellectual",
          "Intellectual",
          "Intellectual",
          "Intellectual",
          "Intellectual",
          "Intellectual",
          "Intellectual",
          "Intellectual",
          "Intellectual",
          "Intellectual",
          "Intellectual",
          "Intellectual",
          "Intellectual",
          "Intellectual",
          "Intellectual",
          "Intellectual",
          "Intellectual",
          "Intellectual",
          "Intellectual",
          "Intellectual",
          "Intellectual",
          "Intellectual",
          "Intellectual",
          "Intellectual",
          "Intellectual",
          "Intellectual",
          "Intellectual",
          "Intellectual",
          "Intellectual",
          "Intellectual",
          "Intellectual",
          "Intellectual",
          "Intellectual",
          "Intellectual",
          "Intellectual",
          "Intellectual",
          "Intellectual",
          "Intellectual",
          "Intellectual",
          "Intellectual",
          "Intellectual",
          "Intellectual",
          "Intellectual",
          "Intellectual",
          "Intellectual",
          "Intellectual",
          "Intellectual",
          "Intellectual",
          "Intellectual",
          "Intellectual",
          "Intellectual",
          "Intellectual",
          "Intellectual",
          "Intellectual",
          "Intellectual",
          "Intellectual",
          "Intellectual",
          "Intellectual",
          "Intellectual",
          "Intellectual",
          "Intellectual",
          "Intellectual",
          "Intellectual",
          "Intellectual",
          "Intellectual",
          "Intellectual",
          "Intellectual",
          "Intellectual",
          "Intellectual",
          "Intellectual",
          "Intellectual",
          "Intellectual",
          "Intellectual",
          "Intellectual",
          "Intellectual",
          "Intellectual",
          "Intellectual",
          "Intellectual",
          "Intellectual",
          "Intellectual",
          "Intellectual",
          "Intellectual",
          "Intellectual",
          "Intellectual",
          "Intellectual",
          "Intellectual",
          "Intellectual",
          "Intellectual",
          "Intellectual",
          "Intellectual",
          "Intellectual",
          "Intellectual",
          "Intellectual",
          "Intellectual",
          "Intellectual",
          "Intellectual",
          "Intellectual",
          "Intellectual",
          "Intellectual",
          "Intellectual",
          "Intellectual",
          "Intellectual",
          "Intellectual",
          "Intellectual",
          "Intellectual",
          "Intellectual",
          "Intellectual",
          "Intellectual",
          "Intellectual",
          "Intellectual",
          "Intellectual",
          "Intellectual",
          "Intellectual",
          "Intellectual",
          "Intellectual",
          "Intellectual",
          "Intellectual",
          "Intellectual",
          "Intellectual",
          "Intellectual",
          "Intellectual",
          "Intellectual",
          "Intellectual",
          "Intellectual",
          "Intellectual",
          "Intellectual",
          "Intellectual",
          "Intellectual",
          "Intellectual",
          "Intellectual",
          "Intellectual",
          "Intellectual",
          "Intellectual",
          "Intellectual",
          "Intellectual",
          "Intellectual",
          "Intellectual",
          "Intellectual",
          "Intellectual",
          "Intellectual",
          "Intellectual",
          "Intellectual",
          "Intellectual",
          "Intellectual",
          "Intellectual",
          "Intellectual",
          "Intellectual",
          "Intellectual",
          "Intellectual",
          "Intellectual",
          "Intellectual",
          "Intellectual",
          "Intellectual",
          "Intellectual",
          "Intellectual",
          "Intellectual",
          "Intellectual",
          "Intellectual",
          "Intellectual",
          "Intellectual",
          "Intellectual",
          "Intellectual",
          "Intellectual",
          "Intellectual",
          "Intellectual",
          "Intellectual",
          "Intellectual",
          "Intellectual",
          "Intellectual",
          "Intellectual",
          "Intellectual",
          "Intellectual",
          "Intellectual",
          "Intellectual",
          "Intellectual",
          "Intellectual",
          "Intellectual",
          "Intellectual",
          "Intellectual",
          "Intellectual",
          "Intellectual",
          "Intellectual",
          "Intellectual",
          "Intellectual",
          "Intellectual",
          "Intellectual",
          "Intellectual",
          "Intellectual",
          "Intellectual",
          "Intellectual",
          "Intellectual",
          "Intellectual",
          "Intellectual",
          "Intellectual",
          "Intellectual",
          "Intellectual",
          "Intellectual",
          "Intellectual",
          "Intellectual",
          "Intellectual",
          "Intellectual",
          "Intellectual",
          "Intellectual",
          "Intellectual",
          "Intellectual",
          "Intellectual",
          "Intellectual",
          "Intellectual",
          "Intellectual",
          "Intellectual",
          "Intellectual",
          "Intellectual",
          "Intellectual",
          "Intellectual",
          "Intellectual",
          "Intellectual",
          "Intellectual",
          "Intellectual",
          "Intellectual",
          "Intellectual",
          "Intellectual",
          "Intellectual",
          "Intellectual",
          "Intellectual",
          "Intellectual",
          "Intellectual",
          "Intellectual",
          "Intellectual",
          "Intellectual",
          "Intellectual",
          "Intellectual",
          "Intellectual",
          "Intellectual",
          "Intellectual",
          "Intellectual",
          "Intellectual",
          "Intellectual",
          "Intellectual",
          "Intellectual",
          "Intellectual",
          "Intellectual",
          "Intellectual",
          "Intellectual",
          "Intellectual",
          "Intellectual",
          "Intellectual",
          "Intellectual",
          "Intellectual",
          "Intellectual",
          "Intellectual",
          "Intellectual",
          "Intellectual",
          "Intellectual",
          "Intellectual",
          "Intellectual",
          "Intellectual",
          "Intellectual",
          "Intellectual",
          "Intellectual",
          "Intellectual",
          "Intellectual",
          "Intellectual",
          "Intellectual",
          "Intellectual",
          "Intellectual",
          "Intellectual",
          "Intellectual",
          "Intellectual",
          "Intellectual",
          "Intellectual",
          "Intellectual",
          "Intellectual",
          "Intellectual",
          "Intellectual",
          "Intellectual",
          "Intellectual",
          "Intellectual",
          "Intellectual",
          "Intellectual",
          "Intellectual",
          "Intellectual",
          "Intellectual",
          "Intellectual",
          "Intellectual",
          "Intellectual",
          "Intellectual",
          "Intellectual",
          "Intellectual",
          "Intellectual",
          "Intellectual",
          "Intellectual",
          "Intellectual",
          "Intellectual",
          "Intellectual",
          "Intellectual",
          "Intellectual",
          "Intellectual",
          "Intellectual",
          "Intellectual",
          "Intellectual",
          "Intellectual",
          "Intellectual",
          "Intellectual",
          "Intellectual",
          "Intellectual",
          "Intellectual",
          "Intellectual",
          "Intellectual",
          "Intellectual",
          "Intellectual",
          "Intellectual",
          "Intellectual",
          "Intellectual",
          "Intellectual",
          "Intellectual",
          "Intellectual",
          "Intellectual",
          "Intellectual",
          "Intellectual",
          "Intellectual",
          "Intellectual",
          "Intellectual",
          "Intellectual",
          "Intellectual",
          "Intellectual",
          "Intellectual",
          "Intellectual",
          "Intellectual",
          "Intellectual",
          "Intellectual",
          "Intellectual",
          "Intellectual",
          "Intellectual",
          "Intellectual",
          "Intellectual",
          "Intellectual",
          "Intellectual",
          "Intellectual",
          "Intellectual",
          "Intellectual",
          "Intellectual",
          "Intellectual",
          "Intellectual",
          "Emotional",
          "Emotional",
          "Emotional",
          "Emotional",
          "Emotional",
          "Emotional",
          "Emotional",
          "Emotional",
          "Emotional",
          "Emotional",
          "Emotional",
          "Emotional",
          "Emotional",
          "Emotional",
          "Emotional",
          "Emotional",
          "Emotional",
          "Emotional",
          "Emotional",
          "Emotional",
          "Emotional",
          "Emotional",
          "Emotional",
          "Emotional",
          "Emotional",
          "Emotional",
          "Emotional",
          "Emotional",
          "Emotional",
          "Emotional",
          "Emotional",
          "Emotional",
          "Emotional",
          "Emotional",
          "Emotional",
          "Emotional",
          "Emotional",
          "Emotional",
          "Emotional",
          "Emotional",
          "Emotional",
          "Emotional",
          "Emotional",
          "Emotional",
          "Emotional",
          "Emotional",
          "Emotional",
          "Emotional",
          "Emotional",
          "Emotional",
          "Emotional",
          "Emotional",
          "Emotional",
          "Emotional",
          "Emotional",
          "Emotional",
          "Emotional",
          "Emotional",
          "Emotional",
          "Emotional",
          "Spiritual",
          "Spiritual",
          "Spiritual",
          "Spiritual",
          "Spiritual",
          "Spiritual",
          "Spiritual",
          "Spiritual",
          "Spiritual",
          "Spiritual",
          "Spiritual",
          "Spiritual",
          "Spiritual",
          "Spiritual",
          "Spiritual",
          "Spiritual",
          "Spiritual",
          "Spiritual",
          "Spiritual",
          "Spiritual",
          "Spiritual",
          "Spiritual",
          "Spiritual",
          "Spiritual",
          "Spiritual",
          "Spiritual",
          "Spiritual",
          "Spiritual",
          "Spiritual",
          "Spiritual",
          "Spiritual",
          "Spiritual",
          "Spiritual",
          "Spiritual",
          "Spiritual",
          "Spiritual",
          "Spiritual",
          "Spiritual",
          "Spiritual",
          "Spiritual",
          "Spiritual",
          "Spiritual",
          "Spiritual",
          "Spiritual",
          "Spiritual",
          "Spiritual",
          "Spiritual",
          "Spiritual",
          "Spiritual",
          "Spiritual",
          "Spiritual",
          "Spiritual",
          "Spiritual",
          "Spiritual",
          "Spiritual",
          "Spiritual",
          "Spiritual",
          "Spiritual",
          "Spiritual",
          "Spiritual",
          "Spiritual",
          "Spiritual",
          "Spiritual",
          "Spiritual",
          "Spiritual",
          "Spiritual",
          "Spiritual",
          "Spiritual",
          "Spiritual",
          "Spiritual",
          "Spiritual",
          "Spiritual",
          "Spiritual",
          "Social",
          "Social",
          "Social",
          "Social",
          "Social",
          "Social",
          "Social",
          "Social",
          "Social",
          "Social",
          "Social",
          "Social",
          "Social",
          "Social",
          "Social",
          "Social",
          "Social",
          "Social",
          "Social",
          "Social",
          "Social",
          "Social",
          "Social",
          "Social",
          "Social",
          "Social",
          "Social",
          "Social",
          "Social",
          "Social",
          "Social",
          "Social",
          "Social",
          "Social",
          "Social",
          "Social",
          "Social",
          "Social",
          "Social",
          "Social",
          "Social",
          "Social",
          "Social",
          "Social",
          "Social",
          "Social",
          "Social",
          "Social",
          "Social",
          "Social",
          "Social",
          "Social",
          "Social",
          "Social",
          "Social",
          "Social",
          "Social",
          "Social",
          "Social",
          "Social",
          "Social",
          "Social",
          "Social",
          "Social",
          "Social",
          "Social",
          "Social",
          "Social",
          "Social",
          "Social",
          "Social",
          "Social",
          "Social",
          "Social",
          "Social",
          "Social",
          "Social",
          "Social",
          "Social",
          "Social",
          "Social",
          "Social",
          "Social",
          "Social",
          "Social",
          "Social",
          "Social",
          "Social",
          "Social",
          "Social",
          "Social",
          "Social",
          "Social",
          "Social",
          "Social",
          "Social",
          "Social",
          "Social",
          "Social",
          "Social",
          "Social",
          "Social",
          "Social",
          "Social",
          "Social",
          "Social",
          "Social",
          "Social",
          "Social",
          "Social",
          "Social",
          "Social",
          "Social",
          "Social",
          "Social",
          "Social",
          "Social",
          "Social",
          "Social",
          "Social",
          "Social",
          "Social",
          "Spiritual",
          "Spiritual",
          "Spiritual",
          "Spiritual",
          "Spiritual",
          "Spiritual",
          "Spiritual",
          "Spiritual",
          "Spiritual",
          "Spiritual",
          "Spiritual",
          "Spiritual",
          "Spiritual",
          "Spiritual",
          "Spiritual",
          "Spiritual",
          "Spiritual",
          "Spiritual",
          "Spiritual",
          "Spiritual",
          "Intellectual",
          "Intellectual",
          "Intellectual",
          "Intellectual",
          "Intellectual",
          "Intellectual",
          "Intellectual",
          "Intellectual",
          "Intellectual",
          "Intellectual",
          "Intellectual",
          "Intellectual",
          "Intellectual",
          "Intellectual",
          "Intellectual",
          "Intellectual",
          "Intellectual",
          "Intellectual",
          "Intellectual",
          "Intellectual",
          "Intellectual",
          "Intellectual",
          "Intellectual",
          "Intellectual",
          "Intellectual",
          "Intellectual",
          "Intellectual",
          "Intellectual",
          "Intellectual",
          "Intellectual",
          "Intellectual",
          "Intellectual",
          "Intellectual",
          "Intellectual",
          "Intellectual",
          "Intellectual",
          "Intellectual",
          "Intellectual",
          "Intellectual",
          "Intellectual",
          "Intellectual",
          "Intellectual",
          "Intellectual",
          "Intellectual",
          "Intellectual",
          "Intellectual",
          "Intellectual",
          "Intellectual",
          "Intellectual",
          "Intellectual",
          "Intellectual",
          "Intellectual",
          "Intellectual",
          "Intellectual",
          "Intellectual",
          "Intellectual",
          "Intellectual",
          "Intellectual",
          "Intellectual",
          "Intellectual",
          "Intellectual",
          "Intellectual",
          "Intellectual",
          "Intellectual",
          "Intellectual",
          "Intellectual",
          "Intellectual",
          "Intellectual",
          "Intellectual",
          "Intellectual",
          "Intellectual",
          "Intellectual",
          "Intellectual",
          "Intellectual",
          "Intellectual",
          "Physical",
          "Physical",
          "Physical",
          "Physical",
          "Physical",
          "Physical",
          "Physical",
          "Physical",
          "Physical",
          "Physical",
          "Physical",
          "Physical",
          "Physical",
          "Physical",
          "Physical",
          "Physical",
          "Physical",
          "Physical",
          "Physical",
          "Physical",
          "Physical",
          "Physical",
          "Physical",
          "Physical",
          "Physical",
          "Physical",
          "Physical",
          "Physical",
          "Physical",
          "Physical",
          "Physical",
          "Physical",
          "Physical",
          "Physical",
          "Physical",
          "Physical",
          "Physical",
          "Physical",
          "Physical",
          "Physical",
          "Physical",
          "Physical",
          "Physical",
          "Physical",
          "Physical",
          "Physical",
          "Physical",
          "Physical",
          "Physical",
          "Physical",
          "Physical",
          "Physical",
          "Physical",
          "Physical",
          "Physical",
          "Physical",
          "Physical",
          "Physical",
          "Physical",
          "Physical",
          "Physical",
          "Physical",
          "Physical",
          "Physical",
          "Physical",
          "Physical",
          "Physical",
          "Physical",
          "Physical",
          "Physical",
          "Physical",
          "Physical",
          "Physical",
          "Physical",
          "Physical",
          "Physical",
          "Physical",
          "Physical",
          "Physical",
          "Physical",
          "Physical",
          "Physical",
          "Physical",
          "Physical",
          "Physical",
          "Physical",
          "Physical",
          "Physical",
          "Physical",
          "Physical",
          "Physical",
          "Physical",
          "Physical",
          "Physical",
          "Physical",
          "Physical",
          "Physical",
          "Physical",
          "Physical",
          "Physical",
          "Physical",
          "Physical",
          "Physical",
          "Physical",
          "Physical",
          "Physical",
          "Physical",
          "Physical",
          "Physical",
          "Physical",
          "Physical",
          "Physical",
          "Physical",
          "Physical",
          "Physical",
          "Physical",
          "Physical",
          "Physical",
          "Physical",
          "Physical",
          "Physical",
          "Physical",
          "Physical",
          "Physical",
          "Physical",
          "Physical",
          "Physical",
          "Physical",
          "Physical",
          "Physical",
          "Physical",
          "Physical",
          "Physical",
          "Physical",
          "Physical",
          "Physical",
          "Physical",
          "Physical",
          "Physical",
          "Physical",
          "Physical",
          "Physical",
          "Physical",
          "Physical",
          "Physical",
          "Physical",
          "Physical",
          "Physical",
          "Physical",
          "Physical",
          "Physical",
          "Physical",
          "Physical",
          "Physical",
          "Physical",
          "Physical",
          "Physical",
          "Physical",
          "Physical",
          "Physical",
          "Physical",
          "Physical",
          "Physical",
          "Physical",
          "Physical",
          "Physical",
          "Physical",
          "Physical",
          "Physical",
          "Physical",
          "Physical",
          "Physical",
          "Physical",
          "Physical",
          "Physical",
          "Physical",
          "Physical",
          "Physical",
          "Physical",
          "Physical",
          "Physical",
          "Physical",
          "Physical",
          "Physical",
          "Physical",
          "Physical",
          "Physical",
          "Physical",
          "Physical",
          "Physical",
          "Physical",
          "Physical",
          "Physical",
          "Physical",
          "Physical",
          "Physical",
          "Physical",
          "Physical",
          "Physical",
          "Physical",
          "Physical",
          "Physical",
          "Physical",
          "Physical",
          "Physical",
          "Physical",
          "Physical",
          "Physical",
          "Physical",
          "Physical",
          "Physical",
          "Physical",
          "Physical",
          "Physical",
          "Physical",
          "Physical",
          "Physical",
          "Physical",
          "Physical",
          "Physical",
          "Physical",
          "Physical",
          "Physical",
          "Physical",
          "Physical",
          "Physical",
          "Physical",
          "Physical",
          "Physical",
          "Physical",
          "Physical",
          "Physical",
          "Physical",
          "Physical",
          "Physical",
          "Physical",
          "Physical",
          "Physical",
          "Physical",
          "Physical",
          "Physical",
          "Physical",
          "Physical",
          "Physical",
          "Physical",
          "Physical",
          "Physical",
          "Physical",
          "Physical",
          "Physical",
          "Physical",
          "Physical",
          "Physical",
          "Physical",
          "Physical",
          "Physical",
          "Physical",
          "Physical",
          "Physical",
          "Physical",
          "Physical",
          "Physical",
          "Physical",
          "Physical",
          "Physical",
          "Physical",
          "Physical",
          "Physical",
          "Physical",
          "Physical",
          "Physical",
          "Physical",
          "Physical",
          "Physical",
          "Physical",
          "Physical",
          "Physical",
          "Physical",
          "Physical",
          "Physical",
          "Physical",
          "Physical",
          "Physical",
          "Physical",
          "Physical",
          "Physical",
          "Physical",
          "Physical",
          "Physical",
          "Physical",
          "Physical",
          "Physical",
          "Physical",
          "Physical",
          "Physical",
          "Intellectual",
          "Intellectual",
          "Intellectual",
          "Intellectual",
          "Intellectual",
          "Intellectual",
          "Intellectual",
          "Intellectual",
          "Intellectual",
          "Intellectual",
          "Intellectual",
          "Intellectual",
          "Intellectual",
          "Intellectual",
          "Intellectual",
          "Intellectual",
          "Intellectual",
          "Intellectual",
          "Intellectual",
          "Intellectual",
          "Intellectual",
          "Intellectual",
          "Intellectual",
          "Intellectual",
          "Intellectual",
          "Intellectual",
          "Social",
          "Social",
          "Social",
          "Social",
          "Social",
          "Social",
          "Social",
          "Social",
          "Social",
          "Social",
          "Social",
          "Social",
          "Social",
          "Social",
          "Social",
          "Social",
          "Social",
          "Social",
          "Social",
          "Social",
          "Social",
          "Social",
          "Social",
          "Social",
          "Social",
          "Social",
          "Social",
          "Physical",
          "Physical",
          "Physical",
          "Physical",
          "Physical",
          "Physical",
          "Physical",
          "Physical",
          "Physical",
          "Physical",
          "Physical",
          "Physical",
          "Physical",
          "Physical",
          "Physical",
          "Physical",
          "Physical",
          "Physical",
          "Physical",
          "Physical",
          "Physical",
          "Physical",
          "Physical",
          "Physical",
          "Physical",
          "Physical",
          "Physical",
          "Physical",
          "Physical",
          "Physical",
          "Physical",
          "Physical",
          "Physical",
          "Physical",
          "Physical",
          "Physical",
          "Physical",
          "Physical",
          "Physical",
          "Physical",
          "Physical",
          "Physical",
          "Physical",
          "Physical",
          "Physical",
          "Physical",
          "Physical",
          "Physical",
          "Physical",
          "Physical",
          "Physical",
          "Physical",
          "Physical",
          "Physical",
          "Physical",
          "Physical",
          "Physical",
          "Physical",
          "Physical",
          "Physical",
          "Physical",
          "Physical",
          "Physical",
          "Physical",
          "Physical",
          "Physical",
          "Physical",
          "Physical",
          "Physical",
          "Physical",
          "Physical",
          "Physical",
          "Physical",
          "Physical",
          "Physical",
          "Physical",
          "Physical",
          "Physical",
          "Physical",
          "Physical",
          "Emotional",
          "Emotional",
          "Emotional",
          "Emotional",
          "Emotional",
          "Emotional",
          "Emotional",
          "Emotional",
          "Emotional",
          "Emotional",
          "Emotional",
          "Emotional",
          "Emotional",
          "Emotional",
          "Emotional",
          "Emotional",
          "Social",
          "Social",
          "Social",
          "Social",
          "Social",
          "Social",
          "Social",
          "Social",
          "Social",
          "Social",
          "Social",
          "Social",
          "Social",
          "Social",
          "Social",
          "Social",
          "Social",
          "Social",
          "Social",
          "Social",
          "Social",
          "Social",
          "Social",
          "Social",
          "Social",
          "Social",
          "Social",
          "Social",
          "Social",
          "Social",
          "Social",
          "Social",
          "Social",
          "Social",
          "Social",
          "Social",
          "Social",
          "Social",
          "Social",
          "Social",
          "Social",
          "Social",
          "Social",
          "Social",
          "Social",
          "Social",
          "Social",
          "Social",
          "Social",
          "Social",
          "Social",
          "Social",
          "Social",
          "Social",
          "Social",
          "Social",
          "Social",
          "Social",
          "Social",
          "Social",
          "Social",
          "Social",
          "Social",
          "Social",
          "Social",
          "Social",
          "Social",
          "Social",
          "Social",
          "Social",
          "Social",
          "Social",
          "Social",
          "Social",
          "Social",
          "Social",
          "Social",
          "Social",
          "Social",
          "Social",
          "Social",
          "Social",
          "Social",
          "Social",
          "Social",
          "Social",
          "Social",
          "Social",
          "Social",
          "Social",
          "Social",
          "Social",
          "Social",
          "Social",
          "Social",
          "Social",
          "Social",
          "Social",
          "Social",
          "Social",
          "Social",
          "Social",
          "Social",
          "Social",
          "Social",
          "Social",
          "Social",
          "Social",
          "Social",
          "Social",
          "Social",
          "Social",
          "Social",
          "Social",
          "Spiritual",
          "Spiritual",
          "Spiritual",
          "Spiritual",
          "Spiritual",
          "Spiritual",
          "Spiritual",
          "Spiritual",
          "Spiritual",
          "Spiritual",
          "Spiritual",
          "Spiritual",
          "Spiritual",
          "Spiritual",
          "Spiritual",
          "Spiritual",
          "Spiritual",
          "Spiritual",
          "Spiritual",
          "Spiritual",
          "Spiritual",
          "Spiritual",
          "Spiritual",
          "Spiritual",
          "Spiritual",
          "Spiritual",
          "Spiritual",
          "Physical",
          "Physical",
          "Physical",
          "Physical",
          "Physical",
          "Physical",
          "Physical",
          "Physical",
          "Physical",
          "Physical",
          "Physical",
          "Physical",
          "Physical",
          "Physical",
          "Physical",
          "Physical",
          "Physical",
          "Physical",
          "Physical",
          "Physical",
          "Physical",
          "Physical",
          "Physical",
          "Physical",
          "Physical",
          "Physical",
          "Physical",
          "Physical",
          "Physical",
          "Physical",
          "Physical",
          "Physical",
          "Physical",
          "Physical",
          "Physical",
          "Physical",
          "Physical",
          "Physical",
          "Physical",
          "Physical",
          "Intellectual",
          "Intellectual",
          "Intellectual",
          "Intellectual",
          "Intellectual",
          "Intellectual",
          "Intellectual",
          "Intellectual",
          "Intellectual",
          "Intellectual",
          "Intellectual",
          "Intellectual",
          "Intellectual",
          "Intellectual",
          "Intellectual",
          "Intellectual",
          "Intellectual",
          "Intellectual",
          "Intellectual",
          "Intellectual",
          "Intellectual",
          "Intellectual",
          "Intellectual",
          "Intellectual",
          "Intellectual",
          "Intellectual",
          "Intellectual",
          "Intellectual",
          "Intellectual",
          "Intellectual",
          "Intellectual",
          "Intellectual",
          "Intellectual",
          "Intellectual",
          "Intellectual",
          "Intellectual",
          "Intellectual",
          "Intellectual",
          "Intellectual",
          "Intellectual",
          "Intellectual",
          "Intellectual",
          "Intellectual",
          "Intellectual",
          "Intellectual",
          "Intellectual",
          "Intellectual",
          "Intellectual",
          "Intellectual",
          "Intellectual",
          "Intellectual",
          "Intellectual",
          "Intellectual",
          "Intellectual",
          "Intellectual",
          "Intellectual",
          "Intellectual",
          "Intellectual",
          "Intellectual",
          "Intellectual",
          "Intellectual",
          "Intellectual",
          "Intellectual",
          "Intellectual",
          "Intellectual",
          "Intellectual",
          "Intellectual",
          "Intellectual",
          "Intellectual",
          "Intellectual",
          "Intellectual",
          "Intellectual",
          "Intellectual",
          "Intellectual",
          "Intellectual",
          "Intellectual",
          "Intellectual",
          "Intellectual",
          "Intellectual",
          "Intellectual",
          "Intellectual",
          "Intellectual",
          "Intellectual",
          "Intellectual",
          "Intellectual",
          "Intellectual",
          "Intellectual",
          "Intellectual",
          "Intellectual",
          "Intellectual",
          "Intellectual",
          "Intellectual",
          "Intellectual",
          "Intellectual",
          "Intellectual",
          "Intellectual",
          "Intellectual",
          "Intellectual",
          "Intellectual",
          "Intellectual",
          "Intellectual",
          "Intellectual",
          "Intellectual",
          "Intellectual",
          "Intellectual",
          "Intellectual",
          "Intellectual",
          "Intellectual",
          "Intellectual",
          "Intellectual",
          "Intellectual",
          "Intellectual",
          "Intellectual",
          "Intellectual",
          "Intellectual",
          "Intellectual",
          "Intellectual",
          "Intellectual",
          "Intellectual",
          "Intellectual",
          "Intellectual",
          "Intellectual",
          "Intellectual",
          "Intellectual",
          "Intellectual",
          "Intellectual",
          "Intellectual",
          "Intellectual",
          "Intellectual",
          "Intellectual",
          "Intellectual",
          "Intellectual",
          "Intellectual",
          "Intellectual",
          "Intellectual",
          "Intellectual",
          "Intellectual",
          "Intellectual",
          "Intellectual",
          "Intellectual",
          "Intellectual",
          "Intellectual",
          "Intellectual",
          "Intellectual",
          "Intellectual",
          "Intellectual",
          "Intellectual",
          "Intellectual",
          "Intellectual",
          "Intellectual",
          "Intellectual",
          "Intellectual",
          "Intellectual",
          "Intellectual",
          "Intellectual",
          "Intellectual",
          "Intellectual",
          "Intellectual",
          "Intellectual",
          "Intellectual",
          "Intellectual",
          "Intellectual",
          "Intellectual",
          "Intellectual",
          "Intellectual",
          "Intellectual",
          "Intellectual",
          "Intellectual",
          "Intellectual",
          "Intellectual",
          "Intellectual",
          "Intellectual",
          "Intellectual",
          "Intellectual",
          "Intellectual",
          "Intellectual",
          "Intellectual",
          "Intellectual",
          "Intellectual",
          "Intellectual",
          "Intellectual",
          "Intellectual",
          "Intellectual",
          "Intellectual",
          "Intellectual",
          "Intellectual",
          "Intellectual",
          "Intellectual",
          "Intellectual",
          "Intellectual",
          "Intellectual",
          "Intellectual",
          "Intellectual",
          "Intellectual",
          "Intellectual",
          "Intellectual",
          "Intellectual",
          "Intellectual",
          "Intellectual",
          "Intellectual",
          "Intellectual",
          "Intellectual",
          "Intellectual",
          "Intellectual",
          "Intellectual",
          "Intellectual",
          "Intellectual",
          "Intellectual",
          "Intellectual",
          "Intellectual",
          "Intellectual",
          "Intellectual",
          "Intellectual",
          "Intellectual",
          "Intellectual",
          "Intellectual",
          "Intellectual",
          "Intellectual",
          "Intellectual",
          "Intellectual",
          "Intellectual",
          "Intellectual",
          "Intellectual",
          "Intellectual",
          "Intellectual",
          "Intellectual",
          "Intellectual",
          "Intellectual",
          "Intellectual",
          "Intellectual",
          "Intellectual",
          "Intellectual",
          "Intellectual",
          "Intellectual",
          "Intellectual",
          "Intellectual",
          "Intellectual",
          "Intellectual",
          "Intellectual",
          "Intellectual",
          "Intellectual",
          "Intellectual",
          "Intellectual",
          "Intellectual",
          "Intellectual",
          "Intellectual",
          "Intellectual",
          "Intellectual",
          "Intellectual",
          "Intellectual",
          "Intellectual",
          "Intellectual",
          "Intellectual",
          "Intellectual",
          "Intellectual",
          "Intellectual",
          "Intellectual",
          "Intellectual",
          "Intellectual",
          "Intellectual",
          "Intellectual",
          "Intellectual",
          "Intellectual",
          "Intellectual",
          "Intellectual",
          "Intellectual",
          "Intellectual",
          "Intellectual",
          "Intellectual",
          "Intellectual",
          "Intellectual",
          "Intellectual",
          "Intellectual",
          "Intellectual",
          "Intellectual",
          "Intellectual",
          "Intellectual",
          "Intellectual",
          "Intellectual",
          "Intellectual",
          "Intellectual",
          "Intellectual",
          "Intellectual",
          "Intellectual",
          "Intellectual",
          "Intellectual",
          "Intellectual",
          "Intellectual",
          "Intellectual",
          "Intellectual",
          "Intellectual",
          "Intellectual",
          "Intellectual",
          "Intellectual",
          "Intellectual",
          "Intellectual",
          "Intellectual",
          "Intellectual",
          "Intellectual",
          "Intellectual",
          "Intellectual",
          "Intellectual",
          "Intellectual",
          "Intellectual",
          "Intellectual",
          "Intellectual",
          "Intellectual",
          "Intellectual",
          "Intellectual",
          "Intellectual",
          "Intellectual",
          "Intellectual",
          "Intellectual",
          "Intellectual",
          "Intellectual",
          "Intellectual",
          "Intellectual",
          "Intellectual",
          "Intellectual",
          "Intellectual",
          "Intellectual",
          "Intellectual",
          "Intellectual",
          "Intellectual",
          "Intellectual",
          "Intellectual",
          "Intellectual",
          "Intellectual",
          "Intellectual",
          "Intellectual",
          "Intellectual",
          "Intellectual",
          "Intellectual",
          "Intellectual",
          "Intellectual",
          "Intellectual",
          "Intellectual",
          "Intellectual",
          "Intellectual",
          "Intellectual",
          "Intellectual",
          "Intellectual",
          "Intellectual",
          "Intellectual",
          "Intellectual",
          "Intellectual",
          "Intellectual",
          "Intellectual",
          "Intellectual",
          "Intellectual",
          "Intellectual",
          "Intellectual",
          "Intellectual",
          "Intellectual",
          "Intellectual",
          "Intellectual",
          "Intellectual",
          "Intellectual",
          "Intellectual",
          "Intellectual",
          "Intellectual",
          "Intellectual",
          "Intellectual",
          "Intellectual",
          "Intellectual",
          "Intellectual",
          "Intellectual",
          "Intellectual",
          "Intellectual",
          "Intellectual",
          "Intellectual",
          "Intellectual",
          "Intellectual",
          "Intellectual",
          "Intellectual",
          "Intellectual",
          "Intellectual",
          "Intellectual",
          "Intellectual",
          "Intellectual",
          "Intellectual",
          "Intellectual",
          "Intellectual",
          "Intellectual",
          "Intellectual",
          "Intellectual",
          "Intellectual",
          "Intellectual",
          "Intellectual",
          "Intellectual",
          "Intellectual",
          "Intellectual",
          "Intellectual",
          "Intellectual",
          "Intellectual",
          "Intellectual",
          "Intellectual",
          "Intellectual",
          "Intellectual",
          "Intellectual",
          "Intellectual",
          "Intellectual",
          "Intellectual",
          "Intellectual",
          "Intellectual",
          "Intellectual",
          "Intellectual",
          "Intellectual",
          "Intellectual",
          "Intellectual",
          "Intellectual",
          "Intellectual",
          "Intellectual",
          "Intellectual",
          "Intellectual",
          "Emotional",
          "Emotional",
          "Emotional",
          "Emotional",
          "Emotional",
          "Emotional",
          "Emotional",
          "Emotional",
          "Emotional",
          "Emotional",
          "Emotional",
          "Emotional",
          "Emotional",
          "Emotional",
          "Emotional",
          "Emotional",
          "Emotional",
          "Emotional",
          "Emotional",
          "Emotional",
          "Emotional",
          "Emotional",
          "Emotional",
          "Emotional",
          "Emotional",
          "Emotional",
          "Emotional",
          "Emotional",
          "Emotional",
          "Emotional",
          "Emotional",
          "Spiritual",
          "Spiritual",
          "Spiritual",
          "Spiritual",
          "Spiritual",
          "Spiritual",
          "Spiritual",
          "Spiritual",
          "Spiritual",
          "Spiritual",
          "Spiritual",
          "Spiritual",
          "Spiritual",
          "Spiritual",
          "Spiritual",
          "Spiritual",
          "Spiritual",
          "Spiritual",
          "Spiritual",
          "Spiritual",
          "Spiritual",
          "Spiritual",
          "Spiritual",
          "Spiritual",
          "Spiritual",
          "Spiritual",
          "Spiritual",
          "Spiritual",
          "Spiritual",
          "Spiritual",
          "Spiritual",
          "Spiritual",
          "Spiritual",
          "Spiritual",
          "Spiritual",
          "Spiritual",
          "Spiritual",
          "Spiritual",
          "Spiritual",
          "Spiritual",
          "Spiritual",
          "Spiritual",
          "Spiritual",
          "Spiritual",
          "Spiritual",
          "Spiritual",
          "Spiritual",
          "Spiritual",
          "Spiritual",
          "Spiritual",
          "Social",
          "Social",
          "Social",
          "Social",
          "Social",
          "Social",
          "Social",
          "Social",
          "Social",
          "Social",
          "Social",
          "Social",
          "Social",
          "Social",
          "Social",
          "Social",
          "Social",
          "Social",
          "Social",
          "Social",
          "Social",
          "Social",
          "Social",
          "Social",
          "Social",
          "Social",
          "Social",
          "Social",
          "Social",
          "Social",
          "Social",
          "Social",
          "Social",
          "Social",
          "Social",
          "Social",
          "Social",
          "Social",
          "Social",
          "Social",
          "Social",
          "Social",
          "Spiritual",
          "Spiritual",
          "Spiritual",
          "Spiritual",
          "Spiritual",
          "Spiritual",
          "Spiritual",
          "Spiritual",
          "Spiritual",
          "Spiritual",
          "Spiritual",
          "Spiritual",
          "Spiritual",
          "Spiritual",
          "Spiritual",
          "Spiritual",
          "Spiritual",
          "Spiritual",
          "Spiritual",
          "Spiritual",
          "Spiritual",
          "Spiritual",
          "Spiritual",
          "Spiritual",
          "Spiritual",
          "Intellectual",
          "Intellectual",
          "Intellectual",
          "Intellectual",
          "Intellectual",
          "Intellectual",
          "Intellectual",
          "Intellectual",
          "Intellectual",
          "Intellectual",
          "Intellectual",
          "Intellectual",
          "Intellectual",
          "Intellectual",
          "Intellectual",
          "Intellectual",
          "Intellectual",
          "Intellectual",
          "Intellectual",
          "Intellectual",
          "Intellectual",
          "Intellectual",
          "Intellectual",
          "Intellectual",
          "Intellectual",
          "Intellectual",
          "Intellectual",
          "Intellectual",
          "Intellectual",
          "Intellectual",
          "Intellectual",
          "Intellectual",
          "Intellectual",
          "Intellectual",
          "Intellectual",
          "Intellectual",
          "Intellectual",
          "Intellectual",
          "Intellectual",
          "Intellectual",
          "Intellectual",
          "Intellectual",
          "Intellectual",
          "Intellectual",
          "Intellectual",
          "Intellectual",
          "Intellectual",
          "Intellectual",
          "Intellectual",
          "Intellectual",
          "Intellectual",
          "Intellectual",
          "Intellectual",
          "Intellectual",
          "Intellectual",
          "Intellectual",
          "Intellectual",
          "Intellectual",
          "Intellectual",
          "Intellectual",
          "Intellectual",
          "Intellectual",
          "Intellectual",
          "Intellectual",
          "Intellectual",
          "Intellectual",
          "Intellectual",
          "Intellectual",
          "Intellectual",
          "Intellectual",
          "Intellectual",
          "Intellectual",
          "Intellectual",
          "Intellectual",
          "Intellectual",
          "Intellectual",
          "Intellectual",
          "Intellectual",
          "Intellectual",
          "Intellectual",
          "Intellectual",
          "Intellectual",
          "Intellectual",
          "Intellectual",
          "Intellectual",
          "Intellectual",
          "Intellectual",
          "Intellectual",
          "Intellectual",
          "Intellectual",
          "Intellectual",
          "Intellectual",
          "Intellectual",
          "Intellectual",
          "Intellectual",
          "Intellectual",
          "Intellectual",
          "Intellectual",
          "Intellectual",
          "Intellectual",
          "Intellectual",
          "Intellectual",
          "Intellectual",
          "Intellectual",
          "Intellectual",
          "Intellectual",
          "Intellectual",
          "Intellectual",
          "Intellectual",
          "Intellectual",
          "Intellectual",
          "Intellectual",
          "Intellectual",
          "Intellectual",
          "Intellectual",
          "Intellectual",
          "Intellectual",
          "Intellectual",
          "Intellectual",
          "Intellectual",
          "Intellectual",
          "Intellectual",
          "Intellectual",
          "Intellectual",
          "Intellectual",
          "Intellectual",
          "Intellectual",
          "Intellectual",
          "Intellectual",
          "Intellectual",
          "Intellectual",
          "Intellectual",
          "Intellectual",
          "Intellectual",
          "Intellectual",
          "Intellectual",
          "Intellectual",
          "Physical",
          "Physical",
          "Physical",
          "Physical",
          "Physical",
          "Physical",
          "Physical",
          "Physical",
          "Physical",
          "Physical",
          "Physical",
          "Physical",
          "Physical",
          "Physical",
          "Physical",
          "Physical",
          "Physical",
          "Physical",
          "Physical",
          "Physical",
          "Physical",
          "Physical",
          "Physical",
          "Physical",
          "Physical",
          "Physical",
          "Physical",
          "Physical",
          "Physical",
          "Physical",
          "Physical",
          "Physical",
          "Physical",
          "Physical",
          "Physical",
          "Physical",
          "Physical",
          "Physical",
          "Physical",
          "Physical",
          "Physical",
          "Physical",
          "Physical",
          "Physical",
          "Physical",
          "Physical",
          "Physical",
          "Physical",
          "Physical",
          "Physical",
          "Physical",
          "Physical",
          "Physical",
          "Physical",
          "Physical",
          "Physical",
          "Physical",
          "Physical",
          "Physical",
          "Physical",
          "Physical",
          "Physical",
          "Physical",
          "Physical",
          "Physical",
          "Physical",
          "Physical",
          "Physical",
          "Physical",
          "Physical",
          "Physical",
          "Physical",
          "Physical",
          "Physical",
          "Physical",
          "Physical",
          "Physical",
          "Physical",
          "Physical",
          "Physical",
          "Physical",
          "Physical",
          "Physical",
          "Physical",
          "Physical",
          "Physical",
          "Physical",
          "Physical",
          "Physical",
          "Physical",
          "Physical",
          "Physical",
          "Physical",
          "Physical",
          "Physical",
          "Physical",
          "Physical",
          "Physical",
          "Physical",
          "Physical",
          "Physical",
          "Physical",
          "Physical",
          "Physical",
          "Physical",
          "Physical",
          "Physical",
          "Physical",
          "Physical",
          "Physical",
          "Physical",
          "Physical",
          "Physical",
          "Physical",
          "Physical",
          "Physical",
          "Physical",
          "Physical",
          "Physical",
          "Physical",
          "Physical",
          "Physical",
          "Physical",
          "Physical",
          "Physical",
          "Physical",
          "Physical",
          "Physical",
          "Physical",
          "Physical",
          "Physical",
          "Physical",
          "Physical",
          "Physical",
          "Physical",
          "Physical",
          "Physical",
          "Physical",
          "Physical",
          "Physical",
          "Physical",
          "Physical",
          "Physical",
          "Physical",
          "Physical",
          "Physical",
          "Physical",
          "Physical",
          "Physical",
          "Physical",
          "Physical",
          "Physical",
          "Physical",
          "Physical",
          "Physical",
          "Physical",
          "Physical",
          "Physical",
          "Physical",
          "Physical",
          "Physical",
          "Physical",
          "Physical",
          "Physical",
          "Physical",
          "Physical",
          "Physical",
          "Physical",
          "Physical",
          "Physical",
          "Physical",
          "Physical",
          "Physical",
          "Physical",
          "Physical",
          "Physical",
          "Physical",
          "Physical",
          "Physical",
          "Physical",
          "Physical",
          "Physical",
          "Physical",
          "Physical",
          "Physical",
          "Physical",
          "Physical",
          "Physical",
          "Physical",
          "Physical",
          "Physical",
          "Physical",
          "Physical",
          "Physical",
          "Physical",
          "Physical",
          "Physical",
          "Physical",
          "Physical",
          "Physical",
          "Physical",
          "Physical",
          "Physical",
          "Physical",
          "Physical",
          "Physical",
          "Physical",
          "Physical",
          "Physical",
          "Physical",
          "Physical",
          "Physical",
          "Physical",
          "Physical",
          "Physical",
          "Physical",
          "Physical",
          "Physical",
          "Physical",
          "Physical",
          "Physical",
          "Physical",
          "Physical",
          "Physical",
          "Physical",
          "Physical",
          "Physical",
          "Physical",
          "Physical",
          "Physical",
          "Physical",
          "Physical",
          "Physical",
          "Physical",
          "Physical",
          "Physical",
          "Physical",
          "Physical",
          "Physical",
          "Physical",
          "Physical",
          "Physical",
          "Physical",
          "Physical",
          "Physical",
          "Physical",
          "Physical",
          "Physical",
          "Physical",
          "Physical",
          "Physical",
          "Physical",
          "Physical",
          "Physical",
          "Physical",
          "Physical",
          "Physical",
          "Physical",
          "Physical",
          "Physical",
          "Physical",
          "Physical",
          "Physical",
          "Physical",
          "Physical",
          "Physical",
          "Physical",
          "Physical",
          "Physical",
          "Physical",
          "Physical",
          "Physical",
          "Physical",
          "Physical",
          "Physical",
          "Physical",
          "Physical",
          "Physical",
          "Physical",
          "Physical",
          "Physical",
          "Physical",
          "Physical",
          "Physical",
          "Physical",
          "Physical",
          "Physical",
          "Physical",
          "Physical",
          "Physical",
          "Physical",
          "Physical",
          "Physical",
          "Physical",
          "Physical",
          "Physical",
          "Physical",
          "Physical",
          "Physical",
          "Physical",
          "Physical",
          "Physical",
          "Physical",
          "Physical",
          "Physical",
          "Physical",
          "Physical",
          "Physical",
          "Physical",
          "Physical",
          "Physical",
          "Physical",
          "Physical",
          "Physical",
          "Physical",
          "Physical",
          "Physical",
          "Physical",
          "Physical",
          "Physical",
          "Physical",
          "Physical",
          "Physical",
          "Physical",
          "Physical",
          "Physical",
          "Physical",
          "Physical",
          "Physical",
          "Physical",
          "Physical",
          "Physical",
          "Physical",
          "Physical",
          "Physical",
          "Physical",
          "Physical",
          "Physical",
          "Physical",
          "Physical",
          "Physical",
          "Physical",
          "Physical",
          "Physical",
          "Physical",
          "Physical",
          "Physical",
          "Physical",
          "Physical",
          "Physical",
          "Physical",
          "Physical",
          "Physical",
          "Physical",
          "Physical",
          "Physical",
          "Physical",
          "Physical",
          "Physical",
          "Physical",
          "Physical",
          "Physical",
          "Physical",
          "Physical",
          "Physical",
          "Physical",
          "Physical",
          "Physical",
          "Physical",
          "Physical",
          "Physical",
          "Physical",
          "Physical",
          "Physical",
          "Physical",
          "Physical",
          "Physical",
          "Physical",
          "Physical",
          "Physical",
          "Physical",
          "Physical",
          "Physical",
          "Physical",
          "Physical",
          "Physical",
          "Physical",
          "Physical",
          "Physical",
          "Physical",
          "Physical",
          "Physical",
          "Physical",
          "Physical",
          "Physical",
          "Physical",
          "Physical",
          "Physical",
          "Physical",
          "Physical",
          "Physical",
          "Physical",
          "Physical",
          "Physical",
          "Physical",
          "Physical",
          "Physical",
          "Physical",
          "Physical",
          "Physical",
          "Physical",
          "Physical",
          "Physical",
          "Physical",
          "Physical",
          "Physical",
          "Physical",
          "Physical",
          "Physical",
          "Physical",
          "Physical",
          "Physical",
          "Physical",
          "Physical",
          "Physical",
          "Physical",
          "Physical",
          "Physical",
          "Physical",
          "Physical",
          "Physical",
          "Physical",
          "Physical",
          "Physical",
          "Physical",
          "Physical",
          "Physical",
          "Physical",
          "Physical",
          "Physical",
          "Physical",
          "Physical",
          "Physical",
          "Physical",
          "Physical",
          "Physical",
          "Physical",
          "Physical",
          "Physical",
          "Physical",
          "Physical",
          "Physical",
          "Physical",
          "Physical",
          "Physical",
          "Physical",
          "Physical",
          "Physical",
          "Physical",
          "Physical",
          "Physical",
          "Physical",
          "Physical",
          "Physical",
          "Physical",
          "Physical",
          "Physical",
          "Physical",
          "Physical",
          "Physical",
          "Physical",
          "Physical",
          "Physical",
          "Physical",
          "Physical",
          "Physical",
          "Physical",
          "Physical",
          "Physical",
          "Physical",
          "Physical",
          "Physical",
          "Physical",
          "Physical",
          "Physical",
          "Physical",
          "Physical",
          "Physical",
          "Physical",
          "Physical",
          "Physical",
          "Physical",
          "Physical",
          "Physical",
          "Physical",
          "Physical",
          "Physical",
          "Physical",
          "Physical",
          "Physical",
          "Physical",
          "Physical",
          "Physical",
          "Physical",
          "Physical",
          "Physical",
          "Physical",
          "Physical",
          "Physical",
          "Physical",
          "Physical",
          "Physical",
          "Physical",
          "Physical",
          "Physical",
          "Physical",
          "Physical",
          "Physical",
          "Physical",
          "Physical",
          "Physical",
          "Physical",
          "Physical",
          "Physical",
          "Physical",
          "Physical",
          "Physical",
          "Physical",
          "Physical",
          "Physical",
          "Physical",
          "Physical",
          "Physical",
          "Physical",
          "Physical",
          "Physical",
          "Physical",
          "Physical",
          "Physical",
          "Physical",
          "Physical",
          "Physical",
          "Physical",
          "Physical",
          "Physical",
          "Physical",
          "Physical",
          "Physical",
          "Physical",
          "Physical",
          "Physical",
          "Physical",
          "Physical",
          "Physical",
          "Physical",
          "Physical",
          "Physical",
          "Physical",
          "Physical",
          "Physical",
          "Physical",
          "Physical",
          "Physical",
          "Physical",
          "Physical",
          "Physical",
          "Physical",
          "Physical",
          "Physical",
          "Physical",
          "Physical",
          "Physical",
          "Physical",
          "Physical",
          "Physical",
          "Physical",
          "Physical",
          "Physical",
          "Physical",
          "Physical",
          "Physical",
          "Physical",
          "Physical",
          "Physical",
          "Physical",
          "Physical",
          "Physical",
          "Physical",
          "Physical",
          "Physical",
          "Physical",
          "Physical",
          "Physical",
          "Physical",
          "Physical",
          "Physical",
          "Physical",
          "Physical",
          "Physical",
          "Physical",
          "Physical",
          "Physical",
          "Physical",
          "Physical",
          "Physical",
          "Physical",
          "Physical",
          "Physical",
          "Physical",
          "Physical",
          "Physical",
          "Physical",
          "Physical",
          "Physical",
          "Physical",
          "Physical",
          "Physical",
          "Physical",
          "Physical",
          "Physical",
          "Physical",
          "Physical",
          "Physical",
          "Physical",
          "Physical",
          "Physical",
          "Physical",
          "Physical",
          "Physical",
          "Physical",
          "Physical",
          "Physical",
          "Physical",
          "Physical",
          "Physical",
          "Physical",
          "Physical",
          "Physical",
          "Physical",
          "Physical",
          "Physical",
          "Physical",
          "Physical",
          "Physical",
          "Physical",
          "Physical",
          "Physical",
          "Physical",
          "Physical",
          "Physical",
          "Physical",
          "Physical",
          "Physical",
          "Physical",
          "Physical",
          "Physical",
          "Physical",
          "Physical",
          "Physical",
          "Physical",
          "Physical",
          "Physical",
          "Physical",
          "Physical",
          "Physical",
          "Physical",
          "Physical",
          "Physical",
          "Physical",
          "Physical",
          "Physical",
          "Physical",
          "Physical",
          "Physical",
          "Physical",
          "Physical",
          "Intellectual",
          "Intellectual",
          "Intellectual",
          "Intellectual",
          "Intellectual",
          "Intellectual",
          "Intellectual",
          "Intellectual",
          "Intellectual",
          "Intellectual",
          "Intellectual",
          "Intellectual",
          "Intellectual",
          "Intellectual",
          "Intellectual",
          "Intellectual",
          "Intellectual",
          "Intellectual",
          "Intellectual",
          "Intellectual",
          "Intellectual",
          "Intellectual",
          "Intellectual",
          "Intellectual",
          "Intellectual",
          "Intellectual",
          "Intellectual",
          "Intellectual",
          "Intellectual",
          "Intellectual",
          "Intellectual",
          "Intellectual",
          "Intellectual",
          "Intellectual",
          "Intellectual",
          "Intellectual",
          "Intellectual",
          "Intellectual",
          "Intellectual",
          "Intellectual",
          "Intellectual",
          "Intellectual",
          "Intellectual",
          "Intellectual",
          "Intellectual",
          "Intellectual",
          "Intellectual",
          "Intellectual",
          "Intellectual",
          "Intellectual",
          "Intellectual",
          "Intellectual",
          "Intellectual",
          "Intellectual",
          "Intellectual",
          "Intellectual",
          "Intellectual",
          "Intellectual",
          "Intellectual",
          "Intellectual",
          "Intellectual",
          "Intellectual",
          "Intellectual",
          "Intellectual",
          "Intellectual",
          "Intellectual",
          "Intellectual",
          "Intellectual",
          "Intellectual",
          "Intellectual",
          "Intellectual",
          "Intellectual",
          "Intellectual",
          "Intellectual",
          "Intellectual",
          "Intellectual",
          "Intellectual",
          "Intellectual",
          "Physical",
          "Physical",
          "Physical",
          "Physical",
          "Physical",
          "Physical",
          "Physical",
          "Physical",
          "Physical",
          "Physical",
          "Physical",
          "Physical",
          "Physical",
          "Physical",
          "Physical",
          "Physical",
          "Physical",
          "Physical",
          "Physical",
          "Physical",
          "Physical",
          "Physical",
          "Physical",
          "Physical",
          "Physical",
          "Physical",
          "Physical",
          "Physical",
          "Physical",
          "Physical",
          "Physical",
          "Physical",
          "Physical",
          "Physical",
          "Physical",
          "Physical",
          "Physical",
          "Physical",
          "Physical",
          "Physical",
          "Physical",
          "Physical",
          "Physical",
          "Physical",
          "Physical",
          "Social",
          "Social",
          "Social",
          "Social",
          "Social",
          "Social",
          "Social",
          "Social",
          "Social",
          "Social",
          "Social",
          "Social",
          "Social",
          "Social",
          "Social",
          "Social",
          "Social",
          "Social",
          "Social",
          "Social",
          "Social",
          "Social",
          "Social",
          "Social",
          "Social",
          "Social",
          "Social",
          "Social",
          "Social",
          "Social",
          "Social",
          "Social",
          "Social",
          "Social",
          "Social",
          "Social",
          "Social",
          "Social",
          "Social",
          "Social",
          "Social",
          "Social",
          "Social",
          "Social",
          "Social",
          "Social",
          "Social",
          "Social",
          "Social",
          "Social",
          "Social",
          "Social",
          "Social",
          "Social",
          "Social",
          "Social",
          "Social",
          "Social",
          "Social",
          "Social",
          "Social",
          "Social",
          "Social",
          "Social",
          "Social",
          "Social",
          "Social",
          "Social",
          "Social",
          "Social",
          "Social",
          "Social",
          "Social",
          "Social",
          "Social",
          "Social",
          "Social",
          "Social",
          "Social",
          "Social",
          "Social",
          "Social",
          "Social",
          "Social",
          "Social",
          "Social",
          "Social",
          "Social",
          "Social",
          "Social",
          "Social",
          "Social",
          "Social",
          "Social",
          "Social",
          "Social",
          "Social",
          "Social",
          "Social",
          "Social",
          "Social",
          "Social",
          "Social",
          "Social",
          "Social",
          "Social",
          "Social",
          "Social",
          "Social",
          "Social",
          "Social",
          "Social",
          "Social",
          "Social",
          "Social",
          "Social",
          "Social",
          "Social",
          "Social",
          "Social",
          "Social",
          "Social",
          "Spiritual",
          "Spiritual",
          "Spiritual",
          "Spiritual",
          "Spiritual",
          "Spiritual",
          "Spiritual",
          "Spiritual",
          "Spiritual",
          "Spiritual",
          "Spiritual",
          "Spiritual",
          "Spiritual",
          "Spiritual",
          "Spiritual",
          "Spiritual",
          "Spiritual",
          "Spiritual",
          "Spiritual",
          "Spiritual",
          "Spiritual",
          "Spiritual",
          "Spiritual",
          "Spiritual",
          "Spiritual",
          "Spiritual",
          "Spiritual",
          "Spiritual",
          "Spiritual",
          "Spiritual",
          "Spiritual",
          "Spiritual",
          "Spiritual",
          "Spiritual",
          "Spiritual",
          "Spiritual",
          "Spiritual",
          "Spiritual",
          "Spiritual",
          "Spiritual",
          "Spiritual"
         ],
         "legendgroup": "",
         "name": "",
         "showlegend": true,
         "type": "pie"
        }
       ],
       "layout": {
        "height": 600,
        "legend": {
         "tracegroupgap": 0
        },
        "margin": {
         "t": 60
        },
        "template": {
         "data": {
          "bar": [
           {
            "error_x": {
             "color": "#2a3f5f"
            },
            "error_y": {
             "color": "#2a3f5f"
            },
            "marker": {
             "line": {
              "color": "#E5ECF6",
              "width": 0.5
             },
             "pattern": {
              "fillmode": "overlay",
              "size": 10,
              "solidity": 0.2
             }
            },
            "type": "bar"
           }
          ],
          "barpolar": [
           {
            "marker": {
             "line": {
              "color": "#E5ECF6",
              "width": 0.5
             },
             "pattern": {
              "fillmode": "overlay",
              "size": 10,
              "solidity": 0.2
             }
            },
            "type": "barpolar"
           }
          ],
          "carpet": [
           {
            "aaxis": {
             "endlinecolor": "#2a3f5f",
             "gridcolor": "white",
             "linecolor": "white",
             "minorgridcolor": "white",
             "startlinecolor": "#2a3f5f"
            },
            "baxis": {
             "endlinecolor": "#2a3f5f",
             "gridcolor": "white",
             "linecolor": "white",
             "minorgridcolor": "white",
             "startlinecolor": "#2a3f5f"
            },
            "type": "carpet"
           }
          ],
          "choropleth": [
           {
            "colorbar": {
             "outlinewidth": 0,
             "ticks": ""
            },
            "type": "choropleth"
           }
          ],
          "contour": [
           {
            "colorbar": {
             "outlinewidth": 0,
             "ticks": ""
            },
            "colorscale": [
             [
              0,
              "#0d0887"
             ],
             [
              0.1111111111111111,
              "#46039f"
             ],
             [
              0.2222222222222222,
              "#7201a8"
             ],
             [
              0.3333333333333333,
              "#9c179e"
             ],
             [
              0.4444444444444444,
              "#bd3786"
             ],
             [
              0.5555555555555556,
              "#d8576b"
             ],
             [
              0.6666666666666666,
              "#ed7953"
             ],
             [
              0.7777777777777778,
              "#fb9f3a"
             ],
             [
              0.8888888888888888,
              "#fdca26"
             ],
             [
              1,
              "#f0f921"
             ]
            ],
            "type": "contour"
           }
          ],
          "contourcarpet": [
           {
            "colorbar": {
             "outlinewidth": 0,
             "ticks": ""
            },
            "type": "contourcarpet"
           }
          ],
          "heatmap": [
           {
            "colorbar": {
             "outlinewidth": 0,
             "ticks": ""
            },
            "colorscale": [
             [
              0,
              "#0d0887"
             ],
             [
              0.1111111111111111,
              "#46039f"
             ],
             [
              0.2222222222222222,
              "#7201a8"
             ],
             [
              0.3333333333333333,
              "#9c179e"
             ],
             [
              0.4444444444444444,
              "#bd3786"
             ],
             [
              0.5555555555555556,
              "#d8576b"
             ],
             [
              0.6666666666666666,
              "#ed7953"
             ],
             [
              0.7777777777777778,
              "#fb9f3a"
             ],
             [
              0.8888888888888888,
              "#fdca26"
             ],
             [
              1,
              "#f0f921"
             ]
            ],
            "type": "heatmap"
           }
          ],
          "heatmapgl": [
           {
            "colorbar": {
             "outlinewidth": 0,
             "ticks": ""
            },
            "colorscale": [
             [
              0,
              "#0d0887"
             ],
             [
              0.1111111111111111,
              "#46039f"
             ],
             [
              0.2222222222222222,
              "#7201a8"
             ],
             [
              0.3333333333333333,
              "#9c179e"
             ],
             [
              0.4444444444444444,
              "#bd3786"
             ],
             [
              0.5555555555555556,
              "#d8576b"
             ],
             [
              0.6666666666666666,
              "#ed7953"
             ],
             [
              0.7777777777777778,
              "#fb9f3a"
             ],
             [
              0.8888888888888888,
              "#fdca26"
             ],
             [
              1,
              "#f0f921"
             ]
            ],
            "type": "heatmapgl"
           }
          ],
          "histogram": [
           {
            "marker": {
             "pattern": {
              "fillmode": "overlay",
              "size": 10,
              "solidity": 0.2
             }
            },
            "type": "histogram"
           }
          ],
          "histogram2d": [
           {
            "colorbar": {
             "outlinewidth": 0,
             "ticks": ""
            },
            "colorscale": [
             [
              0,
              "#0d0887"
             ],
             [
              0.1111111111111111,
              "#46039f"
             ],
             [
              0.2222222222222222,
              "#7201a8"
             ],
             [
              0.3333333333333333,
              "#9c179e"
             ],
             [
              0.4444444444444444,
              "#bd3786"
             ],
             [
              0.5555555555555556,
              "#d8576b"
             ],
             [
              0.6666666666666666,
              "#ed7953"
             ],
             [
              0.7777777777777778,
              "#fb9f3a"
             ],
             [
              0.8888888888888888,
              "#fdca26"
             ],
             [
              1,
              "#f0f921"
             ]
            ],
            "type": "histogram2d"
           }
          ],
          "histogram2dcontour": [
           {
            "colorbar": {
             "outlinewidth": 0,
             "ticks": ""
            },
            "colorscale": [
             [
              0,
              "#0d0887"
             ],
             [
              0.1111111111111111,
              "#46039f"
             ],
             [
              0.2222222222222222,
              "#7201a8"
             ],
             [
              0.3333333333333333,
              "#9c179e"
             ],
             [
              0.4444444444444444,
              "#bd3786"
             ],
             [
              0.5555555555555556,
              "#d8576b"
             ],
             [
              0.6666666666666666,
              "#ed7953"
             ],
             [
              0.7777777777777778,
              "#fb9f3a"
             ],
             [
              0.8888888888888888,
              "#fdca26"
             ],
             [
              1,
              "#f0f921"
             ]
            ],
            "type": "histogram2dcontour"
           }
          ],
          "mesh3d": [
           {
            "colorbar": {
             "outlinewidth": 0,
             "ticks": ""
            },
            "type": "mesh3d"
           }
          ],
          "parcoords": [
           {
            "line": {
             "colorbar": {
              "outlinewidth": 0,
              "ticks": ""
             }
            },
            "type": "parcoords"
           }
          ],
          "pie": [
           {
            "automargin": true,
            "type": "pie"
           }
          ],
          "scatter": [
           {
            "fillpattern": {
             "fillmode": "overlay",
             "size": 10,
             "solidity": 0.2
            },
            "type": "scatter"
           }
          ],
          "scatter3d": [
           {
            "line": {
             "colorbar": {
              "outlinewidth": 0,
              "ticks": ""
             }
            },
            "marker": {
             "colorbar": {
              "outlinewidth": 0,
              "ticks": ""
             }
            },
            "type": "scatter3d"
           }
          ],
          "scattercarpet": [
           {
            "marker": {
             "colorbar": {
              "outlinewidth": 0,
              "ticks": ""
             }
            },
            "type": "scattercarpet"
           }
          ],
          "scattergeo": [
           {
            "marker": {
             "colorbar": {
              "outlinewidth": 0,
              "ticks": ""
             }
            },
            "type": "scattergeo"
           }
          ],
          "scattergl": [
           {
            "marker": {
             "colorbar": {
              "outlinewidth": 0,
              "ticks": ""
             }
            },
            "type": "scattergl"
           }
          ],
          "scattermapbox": [
           {
            "marker": {
             "colorbar": {
              "outlinewidth": 0,
              "ticks": ""
             }
            },
            "type": "scattermapbox"
           }
          ],
          "scatterpolar": [
           {
            "marker": {
             "colorbar": {
              "outlinewidth": 0,
              "ticks": ""
             }
            },
            "type": "scatterpolar"
           }
          ],
          "scatterpolargl": [
           {
            "marker": {
             "colorbar": {
              "outlinewidth": 0,
              "ticks": ""
             }
            },
            "type": "scatterpolargl"
           }
          ],
          "scatterternary": [
           {
            "marker": {
             "colorbar": {
              "outlinewidth": 0,
              "ticks": ""
             }
            },
            "type": "scatterternary"
           }
          ],
          "surface": [
           {
            "colorbar": {
             "outlinewidth": 0,
             "ticks": ""
            },
            "colorscale": [
             [
              0,
              "#0d0887"
             ],
             [
              0.1111111111111111,
              "#46039f"
             ],
             [
              0.2222222222222222,
              "#7201a8"
             ],
             [
              0.3333333333333333,
              "#9c179e"
             ],
             [
              0.4444444444444444,
              "#bd3786"
             ],
             [
              0.5555555555555556,
              "#d8576b"
             ],
             [
              0.6666666666666666,
              "#ed7953"
             ],
             [
              0.7777777777777778,
              "#fb9f3a"
             ],
             [
              0.8888888888888888,
              "#fdca26"
             ],
             [
              1,
              "#f0f921"
             ]
            ],
            "type": "surface"
           }
          ],
          "table": [
           {
            "cells": {
             "fill": {
              "color": "#EBF0F8"
             },
             "line": {
              "color": "white"
             }
            },
            "header": {
             "fill": {
              "color": "#C8D4E3"
             },
             "line": {
              "color": "white"
             }
            },
            "type": "table"
           }
          ]
         },
         "layout": {
          "annotationdefaults": {
           "arrowcolor": "#2a3f5f",
           "arrowhead": 0,
           "arrowwidth": 1
          },
          "autotypenumbers": "strict",
          "coloraxis": {
           "colorbar": {
            "outlinewidth": 0,
            "ticks": ""
           }
          },
          "colorscale": {
           "diverging": [
            [
             0,
             "#8e0152"
            ],
            [
             0.1,
             "#c51b7d"
            ],
            [
             0.2,
             "#de77ae"
            ],
            [
             0.3,
             "#f1b6da"
            ],
            [
             0.4,
             "#fde0ef"
            ],
            [
             0.5,
             "#f7f7f7"
            ],
            [
             0.6,
             "#e6f5d0"
            ],
            [
             0.7,
             "#b8e186"
            ],
            [
             0.8,
             "#7fbc41"
            ],
            [
             0.9,
             "#4d9221"
            ],
            [
             1,
             "#276419"
            ]
           ],
           "sequential": [
            [
             0,
             "#0d0887"
            ],
            [
             0.1111111111111111,
             "#46039f"
            ],
            [
             0.2222222222222222,
             "#7201a8"
            ],
            [
             0.3333333333333333,
             "#9c179e"
            ],
            [
             0.4444444444444444,
             "#bd3786"
            ],
            [
             0.5555555555555556,
             "#d8576b"
            ],
            [
             0.6666666666666666,
             "#ed7953"
            ],
            [
             0.7777777777777778,
             "#fb9f3a"
            ],
            [
             0.8888888888888888,
             "#fdca26"
            ],
            [
             1,
             "#f0f921"
            ]
           ],
           "sequentialminus": [
            [
             0,
             "#0d0887"
            ],
            [
             0.1111111111111111,
             "#46039f"
            ],
            [
             0.2222222222222222,
             "#7201a8"
            ],
            [
             0.3333333333333333,
             "#9c179e"
            ],
            [
             0.4444444444444444,
             "#bd3786"
            ],
            [
             0.5555555555555556,
             "#d8576b"
            ],
            [
             0.6666666666666666,
             "#ed7953"
            ],
            [
             0.7777777777777778,
             "#fb9f3a"
            ],
            [
             0.8888888888888888,
             "#fdca26"
            ],
            [
             1,
             "#f0f921"
            ]
           ]
          },
          "colorway": [
           "#636efa",
           "#EF553B",
           "#00cc96",
           "#ab63fa",
           "#FFA15A",
           "#19d3f3",
           "#FF6692",
           "#B6E880",
           "#FF97FF",
           "#FECB52"
          ],
          "font": {
           "color": "#2a3f5f"
          },
          "geo": {
           "bgcolor": "white",
           "lakecolor": "white",
           "landcolor": "#E5ECF6",
           "showlakes": true,
           "showland": true,
           "subunitcolor": "white"
          },
          "hoverlabel": {
           "align": "left"
          },
          "hovermode": "closest",
          "mapbox": {
           "style": "light"
          },
          "paper_bgcolor": "white",
          "plot_bgcolor": "#E5ECF6",
          "polar": {
           "angularaxis": {
            "gridcolor": "white",
            "linecolor": "white",
            "ticks": ""
           },
           "bgcolor": "#E5ECF6",
           "radialaxis": {
            "gridcolor": "white",
            "linecolor": "white",
            "ticks": ""
           }
          },
          "scene": {
           "xaxis": {
            "backgroundcolor": "#E5ECF6",
            "gridcolor": "white",
            "gridwidth": 2,
            "linecolor": "white",
            "showbackground": true,
            "ticks": "",
            "zerolinecolor": "white"
           },
           "yaxis": {
            "backgroundcolor": "#E5ECF6",
            "gridcolor": "white",
            "gridwidth": 2,
            "linecolor": "white",
            "showbackground": true,
            "ticks": "",
            "zerolinecolor": "white"
           },
           "zaxis": {
            "backgroundcolor": "#E5ECF6",
            "gridcolor": "white",
            "gridwidth": 2,
            "linecolor": "white",
            "showbackground": true,
            "ticks": "",
            "zerolinecolor": "white"
           }
          },
          "shapedefaults": {
           "line": {
            "color": "#2a3f5f"
           }
          },
          "ternary": {
           "aaxis": {
            "gridcolor": "white",
            "linecolor": "white",
            "ticks": ""
           },
           "baxis": {
            "gridcolor": "white",
            "linecolor": "white",
            "ticks": ""
           },
           "bgcolor": "#E5ECF6",
           "caxis": {
            "gridcolor": "white",
            "linecolor": "white",
            "ticks": ""
           }
          },
          "title": {
           "x": 0.05
          },
          "xaxis": {
           "automargin": true,
           "gridcolor": "white",
           "linecolor": "white",
           "ticks": "",
           "title": {
            "standoff": 15
           },
           "zerolinecolor": "white",
           "zerolinewidth": 2
          },
          "yaxis": {
           "automargin": true,
           "gridcolor": "white",
           "linecolor": "white",
           "ticks": "",
           "title": {
            "standoff": 15
           },
           "zerolinecolor": "white",
           "zerolinewidth": 2
          }
         }
        },
        "width": 700
       }
      }
     },
     "metadata": {},
     "output_type": "display_data"
    }
   ],
   "source": [
    "fig = px.pie(enrolments, names='category')\n",
    "fig.update_layout(width=700, height=600)\n",
    "fig.show()\n",
    "# fig.update_layout(\n",
    "#     plot_bgcolor=\"rgba(0, 0, 0, 0)\",\n",
    "#     paper_bgcolor=\"rgba(0, 0, 0, 0)\",\n",
    "#     font_color=\"white\",\n",
    "# )"
   ]
  },
  {
   "cell_type": "code",
   "execution_count": 6,
   "metadata": {},
   "outputs": [
    {
     "data": {
      "application/vnd.plotly.v1+json": {
       "config": {
        "plotlyServerURL": "https://plot.ly"
       },
       "data": [
        {
         "alignmentgroup": "True",
         "hovertemplate": "category=%{x}<br>count=%{y}<extra></extra>",
         "legendgroup": "",
         "marker": {
          "color": "#636efa",
          "pattern": {
           "shape": ""
          }
         },
         "name": "",
         "offsetgroup": "",
         "orientation": "v",
         "showlegend": false,
         "textposition": "auto",
         "type": "bar",
         "x": [
          "Intellectual",
          "Physical",
          "Social",
          "Spiritual",
          "Emotional"
         ],
         "xaxis": "x",
         "y": [
          2552,
          1479,
          801,
          293,
          252
         ],
         "yaxis": "y"
        }
       ],
       "layout": {
        "barmode": "relative",
        "height": 500,
        "legend": {
         "tracegroupgap": 0
        },
        "template": {
         "data": {
          "bar": [
           {
            "error_x": {
             "color": "#2a3f5f"
            },
            "error_y": {
             "color": "#2a3f5f"
            },
            "marker": {
             "line": {
              "color": "#E5ECF6",
              "width": 0.5
             },
             "pattern": {
              "fillmode": "overlay",
              "size": 10,
              "solidity": 0.2
             }
            },
            "type": "bar"
           }
          ],
          "barpolar": [
           {
            "marker": {
             "line": {
              "color": "#E5ECF6",
              "width": 0.5
             },
             "pattern": {
              "fillmode": "overlay",
              "size": 10,
              "solidity": 0.2
             }
            },
            "type": "barpolar"
           }
          ],
          "carpet": [
           {
            "aaxis": {
             "endlinecolor": "#2a3f5f",
             "gridcolor": "white",
             "linecolor": "white",
             "minorgridcolor": "white",
             "startlinecolor": "#2a3f5f"
            },
            "baxis": {
             "endlinecolor": "#2a3f5f",
             "gridcolor": "white",
             "linecolor": "white",
             "minorgridcolor": "white",
             "startlinecolor": "#2a3f5f"
            },
            "type": "carpet"
           }
          ],
          "choropleth": [
           {
            "colorbar": {
             "outlinewidth": 0,
             "ticks": ""
            },
            "type": "choropleth"
           }
          ],
          "contour": [
           {
            "colorbar": {
             "outlinewidth": 0,
             "ticks": ""
            },
            "colorscale": [
             [
              0,
              "#0d0887"
             ],
             [
              0.1111111111111111,
              "#46039f"
             ],
             [
              0.2222222222222222,
              "#7201a8"
             ],
             [
              0.3333333333333333,
              "#9c179e"
             ],
             [
              0.4444444444444444,
              "#bd3786"
             ],
             [
              0.5555555555555556,
              "#d8576b"
             ],
             [
              0.6666666666666666,
              "#ed7953"
             ],
             [
              0.7777777777777778,
              "#fb9f3a"
             ],
             [
              0.8888888888888888,
              "#fdca26"
             ],
             [
              1,
              "#f0f921"
             ]
            ],
            "type": "contour"
           }
          ],
          "contourcarpet": [
           {
            "colorbar": {
             "outlinewidth": 0,
             "ticks": ""
            },
            "type": "contourcarpet"
           }
          ],
          "heatmap": [
           {
            "colorbar": {
             "outlinewidth": 0,
             "ticks": ""
            },
            "colorscale": [
             [
              0,
              "#0d0887"
             ],
             [
              0.1111111111111111,
              "#46039f"
             ],
             [
              0.2222222222222222,
              "#7201a8"
             ],
             [
              0.3333333333333333,
              "#9c179e"
             ],
             [
              0.4444444444444444,
              "#bd3786"
             ],
             [
              0.5555555555555556,
              "#d8576b"
             ],
             [
              0.6666666666666666,
              "#ed7953"
             ],
             [
              0.7777777777777778,
              "#fb9f3a"
             ],
             [
              0.8888888888888888,
              "#fdca26"
             ],
             [
              1,
              "#f0f921"
             ]
            ],
            "type": "heatmap"
           }
          ],
          "heatmapgl": [
           {
            "colorbar": {
             "outlinewidth": 0,
             "ticks": ""
            },
            "colorscale": [
             [
              0,
              "#0d0887"
             ],
             [
              0.1111111111111111,
              "#46039f"
             ],
             [
              0.2222222222222222,
              "#7201a8"
             ],
             [
              0.3333333333333333,
              "#9c179e"
             ],
             [
              0.4444444444444444,
              "#bd3786"
             ],
             [
              0.5555555555555556,
              "#d8576b"
             ],
             [
              0.6666666666666666,
              "#ed7953"
             ],
             [
              0.7777777777777778,
              "#fb9f3a"
             ],
             [
              0.8888888888888888,
              "#fdca26"
             ],
             [
              1,
              "#f0f921"
             ]
            ],
            "type": "heatmapgl"
           }
          ],
          "histogram": [
           {
            "marker": {
             "pattern": {
              "fillmode": "overlay",
              "size": 10,
              "solidity": 0.2
             }
            },
            "type": "histogram"
           }
          ],
          "histogram2d": [
           {
            "colorbar": {
             "outlinewidth": 0,
             "ticks": ""
            },
            "colorscale": [
             [
              0,
              "#0d0887"
             ],
             [
              0.1111111111111111,
              "#46039f"
             ],
             [
              0.2222222222222222,
              "#7201a8"
             ],
             [
              0.3333333333333333,
              "#9c179e"
             ],
             [
              0.4444444444444444,
              "#bd3786"
             ],
             [
              0.5555555555555556,
              "#d8576b"
             ],
             [
              0.6666666666666666,
              "#ed7953"
             ],
             [
              0.7777777777777778,
              "#fb9f3a"
             ],
             [
              0.8888888888888888,
              "#fdca26"
             ],
             [
              1,
              "#f0f921"
             ]
            ],
            "type": "histogram2d"
           }
          ],
          "histogram2dcontour": [
           {
            "colorbar": {
             "outlinewidth": 0,
             "ticks": ""
            },
            "colorscale": [
             [
              0,
              "#0d0887"
             ],
             [
              0.1111111111111111,
              "#46039f"
             ],
             [
              0.2222222222222222,
              "#7201a8"
             ],
             [
              0.3333333333333333,
              "#9c179e"
             ],
             [
              0.4444444444444444,
              "#bd3786"
             ],
             [
              0.5555555555555556,
              "#d8576b"
             ],
             [
              0.6666666666666666,
              "#ed7953"
             ],
             [
              0.7777777777777778,
              "#fb9f3a"
             ],
             [
              0.8888888888888888,
              "#fdca26"
             ],
             [
              1,
              "#f0f921"
             ]
            ],
            "type": "histogram2dcontour"
           }
          ],
          "mesh3d": [
           {
            "colorbar": {
             "outlinewidth": 0,
             "ticks": ""
            },
            "type": "mesh3d"
           }
          ],
          "parcoords": [
           {
            "line": {
             "colorbar": {
              "outlinewidth": 0,
              "ticks": ""
             }
            },
            "type": "parcoords"
           }
          ],
          "pie": [
           {
            "automargin": true,
            "type": "pie"
           }
          ],
          "scatter": [
           {
            "fillpattern": {
             "fillmode": "overlay",
             "size": 10,
             "solidity": 0.2
            },
            "type": "scatter"
           }
          ],
          "scatter3d": [
           {
            "line": {
             "colorbar": {
              "outlinewidth": 0,
              "ticks": ""
             }
            },
            "marker": {
             "colorbar": {
              "outlinewidth": 0,
              "ticks": ""
             }
            },
            "type": "scatter3d"
           }
          ],
          "scattercarpet": [
           {
            "marker": {
             "colorbar": {
              "outlinewidth": 0,
              "ticks": ""
             }
            },
            "type": "scattercarpet"
           }
          ],
          "scattergeo": [
           {
            "marker": {
             "colorbar": {
              "outlinewidth": 0,
              "ticks": ""
             }
            },
            "type": "scattergeo"
           }
          ],
          "scattergl": [
           {
            "marker": {
             "colorbar": {
              "outlinewidth": 0,
              "ticks": ""
             }
            },
            "type": "scattergl"
           }
          ],
          "scattermapbox": [
           {
            "marker": {
             "colorbar": {
              "outlinewidth": 0,
              "ticks": ""
             }
            },
            "type": "scattermapbox"
           }
          ],
          "scatterpolar": [
           {
            "marker": {
             "colorbar": {
              "outlinewidth": 0,
              "ticks": ""
             }
            },
            "type": "scatterpolar"
           }
          ],
          "scatterpolargl": [
           {
            "marker": {
             "colorbar": {
              "outlinewidth": 0,
              "ticks": ""
             }
            },
            "type": "scatterpolargl"
           }
          ],
          "scatterternary": [
           {
            "marker": {
             "colorbar": {
              "outlinewidth": 0,
              "ticks": ""
             }
            },
            "type": "scatterternary"
           }
          ],
          "surface": [
           {
            "colorbar": {
             "outlinewidth": 0,
             "ticks": ""
            },
            "colorscale": [
             [
              0,
              "#0d0887"
             ],
             [
              0.1111111111111111,
              "#46039f"
             ],
             [
              0.2222222222222222,
              "#7201a8"
             ],
             [
              0.3333333333333333,
              "#9c179e"
             ],
             [
              0.4444444444444444,
              "#bd3786"
             ],
             [
              0.5555555555555556,
              "#d8576b"
             ],
             [
              0.6666666666666666,
              "#ed7953"
             ],
             [
              0.7777777777777778,
              "#fb9f3a"
             ],
             [
              0.8888888888888888,
              "#fdca26"
             ],
             [
              1,
              "#f0f921"
             ]
            ],
            "type": "surface"
           }
          ],
          "table": [
           {
            "cells": {
             "fill": {
              "color": "#EBF0F8"
             },
             "line": {
              "color": "white"
             }
            },
            "header": {
             "fill": {
              "color": "#C8D4E3"
             },
             "line": {
              "color": "white"
             }
            },
            "type": "table"
           }
          ]
         },
         "layout": {
          "annotationdefaults": {
           "arrowcolor": "#2a3f5f",
           "arrowhead": 0,
           "arrowwidth": 1
          },
          "autotypenumbers": "strict",
          "coloraxis": {
           "colorbar": {
            "outlinewidth": 0,
            "ticks": ""
           }
          },
          "colorscale": {
           "diverging": [
            [
             0,
             "#8e0152"
            ],
            [
             0.1,
             "#c51b7d"
            ],
            [
             0.2,
             "#de77ae"
            ],
            [
             0.3,
             "#f1b6da"
            ],
            [
             0.4,
             "#fde0ef"
            ],
            [
             0.5,
             "#f7f7f7"
            ],
            [
             0.6,
             "#e6f5d0"
            ],
            [
             0.7,
             "#b8e186"
            ],
            [
             0.8,
             "#7fbc41"
            ],
            [
             0.9,
             "#4d9221"
            ],
            [
             1,
             "#276419"
            ]
           ],
           "sequential": [
            [
             0,
             "#0d0887"
            ],
            [
             0.1111111111111111,
             "#46039f"
            ],
            [
             0.2222222222222222,
             "#7201a8"
            ],
            [
             0.3333333333333333,
             "#9c179e"
            ],
            [
             0.4444444444444444,
             "#bd3786"
            ],
            [
             0.5555555555555556,
             "#d8576b"
            ],
            [
             0.6666666666666666,
             "#ed7953"
            ],
            [
             0.7777777777777778,
             "#fb9f3a"
            ],
            [
             0.8888888888888888,
             "#fdca26"
            ],
            [
             1,
             "#f0f921"
            ]
           ],
           "sequentialminus": [
            [
             0,
             "#0d0887"
            ],
            [
             0.1111111111111111,
             "#46039f"
            ],
            [
             0.2222222222222222,
             "#7201a8"
            ],
            [
             0.3333333333333333,
             "#9c179e"
            ],
            [
             0.4444444444444444,
             "#bd3786"
            ],
            [
             0.5555555555555556,
             "#d8576b"
            ],
            [
             0.6666666666666666,
             "#ed7953"
            ],
            [
             0.7777777777777778,
             "#fb9f3a"
            ],
            [
             0.8888888888888888,
             "#fdca26"
            ],
            [
             1,
             "#f0f921"
            ]
           ]
          },
          "colorway": [
           "#636efa",
           "#EF553B",
           "#00cc96",
           "#ab63fa",
           "#FFA15A",
           "#19d3f3",
           "#FF6692",
           "#B6E880",
           "#FF97FF",
           "#FECB52"
          ],
          "font": {
           "color": "#2a3f5f"
          },
          "geo": {
           "bgcolor": "white",
           "lakecolor": "white",
           "landcolor": "#E5ECF6",
           "showlakes": true,
           "showland": true,
           "subunitcolor": "white"
          },
          "hoverlabel": {
           "align": "left"
          },
          "hovermode": "closest",
          "mapbox": {
           "style": "light"
          },
          "paper_bgcolor": "white",
          "plot_bgcolor": "#E5ECF6",
          "polar": {
           "angularaxis": {
            "gridcolor": "white",
            "linecolor": "white",
            "ticks": ""
           },
           "bgcolor": "#E5ECF6",
           "radialaxis": {
            "gridcolor": "white",
            "linecolor": "white",
            "ticks": ""
           }
          },
          "scene": {
           "xaxis": {
            "backgroundcolor": "#E5ECF6",
            "gridcolor": "white",
            "gridwidth": 2,
            "linecolor": "white",
            "showbackground": true,
            "ticks": "",
            "zerolinecolor": "white"
           },
           "yaxis": {
            "backgroundcolor": "#E5ECF6",
            "gridcolor": "white",
            "gridwidth": 2,
            "linecolor": "white",
            "showbackground": true,
            "ticks": "",
            "zerolinecolor": "white"
           },
           "zaxis": {
            "backgroundcolor": "#E5ECF6",
            "gridcolor": "white",
            "gridwidth": 2,
            "linecolor": "white",
            "showbackground": true,
            "ticks": "",
            "zerolinecolor": "white"
           }
          },
          "shapedefaults": {
           "line": {
            "color": "#2a3f5f"
           }
          },
          "ternary": {
           "aaxis": {
            "gridcolor": "white",
            "linecolor": "white",
            "ticks": ""
           },
           "baxis": {
            "gridcolor": "white",
            "linecolor": "white",
            "ticks": ""
           },
           "bgcolor": "#E5ECF6",
           "caxis": {
            "gridcolor": "white",
            "linecolor": "white",
            "ticks": ""
           }
          },
          "title": {
           "x": 0.05
          },
          "xaxis": {
           "automargin": true,
           "gridcolor": "white",
           "linecolor": "white",
           "ticks": "",
           "title": {
            "standoff": 15
           },
           "zerolinecolor": "white",
           "zerolinewidth": 2
          },
          "yaxis": {
           "automargin": true,
           "gridcolor": "white",
           "linecolor": "white",
           "ticks": "",
           "title": {
            "standoff": 15
           },
           "zerolinecolor": "white",
           "zerolinewidth": 2
          }
         }
        },
        "title": {
         "text": "Count of Course Enrolments by Category"
        },
        "width": 800,
        "xaxis": {
         "anchor": "y",
         "domain": [
          0,
          1
         ],
         "title": {
          "text": "Category"
         }
        },
        "yaxis": {
         "anchor": "x",
         "domain": [
          0,
          1
         ],
         "title": {
          "text": "Count"
         }
        }
       }
      }
     },
     "metadata": {},
     "output_type": "display_data"
    }
   ],
   "source": [
    "df_grouped = enrolments.groupby(by='category').size().to_frame(name='count').reset_index().sort_values(by='count', ascending=False)\n",
    "fig = px.bar(df_grouped, x='category', y='count', title='Count of Course Enrolments by Category')\n",
    "fig.update_layout(xaxis_title='Category', yaxis_title='Count')\n",
    "fig.update_layout(width=800, height=500)\n",
    "fig.show()"
   ]
  },
  {
   "cell_type": "code",
   "execution_count": 7,
   "metadata": {},
   "outputs": [
    {
     "data": {
      "application/vnd.plotly.v1+json": {
       "config": {
        "plotlyServerURL": "https://plot.ly"
       },
       "data": [
        {
         "alignmentgroup": "True",
         "hovertemplate": "category=%{x}<br>count=%{y}<extra></extra>",
         "legendgroup": "",
         "marker": {
          "color": "#636efa",
          "pattern": {
           "shape": ""
          }
         },
         "name": "",
         "offsetgroup": "",
         "orientation": "v",
         "showlegend": false,
         "textposition": "auto",
         "type": "bar",
         "x": [
          "Intellectual",
          "Physical",
          "Social",
          "Spiritual",
          "Emotional"
         ],
         "xaxis": "x",
         "y": [
          15,
          11,
          9,
          4,
          3
         ],
         "yaxis": "y"
        }
       ],
       "layout": {
        "barmode": "relative",
        "height": 500,
        "legend": {
         "tracegroupgap": 0
        },
        "template": {
         "data": {
          "bar": [
           {
            "error_x": {
             "color": "#2a3f5f"
            },
            "error_y": {
             "color": "#2a3f5f"
            },
            "marker": {
             "line": {
              "color": "#E5ECF6",
              "width": 0.5
             },
             "pattern": {
              "fillmode": "overlay",
              "size": 10,
              "solidity": 0.2
             }
            },
            "type": "bar"
           }
          ],
          "barpolar": [
           {
            "marker": {
             "line": {
              "color": "#E5ECF6",
              "width": 0.5
             },
             "pattern": {
              "fillmode": "overlay",
              "size": 10,
              "solidity": 0.2
             }
            },
            "type": "barpolar"
           }
          ],
          "carpet": [
           {
            "aaxis": {
             "endlinecolor": "#2a3f5f",
             "gridcolor": "white",
             "linecolor": "white",
             "minorgridcolor": "white",
             "startlinecolor": "#2a3f5f"
            },
            "baxis": {
             "endlinecolor": "#2a3f5f",
             "gridcolor": "white",
             "linecolor": "white",
             "minorgridcolor": "white",
             "startlinecolor": "#2a3f5f"
            },
            "type": "carpet"
           }
          ],
          "choropleth": [
           {
            "colorbar": {
             "outlinewidth": 0,
             "ticks": ""
            },
            "type": "choropleth"
           }
          ],
          "contour": [
           {
            "colorbar": {
             "outlinewidth": 0,
             "ticks": ""
            },
            "colorscale": [
             [
              0,
              "#0d0887"
             ],
             [
              0.1111111111111111,
              "#46039f"
             ],
             [
              0.2222222222222222,
              "#7201a8"
             ],
             [
              0.3333333333333333,
              "#9c179e"
             ],
             [
              0.4444444444444444,
              "#bd3786"
             ],
             [
              0.5555555555555556,
              "#d8576b"
             ],
             [
              0.6666666666666666,
              "#ed7953"
             ],
             [
              0.7777777777777778,
              "#fb9f3a"
             ],
             [
              0.8888888888888888,
              "#fdca26"
             ],
             [
              1,
              "#f0f921"
             ]
            ],
            "type": "contour"
           }
          ],
          "contourcarpet": [
           {
            "colorbar": {
             "outlinewidth": 0,
             "ticks": ""
            },
            "type": "contourcarpet"
           }
          ],
          "heatmap": [
           {
            "colorbar": {
             "outlinewidth": 0,
             "ticks": ""
            },
            "colorscale": [
             [
              0,
              "#0d0887"
             ],
             [
              0.1111111111111111,
              "#46039f"
             ],
             [
              0.2222222222222222,
              "#7201a8"
             ],
             [
              0.3333333333333333,
              "#9c179e"
             ],
             [
              0.4444444444444444,
              "#bd3786"
             ],
             [
              0.5555555555555556,
              "#d8576b"
             ],
             [
              0.6666666666666666,
              "#ed7953"
             ],
             [
              0.7777777777777778,
              "#fb9f3a"
             ],
             [
              0.8888888888888888,
              "#fdca26"
             ],
             [
              1,
              "#f0f921"
             ]
            ],
            "type": "heatmap"
           }
          ],
          "heatmapgl": [
           {
            "colorbar": {
             "outlinewidth": 0,
             "ticks": ""
            },
            "colorscale": [
             [
              0,
              "#0d0887"
             ],
             [
              0.1111111111111111,
              "#46039f"
             ],
             [
              0.2222222222222222,
              "#7201a8"
             ],
             [
              0.3333333333333333,
              "#9c179e"
             ],
             [
              0.4444444444444444,
              "#bd3786"
             ],
             [
              0.5555555555555556,
              "#d8576b"
             ],
             [
              0.6666666666666666,
              "#ed7953"
             ],
             [
              0.7777777777777778,
              "#fb9f3a"
             ],
             [
              0.8888888888888888,
              "#fdca26"
             ],
             [
              1,
              "#f0f921"
             ]
            ],
            "type": "heatmapgl"
           }
          ],
          "histogram": [
           {
            "marker": {
             "pattern": {
              "fillmode": "overlay",
              "size": 10,
              "solidity": 0.2
             }
            },
            "type": "histogram"
           }
          ],
          "histogram2d": [
           {
            "colorbar": {
             "outlinewidth": 0,
             "ticks": ""
            },
            "colorscale": [
             [
              0,
              "#0d0887"
             ],
             [
              0.1111111111111111,
              "#46039f"
             ],
             [
              0.2222222222222222,
              "#7201a8"
             ],
             [
              0.3333333333333333,
              "#9c179e"
             ],
             [
              0.4444444444444444,
              "#bd3786"
             ],
             [
              0.5555555555555556,
              "#d8576b"
             ],
             [
              0.6666666666666666,
              "#ed7953"
             ],
             [
              0.7777777777777778,
              "#fb9f3a"
             ],
             [
              0.8888888888888888,
              "#fdca26"
             ],
             [
              1,
              "#f0f921"
             ]
            ],
            "type": "histogram2d"
           }
          ],
          "histogram2dcontour": [
           {
            "colorbar": {
             "outlinewidth": 0,
             "ticks": ""
            },
            "colorscale": [
             [
              0,
              "#0d0887"
             ],
             [
              0.1111111111111111,
              "#46039f"
             ],
             [
              0.2222222222222222,
              "#7201a8"
             ],
             [
              0.3333333333333333,
              "#9c179e"
             ],
             [
              0.4444444444444444,
              "#bd3786"
             ],
             [
              0.5555555555555556,
              "#d8576b"
             ],
             [
              0.6666666666666666,
              "#ed7953"
             ],
             [
              0.7777777777777778,
              "#fb9f3a"
             ],
             [
              0.8888888888888888,
              "#fdca26"
             ],
             [
              1,
              "#f0f921"
             ]
            ],
            "type": "histogram2dcontour"
           }
          ],
          "mesh3d": [
           {
            "colorbar": {
             "outlinewidth": 0,
             "ticks": ""
            },
            "type": "mesh3d"
           }
          ],
          "parcoords": [
           {
            "line": {
             "colorbar": {
              "outlinewidth": 0,
              "ticks": ""
             }
            },
            "type": "parcoords"
           }
          ],
          "pie": [
           {
            "automargin": true,
            "type": "pie"
           }
          ],
          "scatter": [
           {
            "fillpattern": {
             "fillmode": "overlay",
             "size": 10,
             "solidity": 0.2
            },
            "type": "scatter"
           }
          ],
          "scatter3d": [
           {
            "line": {
             "colorbar": {
              "outlinewidth": 0,
              "ticks": ""
             }
            },
            "marker": {
             "colorbar": {
              "outlinewidth": 0,
              "ticks": ""
             }
            },
            "type": "scatter3d"
           }
          ],
          "scattercarpet": [
           {
            "marker": {
             "colorbar": {
              "outlinewidth": 0,
              "ticks": ""
             }
            },
            "type": "scattercarpet"
           }
          ],
          "scattergeo": [
           {
            "marker": {
             "colorbar": {
              "outlinewidth": 0,
              "ticks": ""
             }
            },
            "type": "scattergeo"
           }
          ],
          "scattergl": [
           {
            "marker": {
             "colorbar": {
              "outlinewidth": 0,
              "ticks": ""
             }
            },
            "type": "scattergl"
           }
          ],
          "scattermapbox": [
           {
            "marker": {
             "colorbar": {
              "outlinewidth": 0,
              "ticks": ""
             }
            },
            "type": "scattermapbox"
           }
          ],
          "scatterpolar": [
           {
            "marker": {
             "colorbar": {
              "outlinewidth": 0,
              "ticks": ""
             }
            },
            "type": "scatterpolar"
           }
          ],
          "scatterpolargl": [
           {
            "marker": {
             "colorbar": {
              "outlinewidth": 0,
              "ticks": ""
             }
            },
            "type": "scatterpolargl"
           }
          ],
          "scatterternary": [
           {
            "marker": {
             "colorbar": {
              "outlinewidth": 0,
              "ticks": ""
             }
            },
            "type": "scatterternary"
           }
          ],
          "surface": [
           {
            "colorbar": {
             "outlinewidth": 0,
             "ticks": ""
            },
            "colorscale": [
             [
              0,
              "#0d0887"
             ],
             [
              0.1111111111111111,
              "#46039f"
             ],
             [
              0.2222222222222222,
              "#7201a8"
             ],
             [
              0.3333333333333333,
              "#9c179e"
             ],
             [
              0.4444444444444444,
              "#bd3786"
             ],
             [
              0.5555555555555556,
              "#d8576b"
             ],
             [
              0.6666666666666666,
              "#ed7953"
             ],
             [
              0.7777777777777778,
              "#fb9f3a"
             ],
             [
              0.8888888888888888,
              "#fdca26"
             ],
             [
              1,
              "#f0f921"
             ]
            ],
            "type": "surface"
           }
          ],
          "table": [
           {
            "cells": {
             "fill": {
              "color": "#EBF0F8"
             },
             "line": {
              "color": "white"
             }
            },
            "header": {
             "fill": {
              "color": "#C8D4E3"
             },
             "line": {
              "color": "white"
             }
            },
            "type": "table"
           }
          ]
         },
         "layout": {
          "annotationdefaults": {
           "arrowcolor": "#2a3f5f",
           "arrowhead": 0,
           "arrowwidth": 1
          },
          "autotypenumbers": "strict",
          "coloraxis": {
           "colorbar": {
            "outlinewidth": 0,
            "ticks": ""
           }
          },
          "colorscale": {
           "diverging": [
            [
             0,
             "#8e0152"
            ],
            [
             0.1,
             "#c51b7d"
            ],
            [
             0.2,
             "#de77ae"
            ],
            [
             0.3,
             "#f1b6da"
            ],
            [
             0.4,
             "#fde0ef"
            ],
            [
             0.5,
             "#f7f7f7"
            ],
            [
             0.6,
             "#e6f5d0"
            ],
            [
             0.7,
             "#b8e186"
            ],
            [
             0.8,
             "#7fbc41"
            ],
            [
             0.9,
             "#4d9221"
            ],
            [
             1,
             "#276419"
            ]
           ],
           "sequential": [
            [
             0,
             "#0d0887"
            ],
            [
             0.1111111111111111,
             "#46039f"
            ],
            [
             0.2222222222222222,
             "#7201a8"
            ],
            [
             0.3333333333333333,
             "#9c179e"
            ],
            [
             0.4444444444444444,
             "#bd3786"
            ],
            [
             0.5555555555555556,
             "#d8576b"
            ],
            [
             0.6666666666666666,
             "#ed7953"
            ],
            [
             0.7777777777777778,
             "#fb9f3a"
            ],
            [
             0.8888888888888888,
             "#fdca26"
            ],
            [
             1,
             "#f0f921"
            ]
           ],
           "sequentialminus": [
            [
             0,
             "#0d0887"
            ],
            [
             0.1111111111111111,
             "#46039f"
            ],
            [
             0.2222222222222222,
             "#7201a8"
            ],
            [
             0.3333333333333333,
             "#9c179e"
            ],
            [
             0.4444444444444444,
             "#bd3786"
            ],
            [
             0.5555555555555556,
             "#d8576b"
            ],
            [
             0.6666666666666666,
             "#ed7953"
            ],
            [
             0.7777777777777778,
             "#fb9f3a"
            ],
            [
             0.8888888888888888,
             "#fdca26"
            ],
            [
             1,
             "#f0f921"
            ]
           ]
          },
          "colorway": [
           "#636efa",
           "#EF553B",
           "#00cc96",
           "#ab63fa",
           "#FFA15A",
           "#19d3f3",
           "#FF6692",
           "#B6E880",
           "#FF97FF",
           "#FECB52"
          ],
          "font": {
           "color": "#2a3f5f"
          },
          "geo": {
           "bgcolor": "white",
           "lakecolor": "white",
           "landcolor": "#E5ECF6",
           "showlakes": true,
           "showland": true,
           "subunitcolor": "white"
          },
          "hoverlabel": {
           "align": "left"
          },
          "hovermode": "closest",
          "mapbox": {
           "style": "light"
          },
          "paper_bgcolor": "white",
          "plot_bgcolor": "#E5ECF6",
          "polar": {
           "angularaxis": {
            "gridcolor": "white",
            "linecolor": "white",
            "ticks": ""
           },
           "bgcolor": "#E5ECF6",
           "radialaxis": {
            "gridcolor": "white",
            "linecolor": "white",
            "ticks": ""
           }
          },
          "scene": {
           "xaxis": {
            "backgroundcolor": "#E5ECF6",
            "gridcolor": "white",
            "gridwidth": 2,
            "linecolor": "white",
            "showbackground": true,
            "ticks": "",
            "zerolinecolor": "white"
           },
           "yaxis": {
            "backgroundcolor": "#E5ECF6",
            "gridcolor": "white",
            "gridwidth": 2,
            "linecolor": "white",
            "showbackground": true,
            "ticks": "",
            "zerolinecolor": "white"
           },
           "zaxis": {
            "backgroundcolor": "#E5ECF6",
            "gridcolor": "white",
            "gridwidth": 2,
            "linecolor": "white",
            "showbackground": true,
            "ticks": "",
            "zerolinecolor": "white"
           }
          },
          "shapedefaults": {
           "line": {
            "color": "#2a3f5f"
           }
          },
          "ternary": {
           "aaxis": {
            "gridcolor": "white",
            "linecolor": "white",
            "ticks": ""
           },
           "baxis": {
            "gridcolor": "white",
            "linecolor": "white",
            "ticks": ""
           },
           "bgcolor": "#E5ECF6",
           "caxis": {
            "gridcolor": "white",
            "linecolor": "white",
            "ticks": ""
           }
          },
          "title": {
           "x": 0.05
          },
          "xaxis": {
           "automargin": true,
           "gridcolor": "white",
           "linecolor": "white",
           "ticks": "",
           "title": {
            "standoff": 15
           },
           "zerolinecolor": "white",
           "zerolinewidth": 2
          },
          "yaxis": {
           "automargin": true,
           "gridcolor": "white",
           "linecolor": "white",
           "ticks": "",
           "title": {
            "standoff": 15
           },
           "zerolinecolor": "white",
           "zerolinewidth": 2
          }
         }
        },
        "title": {
         "text": "Count of Courses by Category"
        },
        "width": 800,
        "xaxis": {
         "anchor": "y",
         "domain": [
          0,
          1
         ],
         "title": {
          "text": "Category"
         }
        },
        "yaxis": {
         "anchor": "x",
         "domain": [
          0,
          1
         ],
         "title": {
          "text": "Count"
         }
        }
       }
      }
     },
     "metadata": {},
     "output_type": "display_data"
    }
   ],
   "source": [
    "df_grouped = courses.groupby(by='category').size().to_frame(name='count').reset_index().sort_values(by='count', ascending=False)\n",
    "fig = px.bar(df_grouped, x='category', y='count', title='Count of Courses by Category')\n",
    "fig.update_layout(xaxis_title='Category', yaxis_title='Count')\n",
    "fig.update_layout(width=800, height=500)\n",
    "fig.show()"
   ]
  },
  {
   "cell_type": "markdown",
   "metadata": {},
   "source": [
    "Count of enrolments of a category popularized by number of courses in that category:"
   ]
  },
  {
   "cell_type": "code",
   "execution_count": 8,
   "metadata": {},
   "outputs": [
    {
     "data": {
      "application/vnd.plotly.v1+json": {
       "config": {
        "plotlyServerURL": "https://plot.ly"
       },
       "data": [
        {
         "alignmentgroup": "True",
         "hovertemplate": "category=%{x}<br>count=%{y}<extra></extra>",
         "legendgroup": "",
         "marker": {
          "color": "#636efa",
          "pattern": {
           "shape": ""
          }
         },
         "name": "",
         "offsetgroup": "",
         "orientation": "v",
         "showlegend": false,
         "textposition": "auto",
         "type": "bar",
         "x": [
          "Intellectual",
          "Physical",
          "Social",
          "Emotional",
          "Spiritual"
         ],
         "xaxis": "x",
         "y": [
          170.13333333333333,
          134.45454545454547,
          89,
          84,
          73.25
         ],
         "yaxis": "y"
        }
       ],
       "layout": {
        "barmode": "relative",
        "legend": {
         "tracegroupgap": 0
        },
        "template": {
         "data": {
          "bar": [
           {
            "error_x": {
             "color": "#2a3f5f"
            },
            "error_y": {
             "color": "#2a3f5f"
            },
            "marker": {
             "line": {
              "color": "#E5ECF6",
              "width": 0.5
             },
             "pattern": {
              "fillmode": "overlay",
              "size": 10,
              "solidity": 0.2
             }
            },
            "type": "bar"
           }
          ],
          "barpolar": [
           {
            "marker": {
             "line": {
              "color": "#E5ECF6",
              "width": 0.5
             },
             "pattern": {
              "fillmode": "overlay",
              "size": 10,
              "solidity": 0.2
             }
            },
            "type": "barpolar"
           }
          ],
          "carpet": [
           {
            "aaxis": {
             "endlinecolor": "#2a3f5f",
             "gridcolor": "white",
             "linecolor": "white",
             "minorgridcolor": "white",
             "startlinecolor": "#2a3f5f"
            },
            "baxis": {
             "endlinecolor": "#2a3f5f",
             "gridcolor": "white",
             "linecolor": "white",
             "minorgridcolor": "white",
             "startlinecolor": "#2a3f5f"
            },
            "type": "carpet"
           }
          ],
          "choropleth": [
           {
            "colorbar": {
             "outlinewidth": 0,
             "ticks": ""
            },
            "type": "choropleth"
           }
          ],
          "contour": [
           {
            "colorbar": {
             "outlinewidth": 0,
             "ticks": ""
            },
            "colorscale": [
             [
              0,
              "#0d0887"
             ],
             [
              0.1111111111111111,
              "#46039f"
             ],
             [
              0.2222222222222222,
              "#7201a8"
             ],
             [
              0.3333333333333333,
              "#9c179e"
             ],
             [
              0.4444444444444444,
              "#bd3786"
             ],
             [
              0.5555555555555556,
              "#d8576b"
             ],
             [
              0.6666666666666666,
              "#ed7953"
             ],
             [
              0.7777777777777778,
              "#fb9f3a"
             ],
             [
              0.8888888888888888,
              "#fdca26"
             ],
             [
              1,
              "#f0f921"
             ]
            ],
            "type": "contour"
           }
          ],
          "contourcarpet": [
           {
            "colorbar": {
             "outlinewidth": 0,
             "ticks": ""
            },
            "type": "contourcarpet"
           }
          ],
          "heatmap": [
           {
            "colorbar": {
             "outlinewidth": 0,
             "ticks": ""
            },
            "colorscale": [
             [
              0,
              "#0d0887"
             ],
             [
              0.1111111111111111,
              "#46039f"
             ],
             [
              0.2222222222222222,
              "#7201a8"
             ],
             [
              0.3333333333333333,
              "#9c179e"
             ],
             [
              0.4444444444444444,
              "#bd3786"
             ],
             [
              0.5555555555555556,
              "#d8576b"
             ],
             [
              0.6666666666666666,
              "#ed7953"
             ],
             [
              0.7777777777777778,
              "#fb9f3a"
             ],
             [
              0.8888888888888888,
              "#fdca26"
             ],
             [
              1,
              "#f0f921"
             ]
            ],
            "type": "heatmap"
           }
          ],
          "heatmapgl": [
           {
            "colorbar": {
             "outlinewidth": 0,
             "ticks": ""
            },
            "colorscale": [
             [
              0,
              "#0d0887"
             ],
             [
              0.1111111111111111,
              "#46039f"
             ],
             [
              0.2222222222222222,
              "#7201a8"
             ],
             [
              0.3333333333333333,
              "#9c179e"
             ],
             [
              0.4444444444444444,
              "#bd3786"
             ],
             [
              0.5555555555555556,
              "#d8576b"
             ],
             [
              0.6666666666666666,
              "#ed7953"
             ],
             [
              0.7777777777777778,
              "#fb9f3a"
             ],
             [
              0.8888888888888888,
              "#fdca26"
             ],
             [
              1,
              "#f0f921"
             ]
            ],
            "type": "heatmapgl"
           }
          ],
          "histogram": [
           {
            "marker": {
             "pattern": {
              "fillmode": "overlay",
              "size": 10,
              "solidity": 0.2
             }
            },
            "type": "histogram"
           }
          ],
          "histogram2d": [
           {
            "colorbar": {
             "outlinewidth": 0,
             "ticks": ""
            },
            "colorscale": [
             [
              0,
              "#0d0887"
             ],
             [
              0.1111111111111111,
              "#46039f"
             ],
             [
              0.2222222222222222,
              "#7201a8"
             ],
             [
              0.3333333333333333,
              "#9c179e"
             ],
             [
              0.4444444444444444,
              "#bd3786"
             ],
             [
              0.5555555555555556,
              "#d8576b"
             ],
             [
              0.6666666666666666,
              "#ed7953"
             ],
             [
              0.7777777777777778,
              "#fb9f3a"
             ],
             [
              0.8888888888888888,
              "#fdca26"
             ],
             [
              1,
              "#f0f921"
             ]
            ],
            "type": "histogram2d"
           }
          ],
          "histogram2dcontour": [
           {
            "colorbar": {
             "outlinewidth": 0,
             "ticks": ""
            },
            "colorscale": [
             [
              0,
              "#0d0887"
             ],
             [
              0.1111111111111111,
              "#46039f"
             ],
             [
              0.2222222222222222,
              "#7201a8"
             ],
             [
              0.3333333333333333,
              "#9c179e"
             ],
             [
              0.4444444444444444,
              "#bd3786"
             ],
             [
              0.5555555555555556,
              "#d8576b"
             ],
             [
              0.6666666666666666,
              "#ed7953"
             ],
             [
              0.7777777777777778,
              "#fb9f3a"
             ],
             [
              0.8888888888888888,
              "#fdca26"
             ],
             [
              1,
              "#f0f921"
             ]
            ],
            "type": "histogram2dcontour"
           }
          ],
          "mesh3d": [
           {
            "colorbar": {
             "outlinewidth": 0,
             "ticks": ""
            },
            "type": "mesh3d"
           }
          ],
          "parcoords": [
           {
            "line": {
             "colorbar": {
              "outlinewidth": 0,
              "ticks": ""
             }
            },
            "type": "parcoords"
           }
          ],
          "pie": [
           {
            "automargin": true,
            "type": "pie"
           }
          ],
          "scatter": [
           {
            "fillpattern": {
             "fillmode": "overlay",
             "size": 10,
             "solidity": 0.2
            },
            "type": "scatter"
           }
          ],
          "scatter3d": [
           {
            "line": {
             "colorbar": {
              "outlinewidth": 0,
              "ticks": ""
             }
            },
            "marker": {
             "colorbar": {
              "outlinewidth": 0,
              "ticks": ""
             }
            },
            "type": "scatter3d"
           }
          ],
          "scattercarpet": [
           {
            "marker": {
             "colorbar": {
              "outlinewidth": 0,
              "ticks": ""
             }
            },
            "type": "scattercarpet"
           }
          ],
          "scattergeo": [
           {
            "marker": {
             "colorbar": {
              "outlinewidth": 0,
              "ticks": ""
             }
            },
            "type": "scattergeo"
           }
          ],
          "scattergl": [
           {
            "marker": {
             "colorbar": {
              "outlinewidth": 0,
              "ticks": ""
             }
            },
            "type": "scattergl"
           }
          ],
          "scattermapbox": [
           {
            "marker": {
             "colorbar": {
              "outlinewidth": 0,
              "ticks": ""
             }
            },
            "type": "scattermapbox"
           }
          ],
          "scatterpolar": [
           {
            "marker": {
             "colorbar": {
              "outlinewidth": 0,
              "ticks": ""
             }
            },
            "type": "scatterpolar"
           }
          ],
          "scatterpolargl": [
           {
            "marker": {
             "colorbar": {
              "outlinewidth": 0,
              "ticks": ""
             }
            },
            "type": "scatterpolargl"
           }
          ],
          "scatterternary": [
           {
            "marker": {
             "colorbar": {
              "outlinewidth": 0,
              "ticks": ""
             }
            },
            "type": "scatterternary"
           }
          ],
          "surface": [
           {
            "colorbar": {
             "outlinewidth": 0,
             "ticks": ""
            },
            "colorscale": [
             [
              0,
              "#0d0887"
             ],
             [
              0.1111111111111111,
              "#46039f"
             ],
             [
              0.2222222222222222,
              "#7201a8"
             ],
             [
              0.3333333333333333,
              "#9c179e"
             ],
             [
              0.4444444444444444,
              "#bd3786"
             ],
             [
              0.5555555555555556,
              "#d8576b"
             ],
             [
              0.6666666666666666,
              "#ed7953"
             ],
             [
              0.7777777777777778,
              "#fb9f3a"
             ],
             [
              0.8888888888888888,
              "#fdca26"
             ],
             [
              1,
              "#f0f921"
             ]
            ],
            "type": "surface"
           }
          ],
          "table": [
           {
            "cells": {
             "fill": {
              "color": "#EBF0F8"
             },
             "line": {
              "color": "white"
             }
            },
            "header": {
             "fill": {
              "color": "#C8D4E3"
             },
             "line": {
              "color": "white"
             }
            },
            "type": "table"
           }
          ]
         },
         "layout": {
          "annotationdefaults": {
           "arrowcolor": "#2a3f5f",
           "arrowhead": 0,
           "arrowwidth": 1
          },
          "autotypenumbers": "strict",
          "coloraxis": {
           "colorbar": {
            "outlinewidth": 0,
            "ticks": ""
           }
          },
          "colorscale": {
           "diverging": [
            [
             0,
             "#8e0152"
            ],
            [
             0.1,
             "#c51b7d"
            ],
            [
             0.2,
             "#de77ae"
            ],
            [
             0.3,
             "#f1b6da"
            ],
            [
             0.4,
             "#fde0ef"
            ],
            [
             0.5,
             "#f7f7f7"
            ],
            [
             0.6,
             "#e6f5d0"
            ],
            [
             0.7,
             "#b8e186"
            ],
            [
             0.8,
             "#7fbc41"
            ],
            [
             0.9,
             "#4d9221"
            ],
            [
             1,
             "#276419"
            ]
           ],
           "sequential": [
            [
             0,
             "#0d0887"
            ],
            [
             0.1111111111111111,
             "#46039f"
            ],
            [
             0.2222222222222222,
             "#7201a8"
            ],
            [
             0.3333333333333333,
             "#9c179e"
            ],
            [
             0.4444444444444444,
             "#bd3786"
            ],
            [
             0.5555555555555556,
             "#d8576b"
            ],
            [
             0.6666666666666666,
             "#ed7953"
            ],
            [
             0.7777777777777778,
             "#fb9f3a"
            ],
            [
             0.8888888888888888,
             "#fdca26"
            ],
            [
             1,
             "#f0f921"
            ]
           ],
           "sequentialminus": [
            [
             0,
             "#0d0887"
            ],
            [
             0.1111111111111111,
             "#46039f"
            ],
            [
             0.2222222222222222,
             "#7201a8"
            ],
            [
             0.3333333333333333,
             "#9c179e"
            ],
            [
             0.4444444444444444,
             "#bd3786"
            ],
            [
             0.5555555555555556,
             "#d8576b"
            ],
            [
             0.6666666666666666,
             "#ed7953"
            ],
            [
             0.7777777777777778,
             "#fb9f3a"
            ],
            [
             0.8888888888888888,
             "#fdca26"
            ],
            [
             1,
             "#f0f921"
            ]
           ]
          },
          "colorway": [
           "#636efa",
           "#EF553B",
           "#00cc96",
           "#ab63fa",
           "#FFA15A",
           "#19d3f3",
           "#FF6692",
           "#B6E880",
           "#FF97FF",
           "#FECB52"
          ],
          "font": {
           "color": "#2a3f5f"
          },
          "geo": {
           "bgcolor": "white",
           "lakecolor": "white",
           "landcolor": "#E5ECF6",
           "showlakes": true,
           "showland": true,
           "subunitcolor": "white"
          },
          "hoverlabel": {
           "align": "left"
          },
          "hovermode": "closest",
          "mapbox": {
           "style": "light"
          },
          "paper_bgcolor": "white",
          "plot_bgcolor": "#E5ECF6",
          "polar": {
           "angularaxis": {
            "gridcolor": "white",
            "linecolor": "white",
            "ticks": ""
           },
           "bgcolor": "#E5ECF6",
           "radialaxis": {
            "gridcolor": "white",
            "linecolor": "white",
            "ticks": ""
           }
          },
          "scene": {
           "xaxis": {
            "backgroundcolor": "#E5ECF6",
            "gridcolor": "white",
            "gridwidth": 2,
            "linecolor": "white",
            "showbackground": true,
            "ticks": "",
            "zerolinecolor": "white"
           },
           "yaxis": {
            "backgroundcolor": "#E5ECF6",
            "gridcolor": "white",
            "gridwidth": 2,
            "linecolor": "white",
            "showbackground": true,
            "ticks": "",
            "zerolinecolor": "white"
           },
           "zaxis": {
            "backgroundcolor": "#E5ECF6",
            "gridcolor": "white",
            "gridwidth": 2,
            "linecolor": "white",
            "showbackground": true,
            "ticks": "",
            "zerolinecolor": "white"
           }
          },
          "shapedefaults": {
           "line": {
            "color": "#2a3f5f"
           }
          },
          "ternary": {
           "aaxis": {
            "gridcolor": "white",
            "linecolor": "white",
            "ticks": ""
           },
           "baxis": {
            "gridcolor": "white",
            "linecolor": "white",
            "ticks": ""
           },
           "bgcolor": "#E5ECF6",
           "caxis": {
            "gridcolor": "white",
            "linecolor": "white",
            "ticks": ""
           }
          },
          "title": {
           "x": 0.05
          },
          "xaxis": {
           "automargin": true,
           "gridcolor": "white",
           "linecolor": "white",
           "ticks": "",
           "title": {
            "standoff": 15
           },
           "zerolinecolor": "white",
           "zerolinewidth": 2
          },
          "yaxis": {
           "automargin": true,
           "gridcolor": "white",
           "linecolor": "white",
           "ticks": "",
           "title": {
            "standoff": 15
           },
           "zerolinecolor": "white",
           "zerolinewidth": 2
          }
         }
        },
        "title": {
         "text": "Count of enrolments normalized by number of courses"
        },
        "xaxis": {
         "anchor": "y",
         "domain": [
          0,
          1
         ],
         "title": {
          "text": "category"
         }
        },
        "yaxis": {
         "anchor": "x",
         "domain": [
          0,
          1
         ],
         "title": {
          "text": "count"
         }
        }
       }
      }
     },
     "metadata": {},
     "output_type": "display_data"
    }
   ],
   "source": [
    "px.bar((enrolments.groupby(by='category').size() / courses.groupby(by='category').size()).to_frame(name='count').reset_index().sort_values(by='count', ascending=False), x='category', y='count', title='Count of enrolments normalized by number of courses')"
   ]
  },
  {
   "cell_type": "code",
   "execution_count": 9,
   "metadata": {},
   "outputs": [
    {
     "data": {
      "application/vnd.plotly.v1+json": {
       "config": {
        "plotlyServerURL": "https://plot.ly"
       },
       "data": [
        {
         "alignmentgroup": "True",
         "hovertemplate": "category=Social<br>Count of students=%{x}<br>Course=%{y}<extra></extra>",
         "legendgroup": "Social",
         "marker": {
          "color": "#636efa",
          "pattern": {
           "shape": ""
          }
         },
         "name": "Social",
         "offsetgroup": "Social",
         "orientation": "h",
         "showlegend": true,
         "textposition": "auto",
         "type": "bar",
         "x": [
          6,
          12,
          27,
          62,
          74,
          119,
          126,
          150,
          225
         ],
         "xaxis": "x",
         "y": [
          "Volunteering at Dr. Amte's Anandvan",
          "Principle Centered Leadership",
          "Terrace Gardening",
          "Teaching Assistantship",
          "Mentorship to Juniors",
          "Working with NGO",
          "NSS",
          "Wall Painting",
          "Mentoring School Children (Abhyudaya)"
         ],
         "yaxis": "y"
        },
        {
         "alignmentgroup": "True",
         "hovertemplate": "category=Physical<br>Count of students=%{x}<br>Course=%{y}<extra></extra>",
         "legendgroup": "Physical",
         "marker": {
          "color": "#EF553B",
          "pattern": {
           "shape": ""
          }
         },
         "name": "Physical",
         "offsetgroup": "Physical",
         "orientation": "h",
         "showlegend": true,
         "textposition": "auto",
         "type": "bar",
         "x": [
          14,
          17,
          37,
          40,
          45,
          63,
          144,
          221,
          228,
          285,
          385
         ],
         "xaxis": "x",
         "y": [
          "Kathak",
          "Swimming",
          "Physical Fitness",
          "Astitva",
          "Taekwondo",
          "Self Defense for Women",
          "Running",
          "Trekking",
          "Skipping",
          "Sports",
          "Staircase Climbing"
         ],
         "yaxis": "y"
        },
        {
         "alignmentgroup": "True",
         "hovertemplate": "category=Emotional<br>Count of students=%{x}<br>Course=%{y}<extra></extra>",
         "legendgroup": "Emotional",
         "marker": {
          "color": "#00cc96",
          "pattern": {
           "shape": ""
          }
         },
         "name": "Emotional",
         "offsetgroup": "Emotional",
         "orientation": "h",
         "showlegend": true,
         "textposition": "auto",
         "type": "bar",
         "x": [
          16,
          38,
          198
         ],
         "xaxis": "x",
         "y": [
          "Universal Human Value",
          "Jeevan Vidya (Work Life Balance)",
          "Integrated Personality Development"
         ],
         "yaxis": "y"
        },
        {
         "alignmentgroup": "True",
         "hovertemplate": "category=Intellectual<br>Count of students=%{x}<br>Course=%{y}<extra></extra>",
         "legendgroup": "Intellectual",
         "marker": {
          "color": "#ab63fa",
          "pattern": {
           "shape": ""
          }
         },
         "name": "Intellectual",
         "offsetgroup": "Intellectual",
         "orientation": "h",
         "showlegend": true,
         "textposition": "auto",
         "type": "bar",
         "x": [
          16,
          17,
          35,
          40,
          43,
          49,
          104,
          116,
          129,
          286,
          291,
          294,
          337,
          374,
          421
         ],
         "xaxis": "x",
         "y": [
          "Social Psychology",
          "Technology Entrepreneurship",
          "Basics of Music Composition",
          "Cinematography",
          "Idea Lab",
          "Indian Knowledge System",
          "Study of Life",
          "Basic Cooking",
          "Basics of Keyboard playing",
          "Basics of Fire Safety",
          "Fundamentals of Photography",
          "Innovation and Creativity",
          "Film Appreciation",
          "Design Thinking",
          "Read a book"
         ],
         "yaxis": "y"
        },
        {
         "alignmentgroup": "True",
         "hovertemplate": "category=Spiritual<br>Count of students=%{x}<br>Course=%{y}<extra></extra>",
         "legendgroup": "Spiritual",
         "marker": {
          "color": "#FFA15A",
          "pattern": {
           "shape": ""
          }
         },
         "name": "Spiritual",
         "offsetgroup": "Spiritual",
         "orientation": "h",
         "showlegend": true,
         "textposition": "auto",
         "type": "bar",
         "x": [
          27,
          56,
          87,
          123
         ],
         "xaxis": "x",
         "y": [
          "Art of living",
          "Yog Vidya",
          "Pranvidya",
          "Introduction to Bhagvadgita"
         ],
         "yaxis": "y"
        }
       ],
       "layout": {
        "barmode": "relative",
        "height": 800,
        "legend": {
         "title": {
          "text": "category"
         },
         "tracegroupgap": 0
        },
        "margin": {
         "t": 60
        },
        "template": {
         "data": {
          "bar": [
           {
            "error_x": {
             "color": "#2a3f5f"
            },
            "error_y": {
             "color": "#2a3f5f"
            },
            "marker": {
             "line": {
              "color": "#E5ECF6",
              "width": 0.5
             },
             "pattern": {
              "fillmode": "overlay",
              "size": 10,
              "solidity": 0.2
             }
            },
            "type": "bar"
           }
          ],
          "barpolar": [
           {
            "marker": {
             "line": {
              "color": "#E5ECF6",
              "width": 0.5
             },
             "pattern": {
              "fillmode": "overlay",
              "size": 10,
              "solidity": 0.2
             }
            },
            "type": "barpolar"
           }
          ],
          "carpet": [
           {
            "aaxis": {
             "endlinecolor": "#2a3f5f",
             "gridcolor": "white",
             "linecolor": "white",
             "minorgridcolor": "white",
             "startlinecolor": "#2a3f5f"
            },
            "baxis": {
             "endlinecolor": "#2a3f5f",
             "gridcolor": "white",
             "linecolor": "white",
             "minorgridcolor": "white",
             "startlinecolor": "#2a3f5f"
            },
            "type": "carpet"
           }
          ],
          "choropleth": [
           {
            "colorbar": {
             "outlinewidth": 0,
             "ticks": ""
            },
            "type": "choropleth"
           }
          ],
          "contour": [
           {
            "colorbar": {
             "outlinewidth": 0,
             "ticks": ""
            },
            "colorscale": [
             [
              0,
              "#0d0887"
             ],
             [
              0.1111111111111111,
              "#46039f"
             ],
             [
              0.2222222222222222,
              "#7201a8"
             ],
             [
              0.3333333333333333,
              "#9c179e"
             ],
             [
              0.4444444444444444,
              "#bd3786"
             ],
             [
              0.5555555555555556,
              "#d8576b"
             ],
             [
              0.6666666666666666,
              "#ed7953"
             ],
             [
              0.7777777777777778,
              "#fb9f3a"
             ],
             [
              0.8888888888888888,
              "#fdca26"
             ],
             [
              1,
              "#f0f921"
             ]
            ],
            "type": "contour"
           }
          ],
          "contourcarpet": [
           {
            "colorbar": {
             "outlinewidth": 0,
             "ticks": ""
            },
            "type": "contourcarpet"
           }
          ],
          "heatmap": [
           {
            "colorbar": {
             "outlinewidth": 0,
             "ticks": ""
            },
            "colorscale": [
             [
              0,
              "#0d0887"
             ],
             [
              0.1111111111111111,
              "#46039f"
             ],
             [
              0.2222222222222222,
              "#7201a8"
             ],
             [
              0.3333333333333333,
              "#9c179e"
             ],
             [
              0.4444444444444444,
              "#bd3786"
             ],
             [
              0.5555555555555556,
              "#d8576b"
             ],
             [
              0.6666666666666666,
              "#ed7953"
             ],
             [
              0.7777777777777778,
              "#fb9f3a"
             ],
             [
              0.8888888888888888,
              "#fdca26"
             ],
             [
              1,
              "#f0f921"
             ]
            ],
            "type": "heatmap"
           }
          ],
          "heatmapgl": [
           {
            "colorbar": {
             "outlinewidth": 0,
             "ticks": ""
            },
            "colorscale": [
             [
              0,
              "#0d0887"
             ],
             [
              0.1111111111111111,
              "#46039f"
             ],
             [
              0.2222222222222222,
              "#7201a8"
             ],
             [
              0.3333333333333333,
              "#9c179e"
             ],
             [
              0.4444444444444444,
              "#bd3786"
             ],
             [
              0.5555555555555556,
              "#d8576b"
             ],
             [
              0.6666666666666666,
              "#ed7953"
             ],
             [
              0.7777777777777778,
              "#fb9f3a"
             ],
             [
              0.8888888888888888,
              "#fdca26"
             ],
             [
              1,
              "#f0f921"
             ]
            ],
            "type": "heatmapgl"
           }
          ],
          "histogram": [
           {
            "marker": {
             "pattern": {
              "fillmode": "overlay",
              "size": 10,
              "solidity": 0.2
             }
            },
            "type": "histogram"
           }
          ],
          "histogram2d": [
           {
            "colorbar": {
             "outlinewidth": 0,
             "ticks": ""
            },
            "colorscale": [
             [
              0,
              "#0d0887"
             ],
             [
              0.1111111111111111,
              "#46039f"
             ],
             [
              0.2222222222222222,
              "#7201a8"
             ],
             [
              0.3333333333333333,
              "#9c179e"
             ],
             [
              0.4444444444444444,
              "#bd3786"
             ],
             [
              0.5555555555555556,
              "#d8576b"
             ],
             [
              0.6666666666666666,
              "#ed7953"
             ],
             [
              0.7777777777777778,
              "#fb9f3a"
             ],
             [
              0.8888888888888888,
              "#fdca26"
             ],
             [
              1,
              "#f0f921"
             ]
            ],
            "type": "histogram2d"
           }
          ],
          "histogram2dcontour": [
           {
            "colorbar": {
             "outlinewidth": 0,
             "ticks": ""
            },
            "colorscale": [
             [
              0,
              "#0d0887"
             ],
             [
              0.1111111111111111,
              "#46039f"
             ],
             [
              0.2222222222222222,
              "#7201a8"
             ],
             [
              0.3333333333333333,
              "#9c179e"
             ],
             [
              0.4444444444444444,
              "#bd3786"
             ],
             [
              0.5555555555555556,
              "#d8576b"
             ],
             [
              0.6666666666666666,
              "#ed7953"
             ],
             [
              0.7777777777777778,
              "#fb9f3a"
             ],
             [
              0.8888888888888888,
              "#fdca26"
             ],
             [
              1,
              "#f0f921"
             ]
            ],
            "type": "histogram2dcontour"
           }
          ],
          "mesh3d": [
           {
            "colorbar": {
             "outlinewidth": 0,
             "ticks": ""
            },
            "type": "mesh3d"
           }
          ],
          "parcoords": [
           {
            "line": {
             "colorbar": {
              "outlinewidth": 0,
              "ticks": ""
             }
            },
            "type": "parcoords"
           }
          ],
          "pie": [
           {
            "automargin": true,
            "type": "pie"
           }
          ],
          "scatter": [
           {
            "fillpattern": {
             "fillmode": "overlay",
             "size": 10,
             "solidity": 0.2
            },
            "type": "scatter"
           }
          ],
          "scatter3d": [
           {
            "line": {
             "colorbar": {
              "outlinewidth": 0,
              "ticks": ""
             }
            },
            "marker": {
             "colorbar": {
              "outlinewidth": 0,
              "ticks": ""
             }
            },
            "type": "scatter3d"
           }
          ],
          "scattercarpet": [
           {
            "marker": {
             "colorbar": {
              "outlinewidth": 0,
              "ticks": ""
             }
            },
            "type": "scattercarpet"
           }
          ],
          "scattergeo": [
           {
            "marker": {
             "colorbar": {
              "outlinewidth": 0,
              "ticks": ""
             }
            },
            "type": "scattergeo"
           }
          ],
          "scattergl": [
           {
            "marker": {
             "colorbar": {
              "outlinewidth": 0,
              "ticks": ""
             }
            },
            "type": "scattergl"
           }
          ],
          "scattermapbox": [
           {
            "marker": {
             "colorbar": {
              "outlinewidth": 0,
              "ticks": ""
             }
            },
            "type": "scattermapbox"
           }
          ],
          "scatterpolar": [
           {
            "marker": {
             "colorbar": {
              "outlinewidth": 0,
              "ticks": ""
             }
            },
            "type": "scatterpolar"
           }
          ],
          "scatterpolargl": [
           {
            "marker": {
             "colorbar": {
              "outlinewidth": 0,
              "ticks": ""
             }
            },
            "type": "scatterpolargl"
           }
          ],
          "scatterternary": [
           {
            "marker": {
             "colorbar": {
              "outlinewidth": 0,
              "ticks": ""
             }
            },
            "type": "scatterternary"
           }
          ],
          "surface": [
           {
            "colorbar": {
             "outlinewidth": 0,
             "ticks": ""
            },
            "colorscale": [
             [
              0,
              "#0d0887"
             ],
             [
              0.1111111111111111,
              "#46039f"
             ],
             [
              0.2222222222222222,
              "#7201a8"
             ],
             [
              0.3333333333333333,
              "#9c179e"
             ],
             [
              0.4444444444444444,
              "#bd3786"
             ],
             [
              0.5555555555555556,
              "#d8576b"
             ],
             [
              0.6666666666666666,
              "#ed7953"
             ],
             [
              0.7777777777777778,
              "#fb9f3a"
             ],
             [
              0.8888888888888888,
              "#fdca26"
             ],
             [
              1,
              "#f0f921"
             ]
            ],
            "type": "surface"
           }
          ],
          "table": [
           {
            "cells": {
             "fill": {
              "color": "#EBF0F8"
             },
             "line": {
              "color": "white"
             }
            },
            "header": {
             "fill": {
              "color": "#C8D4E3"
             },
             "line": {
              "color": "white"
             }
            },
            "type": "table"
           }
          ]
         },
         "layout": {
          "annotationdefaults": {
           "arrowcolor": "#2a3f5f",
           "arrowhead": 0,
           "arrowwidth": 1
          },
          "autotypenumbers": "strict",
          "coloraxis": {
           "colorbar": {
            "outlinewidth": 0,
            "ticks": ""
           }
          },
          "colorscale": {
           "diverging": [
            [
             0,
             "#8e0152"
            ],
            [
             0.1,
             "#c51b7d"
            ],
            [
             0.2,
             "#de77ae"
            ],
            [
             0.3,
             "#f1b6da"
            ],
            [
             0.4,
             "#fde0ef"
            ],
            [
             0.5,
             "#f7f7f7"
            ],
            [
             0.6,
             "#e6f5d0"
            ],
            [
             0.7,
             "#b8e186"
            ],
            [
             0.8,
             "#7fbc41"
            ],
            [
             0.9,
             "#4d9221"
            ],
            [
             1,
             "#276419"
            ]
           ],
           "sequential": [
            [
             0,
             "#0d0887"
            ],
            [
             0.1111111111111111,
             "#46039f"
            ],
            [
             0.2222222222222222,
             "#7201a8"
            ],
            [
             0.3333333333333333,
             "#9c179e"
            ],
            [
             0.4444444444444444,
             "#bd3786"
            ],
            [
             0.5555555555555556,
             "#d8576b"
            ],
            [
             0.6666666666666666,
             "#ed7953"
            ],
            [
             0.7777777777777778,
             "#fb9f3a"
            ],
            [
             0.8888888888888888,
             "#fdca26"
            ],
            [
             1,
             "#f0f921"
            ]
           ],
           "sequentialminus": [
            [
             0,
             "#0d0887"
            ],
            [
             0.1111111111111111,
             "#46039f"
            ],
            [
             0.2222222222222222,
             "#7201a8"
            ],
            [
             0.3333333333333333,
             "#9c179e"
            ],
            [
             0.4444444444444444,
             "#bd3786"
            ],
            [
             0.5555555555555556,
             "#d8576b"
            ],
            [
             0.6666666666666666,
             "#ed7953"
            ],
            [
             0.7777777777777778,
             "#fb9f3a"
            ],
            [
             0.8888888888888888,
             "#fdca26"
            ],
            [
             1,
             "#f0f921"
            ]
           ]
          },
          "colorway": [
           "#636efa",
           "#EF553B",
           "#00cc96",
           "#ab63fa",
           "#FFA15A",
           "#19d3f3",
           "#FF6692",
           "#B6E880",
           "#FF97FF",
           "#FECB52"
          ],
          "font": {
           "color": "#2a3f5f"
          },
          "geo": {
           "bgcolor": "white",
           "lakecolor": "white",
           "landcolor": "#E5ECF6",
           "showlakes": true,
           "showland": true,
           "subunitcolor": "white"
          },
          "hoverlabel": {
           "align": "left"
          },
          "hovermode": "closest",
          "mapbox": {
           "style": "light"
          },
          "paper_bgcolor": "white",
          "plot_bgcolor": "#E5ECF6",
          "polar": {
           "angularaxis": {
            "gridcolor": "white",
            "linecolor": "white",
            "ticks": ""
           },
           "bgcolor": "#E5ECF6",
           "radialaxis": {
            "gridcolor": "white",
            "linecolor": "white",
            "ticks": ""
           }
          },
          "scene": {
           "xaxis": {
            "backgroundcolor": "#E5ECF6",
            "gridcolor": "white",
            "gridwidth": 2,
            "linecolor": "white",
            "showbackground": true,
            "ticks": "",
            "zerolinecolor": "white"
           },
           "yaxis": {
            "backgroundcolor": "#E5ECF6",
            "gridcolor": "white",
            "gridwidth": 2,
            "linecolor": "white",
            "showbackground": true,
            "ticks": "",
            "zerolinecolor": "white"
           },
           "zaxis": {
            "backgroundcolor": "#E5ECF6",
            "gridcolor": "white",
            "gridwidth": 2,
            "linecolor": "white",
            "showbackground": true,
            "ticks": "",
            "zerolinecolor": "white"
           }
          },
          "shapedefaults": {
           "line": {
            "color": "#2a3f5f"
           }
          },
          "ternary": {
           "aaxis": {
            "gridcolor": "white",
            "linecolor": "white",
            "ticks": ""
           },
           "baxis": {
            "gridcolor": "white",
            "linecolor": "white",
            "ticks": ""
           },
           "bgcolor": "#E5ECF6",
           "caxis": {
            "gridcolor": "white",
            "linecolor": "white",
            "ticks": ""
           }
          },
          "title": {
           "x": 0.05
          },
          "xaxis": {
           "automargin": true,
           "gridcolor": "white",
           "linecolor": "white",
           "ticks": "",
           "title": {
            "standoff": 15
           },
           "zerolinecolor": "white",
           "zerolinewidth": 2
          },
          "yaxis": {
           "automargin": true,
           "gridcolor": "white",
           "linecolor": "white",
           "ticks": "",
           "title": {
            "standoff": 15
           },
           "zerolinecolor": "white",
           "zerolinewidth": 2
          }
         }
        },
        "width": 1100,
        "xaxis": {
         "anchor": "y",
         "domain": [
          0,
          1
         ],
         "title": {
          "text": "Count of students"
         }
        },
        "yaxis": {
         "anchor": "x",
         "domain": [
          0,
          1
         ],
         "title": {
          "text": "Course"
         }
        }
       }
      }
     },
     "metadata": {},
     "output_type": "display_data"
    }
   ],
   "source": [
    "x = enrolments.groupby(by=\"course\").size().sort_values(ascending=True)\n",
    "x.name = \"Count of students\"\n",
    "x = pd.merge(\n",
    "    x, courses, left_index=True, right_on=\"course_name\"\n",
    ").dropna().sort_values(by=\"Count of students\", ascending=True)\n",
    "x = x[x['Count of students'] > 0]\n",
    "x.rename(columns={'course_name': 'Course'}, inplace=True)\n",
    "fig = px.bar(x, x='Count of students', y='Course', orientation='h', color='category')\n",
    "fig.update_layout(width=1100, height=800)"
   ]
  },
  {
   "cell_type": "code",
   "execution_count": 10,
   "metadata": {},
   "outputs": [
    {
     "data": {
      "application/vnd.plotly.v1+json": {
       "config": {
        "plotlyServerURL": "https://plot.ly"
       },
       "data": [
        {
         "alignmentgroup": "True",
         "hovertemplate": "Count of students=%{x}<br>Course=%{y}<extra></extra>",
         "legendgroup": "",
         "marker": {
          "color": "#636efa",
          "pattern": {
           "shape": ""
          }
         },
         "name": "",
         "offsetgroup": "",
         "orientation": "h",
         "showlegend": false,
         "textposition": "auto",
         "type": "bar",
         "x": [
          6,
          12,
          14,
          16,
          16,
          17,
          17,
          27,
          27,
          35,
          37,
          38,
          40,
          40,
          43,
          45,
          49,
          56,
          62,
          63,
          74,
          87,
          104,
          116,
          119,
          123,
          126,
          129,
          144,
          150,
          198,
          221,
          225,
          228,
          285,
          286,
          291,
          294,
          337,
          374,
          385,
          421
         ],
         "xaxis": "x",
         "y": [
          "Volunteering at Dr. Amte's Anandvan",
          "Principle Centered Leadership",
          "Kathak",
          "Universal Human Value",
          "Social Psychology",
          "Technology Entrepreneurship",
          "Swimming",
          "Art of living",
          "Terrace Gardening",
          "Basics of Music Composition",
          "Physical Fitness",
          "Jeevan Vidya (Work Life Balance)",
          "Astitva",
          "Cinematography",
          "Idea Lab",
          "Taekwondo",
          "Indian Knowledge System",
          "Yog Vidya",
          "Teaching Assistantship",
          "Self Defense for Women",
          "Mentorship to Juniors",
          "Pranvidya",
          "Study of Life",
          "Basic Cooking",
          "Working with NGO",
          "Introduction to Bhagvadgita",
          "NSS",
          "Basics of Keyboard playing",
          "Running",
          "Wall Painting",
          "Integrated Personality Development",
          "Trekking",
          "Mentoring School Children (Abhyudaya)",
          "Skipping",
          "Sports",
          "Basics of Fire Safety",
          "Fundamentals of Photography",
          "Innovation and Creativity",
          "Film Appreciation",
          "Design Thinking",
          "Staircase Climbing",
          "Read a book"
         ],
         "yaxis": "y"
        }
       ],
       "layout": {
        "barmode": "relative",
        "height": 800,
        "legend": {
         "tracegroupgap": 0
        },
        "margin": {
         "t": 60
        },
        "template": {
         "data": {
          "bar": [
           {
            "error_x": {
             "color": "#2a3f5f"
            },
            "error_y": {
             "color": "#2a3f5f"
            },
            "marker": {
             "line": {
              "color": "#E5ECF6",
              "width": 0.5
             },
             "pattern": {
              "fillmode": "overlay",
              "size": 10,
              "solidity": 0.2
             }
            },
            "type": "bar"
           }
          ],
          "barpolar": [
           {
            "marker": {
             "line": {
              "color": "#E5ECF6",
              "width": 0.5
             },
             "pattern": {
              "fillmode": "overlay",
              "size": 10,
              "solidity": 0.2
             }
            },
            "type": "barpolar"
           }
          ],
          "carpet": [
           {
            "aaxis": {
             "endlinecolor": "#2a3f5f",
             "gridcolor": "white",
             "linecolor": "white",
             "minorgridcolor": "white",
             "startlinecolor": "#2a3f5f"
            },
            "baxis": {
             "endlinecolor": "#2a3f5f",
             "gridcolor": "white",
             "linecolor": "white",
             "minorgridcolor": "white",
             "startlinecolor": "#2a3f5f"
            },
            "type": "carpet"
           }
          ],
          "choropleth": [
           {
            "colorbar": {
             "outlinewidth": 0,
             "ticks": ""
            },
            "type": "choropleth"
           }
          ],
          "contour": [
           {
            "colorbar": {
             "outlinewidth": 0,
             "ticks": ""
            },
            "colorscale": [
             [
              0,
              "#0d0887"
             ],
             [
              0.1111111111111111,
              "#46039f"
             ],
             [
              0.2222222222222222,
              "#7201a8"
             ],
             [
              0.3333333333333333,
              "#9c179e"
             ],
             [
              0.4444444444444444,
              "#bd3786"
             ],
             [
              0.5555555555555556,
              "#d8576b"
             ],
             [
              0.6666666666666666,
              "#ed7953"
             ],
             [
              0.7777777777777778,
              "#fb9f3a"
             ],
             [
              0.8888888888888888,
              "#fdca26"
             ],
             [
              1,
              "#f0f921"
             ]
            ],
            "type": "contour"
           }
          ],
          "contourcarpet": [
           {
            "colorbar": {
             "outlinewidth": 0,
             "ticks": ""
            },
            "type": "contourcarpet"
           }
          ],
          "heatmap": [
           {
            "colorbar": {
             "outlinewidth": 0,
             "ticks": ""
            },
            "colorscale": [
             [
              0,
              "#0d0887"
             ],
             [
              0.1111111111111111,
              "#46039f"
             ],
             [
              0.2222222222222222,
              "#7201a8"
             ],
             [
              0.3333333333333333,
              "#9c179e"
             ],
             [
              0.4444444444444444,
              "#bd3786"
             ],
             [
              0.5555555555555556,
              "#d8576b"
             ],
             [
              0.6666666666666666,
              "#ed7953"
             ],
             [
              0.7777777777777778,
              "#fb9f3a"
             ],
             [
              0.8888888888888888,
              "#fdca26"
             ],
             [
              1,
              "#f0f921"
             ]
            ],
            "type": "heatmap"
           }
          ],
          "heatmapgl": [
           {
            "colorbar": {
             "outlinewidth": 0,
             "ticks": ""
            },
            "colorscale": [
             [
              0,
              "#0d0887"
             ],
             [
              0.1111111111111111,
              "#46039f"
             ],
             [
              0.2222222222222222,
              "#7201a8"
             ],
             [
              0.3333333333333333,
              "#9c179e"
             ],
             [
              0.4444444444444444,
              "#bd3786"
             ],
             [
              0.5555555555555556,
              "#d8576b"
             ],
             [
              0.6666666666666666,
              "#ed7953"
             ],
             [
              0.7777777777777778,
              "#fb9f3a"
             ],
             [
              0.8888888888888888,
              "#fdca26"
             ],
             [
              1,
              "#f0f921"
             ]
            ],
            "type": "heatmapgl"
           }
          ],
          "histogram": [
           {
            "marker": {
             "pattern": {
              "fillmode": "overlay",
              "size": 10,
              "solidity": 0.2
             }
            },
            "type": "histogram"
           }
          ],
          "histogram2d": [
           {
            "colorbar": {
             "outlinewidth": 0,
             "ticks": ""
            },
            "colorscale": [
             [
              0,
              "#0d0887"
             ],
             [
              0.1111111111111111,
              "#46039f"
             ],
             [
              0.2222222222222222,
              "#7201a8"
             ],
             [
              0.3333333333333333,
              "#9c179e"
             ],
             [
              0.4444444444444444,
              "#bd3786"
             ],
             [
              0.5555555555555556,
              "#d8576b"
             ],
             [
              0.6666666666666666,
              "#ed7953"
             ],
             [
              0.7777777777777778,
              "#fb9f3a"
             ],
             [
              0.8888888888888888,
              "#fdca26"
             ],
             [
              1,
              "#f0f921"
             ]
            ],
            "type": "histogram2d"
           }
          ],
          "histogram2dcontour": [
           {
            "colorbar": {
             "outlinewidth": 0,
             "ticks": ""
            },
            "colorscale": [
             [
              0,
              "#0d0887"
             ],
             [
              0.1111111111111111,
              "#46039f"
             ],
             [
              0.2222222222222222,
              "#7201a8"
             ],
             [
              0.3333333333333333,
              "#9c179e"
             ],
             [
              0.4444444444444444,
              "#bd3786"
             ],
             [
              0.5555555555555556,
              "#d8576b"
             ],
             [
              0.6666666666666666,
              "#ed7953"
             ],
             [
              0.7777777777777778,
              "#fb9f3a"
             ],
             [
              0.8888888888888888,
              "#fdca26"
             ],
             [
              1,
              "#f0f921"
             ]
            ],
            "type": "histogram2dcontour"
           }
          ],
          "mesh3d": [
           {
            "colorbar": {
             "outlinewidth": 0,
             "ticks": ""
            },
            "type": "mesh3d"
           }
          ],
          "parcoords": [
           {
            "line": {
             "colorbar": {
              "outlinewidth": 0,
              "ticks": ""
             }
            },
            "type": "parcoords"
           }
          ],
          "pie": [
           {
            "automargin": true,
            "type": "pie"
           }
          ],
          "scatter": [
           {
            "fillpattern": {
             "fillmode": "overlay",
             "size": 10,
             "solidity": 0.2
            },
            "type": "scatter"
           }
          ],
          "scatter3d": [
           {
            "line": {
             "colorbar": {
              "outlinewidth": 0,
              "ticks": ""
             }
            },
            "marker": {
             "colorbar": {
              "outlinewidth": 0,
              "ticks": ""
             }
            },
            "type": "scatter3d"
           }
          ],
          "scattercarpet": [
           {
            "marker": {
             "colorbar": {
              "outlinewidth": 0,
              "ticks": ""
             }
            },
            "type": "scattercarpet"
           }
          ],
          "scattergeo": [
           {
            "marker": {
             "colorbar": {
              "outlinewidth": 0,
              "ticks": ""
             }
            },
            "type": "scattergeo"
           }
          ],
          "scattergl": [
           {
            "marker": {
             "colorbar": {
              "outlinewidth": 0,
              "ticks": ""
             }
            },
            "type": "scattergl"
           }
          ],
          "scattermapbox": [
           {
            "marker": {
             "colorbar": {
              "outlinewidth": 0,
              "ticks": ""
             }
            },
            "type": "scattermapbox"
           }
          ],
          "scatterpolar": [
           {
            "marker": {
             "colorbar": {
              "outlinewidth": 0,
              "ticks": ""
             }
            },
            "type": "scatterpolar"
           }
          ],
          "scatterpolargl": [
           {
            "marker": {
             "colorbar": {
              "outlinewidth": 0,
              "ticks": ""
             }
            },
            "type": "scatterpolargl"
           }
          ],
          "scatterternary": [
           {
            "marker": {
             "colorbar": {
              "outlinewidth": 0,
              "ticks": ""
             }
            },
            "type": "scatterternary"
           }
          ],
          "surface": [
           {
            "colorbar": {
             "outlinewidth": 0,
             "ticks": ""
            },
            "colorscale": [
             [
              0,
              "#0d0887"
             ],
             [
              0.1111111111111111,
              "#46039f"
             ],
             [
              0.2222222222222222,
              "#7201a8"
             ],
             [
              0.3333333333333333,
              "#9c179e"
             ],
             [
              0.4444444444444444,
              "#bd3786"
             ],
             [
              0.5555555555555556,
              "#d8576b"
             ],
             [
              0.6666666666666666,
              "#ed7953"
             ],
             [
              0.7777777777777778,
              "#fb9f3a"
             ],
             [
              0.8888888888888888,
              "#fdca26"
             ],
             [
              1,
              "#f0f921"
             ]
            ],
            "type": "surface"
           }
          ],
          "table": [
           {
            "cells": {
             "fill": {
              "color": "#EBF0F8"
             },
             "line": {
              "color": "white"
             }
            },
            "header": {
             "fill": {
              "color": "#C8D4E3"
             },
             "line": {
              "color": "white"
             }
            },
            "type": "table"
           }
          ]
         },
         "layout": {
          "annotationdefaults": {
           "arrowcolor": "#2a3f5f",
           "arrowhead": 0,
           "arrowwidth": 1
          },
          "autotypenumbers": "strict",
          "coloraxis": {
           "colorbar": {
            "outlinewidth": 0,
            "ticks": ""
           }
          },
          "colorscale": {
           "diverging": [
            [
             0,
             "#8e0152"
            ],
            [
             0.1,
             "#c51b7d"
            ],
            [
             0.2,
             "#de77ae"
            ],
            [
             0.3,
             "#f1b6da"
            ],
            [
             0.4,
             "#fde0ef"
            ],
            [
             0.5,
             "#f7f7f7"
            ],
            [
             0.6,
             "#e6f5d0"
            ],
            [
             0.7,
             "#b8e186"
            ],
            [
             0.8,
             "#7fbc41"
            ],
            [
             0.9,
             "#4d9221"
            ],
            [
             1,
             "#276419"
            ]
           ],
           "sequential": [
            [
             0,
             "#0d0887"
            ],
            [
             0.1111111111111111,
             "#46039f"
            ],
            [
             0.2222222222222222,
             "#7201a8"
            ],
            [
             0.3333333333333333,
             "#9c179e"
            ],
            [
             0.4444444444444444,
             "#bd3786"
            ],
            [
             0.5555555555555556,
             "#d8576b"
            ],
            [
             0.6666666666666666,
             "#ed7953"
            ],
            [
             0.7777777777777778,
             "#fb9f3a"
            ],
            [
             0.8888888888888888,
             "#fdca26"
            ],
            [
             1,
             "#f0f921"
            ]
           ],
           "sequentialminus": [
            [
             0,
             "#0d0887"
            ],
            [
             0.1111111111111111,
             "#46039f"
            ],
            [
             0.2222222222222222,
             "#7201a8"
            ],
            [
             0.3333333333333333,
             "#9c179e"
            ],
            [
             0.4444444444444444,
             "#bd3786"
            ],
            [
             0.5555555555555556,
             "#d8576b"
            ],
            [
             0.6666666666666666,
             "#ed7953"
            ],
            [
             0.7777777777777778,
             "#fb9f3a"
            ],
            [
             0.8888888888888888,
             "#fdca26"
            ],
            [
             1,
             "#f0f921"
            ]
           ]
          },
          "colorway": [
           "#636efa",
           "#EF553B",
           "#00cc96",
           "#ab63fa",
           "#FFA15A",
           "#19d3f3",
           "#FF6692",
           "#B6E880",
           "#FF97FF",
           "#FECB52"
          ],
          "font": {
           "color": "#2a3f5f"
          },
          "geo": {
           "bgcolor": "white",
           "lakecolor": "white",
           "landcolor": "#E5ECF6",
           "showlakes": true,
           "showland": true,
           "subunitcolor": "white"
          },
          "hoverlabel": {
           "align": "left"
          },
          "hovermode": "closest",
          "mapbox": {
           "style": "light"
          },
          "paper_bgcolor": "white",
          "plot_bgcolor": "#E5ECF6",
          "polar": {
           "angularaxis": {
            "gridcolor": "white",
            "linecolor": "white",
            "ticks": ""
           },
           "bgcolor": "#E5ECF6",
           "radialaxis": {
            "gridcolor": "white",
            "linecolor": "white",
            "ticks": ""
           }
          },
          "scene": {
           "xaxis": {
            "backgroundcolor": "#E5ECF6",
            "gridcolor": "white",
            "gridwidth": 2,
            "linecolor": "white",
            "showbackground": true,
            "ticks": "",
            "zerolinecolor": "white"
           },
           "yaxis": {
            "backgroundcolor": "#E5ECF6",
            "gridcolor": "white",
            "gridwidth": 2,
            "linecolor": "white",
            "showbackground": true,
            "ticks": "",
            "zerolinecolor": "white"
           },
           "zaxis": {
            "backgroundcolor": "#E5ECF6",
            "gridcolor": "white",
            "gridwidth": 2,
            "linecolor": "white",
            "showbackground": true,
            "ticks": "",
            "zerolinecolor": "white"
           }
          },
          "shapedefaults": {
           "line": {
            "color": "#2a3f5f"
           }
          },
          "ternary": {
           "aaxis": {
            "gridcolor": "white",
            "linecolor": "white",
            "ticks": ""
           },
           "baxis": {
            "gridcolor": "white",
            "linecolor": "white",
            "ticks": ""
           },
           "bgcolor": "#E5ECF6",
           "caxis": {
            "gridcolor": "white",
            "linecolor": "white",
            "ticks": ""
           }
          },
          "title": {
           "x": 0.05
          },
          "xaxis": {
           "automargin": true,
           "gridcolor": "white",
           "linecolor": "white",
           "ticks": "",
           "title": {
            "standoff": 15
           },
           "zerolinecolor": "white",
           "zerolinewidth": 2
          },
          "yaxis": {
           "automargin": true,
           "gridcolor": "white",
           "linecolor": "white",
           "ticks": "",
           "title": {
            "standoff": 15
           },
           "zerolinecolor": "white",
           "zerolinewidth": 2
          }
         }
        },
        "width": 1100,
        "xaxis": {
         "anchor": "y",
         "domain": [
          0,
          1
         ],
         "title": {
          "text": "Count of students"
         }
        },
        "yaxis": {
         "anchor": "x",
         "domain": [
          0,
          1
         ],
         "title": {
          "text": "Course"
         }
        }
       }
      }
     },
     "metadata": {},
     "output_type": "display_data"
    }
   ],
   "source": [
    "x = enrolments.groupby(by=\"course\").size().sort_values(ascending=True)\n",
    "x.name = \"Count of students\"\n",
    "x = pd.merge(\n",
    "    x, courses, left_index=True, right_on=\"course_name\"\n",
    ").dropna().sort_values(by=\"Count of students\", ascending=True)\n",
    "x = x[x['Count of students'] > 0]\n",
    "x.rename(columns={'course_name': 'Course'}, inplace=True)\n",
    "fig = px.bar(x, x='Count of students', y='Course', orientation='h')\n",
    "fig.update_layout(width=1100, height=800)"
   ]
  },
  {
   "cell_type": "markdown",
   "metadata": {},
   "source": [
    "Course Type Preferences Across Semesters:"
   ]
  },
  {
   "cell_type": "code",
   "execution_count": 11,
   "metadata": {},
   "outputs": [],
   "source": [
    "df = enrolments.groupby(by=['period', 'category']).size().reset_index()\n",
    "def fun(x):\n",
    "    if x == 'EVEN_SEM_22_23':\n",
    "        return 2\n",
    "    if x == 'EVEN_SEM_23_24':\n",
    "        return 4\n",
    "    if x == 'ODD_SEM_22_23':\n",
    "        return 1\n",
    "    if x == 'ODD_SEM_23_24':\n",
    "        return 3\n",
    "    \n",
    "def fun2(x):\n",
    "    if x == 'Intellectual':\n",
    "        return 0\n",
    "    if x == 'Physical':\n",
    "        return 1\n",
    "    if x == 'Social':\n",
    "        return 2\n",
    "    if x == 'Spiritual':\n",
    "        return 3\n",
    "    if x == 'Emotional':\n",
    "        return 4\n",
    "df['x'] = df['period'].apply(fun)\n",
    "df['y'] = df['category'].apply(fun2)\n",
    "df.sort_values(by=['x', 'y'], inplace=True)"
   ]
  },
  {
   "cell_type": "code",
   "execution_count": 12,
   "metadata": {},
   "outputs": [
    {
     "data": {
      "application/vnd.plotly.v1+json": {
       "config": {
        "plotlyServerURL": "https://plot.ly"
       },
       "data": [
        {
         "alignmentgroup": "True",
         "hovertemplate": "category=Intellectual<br>period=%{x}<br>0=%{y}<extra></extra>",
         "legendgroup": "Intellectual",
         "marker": {
          "color": "#636efa",
          "pattern": {
           "shape": ""
          }
         },
         "name": "Intellectual",
         "offsetgroup": "Intellectual",
         "orientation": "v",
         "showlegend": true,
         "textposition": "auto",
         "type": "bar",
         "x": [
          "ODD_SEM_22_23",
          "EVEN_SEM_22_23",
          "ODD_SEM_23_24",
          "EVEN_SEM_23_24"
         ],
         "xaxis": "x",
         "y": [
          757,
          631,
          534,
          630
         ],
         "yaxis": "y"
        },
        {
         "alignmentgroup": "True",
         "hovertemplate": "category=Physical<br>period=%{x}<br>0=%{y}<extra></extra>",
         "legendgroup": "Physical",
         "marker": {
          "color": "#EF553B",
          "pattern": {
           "shape": ""
          }
         },
         "name": "Physical",
         "offsetgroup": "Physical",
         "orientation": "v",
         "showlegend": true,
         "textposition": "auto",
         "type": "bar",
         "x": [
          "ODD_SEM_22_23",
          "EVEN_SEM_22_23",
          "ODD_SEM_23_24",
          "EVEN_SEM_23_24"
         ],
         "xaxis": "x",
         "y": [
          67,
          276,
          375,
          761
         ],
         "yaxis": "y"
        },
        {
         "alignmentgroup": "True",
         "hovertemplate": "category=Social<br>period=%{x}<br>0=%{y}<extra></extra>",
         "legendgroup": "Social",
         "marker": {
          "color": "#00cc96",
          "pattern": {
           "shape": ""
          }
         },
         "name": "Social",
         "offsetgroup": "Social",
         "orientation": "v",
         "showlegend": true,
         "textposition": "auto",
         "type": "bar",
         "x": [
          "ODD_SEM_22_23",
          "EVEN_SEM_22_23",
          "ODD_SEM_23_24",
          "EVEN_SEM_23_24"
         ],
         "xaxis": "x",
         "y": [
          226,
          148,
          263,
          164
         ],
         "yaxis": "y"
        },
        {
         "alignmentgroup": "True",
         "hovertemplate": "category=Spiritual<br>period=%{x}<br>0=%{y}<extra></extra>",
         "legendgroup": "Spiritual",
         "marker": {
          "color": "#ab63fa",
          "pattern": {
           "shape": ""
          }
         },
         "name": "Spiritual",
         "offsetgroup": "Spiritual",
         "orientation": "v",
         "showlegend": true,
         "textposition": "auto",
         "type": "bar",
         "x": [
          "ODD_SEM_22_23",
          "EVEN_SEM_22_23",
          "ODD_SEM_23_24",
          "EVEN_SEM_23_24"
         ],
         "xaxis": "x",
         "y": [
          42,
          15,
          93,
          143
         ],
         "yaxis": "y"
        },
        {
         "alignmentgroup": "True",
         "hovertemplate": "category=Emotional<br>period=%{x}<br>0=%{y}<extra></extra>",
         "legendgroup": "Emotional",
         "marker": {
          "color": "#FFA15A",
          "pattern": {
           "shape": ""
          }
         },
         "name": "Emotional",
         "offsetgroup": "Emotional",
         "orientation": "v",
         "showlegend": true,
         "textposition": "auto",
         "type": "bar",
         "x": [
          "ODD_SEM_22_23",
          "EVEN_SEM_22_23",
          "ODD_SEM_23_24",
          "EVEN_SEM_23_24"
         ],
         "xaxis": "x",
         "y": [
          103,
          42,
          76,
          31
         ],
         "yaxis": "y"
        }
       ],
       "layout": {
        "barmode": "stack",
        "height": 600,
        "legend": {
         "title": {
          "text": "category"
         },
         "tracegroupgap": 0
        },
        "margin": {
         "t": 60
        },
        "template": {
         "data": {
          "bar": [
           {
            "error_x": {
             "color": "#2a3f5f"
            },
            "error_y": {
             "color": "#2a3f5f"
            },
            "marker": {
             "line": {
              "color": "#E5ECF6",
              "width": 0.5
             },
             "pattern": {
              "fillmode": "overlay",
              "size": 10,
              "solidity": 0.2
             }
            },
            "type": "bar"
           }
          ],
          "barpolar": [
           {
            "marker": {
             "line": {
              "color": "#E5ECF6",
              "width": 0.5
             },
             "pattern": {
              "fillmode": "overlay",
              "size": 10,
              "solidity": 0.2
             }
            },
            "type": "barpolar"
           }
          ],
          "carpet": [
           {
            "aaxis": {
             "endlinecolor": "#2a3f5f",
             "gridcolor": "white",
             "linecolor": "white",
             "minorgridcolor": "white",
             "startlinecolor": "#2a3f5f"
            },
            "baxis": {
             "endlinecolor": "#2a3f5f",
             "gridcolor": "white",
             "linecolor": "white",
             "minorgridcolor": "white",
             "startlinecolor": "#2a3f5f"
            },
            "type": "carpet"
           }
          ],
          "choropleth": [
           {
            "colorbar": {
             "outlinewidth": 0,
             "ticks": ""
            },
            "type": "choropleth"
           }
          ],
          "contour": [
           {
            "colorbar": {
             "outlinewidth": 0,
             "ticks": ""
            },
            "colorscale": [
             [
              0,
              "#0d0887"
             ],
             [
              0.1111111111111111,
              "#46039f"
             ],
             [
              0.2222222222222222,
              "#7201a8"
             ],
             [
              0.3333333333333333,
              "#9c179e"
             ],
             [
              0.4444444444444444,
              "#bd3786"
             ],
             [
              0.5555555555555556,
              "#d8576b"
             ],
             [
              0.6666666666666666,
              "#ed7953"
             ],
             [
              0.7777777777777778,
              "#fb9f3a"
             ],
             [
              0.8888888888888888,
              "#fdca26"
             ],
             [
              1,
              "#f0f921"
             ]
            ],
            "type": "contour"
           }
          ],
          "contourcarpet": [
           {
            "colorbar": {
             "outlinewidth": 0,
             "ticks": ""
            },
            "type": "contourcarpet"
           }
          ],
          "heatmap": [
           {
            "colorbar": {
             "outlinewidth": 0,
             "ticks": ""
            },
            "colorscale": [
             [
              0,
              "#0d0887"
             ],
             [
              0.1111111111111111,
              "#46039f"
             ],
             [
              0.2222222222222222,
              "#7201a8"
             ],
             [
              0.3333333333333333,
              "#9c179e"
             ],
             [
              0.4444444444444444,
              "#bd3786"
             ],
             [
              0.5555555555555556,
              "#d8576b"
             ],
             [
              0.6666666666666666,
              "#ed7953"
             ],
             [
              0.7777777777777778,
              "#fb9f3a"
             ],
             [
              0.8888888888888888,
              "#fdca26"
             ],
             [
              1,
              "#f0f921"
             ]
            ],
            "type": "heatmap"
           }
          ],
          "heatmapgl": [
           {
            "colorbar": {
             "outlinewidth": 0,
             "ticks": ""
            },
            "colorscale": [
             [
              0,
              "#0d0887"
             ],
             [
              0.1111111111111111,
              "#46039f"
             ],
             [
              0.2222222222222222,
              "#7201a8"
             ],
             [
              0.3333333333333333,
              "#9c179e"
             ],
             [
              0.4444444444444444,
              "#bd3786"
             ],
             [
              0.5555555555555556,
              "#d8576b"
             ],
             [
              0.6666666666666666,
              "#ed7953"
             ],
             [
              0.7777777777777778,
              "#fb9f3a"
             ],
             [
              0.8888888888888888,
              "#fdca26"
             ],
             [
              1,
              "#f0f921"
             ]
            ],
            "type": "heatmapgl"
           }
          ],
          "histogram": [
           {
            "marker": {
             "pattern": {
              "fillmode": "overlay",
              "size": 10,
              "solidity": 0.2
             }
            },
            "type": "histogram"
           }
          ],
          "histogram2d": [
           {
            "colorbar": {
             "outlinewidth": 0,
             "ticks": ""
            },
            "colorscale": [
             [
              0,
              "#0d0887"
             ],
             [
              0.1111111111111111,
              "#46039f"
             ],
             [
              0.2222222222222222,
              "#7201a8"
             ],
             [
              0.3333333333333333,
              "#9c179e"
             ],
             [
              0.4444444444444444,
              "#bd3786"
             ],
             [
              0.5555555555555556,
              "#d8576b"
             ],
             [
              0.6666666666666666,
              "#ed7953"
             ],
             [
              0.7777777777777778,
              "#fb9f3a"
             ],
             [
              0.8888888888888888,
              "#fdca26"
             ],
             [
              1,
              "#f0f921"
             ]
            ],
            "type": "histogram2d"
           }
          ],
          "histogram2dcontour": [
           {
            "colorbar": {
             "outlinewidth": 0,
             "ticks": ""
            },
            "colorscale": [
             [
              0,
              "#0d0887"
             ],
             [
              0.1111111111111111,
              "#46039f"
             ],
             [
              0.2222222222222222,
              "#7201a8"
             ],
             [
              0.3333333333333333,
              "#9c179e"
             ],
             [
              0.4444444444444444,
              "#bd3786"
             ],
             [
              0.5555555555555556,
              "#d8576b"
             ],
             [
              0.6666666666666666,
              "#ed7953"
             ],
             [
              0.7777777777777778,
              "#fb9f3a"
             ],
             [
              0.8888888888888888,
              "#fdca26"
             ],
             [
              1,
              "#f0f921"
             ]
            ],
            "type": "histogram2dcontour"
           }
          ],
          "mesh3d": [
           {
            "colorbar": {
             "outlinewidth": 0,
             "ticks": ""
            },
            "type": "mesh3d"
           }
          ],
          "parcoords": [
           {
            "line": {
             "colorbar": {
              "outlinewidth": 0,
              "ticks": ""
             }
            },
            "type": "parcoords"
           }
          ],
          "pie": [
           {
            "automargin": true,
            "type": "pie"
           }
          ],
          "scatter": [
           {
            "fillpattern": {
             "fillmode": "overlay",
             "size": 10,
             "solidity": 0.2
            },
            "type": "scatter"
           }
          ],
          "scatter3d": [
           {
            "line": {
             "colorbar": {
              "outlinewidth": 0,
              "ticks": ""
             }
            },
            "marker": {
             "colorbar": {
              "outlinewidth": 0,
              "ticks": ""
             }
            },
            "type": "scatter3d"
           }
          ],
          "scattercarpet": [
           {
            "marker": {
             "colorbar": {
              "outlinewidth": 0,
              "ticks": ""
             }
            },
            "type": "scattercarpet"
           }
          ],
          "scattergeo": [
           {
            "marker": {
             "colorbar": {
              "outlinewidth": 0,
              "ticks": ""
             }
            },
            "type": "scattergeo"
           }
          ],
          "scattergl": [
           {
            "marker": {
             "colorbar": {
              "outlinewidth": 0,
              "ticks": ""
             }
            },
            "type": "scattergl"
           }
          ],
          "scattermapbox": [
           {
            "marker": {
             "colorbar": {
              "outlinewidth": 0,
              "ticks": ""
             }
            },
            "type": "scattermapbox"
           }
          ],
          "scatterpolar": [
           {
            "marker": {
             "colorbar": {
              "outlinewidth": 0,
              "ticks": ""
             }
            },
            "type": "scatterpolar"
           }
          ],
          "scatterpolargl": [
           {
            "marker": {
             "colorbar": {
              "outlinewidth": 0,
              "ticks": ""
             }
            },
            "type": "scatterpolargl"
           }
          ],
          "scatterternary": [
           {
            "marker": {
             "colorbar": {
              "outlinewidth": 0,
              "ticks": ""
             }
            },
            "type": "scatterternary"
           }
          ],
          "surface": [
           {
            "colorbar": {
             "outlinewidth": 0,
             "ticks": ""
            },
            "colorscale": [
             [
              0,
              "#0d0887"
             ],
             [
              0.1111111111111111,
              "#46039f"
             ],
             [
              0.2222222222222222,
              "#7201a8"
             ],
             [
              0.3333333333333333,
              "#9c179e"
             ],
             [
              0.4444444444444444,
              "#bd3786"
             ],
             [
              0.5555555555555556,
              "#d8576b"
             ],
             [
              0.6666666666666666,
              "#ed7953"
             ],
             [
              0.7777777777777778,
              "#fb9f3a"
             ],
             [
              0.8888888888888888,
              "#fdca26"
             ],
             [
              1,
              "#f0f921"
             ]
            ],
            "type": "surface"
           }
          ],
          "table": [
           {
            "cells": {
             "fill": {
              "color": "#EBF0F8"
             },
             "line": {
              "color": "white"
             }
            },
            "header": {
             "fill": {
              "color": "#C8D4E3"
             },
             "line": {
              "color": "white"
             }
            },
            "type": "table"
           }
          ]
         },
         "layout": {
          "annotationdefaults": {
           "arrowcolor": "#2a3f5f",
           "arrowhead": 0,
           "arrowwidth": 1
          },
          "autotypenumbers": "strict",
          "coloraxis": {
           "colorbar": {
            "outlinewidth": 0,
            "ticks": ""
           }
          },
          "colorscale": {
           "diverging": [
            [
             0,
             "#8e0152"
            ],
            [
             0.1,
             "#c51b7d"
            ],
            [
             0.2,
             "#de77ae"
            ],
            [
             0.3,
             "#f1b6da"
            ],
            [
             0.4,
             "#fde0ef"
            ],
            [
             0.5,
             "#f7f7f7"
            ],
            [
             0.6,
             "#e6f5d0"
            ],
            [
             0.7,
             "#b8e186"
            ],
            [
             0.8,
             "#7fbc41"
            ],
            [
             0.9,
             "#4d9221"
            ],
            [
             1,
             "#276419"
            ]
           ],
           "sequential": [
            [
             0,
             "#0d0887"
            ],
            [
             0.1111111111111111,
             "#46039f"
            ],
            [
             0.2222222222222222,
             "#7201a8"
            ],
            [
             0.3333333333333333,
             "#9c179e"
            ],
            [
             0.4444444444444444,
             "#bd3786"
            ],
            [
             0.5555555555555556,
             "#d8576b"
            ],
            [
             0.6666666666666666,
             "#ed7953"
            ],
            [
             0.7777777777777778,
             "#fb9f3a"
            ],
            [
             0.8888888888888888,
             "#fdca26"
            ],
            [
             1,
             "#f0f921"
            ]
           ],
           "sequentialminus": [
            [
             0,
             "#0d0887"
            ],
            [
             0.1111111111111111,
             "#46039f"
            ],
            [
             0.2222222222222222,
             "#7201a8"
            ],
            [
             0.3333333333333333,
             "#9c179e"
            ],
            [
             0.4444444444444444,
             "#bd3786"
            ],
            [
             0.5555555555555556,
             "#d8576b"
            ],
            [
             0.6666666666666666,
             "#ed7953"
            ],
            [
             0.7777777777777778,
             "#fb9f3a"
            ],
            [
             0.8888888888888888,
             "#fdca26"
            ],
            [
             1,
             "#f0f921"
            ]
           ]
          },
          "colorway": [
           "#636efa",
           "#EF553B",
           "#00cc96",
           "#ab63fa",
           "#FFA15A",
           "#19d3f3",
           "#FF6692",
           "#B6E880",
           "#FF97FF",
           "#FECB52"
          ],
          "font": {
           "color": "#2a3f5f"
          },
          "geo": {
           "bgcolor": "white",
           "lakecolor": "white",
           "landcolor": "#E5ECF6",
           "showlakes": true,
           "showland": true,
           "subunitcolor": "white"
          },
          "hoverlabel": {
           "align": "left"
          },
          "hovermode": "closest",
          "mapbox": {
           "style": "light"
          },
          "paper_bgcolor": "white",
          "plot_bgcolor": "#E5ECF6",
          "polar": {
           "angularaxis": {
            "gridcolor": "white",
            "linecolor": "white",
            "ticks": ""
           },
           "bgcolor": "#E5ECF6",
           "radialaxis": {
            "gridcolor": "white",
            "linecolor": "white",
            "ticks": ""
           }
          },
          "scene": {
           "xaxis": {
            "backgroundcolor": "#E5ECF6",
            "gridcolor": "white",
            "gridwidth": 2,
            "linecolor": "white",
            "showbackground": true,
            "ticks": "",
            "zerolinecolor": "white"
           },
           "yaxis": {
            "backgroundcolor": "#E5ECF6",
            "gridcolor": "white",
            "gridwidth": 2,
            "linecolor": "white",
            "showbackground": true,
            "ticks": "",
            "zerolinecolor": "white"
           },
           "zaxis": {
            "backgroundcolor": "#E5ECF6",
            "gridcolor": "white",
            "gridwidth": 2,
            "linecolor": "white",
            "showbackground": true,
            "ticks": "",
            "zerolinecolor": "white"
           }
          },
          "shapedefaults": {
           "line": {
            "color": "#2a3f5f"
           }
          },
          "ternary": {
           "aaxis": {
            "gridcolor": "white",
            "linecolor": "white",
            "ticks": ""
           },
           "baxis": {
            "gridcolor": "white",
            "linecolor": "white",
            "ticks": ""
           },
           "bgcolor": "#E5ECF6",
           "caxis": {
            "gridcolor": "white",
            "linecolor": "white",
            "ticks": ""
           }
          },
          "title": {
           "x": 0.05
          },
          "xaxis": {
           "automargin": true,
           "gridcolor": "white",
           "linecolor": "white",
           "ticks": "",
           "title": {
            "standoff": 15
           },
           "zerolinecolor": "white",
           "zerolinewidth": 2
          },
          "yaxis": {
           "automargin": true,
           "gridcolor": "white",
           "linecolor": "white",
           "ticks": "",
           "title": {
            "standoff": 15
           },
           "zerolinecolor": "white",
           "zerolinewidth": 2
          }
         }
        },
        "title": {
         "text": "Enrolment by Course Type over Semesters"
        },
        "width": 800,
        "xaxis": {
         "anchor": "y",
         "domain": [
          0,
          1
         ],
         "title": {
          "text": "Semester"
         }
        },
        "yaxis": {
         "anchor": "x",
         "domain": [
          0,
          1
         ],
         "title": {
          "text": "Enrollment Count"
         }
        }
       }
      }
     },
     "metadata": {},
     "output_type": "display_data"
    }
   ],
   "source": [
    "# df = enrolments.groupby(by=['period', 'category']).size().reset_index()\n",
    "fig = px.bar(df, x='period', y=0, color='category', barmode='stack')\n",
    "fig.update_layout(title='Enrolment by Course Type over Semesters', xaxis_title='Semester', yaxis_title='Enrollment Count')\n",
    "fig.update_layout(width=800, height=600)\n",
    "fig.show()"
   ]
  },
  {
   "cell_type": "code",
   "execution_count": 13,
   "metadata": {},
   "outputs": [
    {
     "data": {
      "text/plain": [
       "Index([2020100001, 2020100003, 2020100007, 2020100008, 2020100010, 2020100011,\n",
       "       2020100015, 2020100017, 2020100018, 2020100019,\n",
       "       ...\n",
       "       2021700066, 2021700067, 2021700068, 2021700069, 2021700071, 2021700072,\n",
       "       2022200008, 2022200126, 2022600012, 2022601008],\n",
       "      dtype='int64', name='uid', length=455)"
      ]
     },
     "execution_count": 13,
     "metadata": {},
     "output_type": "execute_result"
    }
   ],
   "source": [
    "x = enrolments.groupby('uid')\n",
    "y = x.size()[x.size() == 4].index\n",
    "y"
   ]
  },
  {
   "cell_type": "code",
   "execution_count": 14,
   "metadata": {},
   "outputs": [],
   "source": [
    "df = enrolments.groupby(by=['period', 'category']).size().reset_index()\n",
    "def fun(x):\n",
    "    if x == 'EVEN_SEM_22_23':\n",
    "        return 2\n",
    "    if x == 'EVEN_SEM_23_24':\n",
    "        return 4\n",
    "    if x == 'ODD_SEM_22_23':\n",
    "        return 1\n",
    "    if x == 'ODD_SEM_23_24':\n",
    "        return 3\n",
    "    \n",
    "def fun2(x):\n",
    "    if x == 'Intellectual':\n",
    "        return 0\n",
    "    if x == 'Physical':\n",
    "        return 1\n",
    "    if x == 'Social':\n",
    "        return 2\n",
    "    if x == 'Spiritual':\n",
    "        return 3\n",
    "    if x == 'Emotional':\n",
    "        return 4\n",
    "df['x'] = df['period'].apply(fun)\n",
    "df['y'] = df['category'].apply(fun2)\n",
    "df.sort_values(by=['x', 'y'], inplace=True)"
   ]
  },
  {
   "cell_type": "code",
   "execution_count": 15,
   "metadata": {},
   "outputs": [
    {
     "data": {
      "text/html": [
       "<div>\n",
       "<style scoped>\n",
       "    .dataframe tbody tr th:only-of-type {\n",
       "        vertical-align: middle;\n",
       "    }\n",
       "\n",
       "    .dataframe tbody tr th {\n",
       "        vertical-align: top;\n",
       "    }\n",
       "\n",
       "    .dataframe thead th {\n",
       "        text-align: right;\n",
       "    }\n",
       "</style>\n",
       "<table border=\"1\" class=\"dataframe\">\n",
       "  <thead>\n",
       "    <tr style=\"text-align: right;\">\n",
       "      <th></th>\n",
       "      <th>period</th>\n",
       "      <th>category</th>\n",
       "      <th>0</th>\n",
       "    </tr>\n",
       "  </thead>\n",
       "  <tbody>\n",
       "    <tr>\n",
       "      <th>0</th>\n",
       "      <td>EVEN_SEM_22_23</td>\n",
       "      <td>Emotional</td>\n",
       "      <td>42</td>\n",
       "    </tr>\n",
       "    <tr>\n",
       "      <th>1</th>\n",
       "      <td>EVEN_SEM_22_23</td>\n",
       "      <td>Intellectual</td>\n",
       "      <td>631</td>\n",
       "    </tr>\n",
       "    <tr>\n",
       "      <th>2</th>\n",
       "      <td>EVEN_SEM_22_23</td>\n",
       "      <td>Physical</td>\n",
       "      <td>276</td>\n",
       "    </tr>\n",
       "    <tr>\n",
       "      <th>3</th>\n",
       "      <td>EVEN_SEM_22_23</td>\n",
       "      <td>Social</td>\n",
       "      <td>148</td>\n",
       "    </tr>\n",
       "    <tr>\n",
       "      <th>4</th>\n",
       "      <td>EVEN_SEM_22_23</td>\n",
       "      <td>Spiritual</td>\n",
       "      <td>15</td>\n",
       "    </tr>\n",
       "    <tr>\n",
       "      <th>5</th>\n",
       "      <td>EVEN_SEM_23_24</td>\n",
       "      <td>Emotional</td>\n",
       "      <td>31</td>\n",
       "    </tr>\n",
       "    <tr>\n",
       "      <th>6</th>\n",
       "      <td>EVEN_SEM_23_24</td>\n",
       "      <td>Intellectual</td>\n",
       "      <td>630</td>\n",
       "    </tr>\n",
       "    <tr>\n",
       "      <th>7</th>\n",
       "      <td>EVEN_SEM_23_24</td>\n",
       "      <td>Physical</td>\n",
       "      <td>761</td>\n",
       "    </tr>\n",
       "    <tr>\n",
       "      <th>8</th>\n",
       "      <td>EVEN_SEM_23_24</td>\n",
       "      <td>Social</td>\n",
       "      <td>164</td>\n",
       "    </tr>\n",
       "    <tr>\n",
       "      <th>9</th>\n",
       "      <td>EVEN_SEM_23_24</td>\n",
       "      <td>Spiritual</td>\n",
       "      <td>143</td>\n",
       "    </tr>\n",
       "    <tr>\n",
       "      <th>10</th>\n",
       "      <td>ODD_SEM_22_23</td>\n",
       "      <td>Emotional</td>\n",
       "      <td>103</td>\n",
       "    </tr>\n",
       "    <tr>\n",
       "      <th>11</th>\n",
       "      <td>ODD_SEM_22_23</td>\n",
       "      <td>Intellectual</td>\n",
       "      <td>757</td>\n",
       "    </tr>\n",
       "    <tr>\n",
       "      <th>12</th>\n",
       "      <td>ODD_SEM_22_23</td>\n",
       "      <td>Physical</td>\n",
       "      <td>67</td>\n",
       "    </tr>\n",
       "    <tr>\n",
       "      <th>13</th>\n",
       "      <td>ODD_SEM_22_23</td>\n",
       "      <td>Social</td>\n",
       "      <td>226</td>\n",
       "    </tr>\n",
       "    <tr>\n",
       "      <th>14</th>\n",
       "      <td>ODD_SEM_22_23</td>\n",
       "      <td>Spiritual</td>\n",
       "      <td>42</td>\n",
       "    </tr>\n",
       "    <tr>\n",
       "      <th>15</th>\n",
       "      <td>ODD_SEM_23_24</td>\n",
       "      <td>Emotional</td>\n",
       "      <td>76</td>\n",
       "    </tr>\n",
       "    <tr>\n",
       "      <th>16</th>\n",
       "      <td>ODD_SEM_23_24</td>\n",
       "      <td>Intellectual</td>\n",
       "      <td>534</td>\n",
       "    </tr>\n",
       "    <tr>\n",
       "      <th>17</th>\n",
       "      <td>ODD_SEM_23_24</td>\n",
       "      <td>Physical</td>\n",
       "      <td>375</td>\n",
       "    </tr>\n",
       "    <tr>\n",
       "      <th>18</th>\n",
       "      <td>ODD_SEM_23_24</td>\n",
       "      <td>Social</td>\n",
       "      <td>263</td>\n",
       "    </tr>\n",
       "    <tr>\n",
       "      <th>19</th>\n",
       "      <td>ODD_SEM_23_24</td>\n",
       "      <td>Spiritual</td>\n",
       "      <td>93</td>\n",
       "    </tr>\n",
       "  </tbody>\n",
       "</table>\n",
       "</div>"
      ],
      "text/plain": [
       "            period      category    0\n",
       "0   EVEN_SEM_22_23     Emotional   42\n",
       "1   EVEN_SEM_22_23  Intellectual  631\n",
       "2   EVEN_SEM_22_23      Physical  276\n",
       "3   EVEN_SEM_22_23        Social  148\n",
       "4   EVEN_SEM_22_23     Spiritual   15\n",
       "5   EVEN_SEM_23_24     Emotional   31\n",
       "6   EVEN_SEM_23_24  Intellectual  630\n",
       "7   EVEN_SEM_23_24      Physical  761\n",
       "8   EVEN_SEM_23_24        Social  164\n",
       "9   EVEN_SEM_23_24     Spiritual  143\n",
       "10   ODD_SEM_22_23     Emotional  103\n",
       "11   ODD_SEM_22_23  Intellectual  757\n",
       "12   ODD_SEM_22_23      Physical   67\n",
       "13   ODD_SEM_22_23        Social  226\n",
       "14   ODD_SEM_22_23     Spiritual   42\n",
       "15   ODD_SEM_23_24     Emotional   76\n",
       "16   ODD_SEM_23_24  Intellectual  534\n",
       "17   ODD_SEM_23_24      Physical  375\n",
       "18   ODD_SEM_23_24        Social  263\n",
       "19   ODD_SEM_23_24     Spiritual   93"
      ]
     },
     "execution_count": 15,
     "metadata": {},
     "output_type": "execute_result"
    }
   ],
   "source": [
    "enrolments.groupby(by=['period', 'category']).size().reset_index()"
   ]
  },
  {
   "cell_type": "code",
   "execution_count": 16,
   "metadata": {},
   "outputs": [
    {
     "data": {
      "text/plain": [
       "category\n",
       "Emotional        252\n",
       "Intellectual    2552\n",
       "Physical        1479\n",
       "Social           801\n",
       "Spiritual        293\n",
       "dtype: int64"
      ]
     },
     "execution_count": 16,
     "metadata": {},
     "output_type": "execute_result"
    }
   ],
   "source": [
    "enrolments.groupby(by='category').size() "
   ]
  },
  {
   "cell_type": "code",
   "execution_count": 17,
   "metadata": {},
   "outputs": [
    {
     "data": {
      "text/plain": [
       "category\n",
       "Emotional        3\n",
       "Intellectual    15\n",
       "Physical        11\n",
       "Social           9\n",
       "Spiritual        4\n",
       "dtype: int64"
      ]
     },
     "execution_count": 17,
     "metadata": {},
     "output_type": "execute_result"
    }
   ],
   "source": [
    "courses.groupby(by='category').size()"
   ]
  },
  {
   "cell_type": "code",
   "execution_count": 20,
   "metadata": {},
   "outputs": [
    {
     "data": {
      "text/html": [
       "<div>\n",
       "<style scoped>\n",
       "    .dataframe tbody tr th:only-of-type {\n",
       "        vertical-align: middle;\n",
       "    }\n",
       "\n",
       "    .dataframe tbody tr th {\n",
       "        vertical-align: top;\n",
       "    }\n",
       "\n",
       "    .dataframe thead th {\n",
       "        text-align: right;\n",
       "    }\n",
       "</style>\n",
       "<table border=\"1\" class=\"dataframe\">\n",
       "  <thead>\n",
       "    <tr style=\"text-align: right;\">\n",
       "      <th></th>\n",
       "      <th>0</th>\n",
       "      <th>Emotional</th>\n",
       "      <th>Intellectual</th>\n",
       "      <th>Physical</th>\n",
       "      <th>Social</th>\n",
       "      <th>Spiritual</th>\n",
       "      <th>category</th>\n",
       "    </tr>\n",
       "  </thead>\n",
       "  <tbody>\n",
       "    <tr>\n",
       "      <th>0</th>\n",
       "      <td>NaN</td>\n",
       "      <td>NaN</td>\n",
       "      <td>NaN</td>\n",
       "      <td>NaN</td>\n",
       "      <td>NaN</td>\n",
       "      <td>NaN</td>\n",
       "      <td>NaN</td>\n",
       "    </tr>\n",
       "    <tr>\n",
       "      <th>1</th>\n",
       "      <td>NaN</td>\n",
       "      <td>NaN</td>\n",
       "      <td>NaN</td>\n",
       "      <td>NaN</td>\n",
       "      <td>NaN</td>\n",
       "      <td>NaN</td>\n",
       "      <td>NaN</td>\n",
       "    </tr>\n",
       "    <tr>\n",
       "      <th>2</th>\n",
       "      <td>NaN</td>\n",
       "      <td>NaN</td>\n",
       "      <td>NaN</td>\n",
       "      <td>NaN</td>\n",
       "      <td>NaN</td>\n",
       "      <td>NaN</td>\n",
       "      <td>NaN</td>\n",
       "    </tr>\n",
       "    <tr>\n",
       "      <th>3</th>\n",
       "      <td>NaN</td>\n",
       "      <td>NaN</td>\n",
       "      <td>NaN</td>\n",
       "      <td>NaN</td>\n",
       "      <td>NaN</td>\n",
       "      <td>NaN</td>\n",
       "      <td>NaN</td>\n",
       "    </tr>\n",
       "    <tr>\n",
       "      <th>4</th>\n",
       "      <td>NaN</td>\n",
       "      <td>NaN</td>\n",
       "      <td>NaN</td>\n",
       "      <td>NaN</td>\n",
       "      <td>NaN</td>\n",
       "      <td>NaN</td>\n",
       "      <td>NaN</td>\n",
       "    </tr>\n",
       "  </tbody>\n",
       "</table>\n",
       "</div>"
      ],
      "text/plain": [
       "    0  Emotional  Intellectual  Physical  Social  Spiritual category\n",
       "0 NaN        NaN           NaN       NaN     NaN        NaN      NaN\n",
       "1 NaN        NaN           NaN       NaN     NaN        NaN      NaN\n",
       "2 NaN        NaN           NaN       NaN     NaN        NaN      NaN\n",
       "3 NaN        NaN           NaN       NaN     NaN        NaN      NaN\n",
       "4 NaN        NaN           NaN       NaN     NaN        NaN      NaN"
      ]
     },
     "execution_count": 20,
     "metadata": {},
     "output_type": "execute_result"
    }
   ],
   "source": [
    "enrolments.groupby(by='category').size().reset_index() / courses.groupby(by='category').size()"
   ]
  },
  {
   "cell_type": "code",
   "execution_count": 21,
   "metadata": {},
   "outputs": [
    {
     "data": {
      "text/plain": [
       "category\n",
       "Emotional        252\n",
       "Intellectual    2552\n",
       "Physical        1479\n",
       "Social           801\n",
       "Spiritual        293\n",
       "Name: uid, dtype: int64"
      ]
     },
     "execution_count": 21,
     "metadata": {},
     "output_type": "execute_result"
    }
   ],
   "source": [
    "enrolments.groupby('category')['uid'].count() "
   ]
  },
  {
   "cell_type": "code",
   "execution_count": 22,
   "metadata": {},
   "outputs": [
    {
     "data": {
      "image/png": "[encoded data removed]",
      "text/plain": [
       "<Figure size 1000x600 with 2 Axes>"
      ]
     },
     "metadata": {},
     "output_type": "display_data"
    }
   ],
   "source": [
    "retention_rates = enrolments.groupby([\"uid\", \"category\"])[\"period\"].size().reset_index()\n",
    "retention_rates = (\n",
    "    retention_rates.groupby(\"category\")[\"period\"]\n",
    "    .value_counts(normalize=True)\n",
    "    .unstack()\n",
    "    .fillna(0)\n",
    ")\n",
    "plt.figure(figsize=(10, 6))\n",
    "sns.heatmap(retention_rates, annot=True, cmap=\"YlGnBu\", fmt=\".2%\", cbar=True)\n",
    "plt.title(\"Retention Rates by Course Type\")\n",
    "plt.xlabel(\"Number of Semesters\")\n",
    "plt.ylabel(\"Course Type\")\n",
    "plt.show()"
   ]
  },
  {
   "cell_type": "code",
   "execution_count": 23,
   "metadata": {},
   "outputs": [
    {
     "data": {
      "text/html": [
       "<div>\n",
       "<style scoped>\n",
       "    .dataframe tbody tr th:only-of-type {\n",
       "        vertical-align: middle;\n",
       "    }\n",
       "\n",
       "    .dataframe tbody tr th {\n",
       "        vertical-align: top;\n",
       "    }\n",
       "\n",
       "    .dataframe thead th {\n",
       "        text-align: right;\n",
       "    }\n",
       "</style>\n",
       "<table border=\"1\" class=\"dataframe\">\n",
       "  <thead>\n",
       "    <tr style=\"text-align: right;\">\n",
       "      <th></th>\n",
       "      <th>email</th>\n",
       "      <th>name</th>\n",
       "      <th>uid</th>\n",
       "      <th>branch</th>\n",
       "      <th>sem</th>\n",
       "      <th>course</th>\n",
       "      <th>category</th>\n",
       "      <th>period</th>\n",
       "    </tr>\n",
       "  </thead>\n",
       "  <tbody>\n",
       "    <tr>\n",
       "      <th>0</th>\n",
       "      <td>shaun.dsouza@spit.ac.in</td>\n",
       "      <td>Shaun D'Souza</td>\n",
       "      <td>2021300031</td>\n",
       "      <td>COMP</td>\n",
       "      <td>1</td>\n",
       "      <td>Basics of Fire Safety</td>\n",
       "      <td>Intellectual</td>\n",
       "      <td>ODD_SEM_22_23</td>\n",
       "    </tr>\n",
       "    <tr>\n",
       "      <th>1</th>\n",
       "      <td>ganesh.chaudhari@spit.ac.in</td>\n",
       "      <td>Ganesh Chaudhari</td>\n",
       "      <td>2021510007</td>\n",
       "      <td>MCA</td>\n",
       "      <td>1</td>\n",
       "      <td>Basics of Fire Safety</td>\n",
       "      <td>Intellectual</td>\n",
       "      <td>ODD_SEM_22_23</td>\n",
       "    </tr>\n",
       "    <tr>\n",
       "      <th>2</th>\n",
       "      <td>chetan.dhandge@spit.ac.in</td>\n",
       "      <td>Chetan Dhandge</td>\n",
       "      <td>2021510010</td>\n",
       "      <td>MCA</td>\n",
       "      <td>1</td>\n",
       "      <td>Basics of Fire Safety</td>\n",
       "      <td>Intellectual</td>\n",
       "      <td>ODD_SEM_22_23</td>\n",
       "    </tr>\n",
       "    <tr>\n",
       "      <th>3</th>\n",
       "      <td>sudhir.gomase@spit.ac.in</td>\n",
       "      <td>Sudhir Narayan Gomase</td>\n",
       "      <td>2021510018</td>\n",
       "      <td>MCA</td>\n",
       "      <td>1</td>\n",
       "      <td>Basics of Fire Safety</td>\n",
       "      <td>Intellectual</td>\n",
       "      <td>ODD_SEM_22_23</td>\n",
       "    </tr>\n",
       "    <tr>\n",
       "      <th>4</th>\n",
       "      <td>vishal.padme@spit.ac.in</td>\n",
       "      <td>Vishal Devidas Padme</td>\n",
       "      <td>2021510041</td>\n",
       "      <td>MCA</td>\n",
       "      <td>1</td>\n",
       "      <td>Basics of Fire Safety</td>\n",
       "      <td>Intellectual</td>\n",
       "      <td>ODD_SEM_22_23</td>\n",
       "    </tr>\n",
       "    <tr>\n",
       "      <th>5</th>\n",
       "      <td>pratik.parale@spit.ac.in</td>\n",
       "      <td>Pratik Parale</td>\n",
       "      <td>2021510045</td>\n",
       "      <td>MCA</td>\n",
       "      <td>1</td>\n",
       "      <td>Basics of Fire Safety</td>\n",
       "      <td>Intellectual</td>\n",
       "      <td>ODD_SEM_22_23</td>\n",
       "    </tr>\n",
       "    <tr>\n",
       "      <th>6</th>\n",
       "      <td>amit.rathod@spit.ac.in</td>\n",
       "      <td>Amit Manohar Rathod</td>\n",
       "      <td>2021510053</td>\n",
       "      <td>MCA</td>\n",
       "      <td>1</td>\n",
       "      <td>Basics of Fire Safety</td>\n",
       "      <td>Intellectual</td>\n",
       "      <td>ODD_SEM_22_23</td>\n",
       "    </tr>\n",
       "    <tr>\n",
       "      <th>7</th>\n",
       "      <td>sandesh.shivane@spit.ac.in</td>\n",
       "      <td>Sandesh Shivane</td>\n",
       "      <td>2021510063</td>\n",
       "      <td>MCA</td>\n",
       "      <td>1</td>\n",
       "      <td>Basics of Fire Safety</td>\n",
       "      <td>Intellectual</td>\n",
       "      <td>ODD_SEM_22_23</td>\n",
       "    </tr>\n",
       "    <tr>\n",
       "      <th>8</th>\n",
       "      <td>prashant.singh2@spit.ac.in</td>\n",
       "      <td>Prashant Singh</td>\n",
       "      <td>2021510064</td>\n",
       "      <td>MCA</td>\n",
       "      <td>1</td>\n",
       "      <td>Basics of Fire Safety</td>\n",
       "      <td>Intellectual</td>\n",
       "      <td>ODD_SEM_22_23</td>\n",
       "    </tr>\n",
       "    <tr>\n",
       "      <th>9</th>\n",
       "      <td>rahul.shinde@spit.ac.in</td>\n",
       "      <td>Rahul Pandharinath Shinde</td>\n",
       "      <td>2021600061</td>\n",
       "      <td>CSE-AIML</td>\n",
       "      <td>3</td>\n",
       "      <td>Basics of Fire Safety</td>\n",
       "      <td>Intellectual</td>\n",
       "      <td>ODD_SEM_22_23</td>\n",
       "    </tr>\n",
       "  </tbody>\n",
       "</table>\n",
       "</div>"
      ],
      "text/plain": [
       "                         email                       name         uid  \\\n",
       "0      shaun.dsouza@spit.ac.in              Shaun D'Souza  2021300031   \n",
       "1  ganesh.chaudhari@spit.ac.in           Ganesh Chaudhari  2021510007   \n",
       "2    chetan.dhandge@spit.ac.in             Chetan Dhandge  2021510010   \n",
       "3     sudhir.gomase@spit.ac.in      Sudhir Narayan Gomase  2021510018   \n",
       "4      vishal.padme@spit.ac.in       Vishal Devidas Padme  2021510041   \n",
       "5     pratik.parale@spit.ac.in              Pratik Parale  2021510045   \n",
       "6       amit.rathod@spit.ac.in        Amit Manohar Rathod  2021510053   \n",
       "7   sandesh.shivane@spit.ac.in            Sandesh Shivane  2021510063   \n",
       "8   prashant.singh2@spit.ac.in             Prashant Singh  2021510064   \n",
       "9      rahul.shinde@spit.ac.in  Rahul Pandharinath Shinde  2021600061   \n",
       "\n",
       "     branch  sem                 course      category         period  \n",
       "0      COMP    1  Basics of Fire Safety  Intellectual  ODD_SEM_22_23  \n",
       "1       MCA    1  Basics of Fire Safety  Intellectual  ODD_SEM_22_23  \n",
       "2       MCA    1  Basics of Fire Safety  Intellectual  ODD_SEM_22_23  \n",
       "3       MCA    1  Basics of Fire Safety  Intellectual  ODD_SEM_22_23  \n",
       "4       MCA    1  Basics of Fire Safety  Intellectual  ODD_SEM_22_23  \n",
       "5       MCA    1  Basics of Fire Safety  Intellectual  ODD_SEM_22_23  \n",
       "6       MCA    1  Basics of Fire Safety  Intellectual  ODD_SEM_22_23  \n",
       "7       MCA    1  Basics of Fire Safety  Intellectual  ODD_SEM_22_23  \n",
       "8       MCA    1  Basics of Fire Safety  Intellectual  ODD_SEM_22_23  \n",
       "9  CSE-AIML    3  Basics of Fire Safety  Intellectual  ODD_SEM_22_23  "
      ]
     },
     "execution_count": 23,
     "metadata": {},
     "output_type": "execute_result"
    }
   ],
   "source": [
    "enrolments = pd.read_csv('../data/enrolments.csv')\n",
    "enrolments.drop(columns='id', inplace=True)\n",
    "enrolments.head(10)"
   ]
  },
  {
   "cell_type": "code",
   "execution_count": 24,
   "metadata": {},
   "outputs": [
    {
     "data": {
      "text/html": [
       "<div>\n",
       "<style scoped>\n",
       "    .dataframe tbody tr th:only-of-type {\n",
       "        vertical-align: middle;\n",
       "    }\n",
       "\n",
       "    .dataframe tbody tr th {\n",
       "        vertical-align: top;\n",
       "    }\n",
       "\n",
       "    .dataframe thead th {\n",
       "        text-align: right;\n",
       "    }\n",
       "</style>\n",
       "<table border=\"1\" class=\"dataframe\">\n",
       "  <thead>\n",
       "    <tr style=\"text-align: right;\">\n",
       "      <th></th>\n",
       "      <th>course_id</th>\n",
       "      <th>course_name</th>\n",
       "      <th>category</th>\n",
       "    </tr>\n",
       "  </thead>\n",
       "  <tbody>\n",
       "    <tr>\n",
       "      <th>0</th>\n",
       "      <td>1</td>\n",
       "      <td>Art of living</td>\n",
       "      <td>Spiritual</td>\n",
       "    </tr>\n",
       "    <tr>\n",
       "      <th>1</th>\n",
       "      <td>2</td>\n",
       "      <td>Introduction to Bhagvadgita</td>\n",
       "      <td>Spiritual</td>\n",
       "    </tr>\n",
       "    <tr>\n",
       "      <th>2</th>\n",
       "      <td>3</td>\n",
       "      <td>Pranvidya</td>\n",
       "      <td>Spiritual</td>\n",
       "    </tr>\n",
       "    <tr>\n",
       "      <th>3</th>\n",
       "      <td>4</td>\n",
       "      <td>Yog Vidya</td>\n",
       "      <td>Spiritual</td>\n",
       "    </tr>\n",
       "    <tr>\n",
       "      <th>4</th>\n",
       "      <td>5</td>\n",
       "      <td>Mentoring School Children (Abhyudaya)</td>\n",
       "      <td>Social</td>\n",
       "    </tr>\n",
       "    <tr>\n",
       "      <th>5</th>\n",
       "      <td>6</td>\n",
       "      <td>Mentorship to Juniors</td>\n",
       "      <td>Social</td>\n",
       "    </tr>\n",
       "    <tr>\n",
       "      <th>6</th>\n",
       "      <td>7</td>\n",
       "      <td>NSS</td>\n",
       "      <td>Social</td>\n",
       "    </tr>\n",
       "    <tr>\n",
       "      <th>7</th>\n",
       "      <td>8</td>\n",
       "      <td>Principle Centered Leadership</td>\n",
       "      <td>Social</td>\n",
       "    </tr>\n",
       "    <tr>\n",
       "      <th>8</th>\n",
       "      <td>9</td>\n",
       "      <td>Teaching Assistantship</td>\n",
       "      <td>Social</td>\n",
       "    </tr>\n",
       "    <tr>\n",
       "      <th>9</th>\n",
       "      <td>10</td>\n",
       "      <td>Terrace Gardening</td>\n",
       "      <td>Social</td>\n",
       "    </tr>\n",
       "  </tbody>\n",
       "</table>\n",
       "</div>"
      ],
      "text/plain": [
       "   course_id                            course_name   category\n",
       "0          1                          Art of living  Spiritual\n",
       "1          2            Introduction to Bhagvadgita  Spiritual\n",
       "2          3                              Pranvidya  Spiritual\n",
       "3          4                              Yog Vidya  Spiritual\n",
       "4          5  Mentoring School Children (Abhyudaya)     Social\n",
       "5          6                  Mentorship to Juniors     Social\n",
       "6          7                                    NSS     Social\n",
       "7          8          Principle Centered Leadership     Social\n",
       "8          9                 Teaching Assistantship     Social\n",
       "9         10                      Terrace Gardening     Social"
      ]
     },
     "execution_count": 24,
     "metadata": {},
     "output_type": "execute_result"
    }
   ],
   "source": [
    "courses = pd.read_csv('../data/courses.csv')\n",
    "courses.head(10)"
   ]
  },
  {
   "cell_type": "markdown",
   "metadata": {},
   "source": [
    "Overall popularity of categories according to total number of enrolments:"
   ]
  },
  {
   "cell_type": "code",
   "execution_count": 25,
   "metadata": {},
   "outputs": [
    {
     "data": {
      "application/vnd.plotly.v1+json": {
       "config": {
        "plotlyServerURL": "https://plot.ly"
       },
       "data": [
        {
         "alignmentgroup": "True",
         "hovertemplate": "category=%{x}<br>count=%{y}<extra></extra>",
         "legendgroup": "",
         "marker": {
          "color": "#636efa",
          "pattern": {
           "shape": ""
          }
         },
         "name": "",
         "offsetgroup": "",
         "orientation": "v",
         "showlegend": false,
         "textposition": "auto",
         "type": "bar",
         "x": [
          "Intellectual",
          "Physical",
          "Social",
          "Spiritual",
          "Emotional"
         ],
         "xaxis": "x",
         "y": [
          2552,
          1479,
          801,
          293,
          252
         ],
         "yaxis": "y"
        }
       ],
       "layout": {
        "barmode": "relative",
        "height": 500,
        "legend": {
         "tracegroupgap": 0
        },
        "template": {
         "data": {
          "bar": [
           {
            "error_x": {
             "color": "#2a3f5f"
            },
            "error_y": {
             "color": "#2a3f5f"
            },
            "marker": {
             "line": {
              "color": "#E5ECF6",
              "width": 0.5
             },
             "pattern": {
              "fillmode": "overlay",
              "size": 10,
              "solidity": 0.2
             }
            },
            "type": "bar"
           }
          ],
          "barpolar": [
           {
            "marker": {
             "line": {
              "color": "#E5ECF6",
              "width": 0.5
             },
             "pattern": {
              "fillmode": "overlay",
              "size": 10,
              "solidity": 0.2
             }
            },
            "type": "barpolar"
           }
          ],
          "carpet": [
           {
            "aaxis": {
             "endlinecolor": "#2a3f5f",
             "gridcolor": "white",
             "linecolor": "white",
             "minorgridcolor": "white",
             "startlinecolor": "#2a3f5f"
            },
            "baxis": {
             "endlinecolor": "#2a3f5f",
             "gridcolor": "white",
             "linecolor": "white",
             "minorgridcolor": "white",
             "startlinecolor": "#2a3f5f"
            },
            "type": "carpet"
           }
          ],
          "choropleth": [
           {
            "colorbar": {
             "outlinewidth": 0,
             "ticks": ""
            },
            "type": "choropleth"
           }
          ],
          "contour": [
           {
            "colorbar": {
             "outlinewidth": 0,
             "ticks": ""
            },
            "colorscale": [
             [
              0,
              "#0d0887"
             ],
             [
              0.1111111111111111,
              "#46039f"
             ],
             [
              0.2222222222222222,
              "#7201a8"
             ],
             [
              0.3333333333333333,
              "#9c179e"
             ],
             [
              0.4444444444444444,
              "#bd3786"
             ],
             [
              0.5555555555555556,
              "#d8576b"
             ],
             [
              0.6666666666666666,
              "#ed7953"
             ],
             [
              0.7777777777777778,
              "#fb9f3a"
             ],
             [
              0.8888888888888888,
              "#fdca26"
             ],
             [
              1,
              "#f0f921"
             ]
            ],
            "type": "contour"
           }
          ],
          "contourcarpet": [
           {
            "colorbar": {
             "outlinewidth": 0,
             "ticks": ""
            },
            "type": "contourcarpet"
           }
          ],
          "heatmap": [
           {
            "colorbar": {
             "outlinewidth": 0,
             "ticks": ""
            },
            "colorscale": [
             [
              0,
              "#0d0887"
             ],
             [
              0.1111111111111111,
              "#46039f"
             ],
             [
              0.2222222222222222,
              "#7201a8"
             ],
             [
              0.3333333333333333,
              "#9c179e"
             ],
             [
              0.4444444444444444,
              "#bd3786"
             ],
             [
              0.5555555555555556,
              "#d8576b"
             ],
             [
              0.6666666666666666,
              "#ed7953"
             ],
             [
              0.7777777777777778,
              "#fb9f3a"
             ],
             [
              0.8888888888888888,
              "#fdca26"
             ],
             [
              1,
              "#f0f921"
             ]
            ],
            "type": "heatmap"
           }
          ],
          "heatmapgl": [
           {
            "colorbar": {
             "outlinewidth": 0,
             "ticks": ""
            },
            "colorscale": [
             [
              0,
              "#0d0887"
             ],
             [
              0.1111111111111111,
              "#46039f"
             ],
             [
              0.2222222222222222,
              "#7201a8"
             ],
             [
              0.3333333333333333,
              "#9c179e"
             ],
             [
              0.4444444444444444,
              "#bd3786"
             ],
             [
              0.5555555555555556,
              "#d8576b"
             ],
             [
              0.6666666666666666,
              "#ed7953"
             ],
             [
              0.7777777777777778,
              "#fb9f3a"
             ],
             [
              0.8888888888888888,
              "#fdca26"
             ],
             [
              1,
              "#f0f921"
             ]
            ],
            "type": "heatmapgl"
           }
          ],
          "histogram": [
           {
            "marker": {
             "pattern": {
              "fillmode": "overlay",
              "size": 10,
              "solidity": 0.2
             }
            },
            "type": "histogram"
           }
          ],
          "histogram2d": [
           {
            "colorbar": {
             "outlinewidth": 0,
             "ticks": ""
            },
            "colorscale": [
             [
              0,
              "#0d0887"
             ],
             [
              0.1111111111111111,
              "#46039f"
             ],
             [
              0.2222222222222222,
              "#7201a8"
             ],
             [
              0.3333333333333333,
              "#9c179e"
             ],
             [
              0.4444444444444444,
              "#bd3786"
             ],
             [
              0.5555555555555556,
              "#d8576b"
             ],
             [
              0.6666666666666666,
              "#ed7953"
             ],
             [
              0.7777777777777778,
              "#fb9f3a"
             ],
             [
              0.8888888888888888,
              "#fdca26"
             ],
             [
              1,
              "#f0f921"
             ]
            ],
            "type": "histogram2d"
           }
          ],
          "histogram2dcontour": [
           {
            "colorbar": {
             "outlinewidth": 0,
             "ticks": ""
            },
            "colorscale": [
             [
              0,
              "#0d0887"
             ],
             [
              0.1111111111111111,
              "#46039f"
             ],
             [
              0.2222222222222222,
              "#7201a8"
             ],
             [
              0.3333333333333333,
              "#9c179e"
             ],
             [
              0.4444444444444444,
              "#bd3786"
             ],
             [
              0.5555555555555556,
              "#d8576b"
             ],
             [
              0.6666666666666666,
              "#ed7953"
             ],
             [
              0.7777777777777778,
              "#fb9f3a"
             ],
             [
              0.8888888888888888,
              "#fdca26"
             ],
             [
              1,
              "#f0f921"
             ]
            ],
            "type": "histogram2dcontour"
           }
          ],
          "mesh3d": [
           {
            "colorbar": {
             "outlinewidth": 0,
             "ticks": ""
            },
            "type": "mesh3d"
           }
          ],
          "parcoords": [
           {
            "line": {
             "colorbar": {
              "outlinewidth": 0,
              "ticks": ""
             }
            },
            "type": "parcoords"
           }
          ],
          "pie": [
           {
            "automargin": true,
            "type": "pie"
           }
          ],
          "scatter": [
           {
            "fillpattern": {
             "fillmode": "overlay",
             "size": 10,
             "solidity": 0.2
            },
            "type": "scatter"
           }
          ],
          "scatter3d": [
           {
            "line": {
             "colorbar": {
              "outlinewidth": 0,
              "ticks": ""
             }
            },
            "marker": {
             "colorbar": {
              "outlinewidth": 0,
              "ticks": ""
             }
            },
            "type": "scatter3d"
           }
          ],
          "scattercarpet": [
           {
            "marker": {
             "colorbar": {
              "outlinewidth": 0,
              "ticks": ""
             }
            },
            "type": "scattercarpet"
           }
          ],
          "scattergeo": [
           {
            "marker": {
             "colorbar": {
              "outlinewidth": 0,
              "ticks": ""
             }
            },
            "type": "scattergeo"
           }
          ],
          "scattergl": [
           {
            "marker": {
             "colorbar": {
              "outlinewidth": 0,
              "ticks": ""
             }
            },
            "type": "scattergl"
           }
          ],
          "scattermapbox": [
           {
            "marker": {
             "colorbar": {
              "outlinewidth": 0,
              "ticks": ""
             }
            },
            "type": "scattermapbox"
           }
          ],
          "scatterpolar": [
           {
            "marker": {
             "colorbar": {
              "outlinewidth": 0,
              "ticks": ""
             }
            },
            "type": "scatterpolar"
           }
          ],
          "scatterpolargl": [
           {
            "marker": {
             "colorbar": {
              "outlinewidth": 0,
              "ticks": ""
             }
            },
            "type": "scatterpolargl"
           }
          ],
          "scatterternary": [
           {
            "marker": {
             "colorbar": {
              "outlinewidth": 0,
              "ticks": ""
             }
            },
            "type": "scatterternary"
           }
          ],
          "surface": [
           {
            "colorbar": {
             "outlinewidth": 0,
             "ticks": ""
            },
            "colorscale": [
             [
              0,
              "#0d0887"
             ],
             [
              0.1111111111111111,
              "#46039f"
             ],
             [
              0.2222222222222222,
              "#7201a8"
             ],
             [
              0.3333333333333333,
              "#9c179e"
             ],
             [
              0.4444444444444444,
              "#bd3786"
             ],
             [
              0.5555555555555556,
              "#d8576b"
             ],
             [
              0.6666666666666666,
              "#ed7953"
             ],
             [
              0.7777777777777778,
              "#fb9f3a"
             ],
             [
              0.8888888888888888,
              "#fdca26"
             ],
             [
              1,
              "#f0f921"
             ]
            ],
            "type": "surface"
           }
          ],
          "table": [
           {
            "cells": {
             "fill": {
              "color": "#EBF0F8"
             },
             "line": {
              "color": "white"
             }
            },
            "header": {
             "fill": {
              "color": "#C8D4E3"
             },
             "line": {
              "color": "white"
             }
            },
            "type": "table"
           }
          ]
         },
         "layout": {
          "annotationdefaults": {
           "arrowcolor": "#2a3f5f",
           "arrowhead": 0,
           "arrowwidth": 1
          },
          "autotypenumbers": "strict",
          "coloraxis": {
           "colorbar": {
            "outlinewidth": 0,
            "ticks": ""
           }
          },
          "colorscale": {
           "diverging": [
            [
             0,
             "#8e0152"
            ],
            [
             0.1,
             "#c51b7d"
            ],
            [
             0.2,
             "#de77ae"
            ],
            [
             0.3,
             "#f1b6da"
            ],
            [
             0.4,
             "#fde0ef"
            ],
            [
             0.5,
             "#f7f7f7"
            ],
            [
             0.6,
             "#e6f5d0"
            ],
            [
             0.7,
             "#b8e186"
            ],
            [
             0.8,
             "#7fbc41"
            ],
            [
             0.9,
             "#4d9221"
            ],
            [
             1,
             "#276419"
            ]
           ],
           "sequential": [
            [
             0,
             "#0d0887"
            ],
            [
             0.1111111111111111,
             "#46039f"
            ],
            [
             0.2222222222222222,
             "#7201a8"
            ],
            [
             0.3333333333333333,
             "#9c179e"
            ],
            [
             0.4444444444444444,
             "#bd3786"
            ],
            [
             0.5555555555555556,
             "#d8576b"
            ],
            [
             0.6666666666666666,
             "#ed7953"
            ],
            [
             0.7777777777777778,
             "#fb9f3a"
            ],
            [
             0.8888888888888888,
             "#fdca26"
            ],
            [
             1,
             "#f0f921"
            ]
           ],
           "sequentialminus": [
            [
             0,
             "#0d0887"
            ],
            [
             0.1111111111111111,
             "#46039f"
            ],
            [
             0.2222222222222222,
             "#7201a8"
            ],
            [
             0.3333333333333333,
             "#9c179e"
            ],
            [
             0.4444444444444444,
             "#bd3786"
            ],
            [
             0.5555555555555556,
             "#d8576b"
            ],
            [
             0.6666666666666666,
             "#ed7953"
            ],
            [
             0.7777777777777778,
             "#fb9f3a"
            ],
            [
             0.8888888888888888,
             "#fdca26"
            ],
            [
             1,
             "#f0f921"
            ]
           ]
          },
          "colorway": [
           "#636efa",
           "#EF553B",
           "#00cc96",
           "#ab63fa",
           "#FFA15A",
           "#19d3f3",
           "#FF6692",
           "#B6E880",
           "#FF97FF",
           "#FECB52"
          ],
          "font": {
           "color": "#2a3f5f"
          },
          "geo": {
           "bgcolor": "white",
           "lakecolor": "white",
           "landcolor": "#E5ECF6",
           "showlakes": true,
           "showland": true,
           "subunitcolor": "white"
          },
          "hoverlabel": {
           "align": "left"
          },
          "hovermode": "closest",
          "mapbox": {
           "style": "light"
          },
          "paper_bgcolor": "white",
          "plot_bgcolor": "#E5ECF6",
          "polar": {
           "angularaxis": {
            "gridcolor": "white",
            "linecolor": "white",
            "ticks": ""
           },
           "bgcolor": "#E5ECF6",
           "radialaxis": {
            "gridcolor": "white",
            "linecolor": "white",
            "ticks": ""
           }
          },
          "scene": {
           "xaxis": {
            "backgroundcolor": "#E5ECF6",
            "gridcolor": "white",
            "gridwidth": 2,
            "linecolor": "white",
            "showbackground": true,
            "ticks": "",
            "zerolinecolor": "white"
           },
           "yaxis": {
            "backgroundcolor": "#E5ECF6",
            "gridcolor": "white",
            "gridwidth": 2,
            "linecolor": "white",
            "showbackground": true,
            "ticks": "",
            "zerolinecolor": "white"
           },
           "zaxis": {
            "backgroundcolor": "#E5ECF6",
            "gridcolor": "white",
            "gridwidth": 2,
            "linecolor": "white",
            "showbackground": true,
            "ticks": "",
            "zerolinecolor": "white"
           }
          },
          "shapedefaults": {
           "line": {
            "color": "#2a3f5f"
           }
          },
          "ternary": {
           "aaxis": {
            "gridcolor": "white",
            "linecolor": "white",
            "ticks": ""
           },
           "baxis": {
            "gridcolor": "white",
            "linecolor": "white",
            "ticks": ""
           },
           "bgcolor": "#E5ECF6",
           "caxis": {
            "gridcolor": "white",
            "linecolor": "white",
            "ticks": ""
           }
          },
          "title": {
           "x": 0.05
          },
          "xaxis": {
           "automargin": true,
           "gridcolor": "white",
           "linecolor": "white",
           "ticks": "",
           "title": {
            "standoff": 15
           },
           "zerolinecolor": "white",
           "zerolinewidth": 2
          },
          "yaxis": {
           "automargin": true,
           "gridcolor": "white",
           "linecolor": "white",
           "ticks": "",
           "title": {
            "standoff": 15
           },
           "zerolinecolor": "white",
           "zerolinewidth": 2
          }
         }
        },
        "title": {
         "text": "Count of Course Enrolments by Category"
        },
        "width": 800,
        "xaxis": {
         "anchor": "y",
         "domain": [
          0,
          1
         ],
         "title": {
          "text": "Category"
         }
        },
        "yaxis": {
         "anchor": "x",
         "domain": [
          0,
          1
         ],
         "title": {
          "text": "Count"
         }
        }
       }
      }
     },
     "metadata": {},
     "output_type": "display_data"
    }
   ],
   "source": [
    "df_grouped = enrolments.groupby(by='category').size().to_frame(name='count').reset_index().sort_values(by='count', ascending=False)\n",
    "fig = px.bar(df_grouped, x='category', y='count', title='Count of Course Enrolments by Category')\n",
    "fig.update_layout(xaxis_title='Category', yaxis_title='Count')\n",
    "fig.update_layout(width=800, height=500)\n",
    "fig.show()"
   ]
  },
  {
   "cell_type": "markdown",
   "metadata": {},
   "source": [
    "Count of enrolments of a category popularized by number of courses in that category:"
   ]
  },
  {
   "cell_type": "code",
   "execution_count": 26,
   "metadata": {},
   "outputs": [
    {
     "data": {
      "application/vnd.plotly.v1+json": {
       "config": {
        "plotlyServerURL": "https://plot.ly"
       },
       "data": [
        {
         "alignmentgroup": "True",
         "hovertemplate": "category=Social<br>Count of students=%{x}<br>Course=%{y}<extra></extra>",
         "legendgroup": "Social",
         "marker": {
          "color": "#636efa",
          "pattern": {
           "shape": ""
          }
         },
         "name": "Social",
         "offsetgroup": "Social",
         "orientation": "h",
         "showlegend": true,
         "textposition": "auto",
         "type": "bar",
         "x": [
          6,
          12,
          27,
          62,
          74,
          119,
          126,
          150,
          225
         ],
         "xaxis": "x",
         "y": [
          "Volunteering at Dr. Amte's Anandvan",
          "Principle Centered Leadership",
          "Terrace Gardening",
          "Teaching Assistantship",
          "Mentorship to Juniors",
          "Working with NGO",
          "NSS",
          "Wall Painting",
          "Mentoring School Children (Abhyudaya)"
         ],
         "yaxis": "y"
        },
        {
         "alignmentgroup": "True",
         "hovertemplate": "category=Physical<br>Count of students=%{x}<br>Course=%{y}<extra></extra>",
         "legendgroup": "Physical",
         "marker": {
          "color": "#EF553B",
          "pattern": {
           "shape": ""
          }
         },
         "name": "Physical",
         "offsetgroup": "Physical",
         "orientation": "h",
         "showlegend": true,
         "textposition": "auto",
         "type": "bar",
         "x": [
          14,
          17,
          37,
          40,
          45,
          63,
          144,
          221,
          228,
          285,
          385
         ],
         "xaxis": "x",
         "y": [
          "Kathak",
          "Swimming",
          "Physical Fitness",
          "Astitva",
          "Taekwondo",
          "Self Defense for Women",
          "Running",
          "Trekking",
          "Skipping",
          "Sports",
          "Staircase Climbing"
         ],
         "yaxis": "y"
        },
        {
         "alignmentgroup": "True",
         "hovertemplate": "category=Emotional<br>Count of students=%{x}<br>Course=%{y}<extra></extra>",
         "legendgroup": "Emotional",
         "marker": {
          "color": "#00cc96",
          "pattern": {
           "shape": ""
          }
         },
         "name": "Emotional",
         "offsetgroup": "Emotional",
         "orientation": "h",
         "showlegend": true,
         "textposition": "auto",
         "type": "bar",
         "x": [
          16,
          38,
          198
         ],
         "xaxis": "x",
         "y": [
          "Universal Human Value",
          "Jeevan Vidya (Work Life Balance)",
          "Integrated Personality Development"
         ],
         "yaxis": "y"
        },
        {
         "alignmentgroup": "True",
         "hovertemplate": "category=Intellectual<br>Count of students=%{x}<br>Course=%{y}<extra></extra>",
         "legendgroup": "Intellectual",
         "marker": {
          "color": "#ab63fa",
          "pattern": {
           "shape": ""
          }
         },
         "name": "Intellectual",
         "offsetgroup": "Intellectual",
         "orientation": "h",
         "showlegend": true,
         "textposition": "auto",
         "type": "bar",
         "x": [
          16,
          17,
          35,
          40,
          43,
          49,
          104,
          116,
          129,
          286,
          291,
          294,
          337,
          374,
          421
         ],
         "xaxis": "x",
         "y": [
          "Social Psychology",
          "Technology Entrepreneurship",
          "Basics of Music Composition",
          "Cinematography",
          "Idea Lab",
          "Indian Knowledge System",
          "Study of Life",
          "Basic Cooking",
          "Basics of Keyboard playing",
          "Basics of Fire Safety",
          "Fundamentals of Photography",
          "Innovation and Creativity",
          "Film Appreciation",
          "Design Thinking",
          "Read a book"
         ],
         "yaxis": "y"
        },
        {
         "alignmentgroup": "True",
         "hovertemplate": "category=Spiritual<br>Count of students=%{x}<br>Course=%{y}<extra></extra>",
         "legendgroup": "Spiritual",
         "marker": {
          "color": "#FFA15A",
          "pattern": {
           "shape": ""
          }
         },
         "name": "Spiritual",
         "offsetgroup": "Spiritual",
         "orientation": "h",
         "showlegend": true,
         "textposition": "auto",
         "type": "bar",
         "x": [
          27,
          56,
          87,
          123
         ],
         "xaxis": "x",
         "y": [
          "Art of living",
          "Yog Vidya",
          "Pranvidya",
          "Introduction to Bhagvadgita"
         ],
         "yaxis": "y"
        }
       ],
       "layout": {
        "barmode": "relative",
        "height": 800,
        "legend": {
         "title": {
          "text": "category"
         },
         "tracegroupgap": 0
        },
        "margin": {
         "t": 60
        },
        "template": {
         "data": {
          "bar": [
           {
            "error_x": {
             "color": "#2a3f5f"
            },
            "error_y": {
             "color": "#2a3f5f"
            },
            "marker": {
             "line": {
              "color": "#E5ECF6",
              "width": 0.5
             },
             "pattern": {
              "fillmode": "overlay",
              "size": 10,
              "solidity": 0.2
             }
            },
            "type": "bar"
           }
          ],
          "barpolar": [
           {
            "marker": {
             "line": {
              "color": "#E5ECF6",
              "width": 0.5
             },
             "pattern": {
              "fillmode": "overlay",
              "size": 10,
              "solidity": 0.2
             }
            },
            "type": "barpolar"
           }
          ],
          "carpet": [
           {
            "aaxis": {
             "endlinecolor": "#2a3f5f",
             "gridcolor": "white",
             "linecolor": "white",
             "minorgridcolor": "white",
             "startlinecolor": "#2a3f5f"
            },
            "baxis": {
             "endlinecolor": "#2a3f5f",
             "gridcolor": "white",
             "linecolor": "white",
             "minorgridcolor": "white",
             "startlinecolor": "#2a3f5f"
            },
            "type": "carpet"
           }
          ],
          "choropleth": [
           {
            "colorbar": {
             "outlinewidth": 0,
             "ticks": ""
            },
            "type": "choropleth"
           }
          ],
          "contour": [
           {
            "colorbar": {
             "outlinewidth": 0,
             "ticks": ""
            },
            "colorscale": [
             [
              0,
              "#0d0887"
             ],
             [
              0.1111111111111111,
              "#46039f"
             ],
             [
              0.2222222222222222,
              "#7201a8"
             ],
             [
              0.3333333333333333,
              "#9c179e"
             ],
             [
              0.4444444444444444,
              "#bd3786"
             ],
             [
              0.5555555555555556,
              "#d8576b"
             ],
             [
              0.6666666666666666,
              "#ed7953"
             ],
             [
              0.7777777777777778,
              "#fb9f3a"
             ],
             [
              0.8888888888888888,
              "#fdca26"
             ],
             [
              1,
              "#f0f921"
             ]
            ],
            "type": "contour"
           }
          ],
          "contourcarpet": [
           {
            "colorbar": {
             "outlinewidth": 0,
             "ticks": ""
            },
            "type": "contourcarpet"
           }
          ],
          "heatmap": [
           {
            "colorbar": {
             "outlinewidth": 0,
             "ticks": ""
            },
            "colorscale": [
             [
              0,
              "#0d0887"
             ],
             [
              0.1111111111111111,
              "#46039f"
             ],
             [
              0.2222222222222222,
              "#7201a8"
             ],
             [
              0.3333333333333333,
              "#9c179e"
             ],
             [
              0.4444444444444444,
              "#bd3786"
             ],
             [
              0.5555555555555556,
              "#d8576b"
             ],
             [
              0.6666666666666666,
              "#ed7953"
             ],
             [
              0.7777777777777778,
              "#fb9f3a"
             ],
             [
              0.8888888888888888,
              "#fdca26"
             ],
             [
              1,
              "#f0f921"
             ]
            ],
            "type": "heatmap"
           }
          ],
          "heatmapgl": [
           {
            "colorbar": {
             "outlinewidth": 0,
             "ticks": ""
            },
            "colorscale": [
             [
              0,
              "#0d0887"
             ],
             [
              0.1111111111111111,
              "#46039f"
             ],
             [
              0.2222222222222222,
              "#7201a8"
             ],
             [
              0.3333333333333333,
              "#9c179e"
             ],
             [
              0.4444444444444444,
              "#bd3786"
             ],
             [
              0.5555555555555556,
              "#d8576b"
             ],
             [
              0.6666666666666666,
              "#ed7953"
             ],
             [
              0.7777777777777778,
              "#fb9f3a"
             ],
             [
              0.8888888888888888,
              "#fdca26"
             ],
             [
              1,
              "#f0f921"
             ]
            ],
            "type": "heatmapgl"
           }
          ],
          "histogram": [
           {
            "marker": {
             "pattern": {
              "fillmode": "overlay",
              "size": 10,
              "solidity": 0.2
             }
            },
            "type": "histogram"
           }
          ],
          "histogram2d": [
           {
            "colorbar": {
             "outlinewidth": 0,
             "ticks": ""
            },
            "colorscale": [
             [
              0,
              "#0d0887"
             ],
             [
              0.1111111111111111,
              "#46039f"
             ],
             [
              0.2222222222222222,
              "#7201a8"
             ],
             [
              0.3333333333333333,
              "#9c179e"
             ],
             [
              0.4444444444444444,
              "#bd3786"
             ],
             [
              0.5555555555555556,
              "#d8576b"
             ],
             [
              0.6666666666666666,
              "#ed7953"
             ],
             [
              0.7777777777777778,
              "#fb9f3a"
             ],
             [
              0.8888888888888888,
              "#fdca26"
             ],
             [
              1,
              "#f0f921"
             ]
            ],
            "type": "histogram2d"
           }
          ],
          "histogram2dcontour": [
           {
            "colorbar": {
             "outlinewidth": 0,
             "ticks": ""
            },
            "colorscale": [
             [
              0,
              "#0d0887"
             ],
             [
              0.1111111111111111,
              "#46039f"
             ],
             [
              0.2222222222222222,
              "#7201a8"
             ],
             [
              0.3333333333333333,
              "#9c179e"
             ],
             [
              0.4444444444444444,
              "#bd3786"
             ],
             [
              0.5555555555555556,
              "#d8576b"
             ],
             [
              0.6666666666666666,
              "#ed7953"
             ],
             [
              0.7777777777777778,
              "#fb9f3a"
             ],
             [
              0.8888888888888888,
              "#fdca26"
             ],
             [
              1,
              "#f0f921"
             ]
            ],
            "type": "histogram2dcontour"
           }
          ],
          "mesh3d": [
           {
            "colorbar": {
             "outlinewidth": 0,
             "ticks": ""
            },
            "type": "mesh3d"
           }
          ],
          "parcoords": [
           {
            "line": {
             "colorbar": {
              "outlinewidth": 0,
              "ticks": ""
             }
            },
            "type": "parcoords"
           }
          ],
          "pie": [
           {
            "automargin": true,
            "type": "pie"
           }
          ],
          "scatter": [
           {
            "fillpattern": {
             "fillmode": "overlay",
             "size": 10,
             "solidity": 0.2
            },
            "type": "scatter"
           }
          ],
          "scatter3d": [
           {
            "line": {
             "colorbar": {
              "outlinewidth": 0,
              "ticks": ""
             }
            },
            "marker": {
             "colorbar": {
              "outlinewidth": 0,
              "ticks": ""
             }
            },
            "type": "scatter3d"
           }
          ],
          "scattercarpet": [
           {
            "marker": {
             "colorbar": {
              "outlinewidth": 0,
              "ticks": ""
             }
            },
            "type": "scattercarpet"
           }
          ],
          "scattergeo": [
           {
            "marker": {
             "colorbar": {
              "outlinewidth": 0,
              "ticks": ""
             }
            },
            "type": "scattergeo"
           }
          ],
          "scattergl": [
           {
            "marker": {
             "colorbar": {
              "outlinewidth": 0,
              "ticks": ""
             }
            },
            "type": "scattergl"
           }
          ],
          "scattermapbox": [
           {
            "marker": {
             "colorbar": {
              "outlinewidth": 0,
              "ticks": ""
             }
            },
            "type": "scattermapbox"
           }
          ],
          "scatterpolar": [
           {
            "marker": {
             "colorbar": {
              "outlinewidth": 0,
              "ticks": ""
             }
            },
            "type": "scatterpolar"
           }
          ],
          "scatterpolargl": [
           {
            "marker": {
             "colorbar": {
              "outlinewidth": 0,
              "ticks": ""
             }
            },
            "type": "scatterpolargl"
           }
          ],
          "scatterternary": [
           {
            "marker": {
             "colorbar": {
              "outlinewidth": 0,
              "ticks": ""
             }
            },
            "type": "scatterternary"
           }
          ],
          "surface": [
           {
            "colorbar": {
             "outlinewidth": 0,
             "ticks": ""
            },
            "colorscale": [
             [
              0,
              "#0d0887"
             ],
             [
              0.1111111111111111,
              "#46039f"
             ],
             [
              0.2222222222222222,
              "#7201a8"
             ],
             [
              0.3333333333333333,
              "#9c179e"
             ],
             [
              0.4444444444444444,
              "#bd3786"
             ],
             [
              0.5555555555555556,
              "#d8576b"
             ],
             [
              0.6666666666666666,
              "#ed7953"
             ],
             [
              0.7777777777777778,
              "#fb9f3a"
             ],
             [
              0.8888888888888888,
              "#fdca26"
             ],
             [
              1,
              "#f0f921"
             ]
            ],
            "type": "surface"
           }
          ],
          "table": [
           {
            "cells": {
             "fill": {
              "color": "#EBF0F8"
             },
             "line": {
              "color": "white"
             }
            },
            "header": {
             "fill": {
              "color": "#C8D4E3"
             },
             "line": {
              "color": "white"
             }
            },
            "type": "table"
           }
          ]
         },
         "layout": {
          "annotationdefaults": {
           "arrowcolor": "#2a3f5f",
           "arrowhead": 0,
           "arrowwidth": 1
          },
          "autotypenumbers": "strict",
          "coloraxis": {
           "colorbar": {
            "outlinewidth": 0,
            "ticks": ""
           }
          },
          "colorscale": {
           "diverging": [
            [
             0,
             "#8e0152"
            ],
            [
             0.1,
             "#c51b7d"
            ],
            [
             0.2,
             "#de77ae"
            ],
            [
             0.3,
             "#f1b6da"
            ],
            [
             0.4,
             "#fde0ef"
            ],
            [
             0.5,
             "#f7f7f7"
            ],
            [
             0.6,
             "#e6f5d0"
            ],
            [
             0.7,
             "#b8e186"
            ],
            [
             0.8,
             "#7fbc41"
            ],
            [
             0.9,
             "#4d9221"
            ],
            [
             1,
             "#276419"
            ]
           ],
           "sequential": [
            [
             0,
             "#0d0887"
            ],
            [
             0.1111111111111111,
             "#46039f"
            ],
            [
             0.2222222222222222,
             "#7201a8"
            ],
            [
             0.3333333333333333,
             "#9c179e"
            ],
            [
             0.4444444444444444,
             "#bd3786"
            ],
            [
             0.5555555555555556,
             "#d8576b"
            ],
            [
             0.6666666666666666,
             "#ed7953"
            ],
            [
             0.7777777777777778,
             "#fb9f3a"
            ],
            [
             0.8888888888888888,
             "#fdca26"
            ],
            [
             1,
             "#f0f921"
            ]
           ],
           "sequentialminus": [
            [
             0,
             "#0d0887"
            ],
            [
             0.1111111111111111,
             "#46039f"
            ],
            [
             0.2222222222222222,
             "#7201a8"
            ],
            [
             0.3333333333333333,
             "#9c179e"
            ],
            [
             0.4444444444444444,
             "#bd3786"
            ],
            [
             0.5555555555555556,
             "#d8576b"
            ],
            [
             0.6666666666666666,
             "#ed7953"
            ],
            [
             0.7777777777777778,
             "#fb9f3a"
            ],
            [
             0.8888888888888888,
             "#fdca26"
            ],
            [
             1,
             "#f0f921"
            ]
           ]
          },
          "colorway": [
           "#636efa",
           "#EF553B",
           "#00cc96",
           "#ab63fa",
           "#FFA15A",
           "#19d3f3",
           "#FF6692",
           "#B6E880",
           "#FF97FF",
           "#FECB52"
          ],
          "font": {
           "color": "#2a3f5f"
          },
          "geo": {
           "bgcolor": "white",
           "lakecolor": "white",
           "landcolor": "#E5ECF6",
           "showlakes": true,
           "showland": true,
           "subunitcolor": "white"
          },
          "hoverlabel": {
           "align": "left"
          },
          "hovermode": "closest",
          "mapbox": {
           "style": "light"
          },
          "paper_bgcolor": "white",
          "plot_bgcolor": "#E5ECF6",
          "polar": {
           "angularaxis": {
            "gridcolor": "white",
            "linecolor": "white",
            "ticks": ""
           },
           "bgcolor": "#E5ECF6",
           "radialaxis": {
            "gridcolor": "white",
            "linecolor": "white",
            "ticks": ""
           }
          },
          "scene": {
           "xaxis": {
            "backgroundcolor": "#E5ECF6",
            "gridcolor": "white",
            "gridwidth": 2,
            "linecolor": "white",
            "showbackground": true,
            "ticks": "",
            "zerolinecolor": "white"
           },
           "yaxis": {
            "backgroundcolor": "#E5ECF6",
            "gridcolor": "white",
            "gridwidth": 2,
            "linecolor": "white",
            "showbackground": true,
            "ticks": "",
            "zerolinecolor": "white"
           },
           "zaxis": {
            "backgroundcolor": "#E5ECF6",
            "gridcolor": "white",
            "gridwidth": 2,
            "linecolor": "white",
            "showbackground": true,
            "ticks": "",
            "zerolinecolor": "white"
           }
          },
          "shapedefaults": {
           "line": {
            "color": "#2a3f5f"
           }
          },
          "ternary": {
           "aaxis": {
            "gridcolor": "white",
            "linecolor": "white",
            "ticks": ""
           },
           "baxis": {
            "gridcolor": "white",
            "linecolor": "white",
            "ticks": ""
           },
           "bgcolor": "#E5ECF6",
           "caxis": {
            "gridcolor": "white",
            "linecolor": "white",
            "ticks": ""
           }
          },
          "title": {
           "x": 0.05
          },
          "xaxis": {
           "automargin": true,
           "gridcolor": "white",
           "linecolor": "white",
           "ticks": "",
           "title": {
            "standoff": 15
           },
           "zerolinecolor": "white",
           "zerolinewidth": 2
          },
          "yaxis": {
           "automargin": true,
           "gridcolor": "white",
           "linecolor": "white",
           "ticks": "",
           "title": {
            "standoff": 15
           },
           "zerolinecolor": "white",
           "zerolinewidth": 2
          }
         }
        },
        "width": 1100,
        "xaxis": {
         "anchor": "y",
         "domain": [
          0,
          1
         ],
         "title": {
          "text": "Count of students"
         }
        },
        "yaxis": {
         "anchor": "x",
         "domain": [
          0,
          1
         ],
         "title": {
          "text": "Course"
         }
        }
       }
      }
     },
     "metadata": {},
     "output_type": "display_data"
    }
   ],
   "source": [
    "x = enrolments.groupby(by=\"course\").size().sort_values(ascending=True)\n",
    "x.name = \"Count of students\"\n",
    "x = pd.merge(\n",
    "    x, courses, left_index=True, right_on=\"course_name\"\n",
    ").dropna().sort_values(by=\"Count of students\", ascending=True)\n",
    "x = x[x['Count of students'] > 0]\n",
    "x.rename(columns={'course_name': 'Course'}, inplace=True)\n",
    "fig = px.bar(x, x='Count of students', y='Course', orientation='h', color='category')\n",
    "fig.update_layout(width=1100, height=800)"
   ]
  },
  {
   "cell_type": "markdown",
   "metadata": {},
   "source": [
    "Course Type Preferences Across Semesters:"
   ]
  },
  {
   "cell_type": "code",
   "execution_count": null,
   "metadata": {},
   "outputs": [
    {
     "data": {
      "application/vnd.plotly.v1+json": {
       "config": {
        "plotlyServerURL": "https://plot.ly"
       },
       "data": [
        {
         "alignmentgroup": "True",
         "hovertemplate": "category=Intellectual<br>period=%{x}<br>0=%{y}<extra></extra>",
         "legendgroup": "Intellectual",
         "marker": {
          "color": "#636efa",
          "pattern": {
           "shape": ""
          }
         },
         "name": "Intellectual",
         "offsetgroup": "Intellectual",
         "orientation": "v",
         "showlegend": true,
         "textposition": "auto",
         "type": "bar",
         "x": [
          "ODD_SEM_22_23",
          "EVEN_SEM_22_23",
          "ODD_SEM_23_24",
          "EVEN_SEM_23_24"
         ],
         "xaxis": "x",
         "y": [
          757,
          631,
          534,
          630
         ],
         "yaxis": "y"
        },
        {
         "alignmentgroup": "True",
         "hovertemplate": "category=Physical<br>period=%{x}<br>0=%{y}<extra></extra>",
         "legendgroup": "Physical",
         "marker": {
          "color": "#EF553B",
          "pattern": {
           "shape": ""
          }
         },
         "name": "Physical",
         "offsetgroup": "Physical",
         "orientation": "v",
         "showlegend": true,
         "textposition": "auto",
         "type": "bar",
         "x": [
          "ODD_SEM_22_23",
          "EVEN_SEM_22_23",
          "ODD_SEM_23_24",
          "EVEN_SEM_23_24"
         ],
         "xaxis": "x",
         "y": [
          67,
          276,
          375,
          761
         ],
         "yaxis": "y"
        },
        {
         "alignmentgroup": "True",
         "hovertemplate": "category=Social<br>period=%{x}<br>0=%{y}<extra></extra>",
         "legendgroup": "Social",
         "marker": {
          "color": "#00cc96",
          "pattern": {
           "shape": ""
          }
         },
         "name": "Social",
         "offsetgroup": "Social",
         "orientation": "v",
         "showlegend": true,
         "textposition": "auto",
         "type": "bar",
         "x": [
          "ODD_SEM_22_23",
          "EVEN_SEM_22_23",
          "ODD_SEM_23_24",
          "EVEN_SEM_23_24"
         ],
         "xaxis": "x",
         "y": [
          226,
          148,
          263,
          164
         ],
         "yaxis": "y"
        },
        {
         "alignmentgroup": "True",
         "hovertemplate": "category=Spiritual<br>period=%{x}<br>0=%{y}<extra></extra>",
         "legendgroup": "Spiritual",
         "marker": {
          "color": "#ab63fa",
          "pattern": {
           "shape": ""
          }
         },
         "name": "Spiritual",
         "offsetgroup": "Spiritual",
         "orientation": "v",
         "showlegend": true,
         "textposition": "auto",
         "type": "bar",
         "x": [
          "ODD_SEM_22_23",
          "EVEN_SEM_22_23",
          "ODD_SEM_23_24",
          "EVEN_SEM_23_24"
         ],
         "xaxis": "x",
         "y": [
          42,
          15,
          93,
          143
         ],
         "yaxis": "y"
        },
        {
         "alignmentgroup": "True",
         "hovertemplate": "category=Emotional<br>period=%{x}<br>0=%{y}<extra></extra>",
         "legendgroup": "Emotional",
         "marker": {
          "color": "#FFA15A",
          "pattern": {
           "shape": ""
          }
         },
         "name": "Emotional",
         "offsetgroup": "Emotional",
         "orientation": "v",
         "showlegend": true,
         "textposition": "auto",
         "type": "bar",
         "x": [
          "ODD_SEM_22_23",
          "EVEN_SEM_22_23",
          "ODD_SEM_23_24",
          "EVEN_SEM_23_24"
         ],
         "xaxis": "x",
         "y": [
          103,
          42,
          76,
          31
         ],
         "yaxis": "y"
        }
       ],
       "layout": {
        "barmode": "stack",
        "height": 600,
        "legend": {
         "title": {
          "text": "category"
         },
         "tracegroupgap": 0
        },
        "margin": {
         "t": 60
        },
        "template": {
         "data": {
          "bar": [
           {
            "error_x": {
             "color": "#2a3f5f"
            },
            "error_y": {
             "color": "#2a3f5f"
            },
            "marker": {
             "line": {
              "color": "#E5ECF6",
              "width": 0.5
             },
             "pattern": {
              "fillmode": "overlay",
              "size": 10,
              "solidity": 0.2
             }
            },
            "type": "bar"
           }
          ],
          "barpolar": [
           {
            "marker": {
             "line": {
              "color": "#E5ECF6",
              "width": 0.5
             },
             "pattern": {
              "fillmode": "overlay",
              "size": 10,
              "solidity": 0.2
             }
            },
            "type": "barpolar"
           }
          ],
          "carpet": [
           {
            "aaxis": {
             "endlinecolor": "#2a3f5f",
             "gridcolor": "white",
             "linecolor": "white",
             "minorgridcolor": "white",
             "startlinecolor": "#2a3f5f"
            },
            "baxis": {
             "endlinecolor": "#2a3f5f",
             "gridcolor": "white",
             "linecolor": "white",
             "minorgridcolor": "white",
             "startlinecolor": "#2a3f5f"
            },
            "type": "carpet"
           }
          ],
          "choropleth": [
           {
            "colorbar": {
             "outlinewidth": 0,
             "ticks": ""
            },
            "type": "choropleth"
           }
          ],
          "contour": [
           {
            "colorbar": {
             "outlinewidth": 0,
             "ticks": ""
            },
            "colorscale": [
             [
              0,
              "#0d0887"
             ],
             [
              0.1111111111111111,
              "#46039f"
             ],
             [
              0.2222222222222222,
              "#7201a8"
             ],
             [
              0.3333333333333333,
              "#9c179e"
             ],
             [
              0.4444444444444444,
              "#bd3786"
             ],
             [
              0.5555555555555556,
              "#d8576b"
             ],
             [
              0.6666666666666666,
              "#ed7953"
             ],
             [
              0.7777777777777778,
              "#fb9f3a"
             ],
             [
              0.8888888888888888,
              "#fdca26"
             ],
             [
              1,
              "#f0f921"
             ]
            ],
            "type": "contour"
           }
          ],
          "contourcarpet": [
           {
            "colorbar": {
             "outlinewidth": 0,
             "ticks": ""
            },
            "type": "contourcarpet"
           }
          ],
          "heatmap": [
           {
            "colorbar": {
             "outlinewidth": 0,
             "ticks": ""
            },
            "colorscale": [
             [
              0,
              "#0d0887"
             ],
             [
              0.1111111111111111,
              "#46039f"
             ],
             [
              0.2222222222222222,
              "#7201a8"
             ],
             [
              0.3333333333333333,
              "#9c179e"
             ],
             [
              0.4444444444444444,
              "#bd3786"
             ],
             [
              0.5555555555555556,
              "#d8576b"
             ],
             [
              0.6666666666666666,
              "#ed7953"
             ],
             [
              0.7777777777777778,
              "#fb9f3a"
             ],
             [
              0.8888888888888888,
              "#fdca26"
             ],
             [
              1,
              "#f0f921"
             ]
            ],
            "type": "heatmap"
           }
          ],
          "heatmapgl": [
           {
            "colorbar": {
             "outlinewidth": 0,
             "ticks": ""
            },
            "colorscale": [
             [
              0,
              "#0d0887"
             ],
             [
              0.1111111111111111,
              "#46039f"
             ],
             [
              0.2222222222222222,
              "#7201a8"
             ],
             [
              0.3333333333333333,
              "#9c179e"
             ],
             [
              0.4444444444444444,
              "#bd3786"
             ],
             [
              0.5555555555555556,
              "#d8576b"
             ],
             [
              0.6666666666666666,
              "#ed7953"
             ],
             [
              0.7777777777777778,
              "#fb9f3a"
             ],
             [
              0.8888888888888888,
              "#fdca26"
             ],
             [
              1,
              "#f0f921"
             ]
            ],
            "type": "heatmapgl"
           }
          ],
          "histogram": [
           {
            "marker": {
             "pattern": {
              "fillmode": "overlay",
              "size": 10,
              "solidity": 0.2
             }
            },
            "type": "histogram"
           }
          ],
          "histogram2d": [
           {
            "colorbar": {
             "outlinewidth": 0,
             "ticks": ""
            },
            "colorscale": [
             [
              0,
              "#0d0887"
             ],
             [
              0.1111111111111111,
              "#46039f"
             ],
             [
              0.2222222222222222,
              "#7201a8"
             ],
             [
              0.3333333333333333,
              "#9c179e"
             ],
             [
              0.4444444444444444,
              "#bd3786"
             ],
             [
              0.5555555555555556,
              "#d8576b"
             ],
             [
              0.6666666666666666,
              "#ed7953"
             ],
             [
              0.7777777777777778,
              "#fb9f3a"
             ],
             [
              0.8888888888888888,
              "#fdca26"
             ],
             [
              1,
              "#f0f921"
             ]
            ],
            "type": "histogram2d"
           }
          ],
          "histogram2dcontour": [
           {
            "colorbar": {
             "outlinewidth": 0,
             "ticks": ""
            },
            "colorscale": [
             [
              0,
              "#0d0887"
             ],
             [
              0.1111111111111111,
              "#46039f"
             ],
             [
              0.2222222222222222,
              "#7201a8"
             ],
             [
              0.3333333333333333,
              "#9c179e"
             ],
             [
              0.4444444444444444,
              "#bd3786"
             ],
             [
              0.5555555555555556,
              "#d8576b"
             ],
             [
              0.6666666666666666,
              "#ed7953"
             ],
             [
              0.7777777777777778,
              "#fb9f3a"
             ],
             [
              0.8888888888888888,
              "#fdca26"
             ],
             [
              1,
              "#f0f921"
             ]
            ],
            "type": "histogram2dcontour"
           }
          ],
          "mesh3d": [
           {
            "colorbar": {
             "outlinewidth": 0,
             "ticks": ""
            },
            "type": "mesh3d"
           }
          ],
          "parcoords": [
           {
            "line": {
             "colorbar": {
              "outlinewidth": 0,
              "ticks": ""
             }
            },
            "type": "parcoords"
           }
          ],
          "pie": [
           {
            "automargin": true,
            "type": "pie"
           }
          ],
          "scatter": [
           {
            "fillpattern": {
             "fillmode": "overlay",
             "size": 10,
             "solidity": 0.2
            },
            "type": "scatter"
           }
          ],
          "scatter3d": [
           {
            "line": {
             "colorbar": {
              "outlinewidth": 0,
              "ticks": ""
             }
            },
            "marker": {
             "colorbar": {
              "outlinewidth": 0,
              "ticks": ""
             }
            },
            "type": "scatter3d"
           }
          ],
          "scattercarpet": [
           {
            "marker": {
             "colorbar": {
              "outlinewidth": 0,
              "ticks": ""
             }
            },
            "type": "scattercarpet"
           }
          ],
          "scattergeo": [
           {
            "marker": {
             "colorbar": {
              "outlinewidth": 0,
              "ticks": ""
             }
            },
            "type": "scattergeo"
           }
          ],
          "scattergl": [
           {
            "marker": {
             "colorbar": {
              "outlinewidth": 0,
              "ticks": ""
             }
            },
            "type": "scattergl"
           }
          ],
          "scattermapbox": [
           {
            "marker": {
             "colorbar": {
              "outlinewidth": 0,
              "ticks": ""
             }
            },
            "type": "scattermapbox"
           }
          ],
          "scatterpolar": [
           {
            "marker": {
             "colorbar": {
              "outlinewidth": 0,
              "ticks": ""
             }
            },
            "type": "scatterpolar"
           }
          ],
          "scatterpolargl": [
           {
            "marker": {
             "colorbar": {
              "outlinewidth": 0,
              "ticks": ""
             }
            },
            "type": "scatterpolargl"
           }
          ],
          "scatterternary": [
           {
            "marker": {
             "colorbar": {
              "outlinewidth": 0,
              "ticks": ""
             }
            },
            "type": "scatterternary"
           }
          ],
          "surface": [
           {
            "colorbar": {
             "outlinewidth": 0,
             "ticks": ""
            },
            "colorscale": [
             [
              0,
              "#0d0887"
             ],
             [
              0.1111111111111111,
              "#46039f"
             ],
             [
              0.2222222222222222,
              "#7201a8"
             ],
             [
              0.3333333333333333,
              "#9c179e"
             ],
             [
              0.4444444444444444,
              "#bd3786"
             ],
             [
              0.5555555555555556,
              "#d8576b"
             ],
             [
              0.6666666666666666,
              "#ed7953"
             ],
             [
              0.7777777777777778,
              "#fb9f3a"
             ],
             [
              0.8888888888888888,
              "#fdca26"
             ],
             [
              1,
              "#f0f921"
             ]
            ],
            "type": "surface"
           }
          ],
          "table": [
           {
            "cells": {
             "fill": {
              "color": "#EBF0F8"
             },
             "line": {
              "color": "white"
             }
            },
            "header": {
             "fill": {
              "color": "#C8D4E3"
             },
             "line": {
              "color": "white"
             }
            },
            "type": "table"
           }
          ]
         },
         "layout": {
          "annotationdefaults": {
           "arrowcolor": "#2a3f5f",
           "arrowhead": 0,
           "arrowwidth": 1
          },
          "autotypenumbers": "strict",
          "coloraxis": {
           "colorbar": {
            "outlinewidth": 0,
            "ticks": ""
           }
          },
          "colorscale": {
           "diverging": [
            [
             0,
             "#8e0152"
            ],
            [
             0.1,
             "#c51b7d"
            ],
            [
             0.2,
             "#de77ae"
            ],
            [
             0.3,
             "#f1b6da"
            ],
            [
             0.4,
             "#fde0ef"
            ],
            [
             0.5,
             "#f7f7f7"
            ],
            [
             0.6,
             "#e6f5d0"
            ],
            [
             0.7,
             "#b8e186"
            ],
            [
             0.8,
             "#7fbc41"
            ],
            [
             0.9,
             "#4d9221"
            ],
            [
             1,
             "#276419"
            ]
           ],
           "sequential": [
            [
             0,
             "#0d0887"
            ],
            [
             0.1111111111111111,
             "#46039f"
            ],
            [
             0.2222222222222222,
             "#7201a8"
            ],
            [
             0.3333333333333333,
             "#9c179e"
            ],
            [
             0.4444444444444444,
             "#bd3786"
            ],
            [
             0.5555555555555556,
             "#d8576b"
            ],
            [
             0.6666666666666666,
             "#ed7953"
            ],
            [
             0.7777777777777778,
             "#fb9f3a"
            ],
            [
             0.8888888888888888,
             "#fdca26"
            ],
            [
             1,
             "#f0f921"
            ]
           ],
           "sequentialminus": [
            [
             0,
             "#0d0887"
            ],
            [
             0.1111111111111111,
             "#46039f"
            ],
            [
             0.2222222222222222,
             "#7201a8"
            ],
            [
             0.3333333333333333,
             "#9c179e"
            ],
            [
             0.4444444444444444,
             "#bd3786"
            ],
            [
             0.5555555555555556,
             "#d8576b"
            ],
            [
             0.6666666666666666,
             "#ed7953"
            ],
            [
             0.7777777777777778,
             "#fb9f3a"
            ],
            [
             0.8888888888888888,
             "#fdca26"
            ],
            [
             1,
             "#f0f921"
            ]
           ]
          },
          "colorway": [
           "#636efa",
           "#EF553B",
           "#00cc96",
           "#ab63fa",
           "#FFA15A",
           "#19d3f3",
           "#FF6692",
           "#B6E880",
           "#FF97FF",
           "#FECB52"
          ],
          "font": {
           "color": "#2a3f5f"
          },
          "geo": {
           "bgcolor": "white",
           "lakecolor": "white",
           "landcolor": "#E5ECF6",
           "showlakes": true,
           "showland": true,
           "subunitcolor": "white"
          },
          "hoverlabel": {
           "align": "left"
          },
          "hovermode": "closest",
          "mapbox": {
           "style": "light"
          },
          "paper_bgcolor": "white",
          "plot_bgcolor": "#E5ECF6",
          "polar": {
           "angularaxis": {
            "gridcolor": "white",
            "linecolor": "white",
            "ticks": ""
           },
           "bgcolor": "#E5ECF6",
           "radialaxis": {
            "gridcolor": "white",
            "linecolor": "white",
            "ticks": ""
           }
          },
          "scene": {
           "xaxis": {
            "backgroundcolor": "#E5ECF6",
            "gridcolor": "white",
            "gridwidth": 2,
            "linecolor": "white",
            "showbackground": true,
            "ticks": "",
            "zerolinecolor": "white"
           },
           "yaxis": {
            "backgroundcolor": "#E5ECF6",
            "gridcolor": "white",
            "gridwidth": 2,
            "linecolor": "white",
            "showbackground": true,
            "ticks": "",
            "zerolinecolor": "white"
           },
           "zaxis": {
            "backgroundcolor": "#E5ECF6",
            "gridcolor": "white",
            "gridwidth": 2,
            "linecolor": "white",
            "showbackground": true,
            "ticks": "",
            "zerolinecolor": "white"
           }
          },
          "shapedefaults": {
           "line": {
            "color": "#2a3f5f"
           }
          },
          "ternary": {
           "aaxis": {
            "gridcolor": "white",
            "linecolor": "white",
            "ticks": ""
           },
           "baxis": {
            "gridcolor": "white",
            "linecolor": "white",
            "ticks": ""
           },
           "bgcolor": "#E5ECF6",
           "caxis": {
            "gridcolor": "white",
            "linecolor": "white",
            "ticks": ""
           }
          },
          "title": {
           "x": 0.05
          },
          "xaxis": {
           "automargin": true,
           "gridcolor": "white",
           "linecolor": "white",
           "ticks": "",
           "title": {
            "standoff": 15
           },
           "zerolinecolor": "white",
           "zerolinewidth": 2
          },
          "yaxis": {
           "automargin": true,
           "gridcolor": "white",
           "linecolor": "white",
           "ticks": "",
           "title": {
            "standoff": 15
           },
           "zerolinecolor": "white",
           "zerolinewidth": 2
          }
         }
        },
        "title": {
         "text": "Enrolment by Course Type over Semesters"
        },
        "width": 800,
        "xaxis": {
         "anchor": "y",
         "domain": [
          0,
          1
         ],
         "title": {
          "text": "Semester"
         }
        },
        "yaxis": {
         "anchor": "x",
         "domain": [
          0,
          1
         ],
         "title": {
          "text": "Enrollment Count"
         }
        }
       }
      }
     },
     "metadata": {},
     "output_type": "display_data"
    }
   ],
   "source": [
    "# df = enrolments.groupby(by=['period', 'category']).size().reset_index()\n",
    "fig = px.bar(df, x='period', y=0, color='category', barmode='stack')\n",
    "fig.update_layout(title='Enrolment by Course Type over Semesters', xaxis_title='Semester', yaxis_title='Enrollment Count')\n",
    "fig.update_layout(width=800, height=600)\n",
    "fig.show()"
   ]
  },
  {
   "cell_type": "code",
   "execution_count": null,
   "metadata": {},
   "outputs": [
    {
     "data": {
      "text/plain": [
       "Index([2020100001, 2020100003, 2020100007, 2020100008, 2020100010, 2020100011,\n",
       "       2020100015, 2020100017, 2020100018, 2020100019,\n",
       "       ...\n",
       "       2021700066, 2021700067, 2021700068, 2021700069, 2021700071, 2021700072,\n",
       "       2022200008, 2022200126, 2022600012, 2022601008],\n",
       "      dtype='int64', name='uid', length=455)"
      ]
     },
     "execution_count": 89,
     "metadata": {},
     "output_type": "execute_result"
    }
   ],
   "source": [
    "x = enrolments.groupby('uid')\n",
    "y = x.size()[x.size() == 4].index\n",
    "y"
   ]
  },
  {
   "cell_type": "code",
   "execution_count": null,
   "metadata": {},
   "outputs": [],
   "source": [
    "df = enrolments.groupby(by=['period', 'category']).size().reset_index()\n",
    "def fun(x):\n",
    "    if x == 'EVEN_SEM_22_23':\n",
    "        return 2\n",
    "    if x == 'EVEN_SEM_23_24':\n",
    "        return 4\n",
    "    if x == 'ODD_SEM_22_23':\n",
    "        return 1\n",
    "    if x == 'ODD_SEM_23_24':\n",
    "        return 3\n",
    "    \n",
    "def fun2(x):\n",
    "    if x == 'Intellectual':\n",
    "        return 0\n",
    "    if x == 'Physical':\n",
    "        return 1\n",
    "    if x == 'Social':\n",
    "        return 2\n",
    "    if x == 'Spiritual':\n",
    "        return 3\n",
    "    if x == 'Emotional':\n",
    "        return 4\n",
    "df['x'] = df['period'].apply(fun)\n",
    "df['y'] = df['category'].apply(fun2)\n",
    "df.sort_values(by=['x', 'y'], inplace=True)"
   ]
  },
  {
   "cell_type": "code",
   "execution_count": null,
   "metadata": {},
   "outputs": [
    {
     "data": {
      "text/html": [
       "<div>\n",
       "<style scoped>\n",
       "    .dataframe tbody tr th:only-of-type {\n",
       "        vertical-align: middle;\n",
       "    }\n",
       "\n",
       "    .dataframe tbody tr th {\n",
       "        vertical-align: top;\n",
       "    }\n",
       "\n",
       "    .dataframe thead th {\n",
       "        text-align: right;\n",
       "    }\n",
       "</style>\n",
       "<table border=\"1\" class=\"dataframe\">\n",
       "  <thead>\n",
       "    <tr style=\"text-align: right;\">\n",
       "      <th></th>\n",
       "      <th>period</th>\n",
       "      <th>category</th>\n",
       "      <th>0</th>\n",
       "    </tr>\n",
       "  </thead>\n",
       "  <tbody>\n",
       "    <tr>\n",
       "      <th>0</th>\n",
       "      <td>EVEN_SEM_22_23</td>\n",
       "      <td>Emotional</td>\n",
       "      <td>42</td>\n",
       "    </tr>\n",
       "    <tr>\n",
       "      <th>1</th>\n",
       "      <td>EVEN_SEM_22_23</td>\n",
       "      <td>Intellectual</td>\n",
       "      <td>631</td>\n",
       "    </tr>\n",
       "    <tr>\n",
       "      <th>2</th>\n",
       "      <td>EVEN_SEM_22_23</td>\n",
       "      <td>Physical</td>\n",
       "      <td>276</td>\n",
       "    </tr>\n",
       "    <tr>\n",
       "      <th>3</th>\n",
       "      <td>EVEN_SEM_22_23</td>\n",
       "      <td>Social</td>\n",
       "      <td>148</td>\n",
       "    </tr>\n",
       "    <tr>\n",
       "      <th>4</th>\n",
       "      <td>EVEN_SEM_22_23</td>\n",
       "      <td>Spiritual</td>\n",
       "      <td>15</td>\n",
       "    </tr>\n",
       "    <tr>\n",
       "      <th>5</th>\n",
       "      <td>EVEN_SEM_23_24</td>\n",
       "      <td>Emotional</td>\n",
       "      <td>31</td>\n",
       "    </tr>\n",
       "    <tr>\n",
       "      <th>6</th>\n",
       "      <td>EVEN_SEM_23_24</td>\n",
       "      <td>Intellectual</td>\n",
       "      <td>630</td>\n",
       "    </tr>\n",
       "    <tr>\n",
       "      <th>7</th>\n",
       "      <td>EVEN_SEM_23_24</td>\n",
       "      <td>Physical</td>\n",
       "      <td>761</td>\n",
       "    </tr>\n",
       "    <tr>\n",
       "      <th>8</th>\n",
       "      <td>EVEN_SEM_23_24</td>\n",
       "      <td>Social</td>\n",
       "      <td>164</td>\n",
       "    </tr>\n",
       "    <tr>\n",
       "      <th>9</th>\n",
       "      <td>EVEN_SEM_23_24</td>\n",
       "      <td>Spiritual</td>\n",
       "      <td>143</td>\n",
       "    </tr>\n",
       "    <tr>\n",
       "      <th>10</th>\n",
       "      <td>ODD_SEM_22_23</td>\n",
       "      <td>Emotional</td>\n",
       "      <td>103</td>\n",
       "    </tr>\n",
       "    <tr>\n",
       "      <th>11</th>\n",
       "      <td>ODD_SEM_22_23</td>\n",
       "      <td>Intellectual</td>\n",
       "      <td>757</td>\n",
       "    </tr>\n",
       "    <tr>\n",
       "      <th>12</th>\n",
       "      <td>ODD_SEM_22_23</td>\n",
       "      <td>Physical</td>\n",
       "      <td>67</td>\n",
       "    </tr>\n",
       "    <tr>\n",
       "      <th>13</th>\n",
       "      <td>ODD_SEM_22_23</td>\n",
       "      <td>Social</td>\n",
       "      <td>226</td>\n",
       "    </tr>\n",
       "    <tr>\n",
       "      <th>14</th>\n",
       "      <td>ODD_SEM_22_23</td>\n",
       "      <td>Spiritual</td>\n",
       "      <td>42</td>\n",
       "    </tr>\n",
       "    <tr>\n",
       "      <th>15</th>\n",
       "      <td>ODD_SEM_23_24</td>\n",
       "      <td>Emotional</td>\n",
       "      <td>76</td>\n",
       "    </tr>\n",
       "    <tr>\n",
       "      <th>16</th>\n",
       "      <td>ODD_SEM_23_24</td>\n",
       "      <td>Intellectual</td>\n",
       "      <td>534</td>\n",
       "    </tr>\n",
       "    <tr>\n",
       "      <th>17</th>\n",
       "      <td>ODD_SEM_23_24</td>\n",
       "      <td>Physical</td>\n",
       "      <td>375</td>\n",
       "    </tr>\n",
       "    <tr>\n",
       "      <th>18</th>\n",
       "      <td>ODD_SEM_23_24</td>\n",
       "      <td>Social</td>\n",
       "      <td>263</td>\n",
       "    </tr>\n",
       "    <tr>\n",
       "      <th>19</th>\n",
       "      <td>ODD_SEM_23_24</td>\n",
       "      <td>Spiritual</td>\n",
       "      <td>93</td>\n",
       "    </tr>\n",
       "  </tbody>\n",
       "</table>\n",
       "</div>"
      ],
      "text/plain": [
       "            period      category    0\n",
       "0   EVEN_SEM_22_23     Emotional   42\n",
       "1   EVEN_SEM_22_23  Intellectual  631\n",
       "2   EVEN_SEM_22_23      Physical  276\n",
       "3   EVEN_SEM_22_23        Social  148\n",
       "4   EVEN_SEM_22_23     Spiritual   15\n",
       "5   EVEN_SEM_23_24     Emotional   31\n",
       "6   EVEN_SEM_23_24  Intellectual  630\n",
       "7   EVEN_SEM_23_24      Physical  761\n",
       "8   EVEN_SEM_23_24        Social  164\n",
       "9   EVEN_SEM_23_24     Spiritual  143\n",
       "10   ODD_SEM_22_23     Emotional  103\n",
       "11   ODD_SEM_22_23  Intellectual  757\n",
       "12   ODD_SEM_22_23      Physical   67\n",
       "13   ODD_SEM_22_23        Social  226\n",
       "14   ODD_SEM_22_23     Spiritual   42\n",
       "15   ODD_SEM_23_24     Emotional   76\n",
       "16   ODD_SEM_23_24  Intellectual  534\n",
       "17   ODD_SEM_23_24      Physical  375\n",
       "18   ODD_SEM_23_24        Social  263\n",
       "19   ODD_SEM_23_24     Spiritual   93"
      ]
     },
     "execution_count": 63,
     "metadata": {},
     "output_type": "execute_result"
    }
   ],
   "source": [
    "enrolments.groupby(by=['period', 'category']).size().reset_index()"
   ]
  },
  {
   "cell_type": "code",
   "execution_count": null,
   "metadata": {},
   "outputs": [
    {
     "data": {
      "text/plain": [
       "category\n",
       "Emotional        252\n",
       "Intellectual    2552\n",
       "Physical        1479\n",
       "Social           801\n",
       "Spiritual        293\n",
       "dtype: int64"
      ]
     },
     "execution_count": 28,
     "metadata": {},
     "output_type": "execute_result"
    }
   ],
   "source": [
    "enrolments.groupby(by='category').size() "
   ]
  },
  {
   "cell_type": "code",
   "execution_count": null,
   "metadata": {},
   "outputs": [
    {
     "data": {
      "text/plain": [
       "category\n",
       "Emotional        3\n",
       "Intellectual    15\n",
       "Physical        11\n",
       "Social           9\n",
       "Spiritual        4\n",
       "dtype: int64"
      ]
     },
     "execution_count": 29,
     "metadata": {},
     "output_type": "execute_result"
    }
   ],
   "source": [
    "courses.groupby(by='category').size()"
   ]
  },
  {
   "cell_type": "code",
   "execution_count": null,
   "metadata": {},
   "outputs": [
    {
     "ename": "NameError",
     "evalue": "name 'courses' is not defined",
     "output_type": "error",
     "traceback": [
      "\u001b[1;31m---------------------------------------------------------------------------\u001b[0m",
      "\u001b[1;31mNameError\u001b[0m                                 Traceback (most recent call last)",
      "Cell \u001b[1;32mIn[4], line 1\u001b[0m\n\u001b[1;32m----> 1\u001b[0m enrolments\u001b[38;5;241m.\u001b[39mgroupby(by\u001b[38;5;241m=\u001b[39m\u001b[38;5;124m'\u001b[39m\u001b[38;5;124mcategory\u001b[39m\u001b[38;5;124m'\u001b[39m)\u001b[38;5;241m.\u001b[39msize()\u001b[38;5;241m.\u001b[39mto_frame(name\u001b[38;5;241m=\u001b[39m\u001b[38;5;124m'\u001b[39m\u001b[38;5;124mcount\u001b[39m\u001b[38;5;124m'\u001b[39m)\u001b[38;5;241m.\u001b[39mreset_index() \u001b[38;5;241m/\u001b[39m \u001b[43mcourses\u001b[49m\u001b[38;5;241m.\u001b[39mgroupby(by\u001b[38;5;241m=\u001b[39m\u001b[38;5;124m'\u001b[39m\u001b[38;5;124mcategory\u001b[39m\u001b[38;5;124m'\u001b[39m)\u001b[38;5;241m.\u001b[39msize()\u001b[38;5;241m.\u001b[39mto_frame(name\u001b[38;5;241m=\u001b[39m\u001b[38;5;124m'\u001b[39m\u001b[38;5;124mcount\u001b[39m\u001b[38;5;124m'\u001b[39m)\u001b[38;5;241m.\u001b[39mreset_index()\n",
      "\u001b[1;31mNameError\u001b[0m: name 'courses' is not defined"
     ]
    }
   ],
   "source": [
    "enrolments.groupby(by='category').size().to_frame(name='count').reset_index() / courses.groupby(by='category').size().to_frame(name='count').reset_index()"
   ]
  },
  {
   "cell_type": "code",
   "execution_count": null,
   "metadata": {},
   "outputs": [
    {
     "data": {
      "text/plain": [
       "category\n",
       "Emotional        252\n",
       "Intellectual    2552\n",
       "Physical        1479\n",
       "Social           801\n",
       "Spiritual        293\n",
       "Name: uid, dtype: int64"
      ]
     },
     "execution_count": 12,
     "metadata": {},
     "output_type": "execute_result"
    }
   ],
   "source": [
    "enrolments.groupby('category')['uid'].count() "
   ]
  },
  {
   "cell_type": "code",
   "execution_count": 27,
   "metadata": {},
   "outputs": [
    {
     "data": {
      "image/png": "[encoded data removed]",
      "text/plain": [
       "<Figure size 1000x600 with 1 Axes>"
      ]
     },
     "metadata": {},
     "output_type": "display_data"
    }
   ],
   "source": [
    "retention_rates = enrolments.groupby([\"uid\", \"category\"])[\"period\"].size().reset_index()\n",
    "retention_rates = (\n",
    "    retention_rates.groupby(\"category\")[\"period\"]\n",
    "    .value_counts(normalize=True)\n",
    "    .unstack()\n",
    "    .fillna(0)\n",
    ")\n",
    "\n",
    "# make a line plot\n",
    "plt.figure(figsize=(10, 6))\n",
    "sns.lineplot(data=retention_rates.T, markers=True)\n",
    "plt.title(\"Retention Rates by Course Type\")\n",
    "plt.xlabel(\"Number of Semesters\")\n",
    "plt.ylabel(\"Retention Rate\")\n",
    "plt.show()"
   ]
  },
  {
   "cell_type": "code",
   "execution_count": null,
   "metadata": {},
   "outputs": [],
   "source": []
  }
 ],
 "metadata": {
  "kernelspec": {
   "display_name": "dash-venv",
   "language": "python",
   "name": "python3"
  },
  "language_info": {
   "codemirror_mode": {
    "name": "ipython",
    "version": 3
   },
   "file_extension": ".py",
   "mimetype": "text/x-python",
   "name": "python",
   "nbconvert_exporter": "python",
   "pygments_lexer": "ipython3",
   "version": "3.11.0"
  }
 },
 "nbformat": 4,
 "nbformat_minor": 2
}
