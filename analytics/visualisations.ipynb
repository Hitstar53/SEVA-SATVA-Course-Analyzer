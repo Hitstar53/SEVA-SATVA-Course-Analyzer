{
 "cells": [
  {
   "cell_type": "code",
   "execution_count": 1,
   "metadata": {},
   "outputs": [
    {
     "ename": "ModuleNotFoundError",
     "evalue": "No module named 'matplotlib'",
     "output_type": "error",
     "traceback": [
      "\u001b[1;31m---------------------------------------------------------------------------\u001b[0m",
      "\u001b[1;31mModuleNotFoundError\u001b[0m                       Traceback (most recent call last)",
      "Cell \u001b[1;32mIn[1], line 2\u001b[0m\n\u001b[0;32m      1\u001b[0m \u001b[38;5;28;01mimport\u001b[39;00m \u001b[38;5;21;01mpandas\u001b[39;00m \u001b[38;5;28;01mas\u001b[39;00m \u001b[38;5;21;01mpd\u001b[39;00m\n\u001b[1;32m----> 2\u001b[0m \u001b[38;5;28;01mimport\u001b[39;00m \u001b[38;5;21;01mmatplotlib\u001b[39;00m\u001b[38;5;21;01m.\u001b[39;00m\u001b[38;5;21;01mpyplot\u001b[39;00m \u001b[38;5;28;01mas\u001b[39;00m \u001b[38;5;21;01mplt\u001b[39;00m\n\u001b[0;32m      3\u001b[0m \u001b[38;5;28;01mimport\u001b[39;00m \u001b[38;5;21;01mseaborn\u001b[39;00m \u001b[38;5;28;01mas\u001b[39;00m \u001b[38;5;21;01msns\u001b[39;00m\n\u001b[0;32m      4\u001b[0m \u001b[38;5;28;01mimport\u001b[39;00m \u001b[38;5;21;01mplotly\u001b[39;00m\u001b[38;5;21;01m.\u001b[39;00m\u001b[38;5;21;01mexpress\u001b[39;00m \u001b[38;5;28;01mas\u001b[39;00m \u001b[38;5;21;01mpx\u001b[39;00m\n",
      "\u001b[1;31mModuleNotFoundError\u001b[0m: No module named 'matplotlib'"
     ]
    }
   ],
   "source": [
    "import pandas as pd\n",
    "import matplotlib.pyplot as plt\n",
    "import seaborn as sns\n",
    "import plotly.express as px"
   ]
  },
  {
   "cell_type": "code",
   "execution_count": null,
   "metadata": {},
   "outputs": [],
   "source": [
    "df = pd.read_csv(r'/data/enrolments.csv')\n",
    "df.head(10)"
   ]
  },
  {
   "cell_type": "code",
   "execution_count": 2,
   "metadata": {},
   "outputs": [
    {
     "name": "stdout",
     "output_type": "stream",
     "text": [
      "Collecting matplotlib\n",
      "  Downloading matplotlib-3.8.4-cp312-cp312-win_amd64.whl.metadata (5.9 kB)\n",
      "Collecting contourpy>=1.0.1 (from matplotlib)\n",
      "  Downloading contourpy-1.2.1-cp312-cp312-win_amd64.whl.metadata (5.8 kB)\n",
      "Collecting cycler>=0.10 (from matplotlib)\n",
      "  Using cached cycler-0.12.1-py3-none-any.whl.metadata (3.8 kB)\n",
      "Collecting fonttools>=4.22.0 (from matplotlib)\n",
      "  Downloading fonttools-4.51.0-cp312-cp312-win_amd64.whl.metadata (162 kB)\n",
      "     ---------------------------------------- 0.0/162.8 kB ? eta -:--:--\n",
      "     ------ ------------------------------ 30.7/162.8 kB 660.6 kB/s eta 0:00:01\n",
      "     ------------------ ------------------ 81.9/162.8 kB 919.0 kB/s eta 0:00:01\n",
      "     ----------------------------- ------ 133.1/162.8 kB 983.0 kB/s eta 0:00:01\n",
      "     ------------------------------------ 162.8/162.8 kB 977.7 kB/s eta 0:00:00\n",
      "Collecting kiwisolver>=1.3.1 (from matplotlib)\n",
      "  Using cached kiwisolver-1.4.5-cp312-cp312-win_amd64.whl.metadata (6.5 kB)\n",
      "Requirement already satisfied: numpy>=1.21 in c:\\users\\arifa\\desktop\\college stuff\\bap\\ise1\\dash-venv\\lib\\site-packages (from matplotlib) (1.26.4)\n",
      "Requirement already satisfied: packaging>=20.0 in c:\\users\\arifa\\desktop\\college stuff\\bap\\ise1\\dash-venv\\lib\\site-packages (from matplotlib) (24.0)\n",
      "Collecting pillow>=8 (from matplotlib)\n",
      "  Using cached pillow-10.3.0-cp312-cp312-win_amd64.whl.metadata (9.4 kB)\n",
      "Collecting pyparsing>=2.3.1 (from matplotlib)\n",
      "  Using cached pyparsing-3.1.2-py3-none-any.whl.metadata (5.1 kB)\n",
      "Requirement already satisfied: python-dateutil>=2.7 in c:\\users\\arifa\\desktop\\college stuff\\bap\\ise1\\dash-venv\\lib\\site-packages (from matplotlib) (2.9.0.post0)\n",
      "Requirement already satisfied: six>=1.5 in c:\\users\\arifa\\desktop\\college stuff\\bap\\ise1\\dash-venv\\lib\\site-packages (from python-dateutil>=2.7->matplotlib) (1.16.0)\n",
      "Downloading matplotlib-3.8.4-cp312-cp312-win_amd64.whl (7.7 MB)\n",
      "   ---------------------------------------- 0.0/7.7 MB ? eta -:--:--\n",
      "   ---------------------------------------- 0.1/7.7 MB 1.7 MB/s eta 0:00:05\n",
      "    --------------------------------------- 0.2/7.7 MB 1.7 MB/s eta 0:00:05\n",
      "   - -------------------------------------- 0.3/7.7 MB 2.0 MB/s eta 0:00:04\n",
      "   - -------------------------------------- 0.4/7.7 MB 1.9 MB/s eta 0:00:04\n",
      "   -- ------------------------------------- 0.5/7.7 MB 2.0 MB/s eta 0:00:04\n",
      "   --- ------------------------------------ 0.6/7.7 MB 2.2 MB/s eta 0:00:04\n",
      "   --- ------------------------------------ 0.7/7.7 MB 2.2 MB/s eta 0:00:04\n",
      "   ---- ----------------------------------- 0.9/7.7 MB 2.4 MB/s eta 0:00:03\n",
      "   ----- ---------------------------------- 1.0/7.7 MB 2.4 MB/s eta 0:00:03\n",
      "   ------ --------------------------------- 1.2/7.7 MB 2.5 MB/s eta 0:00:03\n",
      "   ------ --------------------------------- 1.3/7.7 MB 2.5 MB/s eta 0:00:03\n",
      "   ------- -------------------------------- 1.4/7.7 MB 2.6 MB/s eta 0:00:03\n",
      "   -------- ------------------------------- 1.6/7.7 MB 2.6 MB/s eta 0:00:03\n",
      "   --------- ------------------------------ 1.8/7.7 MB 2.7 MB/s eta 0:00:03\n",
      "   --------- ------------------------------ 1.9/7.7 MB 2.7 MB/s eta 0:00:03\n",
      "   ---------- ----------------------------- 2.0/7.7 MB 2.7 MB/s eta 0:00:03\n",
      "   ----------- ---------------------------- 2.2/7.7 MB 2.8 MB/s eta 0:00:02\n",
      "   ------------ --------------------------- 2.4/7.7 MB 2.8 MB/s eta 0:00:02\n",
      "   ------------- -------------------------- 2.5/7.7 MB 2.9 MB/s eta 0:00:02\n",
      "   ------------- -------------------------- 2.7/7.7 MB 2.9 MB/s eta 0:00:02\n",
      "   --------------- ------------------------ 2.9/7.7 MB 3.0 MB/s eta 0:00:02\n",
      "   ---------------- ----------------------- 3.1/7.7 MB 3.0 MB/s eta 0:00:02\n",
      "   ----------------- ---------------------- 3.3/7.7 MB 3.1 MB/s eta 0:00:02\n",
      "   ------------------ --------------------- 3.5/7.7 MB 3.2 MB/s eta 0:00:02\n",
      "   ------------------- -------------------- 3.7/7.7 MB 3.2 MB/s eta 0:00:02\n",
      "   -------------------- ------------------- 3.9/7.7 MB 3.2 MB/s eta 0:00:02\n",
      "   --------------------- ------------------ 4.1/7.7 MB 3.3 MB/s eta 0:00:02\n",
      "   --------------------- ------------------ 4.2/7.7 MB 3.3 MB/s eta 0:00:02\n",
      "   ----------------------- ---------------- 4.4/7.7 MB 3.3 MB/s eta 0:00:01\n",
      "   ----------------------- ---------------- 4.6/7.7 MB 3.3 MB/s eta 0:00:01\n",
      "   ------------------------- -------------- 4.8/7.7 MB 3.3 MB/s eta 0:00:01\n",
      "   -------------------------- ------------- 5.0/7.7 MB 3.4 MB/s eta 0:00:01\n",
      "   --------------------------- ------------ 5.2/7.7 MB 3.4 MB/s eta 0:00:01\n",
      "   ---------------------------- ----------- 5.4/7.7 MB 3.4 MB/s eta 0:00:01\n",
      "   ----------------------------- ---------- 5.6/7.7 MB 3.5 MB/s eta 0:00:01\n",
      "   ------------------------------ --------- 5.8/7.7 MB 3.5 MB/s eta 0:00:01\n",
      "   ------------------------------- -------- 6.0/7.7 MB 3.5 MB/s eta 0:00:01\n",
      "   -------------------------------- ------- 6.2/7.7 MB 3.5 MB/s eta 0:00:01\n",
      "   --------------------------------- ------ 6.4/7.7 MB 3.6 MB/s eta 0:00:01\n",
      "   ---------------------------------- ----- 6.6/7.7 MB 3.6 MB/s eta 0:00:01\n",
      "   ----------------------------------- ---- 6.7/7.7 MB 3.6 MB/s eta 0:00:01\n",
      "   ------------------------------------ --- 7.0/7.7 MB 3.6 MB/s eta 0:00:01\n",
      "   ------------------------------------- -- 7.2/7.7 MB 3.6 MB/s eta 0:00:01\n",
      "   -------------------------------------- - 7.3/7.7 MB 3.6 MB/s eta 0:00:01\n",
      "   ---------------------------------------  7.5/7.7 MB 3.6 MB/s eta 0:00:01\n",
      "   ---------------------------------------  7.6/7.7 MB 3.6 MB/s eta 0:00:01\n",
      "   ---------------------------------------  7.7/7.7 MB 3.6 MB/s eta 0:00:01\n",
      "   ---------------------------------------- 7.7/7.7 MB 3.5 MB/s eta 0:00:00\n",
      "Downloading contourpy-1.2.1-cp312-cp312-win_amd64.whl (189 kB)\n",
      "   ---------------------------------------- 0.0/189.9 kB ? eta -:--:--\n",
      "   ----------------------- ---------------- 112.6/189.9 kB 3.3 MB/s eta 0:00:01\n",
      "   ---------------------------------------- 189.9/189.9 kB 2.3 MB/s eta 0:00:00\n",
      "Using cached cycler-0.12.1-py3-none-any.whl (8.3 kB)\n",
      "Downloading fonttools-4.51.0-cp312-cp312-win_amd64.whl (2.2 MB)\n",
      "   ---------------------------------------- 0.0/2.2 MB ? eta -:--:--\n",
      "   -- ------------------------------------- 0.1/2.2 MB 3.2 MB/s eta 0:00:01\n",
      "   ---- ----------------------------------- 0.2/2.2 MB 2.7 MB/s eta 0:00:01\n",
      "   ------ --------------------------------- 0.3/2.2 MB 2.5 MB/s eta 0:00:01\n",
      "   -------- ------------------------------- 0.5/2.2 MB 2.6 MB/s eta 0:00:01\n",
      "   --------- ------------------------------ 0.5/2.2 MB 2.2 MB/s eta 0:00:01\n",
      "   ------------ --------------------------- 0.7/2.2 MB 2.4 MB/s eta 0:00:01\n",
      "   -------------- ------------------------- 0.8/2.2 MB 2.4 MB/s eta 0:00:01\n",
      "   ----------------- ---------------------- 0.9/2.2 MB 2.6 MB/s eta 0:00:01\n",
      "   --------------------- ------------------ 1.1/2.2 MB 2.8 MB/s eta 0:00:01\n",
      "   ---------------------- ----------------- 1.2/2.2 MB 2.7 MB/s eta 0:00:01\n",
      "   ------------------------- -------------- 1.4/2.2 MB 2.8 MB/s eta 0:00:01\n",
      "   ---------------------------- ----------- 1.6/2.2 MB 2.9 MB/s eta 0:00:01\n",
      "   -------------------------------- ------- 1.8/2.2 MB 3.0 MB/s eta 0:00:01\n",
      "   ---------------------------------- ----- 1.9/2.2 MB 2.9 MB/s eta 0:00:01\n",
      "   ------------------------------------ --- 2.0/2.2 MB 2.9 MB/s eta 0:00:01\n",
      "   ---------------------------------------  2.2/2.2 MB 3.0 MB/s eta 0:00:01\n",
      "   ---------------------------------------- 2.2/2.2 MB 2.9 MB/s eta 0:00:00\n",
      "Using cached kiwisolver-1.4.5-cp312-cp312-win_amd64.whl (56 kB)\n",
      "Using cached pillow-10.3.0-cp312-cp312-win_amd64.whl (2.5 MB)\n",
      "Using cached pyparsing-3.1.2-py3-none-any.whl (103 kB)\n",
      "Installing collected packages: pyparsing, pillow, kiwisolver, fonttools, cycler, contourpy, matplotlib\n",
      "Successfully installed contourpy-1.2.1 cycler-0.12.1 fonttools-4.51.0 kiwisolver-1.4.5 matplotlib-3.8.4 pillow-10.3.0 pyparsing-3.1.2\n",
      "Note: you may need to restart the kernel to use updated packages.\n"
     ]
    }
   ],
   "source": [
    "%pip install matplotlib"
   ]
  },
  {
   "cell_type": "code",
   "execution_count": null,
   "metadata": {},
   "outputs": [],
   "source": [
    "!pip "
   ]
  }
 ],
 "metadata": {
  "kernelspec": {
   "display_name": "dash-venv",
   "language": "python",
   "name": "python3"
  },
  "language_info": {
   "codemirror_mode": {
    "name": "ipython",
    "version": 3
   },
   "file_extension": ".py",
   "mimetype": "text/x-python",
   "name": "python",
   "nbconvert_exporter": "python",
   "pygments_lexer": "ipython3",
   "version": "3.12.2"
  }
 },
 "nbformat": 4,
 "nbformat_minor": 2
}
