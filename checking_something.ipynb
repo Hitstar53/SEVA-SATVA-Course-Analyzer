{
 "cells": [
  {
   "cell_type": "code",
   "execution_count": 1,
   "metadata": {},
   "outputs": [],
   "source": [
    "import pandas as pd"
   ]
  },
  {
   "cell_type": "code",
   "execution_count": 2,
   "metadata": {},
   "outputs": [],
   "source": [
    "df = pd.read_csv(r'C:\\Users\\arifa\\Desktop\\college stuff\\bap\\ise1\\data\\enrolments.csv')"
   ]
  },
  {
   "cell_type": "code",
   "execution_count": 3,
   "metadata": {},
   "outputs": [
    {
     "name": "stdout",
     "output_type": "stream",
     "text": [
      "<class 'pandas.core.frame.DataFrame'>\n",
      "RangeIndex: 5377 entries, 0 to 5376\n",
      "Data columns (total 9 columns):\n",
      " #   Column    Non-Null Count  Dtype  \n",
      "---  ------    --------------  -----  \n",
      " 0   id        0 non-null      float64\n",
      " 1   email     5377 non-null   object \n",
      " 2   name      5377 non-null   object \n",
      " 3   uid       5377 non-null   int64  \n",
      " 4   branch    5377 non-null   object \n",
      " 5   sem       5377 non-null   int64  \n",
      " 6   course    5377 non-null   object \n",
      " 7   category  5377 non-null   object \n",
      " 8   period    5377 non-null   object \n",
      "dtypes: float64(1), int64(2), object(6)\n",
      "memory usage: 378.2+ KB\n"
     ]
    }
   ],
   "source": [
    "df.info()"
   ]
  },
  {
   "cell_type": "code",
   "execution_count": 4,
   "metadata": {},
   "outputs": [],
   "source": [
    "data = df\n",
    "data['branch'] = data['branch'].astype('category')\n",
    "data['course'] = data['course'].astype('category')\n",
    "data['period'] = data['period'].astype('category')\n",
    "data['category'] = data['category'].astype('category')\n",
    "df = data"
   ]
  },
  {
   "cell_type": "code",
   "execution_count": 5,
   "metadata": {},
   "outputs": [
    {
     "name": "stdout",
     "output_type": "stream",
     "text": [
      "<class 'pandas.core.frame.DataFrame'>\n",
      "RangeIndex: 5377 entries, 0 to 5376\n",
      "Data columns (total 9 columns):\n",
      " #   Column    Non-Null Count  Dtype   \n",
      "---  ------    --------------  -----   \n",
      " 0   id        0 non-null      float64 \n",
      " 1   email     5377 non-null   object  \n",
      " 2   name      5377 non-null   object  \n",
      " 3   uid       5377 non-null   int64   \n",
      " 4   branch    5377 non-null   category\n",
      " 5   sem       5377 non-null   int64   \n",
      " 6   course    5377 non-null   category\n",
      " 7   category  5377 non-null   category\n",
      " 8   period    5377 non-null   category\n",
      "dtypes: category(4), float64(1), int64(2), object(2)\n",
      "memory usage: 233.6+ KB\n"
     ]
    }
   ],
   "source": [
    "df.info()"
   ]
  },
  {
   "cell_type": "code",
   "execution_count": 8,
   "metadata": {},
   "outputs": [
    {
     "name": "stdout",
     "output_type": "stream",
     "text": [
      "COMP\n",
      "MCA\n",
      "AI-ML\n",
      "CSE-DS\n",
      "ETRX\n",
      "EXTC\n",
      "IT\n",
      "CSE-AIML\n",
      "CS-AIML\n",
      "CS-DS\n",
      "EXTC-A\n",
      "A\n",
      "CSE\n"
     ]
    }
   ],
   "source": [
    "for i in df['branch'].unique():\n",
    "    print(i)"
   ]
  },
  {
   "cell_type": "code",
   "execution_count": 9,
   "metadata": {},
   "outputs": [
    {
     "name": "stdout",
     "output_type": "stream",
     "text": [
      "1\n",
      "3\n",
      "5\n",
      "7\n",
      "4\n",
      "6\n",
      "8\n",
      "2\n"
     ]
    }
   ],
   "source": [
    "for i in df['sem'].unique():\n",
    "    print(i)"
   ]
  },
  {
   "cell_type": "code",
   "execution_count": null,
   "metadata": {},
   "outputs": [],
   "source": []
  }
 ],
 "metadata": {
  "kernelspec": {
   "display_name": "dash-venv",
   "language": "python",
   "name": "python3"
  },
  "language_info": {
   "codemirror_mode": {
    "name": "ipython",
    "version": 3
   },
   "file_extension": ".py",
   "mimetype": "text/x-python",
   "name": "python",
   "nbconvert_exporter": "python",
   "pygments_lexer": "ipython3",
   "version": "3.12.2"
  }
 },
 "nbformat": 4,
 "nbformat_minor": 2
}
