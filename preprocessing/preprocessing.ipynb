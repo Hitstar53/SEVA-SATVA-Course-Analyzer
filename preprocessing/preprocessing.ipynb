{
 "cells": [
  {
   "cell_type": "markdown",
   "metadata": {},
   "source": [
    "## Data Preprocessing"
   ]
  },
  {
   "cell_type": "code",
   "execution_count": 1,
   "metadata": {},
   "outputs": [],
   "source": [
    "import os\n",
    "import pandas as pd\n",
    "import numpy as np\n",
    "import openpyxl\n",
    "data_dir = '../data'"
   ]
  },
  {
   "cell_type": "markdown",
   "metadata": {},
   "source": [
    "### Generating Courses Data"
   ]
  },
  {
   "cell_type": "code",
   "execution_count": null,
   "metadata": {},
   "outputs": [],
   "source": [
    "courses = pd.read_csv(os.path.join(data_dir, 'courses.csv'))\n",
    "courses.sort_values(by=['category', 'course name'], ascending=[False, True], inplace=True)\n",
    "courses.reset_index(inplace=True, drop=True)\n",
    "courses[\"course_id\"] = courses.index\n",
    "courses.rename(columns={\"course name\": \"course_name\"}, inplace=True)\n",
    "courses = courses[[\"course_id\", \"course_name\", \"category\"]]"
   ]
  },
  {
   "cell_type": "code",
   "execution_count": null,
   "metadata": {},
   "outputs": [],
   "source": [
    "courses[\"course_id\"] = courses.index\n",
    "courses.rename(columns={\"course name\": \"course_name\"}, inplace=True)\n",
    "courses = courses[[\"course_id\", \"course_name\", \"category\"]]\n",
    "courses[\"course_id\"] += 1\n",
    "courses.to_csv(os.path.join(data_dir, \"courses.csv\"), index=False)"
   ]
  },
  {
   "cell_type": "code",
   "execution_count": 3,
   "metadata": {},
   "outputs": [
    {
     "data": {
      "text/html": [
       "<div>\n",
       "<style scoped>\n",
       "    .dataframe tbody tr th:only-of-type {\n",
       "        vertical-align: middle;\n",
       "    }\n",
       "\n",
       "    .dataframe tbody tr th {\n",
       "        vertical-align: top;\n",
       "    }\n",
       "\n",
       "    .dataframe thead th {\n",
       "        text-align: right;\n",
       "    }\n",
       "</style>\n",
       "<table border=\"1\" class=\"dataframe\">\n",
       "  <thead>\n",
       "    <tr style=\"text-align: right;\">\n",
       "      <th></th>\n",
       "      <th>course_id</th>\n",
       "      <th>course_name</th>\n",
       "      <th>category</th>\n",
       "    </tr>\n",
       "  </thead>\n",
       "  <tbody>\n",
       "    <tr>\n",
       "      <th>0</th>\n",
       "      <td>1</td>\n",
       "      <td>Art of living</td>\n",
       "      <td>Spiritual</td>\n",
       "    </tr>\n",
       "    <tr>\n",
       "      <th>1</th>\n",
       "      <td>2</td>\n",
       "      <td>Introduction to Bhagvadgita</td>\n",
       "      <td>Spiritual</td>\n",
       "    </tr>\n",
       "    <tr>\n",
       "      <th>2</th>\n",
       "      <td>3</td>\n",
       "      <td>Pranvidya</td>\n",
       "      <td>Spiritual</td>\n",
       "    </tr>\n",
       "    <tr>\n",
       "      <th>3</th>\n",
       "      <td>4</td>\n",
       "      <td>Yog Vidya</td>\n",
       "      <td>Spiritual</td>\n",
       "    </tr>\n",
       "    <tr>\n",
       "      <th>4</th>\n",
       "      <td>5</td>\n",
       "      <td>Mentoring School Children (Abhyudaya)</td>\n",
       "      <td>Social</td>\n",
       "    </tr>\n",
       "  </tbody>\n",
       "</table>\n",
       "</div>"
      ],
      "text/plain": [
       "   course_id                            course_name   category\n",
       "0          1                          Art of living  Spiritual\n",
       "1          2            Introduction to Bhagvadgita  Spiritual\n",
       "2          3                              Pranvidya  Spiritual\n",
       "3          4                              Yog Vidya  Spiritual\n",
       "4          5  Mentoring School Children (Abhyudaya)     Social"
      ]
     },
     "execution_count": 3,
     "metadata": {},
     "output_type": "execute_result"
    }
   ],
   "source": [
    "courses = pd.read_csv(os.path.join(data_dir, 'courses.csv'))\n",
    "courses.head()"
   ]
  },
  {
   "cell_type": "markdown",
   "metadata": {},
   "source": [
    "### Combine all sheets in a single CSV file\n"
   ]
  },
  {
   "cell_type": "code",
   "execution_count": 14,
   "metadata": {},
   "outputs": [
    {
     "data": {
      "text/html": [
       "<div>\n",
       "<style scoped>\n",
       "    .dataframe tbody tr th:only-of-type {\n",
       "        vertical-align: middle;\n",
       "    }\n",
       "\n",
       "    .dataframe tbody tr th {\n",
       "        vertical-align: top;\n",
       "    }\n",
       "\n",
       "    .dataframe thead th {\n",
       "        text-align: right;\n",
       "    }\n",
       "</style>\n",
       "<table border=\"1\" class=\"dataframe\">\n",
       "  <thead>\n",
       "    <tr style=\"text-align: right;\">\n",
       "      <th></th>\n",
       "      <th>email</th>\n",
       "      <th>name</th>\n",
       "      <th>uid</th>\n",
       "      <th>branch</th>\n",
       "      <th>sem</th>\n",
       "      <th>course</th>\n",
       "    </tr>\n",
       "  </thead>\n",
       "  <tbody>\n",
       "  </tbody>\n",
       "</table>\n",
       "</div>"
      ],
      "text/plain": [
       "Empty DataFrame\n",
       "Columns: [email, name, uid, branch, sem, course]\n",
       "Index: []"
      ]
     },
     "execution_count": 14,
     "metadata": {},
     "output_type": "execute_result"
    }
   ],
   "source": [
    "final = pd.DataFrame(columns=['email', 'name', 'uid', 'branch', 'sem', 'course'])\n",
    "final.head()"
   ]
  },
  {
   "cell_type": "code",
   "execution_count": 15,
   "metadata": {},
   "outputs": [
    {
     "data": {
      "text/html": [
       "<div>\n",
       "<style scoped>\n",
       "    .dataframe tbody tr th:only-of-type {\n",
       "        vertical-align: middle;\n",
       "    }\n",
       "\n",
       "    .dataframe tbody tr th {\n",
       "        vertical-align: top;\n",
       "    }\n",
       "\n",
       "    .dataframe thead th {\n",
       "        text-align: right;\n",
       "    }\n",
       "</style>\n",
       "<table border=\"1\" class=\"dataframe\">\n",
       "  <thead>\n",
       "    <tr style=\"text-align: right;\">\n",
       "      <th></th>\n",
       "      <th>email</th>\n",
       "      <th>name</th>\n",
       "      <th>uid</th>\n",
       "      <th>branch</th>\n",
       "      <th>sem</th>\n",
       "      <th>course</th>\n",
       "      <th>category</th>\n",
       "    </tr>\n",
       "  </thead>\n",
       "  <tbody>\n",
       "    <tr>\n",
       "      <th>0</th>\n",
       "      <td>shaun.dsouza@spit.ac.in</td>\n",
       "      <td>Shaun D'Souza</td>\n",
       "      <td>2021300031</td>\n",
       "      <td>COMP</td>\n",
       "      <td>1</td>\n",
       "      <td>Basics of Fire Safety</td>\n",
       "      <td>Intellectual</td>\n",
       "    </tr>\n",
       "    <tr>\n",
       "      <th>1</th>\n",
       "      <td>ganesh.chaudhari@spit.ac.in</td>\n",
       "      <td>Ganesh Chaudhari</td>\n",
       "      <td>2021510007</td>\n",
       "      <td>MCA</td>\n",
       "      <td>1</td>\n",
       "      <td>Basics of Fire Safety</td>\n",
       "      <td>Intellectual</td>\n",
       "    </tr>\n",
       "    <tr>\n",
       "      <th>2</th>\n",
       "      <td>chetan.dhandge@spit.ac.in</td>\n",
       "      <td>Chetan Dhandge</td>\n",
       "      <td>2021510010</td>\n",
       "      <td>MCA</td>\n",
       "      <td>1</td>\n",
       "      <td>Basics of Fire Safety</td>\n",
       "      <td>Intellectual</td>\n",
       "    </tr>\n",
       "    <tr>\n",
       "      <th>3</th>\n",
       "      <td>sudhir.gomase@spit.ac.in</td>\n",
       "      <td>Sudhir Narayan Gomase</td>\n",
       "      <td>2021510018</td>\n",
       "      <td>MCA</td>\n",
       "      <td>1</td>\n",
       "      <td>Basics of Fire Safety</td>\n",
       "      <td>Intellectual</td>\n",
       "    </tr>\n",
       "    <tr>\n",
       "      <th>4</th>\n",
       "      <td>vishal.padme@spit.ac.in</td>\n",
       "      <td>Vishal Devidas Padme</td>\n",
       "      <td>2021510041</td>\n",
       "      <td>MCA</td>\n",
       "      <td>1</td>\n",
       "      <td>Basics of Fire Safety</td>\n",
       "      <td>Intellectual</td>\n",
       "    </tr>\n",
       "  </tbody>\n",
       "</table>\n",
       "</div>"
      ],
      "text/plain": [
       "                         email                   name         uid branch  sem  \\\n",
       "0      shaun.dsouza@spit.ac.in          Shaun D'Souza  2021300031   COMP    1   \n",
       "1  ganesh.chaudhari@spit.ac.in       Ganesh Chaudhari  2021510007    MCA    1   \n",
       "2    chetan.dhandge@spit.ac.in         Chetan Dhandge  2021510010    MCA    1   \n",
       "3     sudhir.gomase@spit.ac.in  Sudhir Narayan Gomase  2021510018    MCA    1   \n",
       "4      vishal.padme@spit.ac.in   Vishal Devidas Padme  2021510041    MCA    1   \n",
       "\n",
       "                  course      category  \n",
       "0  Basics of Fire Safety  Intellectual  \n",
       "1  Basics of Fire Safety  Intellectual  \n",
       "2  Basics of Fire Safety  Intellectual  \n",
       "3  Basics of Fire Safety  Intellectual  \n",
       "4  Basics of Fire Safety  Intellectual  "
      ]
     },
     "execution_count": 15,
     "metadata": {},
     "output_type": "execute_result"
    }
   ],
   "source": [
    "sem3 = pd.read_csv(os.path.join(data_dir, 'sheet-1.csv'))\n",
    "sem4 = pd.read_csv(os.path.join(data_dir, 'sheet-2.csv'))\n",
    "sem5 = pd.read_csv(os.path.join(data_dir, 'sheet-3.csv'))\n",
    "sem6 = pd.read_csv(os.path.join(data_dir, 'sheet-4.csv'))\n",
    "\n",
    "# merge them all into final\n",
    "final = pd.concat([sem3, sem4, sem5, sem6], ignore_index=True)\n",
    "final.head()"
   ]
  },
  {
   "cell_type": "code",
   "execution_count": 16,
   "metadata": {},
   "outputs": [
    {
     "name": "stdout",
     "output_type": "stream",
     "text": [
      "[1 3 5 7 4 6 8 2]\n"
     ]
    }
   ],
   "source": [
    "# print all unique values in sem column\n",
    "print(final['sem'].unique())\n"
   ]
  },
  {
   "cell_type": "code",
   "execution_count": 17,
   "metadata": {},
   "outputs": [],
   "source": [
    "final.to_csv(os.path.join(data_dir, 'final.csv'), index=False)"
   ]
  },
  {
   "cell_type": "code",
   "execution_count": 22,
   "metadata": {},
   "outputs": [
    {
     "name": "stdout",
     "output_type": "stream",
     "text": [
      "(5377, 7)\n"
     ]
    },
    {
     "data": {
      "text/plain": [
       "email       0\n",
       "name        0\n",
       "uid         0\n",
       "branch      0\n",
       "sem         0\n",
       "course      0\n",
       "category    0\n",
       "dtype: int64"
      ]
     },
     "execution_count": 22,
     "metadata": {},
     "output_type": "execute_result"
    }
   ],
   "source": [
    "df = pd.read_csv(os.path.join(data_dir, \"final.csv\"))\n",
    "print(df.shape)\n",
    "# null values\n",
    "df.isnull().sum()"
   ]
  },
  {
   "cell_type": "code",
   "execution_count": 12,
   "metadata": {},
   "outputs": [
    {
     "name": "stdout",
     "output_type": "stream",
     "text": [
      "ODD SEM 2022-23:  21 sheets\n",
      "EVEN SEM 2022-23:  21 sheets\n",
      "ODD SEM 2023-24:  27 sheets\n",
      "EVEN SEM 2023-24:  33 sheets\n"
     ]
    }
   ],
   "source": [
    "orig_dir = '../data/original'\n",
    "wb1 = openpyxl.load_workbook(os.path.join(orig_dir, 'odd sem 2022-23.xlsx'))\n",
    "wb2 = openpyxl.load_workbook(os.path.join(orig_dir, 'even sem 2022-23.xlsx'))\n",
    "wb3 = openpyxl.load_workbook(os.path.join(orig_dir, 'odd sem 2023-24.xlsx'))\n",
    "wb4 = openpyxl.load_workbook(os.path.join(orig_dir, 'even sem 2023-24.xlsx'))\n",
    "\n",
    "c1 = len(wb1.sheetnames)\n",
    "c2 = len(wb2.sheetnames)\n",
    "c3 = len(wb3.sheetnames)\n",
    "c4 = len(wb4.sheetnames)\n",
    "\n",
    "print(\"ODD SEM 2022-23: \",c1, \"sheets\")\n",
    "print(\"EVEN SEM 2022-23: \", c2, \"sheets\")\n",
    "print(\"ODD SEM 2023-24: \", c3, \"sheets\")\n",
    "print(\"EVEN SEM 2023-24: \", c4, \"sheets\")"
   ]
  },
  {
   "cell_type": "code",
   "execution_count": 86,
   "metadata": {},
   "outputs": [],
   "source": [
    "for sheet_no in range(0, 20):  \n",
    "    df = pd.read_excel(\n",
    "        os.path.join(data_dir, \"odd sem 2022-23.xlsx\"), sheet_name=sheet_no\n",
    "    )\n",
    "    df.columns = [\"email\", \"name\", \"uid\", \"class\", \"branch\", \"course\", \"sem\"]\n",
    "    if sheet_no == 0:\n",
    "        df.drop(16, inplace=True)\n",
    "    df.drop(columns=[\"class\"], inplace=True)\n",
    "    df = df[[\"email\", \"name\", \"uid\", \"branch\", \"sem\", \"course\"]]\n",
    "    final = pd.concat([final, df], ignore_index=True)"
   ]
  },
  {
   "cell_type": "code",
   "execution_count": 87,
   "metadata": {},
   "outputs": [],
   "source": [
    "for sheet_no in range(0, 21):\n",
    "    df = pd.read_excel(\n",
    "        os.path.join(data_dir, \"even sem 2022-23.xlsx\"), sheet_name=sheet_no\n",
    "    )\n",
    "    if sheet_no == 11:\n",
    "        df.drop(columns=[df.columns[-1]], inplace=True)\n",
    "    df.columns = [\"timestamp\", \"email\", \"name\", \"uid\", \"class\", \"branch\", \"course\", \"sem\"]\n",
    "    df.drop(columns=[\"timestamp\", \"class\"], inplace=True)\n",
    "    df = df[[\"email\", \"name\", \"uid\", \"branch\", \"sem\", \"course\"]]\n",
    "    final = pd.concat([final, df], ignore_index=True)"
   ]
  },
  {
   "cell_type": "code",
   "execution_count": null,
   "metadata": {},
   "outputs": [],
   "source": [
    "for sheet_no in range(0, 27):\n",
    "    df = pd.read_excel(os.path.join(data_dir, 'odd sem 2023-24.xlsx'), sheet_name=sheet_no)\n",
    "    df.columns = ['email', 'name', 'uid', 'class', 'branch', 'course', 'sem']\n",
    "    df.drop(columns=['class'], inplace=True)\n",
    "    df = df[['email', 'name', 'uid', 'branch', 'sem', 'course']]\n",
    "    final = pd.concat([final, df], ignore_index=True)"
   ]
  },
  {
   "cell_type": "code",
   "execution_count": null,
   "metadata": {},
   "outputs": [],
   "source": [
    "for sheet_no in range(1, 33): # skipping nptel sheet\n",
    "    df = pd.read_excel(os.path.join(data_dir, 'even sem 2023-24.xlsx'), sheet_name=sheet_no)\n",
    "    df.columns = ['email', 'name', 'uid', 'class', 'branch', 'course', 'sem']\n",
    "    df.drop(columns=['class'], inplace=True)\n",
    "    df = df[['email', 'name', 'uid', 'branch', 'sem', 'course']]\n",
    "    final = pd.concat([final, df], ignore_index=True)"
   ]
  },
  {
   "cell_type": "markdown",
   "metadata": {},
   "source": [
    "Normalizing branch names in the final sheet:"
   ]
  },
  {
   "cell_type": "code",
   "execution_count": 13,
   "metadata": {},
   "outputs": [
    {
     "name": "stdout",
     "output_type": "stream",
     "text": [
      "<class 'pandas.core.frame.DataFrame'>\n",
      "RangeIndex: 5377 entries, 0 to 5376\n",
      "Data columns (total 9 columns):\n",
      " #   Column    Non-Null Count  Dtype  \n",
      "---  ------    --------------  -----  \n",
      " 0   id        0 non-null      float64\n",
      " 1   email     5377 non-null   object \n",
      " 2   name      5377 non-null   object \n",
      " 3   uid       5377 non-null   int64  \n",
      " 4   branch    5377 non-null   object \n",
      " 5   sem       5377 non-null   int64  \n",
      " 6   course    5377 non-null   object \n",
      " 7   category  5377 non-null   object \n",
      " 8   period    5377 non-null   object \n",
      "dtypes: float64(1), int64(2), object(6)\n",
      "memory usage: 378.2+ KB\n"
     ]
    }
   ],
   "source": [
    "import pandas as pd\n",
    "import os\n",
    "df = pd.read_csv(os.path.join(data_dir, 'enrolments.csv'))\n",
    "df.info()"
   ]
  },
  {
   "cell_type": "code",
   "execution_count": 9,
   "metadata": {},
   "outputs": [
    {
     "name": "stdout",
     "output_type": "stream",
     "text": [
      "COMP\n",
      "MCA\n",
      "AI-ML\n",
      "CSE-DS\n",
      "ETRX\n",
      "EXTC\n",
      "IT\n",
      "CSE-AIML\n",
      "CS-AIML\n",
      "CS-DS\n",
      "EXTC-A\n",
      "CSE\n"
     ]
    }
   ],
   "source": [
    "for i in df['branch'].unique():\n",
    "    print(i)"
   ]
  },
  {
   "cell_type": "code",
   "execution_count": 10,
   "metadata": {},
   "outputs": [],
   "source": [
    "def normalize_branch(branch):\n",
    "    if branch == 'AI-ML' or branch == 'CS-AIML':\n",
    "        return 'CSE-AIML'\n",
    "    if branch == 'CS-DS':\n",
    "        return 'CSE-DS'\n",
    "    if branch == 'EXTC-A':\n",
    "        return 'EXTC'\n",
    "    return branch\n",
    "\n",
    "df['branch'] = df['branch'].apply(normalize_branch)"
   ]
  },
  {
   "cell_type": "code",
   "execution_count": 11,
   "metadata": {},
   "outputs": [
    {
     "name": "stdout",
     "output_type": "stream",
     "text": [
      "COMP\n",
      "MCA\n",
      "CSE-AIML\n",
      "CSE-DS\n",
      "ETRX\n",
      "EXTC\n",
      "IT\n",
      "CSE\n"
     ]
    }
   ],
   "source": [
    "for i in df['branch'].unique():\n",
    "    print(i)"
   ]
  },
  {
   "cell_type": "code",
   "execution_count": 12,
   "metadata": {},
   "outputs": [],
   "source": [
    "df.to_csv(os.path.join(data_dir, 'enrolments.csv'), index=False)"
   ]
  },
  {
   "cell_type": "code",
   "execution_count": 16,
   "metadata": {},
   "outputs": [
    {
     "data": {
      "text/html": [
       "<div>\n",
       "<style scoped>\n",
       "    .dataframe tbody tr th:only-of-type {\n",
       "        vertical-align: middle;\n",
       "    }\n",
       "\n",
       "    .dataframe tbody tr th {\n",
       "        vertical-align: top;\n",
       "    }\n",
       "\n",
       "    .dataframe thead th {\n",
       "        text-align: right;\n",
       "    }\n",
       "</style>\n",
       "<table border=\"1\" class=\"dataframe\">\n",
       "  <thead>\n",
       "    <tr style=\"text-align: right;\">\n",
       "      <th></th>\n",
       "      <th>email</th>\n",
       "      <th>name</th>\n",
       "      <th>uid</th>\n",
       "      <th>branch</th>\n",
       "      <th>sem</th>\n",
       "      <th>course</th>\n",
       "      <th>category</th>\n",
       "      <th>period</th>\n",
       "    </tr>\n",
       "  </thead>\n",
       "  <tbody>\n",
       "    <tr>\n",
       "      <th>0</th>\n",
       "      <td>shaun.dsouza@spit.ac.in</td>\n",
       "      <td>Shaun D'Souza</td>\n",
       "      <td>2021300031</td>\n",
       "      <td>COMP</td>\n",
       "      <td>1</td>\n",
       "      <td>Basics of Fire Safety</td>\n",
       "      <td>Intellectual</td>\n",
       "      <td>ODD_SEM_22_23</td>\n",
       "    </tr>\n",
       "    <tr>\n",
       "      <th>1</th>\n",
       "      <td>ganesh.chaudhari@spit.ac.in</td>\n",
       "      <td>Ganesh Chaudhari</td>\n",
       "      <td>2021510007</td>\n",
       "      <td>MCA</td>\n",
       "      <td>1</td>\n",
       "      <td>Basics of Fire Safety</td>\n",
       "      <td>Intellectual</td>\n",
       "      <td>ODD_SEM_22_23</td>\n",
       "    </tr>\n",
       "    <tr>\n",
       "      <th>2</th>\n",
       "      <td>chetan.dhandge@spit.ac.in</td>\n",
       "      <td>Chetan Dhandge</td>\n",
       "      <td>2021510010</td>\n",
       "      <td>MCA</td>\n",
       "      <td>1</td>\n",
       "      <td>Basics of Fire Safety</td>\n",
       "      <td>Intellectual</td>\n",
       "      <td>ODD_SEM_22_23</td>\n",
       "    </tr>\n",
       "    <tr>\n",
       "      <th>3</th>\n",
       "      <td>sudhir.gomase@spit.ac.in</td>\n",
       "      <td>Sudhir Narayan Gomase</td>\n",
       "      <td>2021510018</td>\n",
       "      <td>MCA</td>\n",
       "      <td>1</td>\n",
       "      <td>Basics of Fire Safety</td>\n",
       "      <td>Intellectual</td>\n",
       "      <td>ODD_SEM_22_23</td>\n",
       "    </tr>\n",
       "    <tr>\n",
       "      <th>4</th>\n",
       "      <td>vishal.padme@spit.ac.in</td>\n",
       "      <td>Vishal Devidas Padme</td>\n",
       "      <td>2021510041</td>\n",
       "      <td>MCA</td>\n",
       "      <td>1</td>\n",
       "      <td>Basics of Fire Safety</td>\n",
       "      <td>Intellectual</td>\n",
       "      <td>ODD_SEM_22_23</td>\n",
       "    </tr>\n",
       "    <tr>\n",
       "      <th>5</th>\n",
       "      <td>pratik.parale@spit.ac.in</td>\n",
       "      <td>Pratik Parale</td>\n",
       "      <td>2021510045</td>\n",
       "      <td>MCA</td>\n",
       "      <td>1</td>\n",
       "      <td>Basics of Fire Safety</td>\n",
       "      <td>Intellectual</td>\n",
       "      <td>ODD_SEM_22_23</td>\n",
       "    </tr>\n",
       "    <tr>\n",
       "      <th>6</th>\n",
       "      <td>amit.rathod@spit.ac.in</td>\n",
       "      <td>Amit Manohar Rathod</td>\n",
       "      <td>2021510053</td>\n",
       "      <td>MCA</td>\n",
       "      <td>1</td>\n",
       "      <td>Basics of Fire Safety</td>\n",
       "      <td>Intellectual</td>\n",
       "      <td>ODD_SEM_22_23</td>\n",
       "    </tr>\n",
       "    <tr>\n",
       "      <th>7</th>\n",
       "      <td>sandesh.shivane@spit.ac.in</td>\n",
       "      <td>Sandesh Shivane</td>\n",
       "      <td>2021510063</td>\n",
       "      <td>MCA</td>\n",
       "      <td>1</td>\n",
       "      <td>Basics of Fire Safety</td>\n",
       "      <td>Intellectual</td>\n",
       "      <td>ODD_SEM_22_23</td>\n",
       "    </tr>\n",
       "    <tr>\n",
       "      <th>8</th>\n",
       "      <td>prashant.singh2@spit.ac.in</td>\n",
       "      <td>Prashant Singh</td>\n",
       "      <td>2021510064</td>\n",
       "      <td>MCA</td>\n",
       "      <td>1</td>\n",
       "      <td>Basics of Fire Safety</td>\n",
       "      <td>Intellectual</td>\n",
       "      <td>ODD_SEM_22_23</td>\n",
       "    </tr>\n",
       "    <tr>\n",
       "      <th>9</th>\n",
       "      <td>rahul.shinde@spit.ac.in</td>\n",
       "      <td>Rahul Pandharinath Shinde</td>\n",
       "      <td>2021600061</td>\n",
       "      <td>CSE-AIML</td>\n",
       "      <td>3</td>\n",
       "      <td>Basics of Fire Safety</td>\n",
       "      <td>Intellectual</td>\n",
       "      <td>ODD_SEM_22_23</td>\n",
       "    </tr>\n",
       "  </tbody>\n",
       "</table>\n",
       "</div>"
      ],
      "text/plain": [
       "                         email                       name         uid  \\\n",
       "0      shaun.dsouza@spit.ac.in              Shaun D'Souza  2021300031   \n",
       "1  ganesh.chaudhari@spit.ac.in           Ganesh Chaudhari  2021510007   \n",
       "2    chetan.dhandge@spit.ac.in             Chetan Dhandge  2021510010   \n",
       "3     sudhir.gomase@spit.ac.in      Sudhir Narayan Gomase  2021510018   \n",
       "4      vishal.padme@spit.ac.in       Vishal Devidas Padme  2021510041   \n",
       "5     pratik.parale@spit.ac.in              Pratik Parale  2021510045   \n",
       "6       amit.rathod@spit.ac.in        Amit Manohar Rathod  2021510053   \n",
       "7   sandesh.shivane@spit.ac.in            Sandesh Shivane  2021510063   \n",
       "8   prashant.singh2@spit.ac.in             Prashant Singh  2021510064   \n",
       "9      rahul.shinde@spit.ac.in  Rahul Pandharinath Shinde  2021600061   \n",
       "\n",
       "     branch  sem                 course      category         period  \n",
       "0      COMP    1  Basics of Fire Safety  Intellectual  ODD_SEM_22_23  \n",
       "1       MCA    1  Basics of Fire Safety  Intellectual  ODD_SEM_22_23  \n",
       "2       MCA    1  Basics of Fire Safety  Intellectual  ODD_SEM_22_23  \n",
       "3       MCA    1  Basics of Fire Safety  Intellectual  ODD_SEM_22_23  \n",
       "4       MCA    1  Basics of Fire Safety  Intellectual  ODD_SEM_22_23  \n",
       "5       MCA    1  Basics of Fire Safety  Intellectual  ODD_SEM_22_23  \n",
       "6       MCA    1  Basics of Fire Safety  Intellectual  ODD_SEM_22_23  \n",
       "7       MCA    1  Basics of Fire Safety  Intellectual  ODD_SEM_22_23  \n",
       "8       MCA    1  Basics of Fire Safety  Intellectual  ODD_SEM_22_23  \n",
       "9  CSE-AIML    3  Basics of Fire Safety  Intellectual  ODD_SEM_22_23  "
      ]
     },
     "execution_count": 16,
     "metadata": {},
     "output_type": "execute_result"
    }
   ],
   "source": [
    "# df.drop(columns='id', inplace=True)\n",
    "df.head(10)"
   ]
  },
  {
   "cell_type": "code",
   "execution_count": 18,
   "metadata": {},
   "outputs": [
    {
     "data": {
      "text/plain": [
       "course\n",
       "Art of living                             27\n",
       "Astitva                                   40\n",
       "Basic Cooking                            116\n",
       "Basics of Fire Safety                    286\n",
       "Basics of Keyboard playing               129\n",
       "Basics of Music Composition               35\n",
       "Cinematography                            40\n",
       "Design Thinking                          374\n",
       "Film Appreciation                        337\n",
       "Fundamentals of Photography              291\n",
       "Idea Lab                                  43\n",
       "Indian Knowledge System                   49\n",
       "Innovation and Creativity                294\n",
       "Integrated Personality Development       198\n",
       "Introduction to Bhagvadgita              123\n",
       "Jeevan Vidya (Work Life Balance)          38\n",
       "Kathak                                    14\n",
       "Mentoring School Children (Abhyudaya)    225\n",
       "Mentorship to Juniors                     74\n",
       "NSS                                      126\n",
       "Physical Fitness                          37\n",
       "Pranvidya                                 87\n",
       "Principle Centered Leadership             12\n",
       "Read a book                              421\n",
       "Running                                  144\n",
       "Self Defense for Women                    63\n",
       "Skipping                                 228\n",
       "Social Psychology                         16\n",
       "Sports                                   285\n",
       "Staircase Climbing                       385\n",
       "Study of Life                            104\n",
       "Swimming                                  17\n",
       "Taekwondo                                 45\n",
       "Teaching Assistantship                    62\n",
       "Technology Entrepreneurship               17\n",
       "Terrace Gardening                         27\n",
       "Trekking                                 221\n",
       "Universal Human Value                     16\n",
       "Volunteering at Dr. Amte's Anandvan        6\n",
       "Wall Painting                            150\n",
       "Working with NGO                         119\n",
       "Yog Vidya                                 56\n",
       "Name: uid, dtype: int64"
      ]
     },
     "execution_count": 18,
     "metadata": {},
     "output_type": "execute_result"
    }
   ],
   "source": []
  },
  {
   "cell_type": "code",
   "execution_count": 38,
   "metadata": {},
   "outputs": [
    {
     "ename": "ValueError",
     "evalue": "Mime type rendering requires nbformat>=4.2.0 but it is not installed",
     "output_type": "error",
     "traceback": [
      "\u001b[1;31m---------------------------------------------------------------------------\u001b[0m",
      "\u001b[1;31mValueError\u001b[0m                                Traceback (most recent call last)",
      "File \u001b[1;32mc:\\Users\\arifa\\Desktop\\college stuff\\bap\\ise1\\dash-venv\\Lib\\site-packages\\IPython\\core\\formatters.py:925\u001b[0m, in \u001b[0;36mIPythonDisplayFormatter.__call__\u001b[1;34m(self, obj)\u001b[0m\n\u001b[0;32m    923\u001b[0m method \u001b[38;5;241m=\u001b[39m get_real_method(obj, \u001b[38;5;28mself\u001b[39m\u001b[38;5;241m.\u001b[39mprint_method)\n\u001b[0;32m    924\u001b[0m \u001b[38;5;28;01mif\u001b[39;00m method \u001b[38;5;129;01mis\u001b[39;00m \u001b[38;5;129;01mnot\u001b[39;00m \u001b[38;5;28;01mNone\u001b[39;00m:\n\u001b[1;32m--> 925\u001b[0m     \u001b[43mmethod\u001b[49m\u001b[43m(\u001b[49m\u001b[43m)\u001b[49m\n\u001b[0;32m    926\u001b[0m     \u001b[38;5;28;01mreturn\u001b[39;00m \u001b[38;5;28;01mTrue\u001b[39;00m\n",
      "File \u001b[1;32mc:\\Users\\arifa\\Desktop\\college stuff\\bap\\ise1\\dash-venv\\Lib\\site-packages\\plotly\\basedatatypes.py:832\u001b[0m, in \u001b[0;36mBaseFigure._ipython_display_\u001b[1;34m(self)\u001b[0m\n\u001b[0;32m    829\u001b[0m \u001b[38;5;28;01mimport\u001b[39;00m \u001b[38;5;21;01mplotly\u001b[39;00m\u001b[38;5;21;01m.\u001b[39;00m\u001b[38;5;21;01mio\u001b[39;00m \u001b[38;5;28;01mas\u001b[39;00m \u001b[38;5;21;01mpio\u001b[39;00m\n\u001b[0;32m    831\u001b[0m \u001b[38;5;28;01mif\u001b[39;00m pio\u001b[38;5;241m.\u001b[39mrenderers\u001b[38;5;241m.\u001b[39mrender_on_display \u001b[38;5;129;01mand\u001b[39;00m pio\u001b[38;5;241m.\u001b[39mrenderers\u001b[38;5;241m.\u001b[39mdefault:\n\u001b[1;32m--> 832\u001b[0m     \u001b[43mpio\u001b[49m\u001b[38;5;241;43m.\u001b[39;49m\u001b[43mshow\u001b[49m\u001b[43m(\u001b[49m\u001b[38;5;28;43mself\u001b[39;49m\u001b[43m)\u001b[49m\n\u001b[0;32m    833\u001b[0m \u001b[38;5;28;01melse\u001b[39;00m:\n\u001b[0;32m    834\u001b[0m     \u001b[38;5;28mprint\u001b[39m(\u001b[38;5;28mrepr\u001b[39m(\u001b[38;5;28mself\u001b[39m))\n",
      "File \u001b[1;32mc:\\Users\\arifa\\Desktop\\college stuff\\bap\\ise1\\dash-venv\\Lib\\site-packages\\plotly\\io\\_renderers.py:394\u001b[0m, in \u001b[0;36mshow\u001b[1;34m(fig, renderer, validate, **kwargs)\u001b[0m\n\u001b[0;32m    389\u001b[0m         \u001b[38;5;28;01mraise\u001b[39;00m \u001b[38;5;167;01mValueError\u001b[39;00m(\n\u001b[0;32m    390\u001b[0m             \u001b[38;5;124m\"\u001b[39m\u001b[38;5;124mMime type rendering requires ipython but it is not installed\u001b[39m\u001b[38;5;124m\"\u001b[39m\n\u001b[0;32m    391\u001b[0m         )\n\u001b[0;32m    393\u001b[0m     \u001b[38;5;28;01mif\u001b[39;00m \u001b[38;5;129;01mnot\u001b[39;00m nbformat \u001b[38;5;129;01mor\u001b[39;00m Version(nbformat\u001b[38;5;241m.\u001b[39m__version__) \u001b[38;5;241m<\u001b[39m Version(\u001b[38;5;124m\"\u001b[39m\u001b[38;5;124m4.2.0\u001b[39m\u001b[38;5;124m\"\u001b[39m):\n\u001b[1;32m--> 394\u001b[0m         \u001b[38;5;28;01mraise\u001b[39;00m \u001b[38;5;167;01mValueError\u001b[39;00m(\n\u001b[0;32m    395\u001b[0m             \u001b[38;5;124m\"\u001b[39m\u001b[38;5;124mMime type rendering requires nbformat>=4.2.0 but it is not installed\u001b[39m\u001b[38;5;124m\"\u001b[39m\n\u001b[0;32m    396\u001b[0m         )\n\u001b[0;32m    398\u001b[0m     ipython_display\u001b[38;5;241m.\u001b[39mdisplay(bundle, raw\u001b[38;5;241m=\u001b[39m\u001b[38;5;28;01mTrue\u001b[39;00m)\n\u001b[0;32m    400\u001b[0m \u001b[38;5;66;03m# external renderers\u001b[39;00m\n",
      "\u001b[1;31mValueError\u001b[0m: Mime type rendering requires nbformat>=4.2.0 but it is not installed"
     ]
    },
    {
     "data": {
      "application/vnd.plotly.v1+json": {
       "config": {
        "plotlyServerURL": "https://plot.ly"
       },
       "data": [
        {
         "alignmentgroup": "True",
         "hovertemplate": "category=Social<br>Count of students=%{x}<br>course_name=%{y}<extra></extra>",
         "legendgroup": "Social",
         "marker": {
          "color": "#636efa",
          "pattern": {
           "shape": ""
          }
         },
         "name": "Social",
         "offsetgroup": "Social",
         "orientation": "h",
         "showlegend": true,
         "textposition": "auto",
         "type": "bar",
         "x": [
          6,
          12,
          27,
          62,
          74,
          119,
          126,
          150,
          225
         ],
         "xaxis": "x",
         "y": [
          "Volunteering at Dr. Amte's Anandvan",
          "Principle Centered Leadership",
          "Terrace Gardening",
          "Teaching Assistantship",
          "Mentorship to Juniors",
          "Working with NGO",
          "NSS",
          "Wall Painting",
          "Mentoring School Children (Abhyudaya)"
         ],
         "yaxis": "y"
        },
        {
         "alignmentgroup": "True",
         "hovertemplate": "category=Physical<br>Count of students=%{x}<br>course_name=%{y}<extra></extra>",
         "legendgroup": "Physical",
         "marker": {
          "color": "#EF553B",
          "pattern": {
           "shape": ""
          }
         },
         "name": "Physical",
         "offsetgroup": "Physical",
         "orientation": "h",
         "showlegend": true,
         "textposition": "auto",
         "type": "bar",
         "x": [
          14,
          17,
          37,
          40,
          45,
          63,
          144,
          221,
          228,
          285,
          385
         ],
         "xaxis": "x",
         "y": [
          "Kathak",
          "Swimming",
          "Physical Fitness",
          "Astitva",
          "Taekwondo",
          "Self Defense for Women",
          "Running",
          "Trekking",
          "Skipping",
          "Sports",
          "Staircase Climbing"
         ],
         "yaxis": "y"
        },
        {
         "alignmentgroup": "True",
         "hovertemplate": "category=Emotional<br>Count of students=%{x}<br>course_name=%{y}<extra></extra>",
         "legendgroup": "Emotional",
         "marker": {
          "color": "#00cc96",
          "pattern": {
           "shape": ""
          }
         },
         "name": "Emotional",
         "offsetgroup": "Emotional",
         "orientation": "h",
         "showlegend": true,
         "textposition": "auto",
         "type": "bar",
         "x": [
          16,
          38,
          198
         ],
         "xaxis": "x",
         "y": [
          "Universal Human Value",
          "Jeevan Vidya (Work Life Balance)",
          "Integrated Personality Development"
         ],
         "yaxis": "y"
        },
        {
         "alignmentgroup": "True",
         "hovertemplate": "category=Intellectual<br>Count of students=%{x}<br>course_name=%{y}<extra></extra>",
         "legendgroup": "Intellectual",
         "marker": {
          "color": "#ab63fa",
          "pattern": {
           "shape": ""
          }
         },
         "name": "Intellectual",
         "offsetgroup": "Intellectual",
         "orientation": "h",
         "showlegend": true,
         "textposition": "auto",
         "type": "bar",
         "x": [
          16,
          17,
          35,
          40,
          43,
          49,
          104,
          116,
          129,
          286,
          291,
          294,
          337,
          374,
          421
         ],
         "xaxis": "x",
         "y": [
          "Social Psychology",
          "Technology Entrepreneurship",
          "Basics of Music Composition",
          "Cinematography",
          "Idea Lab",
          "Indian Knowledge System",
          "Study of Life",
          "Basic Cooking",
          "Basics of Keyboard playing",
          "Basics of Fire Safety",
          "Fundamentals of Photography",
          "Innovation and Creativity",
          "Film Appreciation",
          "Design Thinking",
          "Read a book"
         ],
         "yaxis": "y"
        },
        {
         "alignmentgroup": "True",
         "hovertemplate": "category=Spiritual<br>Count of students=%{x}<br>course_name=%{y}<extra></extra>",
         "legendgroup": "Spiritual",
         "marker": {
          "color": "#FFA15A",
          "pattern": {
           "shape": ""
          }
         },
         "name": "Spiritual",
         "offsetgroup": "Spiritual",
         "orientation": "h",
         "showlegend": true,
         "textposition": "auto",
         "type": "bar",
         "x": [
          27,
          56,
          87,
          123
         ],
         "xaxis": "x",
         "y": [
          "Art of living",
          "Yog Vidya",
          "Pranvidya",
          "Introduction to Bhagvadgita"
         ],
         "yaxis": "y"
        }
       ],
       "layout": {
        "barmode": "relative",
        "legend": {
         "title": {
          "text": "category"
         },
         "tracegroupgap": 0
        },
        "margin": {
         "t": 60
        },
        "template": {
         "data": {
          "bar": [
           {
            "error_x": {
             "color": "#2a3f5f"
            },
            "error_y": {
             "color": "#2a3f5f"
            },
            "marker": {
             "line": {
              "color": "#E5ECF6",
              "width": 0.5
             },
             "pattern": {
              "fillmode": "overlay",
              "size": 10,
              "solidity": 0.2
             }
            },
            "type": "bar"
           }
          ],
          "barpolar": [
           {
            "marker": {
             "line": {
              "color": "#E5ECF6",
              "width": 0.5
             },
             "pattern": {
              "fillmode": "overlay",
              "size": 10,
              "solidity": 0.2
             }
            },
            "type": "barpolar"
           }
          ],
          "carpet": [
           {
            "aaxis": {
             "endlinecolor": "#2a3f5f",
             "gridcolor": "white",
             "linecolor": "white",
             "minorgridcolor": "white",
             "startlinecolor": "#2a3f5f"
            },
            "baxis": {
             "endlinecolor": "#2a3f5f",
             "gridcolor": "white",
             "linecolor": "white",
             "minorgridcolor": "white",
             "startlinecolor": "#2a3f5f"
            },
            "type": "carpet"
           }
          ],
          "choropleth": [
           {
            "colorbar": {
             "outlinewidth": 0,
             "ticks": ""
            },
            "type": "choropleth"
           }
          ],
          "contour": [
           {
            "colorbar": {
             "outlinewidth": 0,
             "ticks": ""
            },
            "colorscale": [
             [
              0,
              "#0d0887"
             ],
             [
              0.1111111111111111,
              "#46039f"
             ],
             [
              0.2222222222222222,
              "#7201a8"
             ],
             [
              0.3333333333333333,
              "#9c179e"
             ],
             [
              0.4444444444444444,
              "#bd3786"
             ],
             [
              0.5555555555555556,
              "#d8576b"
             ],
             [
              0.6666666666666666,
              "#ed7953"
             ],
             [
              0.7777777777777778,
              "#fb9f3a"
             ],
             [
              0.8888888888888888,
              "#fdca26"
             ],
             [
              1,
              "#f0f921"
             ]
            ],
            "type": "contour"
           }
          ],
          "contourcarpet": [
           {
            "colorbar": {
             "outlinewidth": 0,
             "ticks": ""
            },
            "type": "contourcarpet"
           }
          ],
          "heatmap": [
           {
            "colorbar": {
             "outlinewidth": 0,
             "ticks": ""
            },
            "colorscale": [
             [
              0,
              "#0d0887"
             ],
             [
              0.1111111111111111,
              "#46039f"
             ],
             [
              0.2222222222222222,
              "#7201a8"
             ],
             [
              0.3333333333333333,
              "#9c179e"
             ],
             [
              0.4444444444444444,
              "#bd3786"
             ],
             [
              0.5555555555555556,
              "#d8576b"
             ],
             [
              0.6666666666666666,
              "#ed7953"
             ],
             [
              0.7777777777777778,
              "#fb9f3a"
             ],
             [
              0.8888888888888888,
              "#fdca26"
             ],
             [
              1,
              "#f0f921"
             ]
            ],
            "type": "heatmap"
           }
          ],
          "heatmapgl": [
           {
            "colorbar": {
             "outlinewidth": 0,
             "ticks": ""
            },
            "colorscale": [
             [
              0,
              "#0d0887"
             ],
             [
              0.1111111111111111,
              "#46039f"
             ],
             [
              0.2222222222222222,
              "#7201a8"
             ],
             [
              0.3333333333333333,
              "#9c179e"
             ],
             [
              0.4444444444444444,
              "#bd3786"
             ],
             [
              0.5555555555555556,
              "#d8576b"
             ],
             [
              0.6666666666666666,
              "#ed7953"
             ],
             [
              0.7777777777777778,
              "#fb9f3a"
             ],
             [
              0.8888888888888888,
              "#fdca26"
             ],
             [
              1,
              "#f0f921"
             ]
            ],
            "type": "heatmapgl"
           }
          ],
          "histogram": [
           {
            "marker": {
             "pattern": {
              "fillmode": "overlay",
              "size": 10,
              "solidity": 0.2
             }
            },
            "type": "histogram"
           }
          ],
          "histogram2d": [
           {
            "colorbar": {
             "outlinewidth": 0,
             "ticks": ""
            },
            "colorscale": [
             [
              0,
              "#0d0887"
             ],
             [
              0.1111111111111111,
              "#46039f"
             ],
             [
              0.2222222222222222,
              "#7201a8"
             ],
             [
              0.3333333333333333,
              "#9c179e"
             ],
             [
              0.4444444444444444,
              "#bd3786"
             ],
             [
              0.5555555555555556,
              "#d8576b"
             ],
             [
              0.6666666666666666,
              "#ed7953"
             ],
             [
              0.7777777777777778,
              "#fb9f3a"
             ],
             [
              0.8888888888888888,
              "#fdca26"
             ],
             [
              1,
              "#f0f921"
             ]
            ],
            "type": "histogram2d"
           }
          ],
          "histogram2dcontour": [
           {
            "colorbar": {
             "outlinewidth": 0,
             "ticks": ""
            },
            "colorscale": [
             [
              0,
              "#0d0887"
             ],
             [
              0.1111111111111111,
              "#46039f"
             ],
             [
              0.2222222222222222,
              "#7201a8"
             ],
             [
              0.3333333333333333,
              "#9c179e"
             ],
             [
              0.4444444444444444,
              "#bd3786"
             ],
             [
              0.5555555555555556,
              "#d8576b"
             ],
             [
              0.6666666666666666,
              "#ed7953"
             ],
             [
              0.7777777777777778,
              "#fb9f3a"
             ],
             [
              0.8888888888888888,
              "#fdca26"
             ],
             [
              1,
              "#f0f921"
             ]
            ],
            "type": "histogram2dcontour"
           }
          ],
          "mesh3d": [
           {
            "colorbar": {
             "outlinewidth": 0,
             "ticks": ""
            },
            "type": "mesh3d"
           }
          ],
          "parcoords": [
           {
            "line": {
             "colorbar": {
              "outlinewidth": 0,
              "ticks": ""
             }
            },
            "type": "parcoords"
           }
          ],
          "pie": [
           {
            "automargin": true,
            "type": "pie"
           }
          ],
          "scatter": [
           {
            "fillpattern": {
             "fillmode": "overlay",
             "size": 10,
             "solidity": 0.2
            },
            "type": "scatter"
           }
          ],
          "scatter3d": [
           {
            "line": {
             "colorbar": {
              "outlinewidth": 0,
              "ticks": ""
             }
            },
            "marker": {
             "colorbar": {
              "outlinewidth": 0,
              "ticks": ""
             }
            },
            "type": "scatter3d"
           }
          ],
          "scattercarpet": [
           {
            "marker": {
             "colorbar": {
              "outlinewidth": 0,
              "ticks": ""
             }
            },
            "type": "scattercarpet"
           }
          ],
          "scattergeo": [
           {
            "marker": {
             "colorbar": {
              "outlinewidth": 0,
              "ticks": ""
             }
            },
            "type": "scattergeo"
           }
          ],
          "scattergl": [
           {
            "marker": {
             "colorbar": {
              "outlinewidth": 0,
              "ticks": ""
             }
            },
            "type": "scattergl"
           }
          ],
          "scattermapbox": [
           {
            "marker": {
             "colorbar": {
              "outlinewidth": 0,
              "ticks": ""
             }
            },
            "type": "scattermapbox"
           }
          ],
          "scatterpolar": [
           {
            "marker": {
             "colorbar": {
              "outlinewidth": 0,
              "ticks": ""
             }
            },
            "type": "scatterpolar"
           }
          ],
          "scatterpolargl": [
           {
            "marker": {
             "colorbar": {
              "outlinewidth": 0,
              "ticks": ""
             }
            },
            "type": "scatterpolargl"
           }
          ],
          "scatterternary": [
           {
            "marker": {
             "colorbar": {
              "outlinewidth": 0,
              "ticks": ""
             }
            },
            "type": "scatterternary"
           }
          ],
          "surface": [
           {
            "colorbar": {
             "outlinewidth": 0,
             "ticks": ""
            },
            "colorscale": [
             [
              0,
              "#0d0887"
             ],
             [
              0.1111111111111111,
              "#46039f"
             ],
             [
              0.2222222222222222,
              "#7201a8"
             ],
             [
              0.3333333333333333,
              "#9c179e"
             ],
             [
              0.4444444444444444,
              "#bd3786"
             ],
             [
              0.5555555555555556,
              "#d8576b"
             ],
             [
              0.6666666666666666,
              "#ed7953"
             ],
             [
              0.7777777777777778,
              "#fb9f3a"
             ],
             [
              0.8888888888888888,
              "#fdca26"
             ],
             [
              1,
              "#f0f921"
             ]
            ],
            "type": "surface"
           }
          ],
          "table": [
           {
            "cells": {
             "fill": {
              "color": "#EBF0F8"
             },
             "line": {
              "color": "white"
             }
            },
            "header": {
             "fill": {
              "color": "#C8D4E3"
             },
             "line": {
              "color": "white"
             }
            },
            "type": "table"
           }
          ]
         },
         "layout": {
          "annotationdefaults": {
           "arrowcolor": "#2a3f5f",
           "arrowhead": 0,
           "arrowwidth": 1
          },
          "autotypenumbers": "strict",
          "coloraxis": {
           "colorbar": {
            "outlinewidth": 0,
            "ticks": ""
           }
          },
          "colorscale": {
           "diverging": [
            [
             0,
             "#8e0152"
            ],
            [
             0.1,
             "#c51b7d"
            ],
            [
             0.2,
             "#de77ae"
            ],
            [
             0.3,
             "#f1b6da"
            ],
            [
             0.4,
             "#fde0ef"
            ],
            [
             0.5,
             "#f7f7f7"
            ],
            [
             0.6,
             "#e6f5d0"
            ],
            [
             0.7,
             "#b8e186"
            ],
            [
             0.8,
             "#7fbc41"
            ],
            [
             0.9,
             "#4d9221"
            ],
            [
             1,
             "#276419"
            ]
           ],
           "sequential": [
            [
             0,
             "#0d0887"
            ],
            [
             0.1111111111111111,
             "#46039f"
            ],
            [
             0.2222222222222222,
             "#7201a8"
            ],
            [
             0.3333333333333333,
             "#9c179e"
            ],
            [
             0.4444444444444444,
             "#bd3786"
            ],
            [
             0.5555555555555556,
             "#d8576b"
            ],
            [
             0.6666666666666666,
             "#ed7953"
            ],
            [
             0.7777777777777778,
             "#fb9f3a"
            ],
            [
             0.8888888888888888,
             "#fdca26"
            ],
            [
             1,
             "#f0f921"
            ]
           ],
           "sequentialminus": [
            [
             0,
             "#0d0887"
            ],
            [
             0.1111111111111111,
             "#46039f"
            ],
            [
             0.2222222222222222,
             "#7201a8"
            ],
            [
             0.3333333333333333,
             "#9c179e"
            ],
            [
             0.4444444444444444,
             "#bd3786"
            ],
            [
             0.5555555555555556,
             "#d8576b"
            ],
            [
             0.6666666666666666,
             "#ed7953"
            ],
            [
             0.7777777777777778,
             "#fb9f3a"
            ],
            [
             0.8888888888888888,
             "#fdca26"
            ],
            [
             1,
             "#f0f921"
            ]
           ]
          },
          "colorway": [
           "#636efa",
           "#EF553B",
           "#00cc96",
           "#ab63fa",
           "#FFA15A",
           "#19d3f3",
           "#FF6692",
           "#B6E880",
           "#FF97FF",
           "#FECB52"
          ],
          "font": {
           "color": "#2a3f5f"
          },
          "geo": {
           "bgcolor": "white",
           "lakecolor": "white",
           "landcolor": "#E5ECF6",
           "showlakes": true,
           "showland": true,
           "subunitcolor": "white"
          },
          "hoverlabel": {
           "align": "left"
          },
          "hovermode": "closest",
          "mapbox": {
           "style": "light"
          },
          "paper_bgcolor": "white",
          "plot_bgcolor": "#E5ECF6",
          "polar": {
           "angularaxis": {
            "gridcolor": "white",
            "linecolor": "white",
            "ticks": ""
           },
           "bgcolor": "#E5ECF6",
           "radialaxis": {
            "gridcolor": "white",
            "linecolor": "white",
            "ticks": ""
           }
          },
          "scene": {
           "xaxis": {
            "backgroundcolor": "#E5ECF6",
            "gridcolor": "white",
            "gridwidth": 2,
            "linecolor": "white",
            "showbackground": true,
            "ticks": "",
            "zerolinecolor": "white"
           },
           "yaxis": {
            "backgroundcolor": "#E5ECF6",
            "gridcolor": "white",
            "gridwidth": 2,
            "linecolor": "white",
            "showbackground": true,
            "ticks": "",
            "zerolinecolor": "white"
           },
           "zaxis": {
            "backgroundcolor": "#E5ECF6",
            "gridcolor": "white",
            "gridwidth": 2,
            "linecolor": "white",
            "showbackground": true,
            "ticks": "",
            "zerolinecolor": "white"
           }
          },
          "shapedefaults": {
           "line": {
            "color": "#2a3f5f"
           }
          },
          "ternary": {
           "aaxis": {
            "gridcolor": "white",
            "linecolor": "white",
            "ticks": ""
           },
           "baxis": {
            "gridcolor": "white",
            "linecolor": "white",
            "ticks": ""
           },
           "bgcolor": "#E5ECF6",
           "caxis": {
            "gridcolor": "white",
            "linecolor": "white",
            "ticks": ""
           }
          },
          "title": {
           "x": 0.05
          },
          "xaxis": {
           "automargin": true,
           "gridcolor": "white",
           "linecolor": "white",
           "ticks": "",
           "title": {
            "standoff": 15
           },
           "zerolinecolor": "white",
           "zerolinewidth": 2
          },
          "yaxis": {
           "automargin": true,
           "gridcolor": "white",
           "linecolor": "white",
           "ticks": "",
           "title": {
            "standoff": 15
           },
           "zerolinecolor": "white",
           "zerolinewidth": 2
          }
         }
        },
        "xaxis": {
         "anchor": "y",
         "domain": [
          0,
          1
         ],
         "title": {
          "text": "Count of students"
         }
        },
        "yaxis": {
         "anchor": "x",
         "domain": [
          0,
          1
         ],
         "title": {
          "text": "course_name"
         }
        }
       }
      },
      "text/html": [
       "<div>                        <script type=\"text/javascript\">window.PlotlyConfig = {MathJaxConfig: 'local'};</script>\n",
       "        <script charset=\"utf-8\" src=\"https://cdn.plot.ly/plotly-2.31.1.min.js\"></script>                <div id=\"e21c95b1-4851-400c-b1dc-a39597214653\" class=\"plotly-graph-div\" style=\"height:100%; width:100%;\"></div>            <script type=\"text/javascript\">                                    window.PLOTLYENV=window.PLOTLYENV || {};                                    if (document.getElementById(\"e21c95b1-4851-400c-b1dc-a39597214653\")) {                    Plotly.newPlot(                        \"e21c95b1-4851-400c-b1dc-a39597214653\",                        [{\"alignmentgroup\":\"True\",\"hovertemplate\":\"category=Social\\u003cbr\\u003eCount of students=%{x}\\u003cbr\\u003ecourse_name=%{y}\\u003cextra\\u003e\\u003c\\u002fextra\\u003e\",\"legendgroup\":\"Social\",\"marker\":{\"color\":\"#636efa\",\"pattern\":{\"shape\":\"\"}},\"name\":\"Social\",\"offsetgroup\":\"Social\",\"orientation\":\"h\",\"showlegend\":true,\"textposition\":\"auto\",\"x\":[6,12,27,62,74,119,126,150,225],\"xaxis\":\"x\",\"y\":[\"Volunteering at Dr. Amte's Anandvan\",\"Principle Centered Leadership\",\"Terrace Gardening\",\"Teaching Assistantship\",\"Mentorship to Juniors\",\"Working with NGO\",\"NSS\",\"Wall Painting\",\"Mentoring School Children (Abhyudaya)\"],\"yaxis\":\"y\",\"type\":\"bar\"},{\"alignmentgroup\":\"True\",\"hovertemplate\":\"category=Physical\\u003cbr\\u003eCount of students=%{x}\\u003cbr\\u003ecourse_name=%{y}\\u003cextra\\u003e\\u003c\\u002fextra\\u003e\",\"legendgroup\":\"Physical\",\"marker\":{\"color\":\"#EF553B\",\"pattern\":{\"shape\":\"\"}},\"name\":\"Physical\",\"offsetgroup\":\"Physical\",\"orientation\":\"h\",\"showlegend\":true,\"textposition\":\"auto\",\"x\":[14,17,37,40,45,63,144,221,228,285,385],\"xaxis\":\"x\",\"y\":[\"Kathak\",\"Swimming\",\"Physical Fitness\",\"Astitva\",\"Taekwondo\",\"Self Defense for Women\",\"Running\",\"Trekking\",\"Skipping\",\"Sports\",\"Staircase Climbing\"],\"yaxis\":\"y\",\"type\":\"bar\"},{\"alignmentgroup\":\"True\",\"hovertemplate\":\"category=Emotional\\u003cbr\\u003eCount of students=%{x}\\u003cbr\\u003ecourse_name=%{y}\\u003cextra\\u003e\\u003c\\u002fextra\\u003e\",\"legendgroup\":\"Emotional\",\"marker\":{\"color\":\"#00cc96\",\"pattern\":{\"shape\":\"\"}},\"name\":\"Emotional\",\"offsetgroup\":\"Emotional\",\"orientation\":\"h\",\"showlegend\":true,\"textposition\":\"auto\",\"x\":[16,38,198],\"xaxis\":\"x\",\"y\":[\"Universal Human Value\",\"Jeevan Vidya (Work Life Balance)\",\"Integrated Personality Development\"],\"yaxis\":\"y\",\"type\":\"bar\"},{\"alignmentgroup\":\"True\",\"hovertemplate\":\"category=Intellectual\\u003cbr\\u003eCount of students=%{x}\\u003cbr\\u003ecourse_name=%{y}\\u003cextra\\u003e\\u003c\\u002fextra\\u003e\",\"legendgroup\":\"Intellectual\",\"marker\":{\"color\":\"#ab63fa\",\"pattern\":{\"shape\":\"\"}},\"name\":\"Intellectual\",\"offsetgroup\":\"Intellectual\",\"orientation\":\"h\",\"showlegend\":true,\"textposition\":\"auto\",\"x\":[16,17,35,40,43,49,104,116,129,286,291,294,337,374,421],\"xaxis\":\"x\",\"y\":[\"Social Psychology\",\"Technology Entrepreneurship\",\"Basics of Music Composition\",\"Cinematography\",\"Idea Lab\",\"Indian Knowledge System\",\"Study of Life\",\"Basic Cooking\",\"Basics of Keyboard playing\",\"Basics of Fire Safety\",\"Fundamentals of Photography\",\"Innovation and Creativity\",\"Film Appreciation\",\"Design Thinking\",\"Read a book\"],\"yaxis\":\"y\",\"type\":\"bar\"},{\"alignmentgroup\":\"True\",\"hovertemplate\":\"category=Spiritual\\u003cbr\\u003eCount of students=%{x}\\u003cbr\\u003ecourse_name=%{y}\\u003cextra\\u003e\\u003c\\u002fextra\\u003e\",\"legendgroup\":\"Spiritual\",\"marker\":{\"color\":\"#FFA15A\",\"pattern\":{\"shape\":\"\"}},\"name\":\"Spiritual\",\"offsetgroup\":\"Spiritual\",\"orientation\":\"h\",\"showlegend\":true,\"textposition\":\"auto\",\"x\":[27,56,87,123],\"xaxis\":\"x\",\"y\":[\"Art of living\",\"Yog Vidya\",\"Pranvidya\",\"Introduction to Bhagvadgita\"],\"yaxis\":\"y\",\"type\":\"bar\"}],                        {\"template\":{\"data\":{\"histogram2dcontour\":[{\"type\":\"histogram2dcontour\",\"colorbar\":{\"outlinewidth\":0,\"ticks\":\"\"},\"colorscale\":[[0.0,\"#0d0887\"],[0.1111111111111111,\"#46039f\"],[0.2222222222222222,\"#7201a8\"],[0.3333333333333333,\"#9c179e\"],[0.4444444444444444,\"#bd3786\"],[0.5555555555555556,\"#d8576b\"],[0.6666666666666666,\"#ed7953\"],[0.7777777777777778,\"#fb9f3a\"],[0.8888888888888888,\"#fdca26\"],[1.0,\"#f0f921\"]]}],\"choropleth\":[{\"type\":\"choropleth\",\"colorbar\":{\"outlinewidth\":0,\"ticks\":\"\"}}],\"histogram2d\":[{\"type\":\"histogram2d\",\"colorbar\":{\"outlinewidth\":0,\"ticks\":\"\"},\"colorscale\":[[0.0,\"#0d0887\"],[0.1111111111111111,\"#46039f\"],[0.2222222222222222,\"#7201a8\"],[0.3333333333333333,\"#9c179e\"],[0.4444444444444444,\"#bd3786\"],[0.5555555555555556,\"#d8576b\"],[0.6666666666666666,\"#ed7953\"],[0.7777777777777778,\"#fb9f3a\"],[0.8888888888888888,\"#fdca26\"],[1.0,\"#f0f921\"]]}],\"heatmap\":[{\"type\":\"heatmap\",\"colorbar\":{\"outlinewidth\":0,\"ticks\":\"\"},\"colorscale\":[[0.0,\"#0d0887\"],[0.1111111111111111,\"#46039f\"],[0.2222222222222222,\"#7201a8\"],[0.3333333333333333,\"#9c179e\"],[0.4444444444444444,\"#bd3786\"],[0.5555555555555556,\"#d8576b\"],[0.6666666666666666,\"#ed7953\"],[0.7777777777777778,\"#fb9f3a\"],[0.8888888888888888,\"#fdca26\"],[1.0,\"#f0f921\"]]}],\"heatmapgl\":[{\"type\":\"heatmapgl\",\"colorbar\":{\"outlinewidth\":0,\"ticks\":\"\"},\"colorscale\":[[0.0,\"#0d0887\"],[0.1111111111111111,\"#46039f\"],[0.2222222222222222,\"#7201a8\"],[0.3333333333333333,\"#9c179e\"],[0.4444444444444444,\"#bd3786\"],[0.5555555555555556,\"#d8576b\"],[0.6666666666666666,\"#ed7953\"],[0.7777777777777778,\"#fb9f3a\"],[0.8888888888888888,\"#fdca26\"],[1.0,\"#f0f921\"]]}],\"contourcarpet\":[{\"type\":\"contourcarpet\",\"colorbar\":{\"outlinewidth\":0,\"ticks\":\"\"}}],\"contour\":[{\"type\":\"contour\",\"colorbar\":{\"outlinewidth\":0,\"ticks\":\"\"},\"colorscale\":[[0.0,\"#0d0887\"],[0.1111111111111111,\"#46039f\"],[0.2222222222222222,\"#7201a8\"],[0.3333333333333333,\"#9c179e\"],[0.4444444444444444,\"#bd3786\"],[0.5555555555555556,\"#d8576b\"],[0.6666666666666666,\"#ed7953\"],[0.7777777777777778,\"#fb9f3a\"],[0.8888888888888888,\"#fdca26\"],[1.0,\"#f0f921\"]]}],\"surface\":[{\"type\":\"surface\",\"colorbar\":{\"outlinewidth\":0,\"ticks\":\"\"},\"colorscale\":[[0.0,\"#0d0887\"],[0.1111111111111111,\"#46039f\"],[0.2222222222222222,\"#7201a8\"],[0.3333333333333333,\"#9c179e\"],[0.4444444444444444,\"#bd3786\"],[0.5555555555555556,\"#d8576b\"],[0.6666666666666666,\"#ed7953\"],[0.7777777777777778,\"#fb9f3a\"],[0.8888888888888888,\"#fdca26\"],[1.0,\"#f0f921\"]]}],\"mesh3d\":[{\"type\":\"mesh3d\",\"colorbar\":{\"outlinewidth\":0,\"ticks\":\"\"}}],\"scatter\":[{\"fillpattern\":{\"fillmode\":\"overlay\",\"size\":10,\"solidity\":0.2},\"type\":\"scatter\"}],\"parcoords\":[{\"type\":\"parcoords\",\"line\":{\"colorbar\":{\"outlinewidth\":0,\"ticks\":\"\"}}}],\"scatterpolargl\":[{\"type\":\"scatterpolargl\",\"marker\":{\"colorbar\":{\"outlinewidth\":0,\"ticks\":\"\"}}}],\"bar\":[{\"error_x\":{\"color\":\"#2a3f5f\"},\"error_y\":{\"color\":\"#2a3f5f\"},\"marker\":{\"line\":{\"color\":\"#E5ECF6\",\"width\":0.5},\"pattern\":{\"fillmode\":\"overlay\",\"size\":10,\"solidity\":0.2}},\"type\":\"bar\"}],\"scattergeo\":[{\"type\":\"scattergeo\",\"marker\":{\"colorbar\":{\"outlinewidth\":0,\"ticks\":\"\"}}}],\"scatterpolar\":[{\"type\":\"scatterpolar\",\"marker\":{\"colorbar\":{\"outlinewidth\":0,\"ticks\":\"\"}}}],\"histogram\":[{\"marker\":{\"pattern\":{\"fillmode\":\"overlay\",\"size\":10,\"solidity\":0.2}},\"type\":\"histogram\"}],\"scattergl\":[{\"type\":\"scattergl\",\"marker\":{\"colorbar\":{\"outlinewidth\":0,\"ticks\":\"\"}}}],\"scatter3d\":[{\"type\":\"scatter3d\",\"line\":{\"colorbar\":{\"outlinewidth\":0,\"ticks\":\"\"}},\"marker\":{\"colorbar\":{\"outlinewidth\":0,\"ticks\":\"\"}}}],\"scattermapbox\":[{\"type\":\"scattermapbox\",\"marker\":{\"colorbar\":{\"outlinewidth\":0,\"ticks\":\"\"}}}],\"scatterternary\":[{\"type\":\"scatterternary\",\"marker\":{\"colorbar\":{\"outlinewidth\":0,\"ticks\":\"\"}}}],\"scattercarpet\":[{\"type\":\"scattercarpet\",\"marker\":{\"colorbar\":{\"outlinewidth\":0,\"ticks\":\"\"}}}],\"carpet\":[{\"aaxis\":{\"endlinecolor\":\"#2a3f5f\",\"gridcolor\":\"white\",\"linecolor\":\"white\",\"minorgridcolor\":\"white\",\"startlinecolor\":\"#2a3f5f\"},\"baxis\":{\"endlinecolor\":\"#2a3f5f\",\"gridcolor\":\"white\",\"linecolor\":\"white\",\"minorgridcolor\":\"white\",\"startlinecolor\":\"#2a3f5f\"},\"type\":\"carpet\"}],\"table\":[{\"cells\":{\"fill\":{\"color\":\"#EBF0F8\"},\"line\":{\"color\":\"white\"}},\"header\":{\"fill\":{\"color\":\"#C8D4E3\"},\"line\":{\"color\":\"white\"}},\"type\":\"table\"}],\"barpolar\":[{\"marker\":{\"line\":{\"color\":\"#E5ECF6\",\"width\":0.5},\"pattern\":{\"fillmode\":\"overlay\",\"size\":10,\"solidity\":0.2}},\"type\":\"barpolar\"}],\"pie\":[{\"automargin\":true,\"type\":\"pie\"}]},\"layout\":{\"autotypenumbers\":\"strict\",\"colorway\":[\"#636efa\",\"#EF553B\",\"#00cc96\",\"#ab63fa\",\"#FFA15A\",\"#19d3f3\",\"#FF6692\",\"#B6E880\",\"#FF97FF\",\"#FECB52\"],\"font\":{\"color\":\"#2a3f5f\"},\"hovermode\":\"closest\",\"hoverlabel\":{\"align\":\"left\"},\"paper_bgcolor\":\"white\",\"plot_bgcolor\":\"#E5ECF6\",\"polar\":{\"bgcolor\":\"#E5ECF6\",\"angularaxis\":{\"gridcolor\":\"white\",\"linecolor\":\"white\",\"ticks\":\"\"},\"radialaxis\":{\"gridcolor\":\"white\",\"linecolor\":\"white\",\"ticks\":\"\"}},\"ternary\":{\"bgcolor\":\"#E5ECF6\",\"aaxis\":{\"gridcolor\":\"white\",\"linecolor\":\"white\",\"ticks\":\"\"},\"baxis\":{\"gridcolor\":\"white\",\"linecolor\":\"white\",\"ticks\":\"\"},\"caxis\":{\"gridcolor\":\"white\",\"linecolor\":\"white\",\"ticks\":\"\"}},\"coloraxis\":{\"colorbar\":{\"outlinewidth\":0,\"ticks\":\"\"}},\"colorscale\":{\"sequential\":[[0.0,\"#0d0887\"],[0.1111111111111111,\"#46039f\"],[0.2222222222222222,\"#7201a8\"],[0.3333333333333333,\"#9c179e\"],[0.4444444444444444,\"#bd3786\"],[0.5555555555555556,\"#d8576b\"],[0.6666666666666666,\"#ed7953\"],[0.7777777777777778,\"#fb9f3a\"],[0.8888888888888888,\"#fdca26\"],[1.0,\"#f0f921\"]],\"sequentialminus\":[[0.0,\"#0d0887\"],[0.1111111111111111,\"#46039f\"],[0.2222222222222222,\"#7201a8\"],[0.3333333333333333,\"#9c179e\"],[0.4444444444444444,\"#bd3786\"],[0.5555555555555556,\"#d8576b\"],[0.6666666666666666,\"#ed7953\"],[0.7777777777777778,\"#fb9f3a\"],[0.8888888888888888,\"#fdca26\"],[1.0,\"#f0f921\"]],\"diverging\":[[0,\"#8e0152\"],[0.1,\"#c51b7d\"],[0.2,\"#de77ae\"],[0.3,\"#f1b6da\"],[0.4,\"#fde0ef\"],[0.5,\"#f7f7f7\"],[0.6,\"#e6f5d0\"],[0.7,\"#b8e186\"],[0.8,\"#7fbc41\"],[0.9,\"#4d9221\"],[1,\"#276419\"]]},\"xaxis\":{\"gridcolor\":\"white\",\"linecolor\":\"white\",\"ticks\":\"\",\"title\":{\"standoff\":15},\"zerolinecolor\":\"white\",\"automargin\":true,\"zerolinewidth\":2},\"yaxis\":{\"gridcolor\":\"white\",\"linecolor\":\"white\",\"ticks\":\"\",\"title\":{\"standoff\":15},\"zerolinecolor\":\"white\",\"automargin\":true,\"zerolinewidth\":2},\"scene\":{\"xaxis\":{\"backgroundcolor\":\"#E5ECF6\",\"gridcolor\":\"white\",\"linecolor\":\"white\",\"showbackground\":true,\"ticks\":\"\",\"zerolinecolor\":\"white\",\"gridwidth\":2},\"yaxis\":{\"backgroundcolor\":\"#E5ECF6\",\"gridcolor\":\"white\",\"linecolor\":\"white\",\"showbackground\":true,\"ticks\":\"\",\"zerolinecolor\":\"white\",\"gridwidth\":2},\"zaxis\":{\"backgroundcolor\":\"#E5ECF6\",\"gridcolor\":\"white\",\"linecolor\":\"white\",\"showbackground\":true,\"ticks\":\"\",\"zerolinecolor\":\"white\",\"gridwidth\":2}},\"shapedefaults\":{\"line\":{\"color\":\"#2a3f5f\"}},\"annotationdefaults\":{\"arrowcolor\":\"#2a3f5f\",\"arrowhead\":0,\"arrowwidth\":1},\"geo\":{\"bgcolor\":\"white\",\"landcolor\":\"#E5ECF6\",\"subunitcolor\":\"white\",\"showland\":true,\"showlakes\":true,\"lakecolor\":\"white\"},\"title\":{\"x\":0.05},\"mapbox\":{\"style\":\"light\"}}},\"xaxis\":{\"anchor\":\"y\",\"domain\":[0.0,1.0],\"title\":{\"text\":\"Count of students\"}},\"yaxis\":{\"anchor\":\"x\",\"domain\":[0.0,1.0],\"title\":{\"text\":\"course_name\"}},\"legend\":{\"title\":{\"text\":\"category\"},\"tracegroupgap\":0},\"margin\":{\"t\":60},\"barmode\":\"relative\"},                        {\"responsive\": true}                    )                };                            </script>        </div>"
      ],
      "text/plain": [
       "Figure({\n",
       "    'data': [{'alignmentgroup': 'True',\n",
       "              'hovertemplate': 'category=Social<br>Count of students=%{x}<br>course_name=%{y}<extra></extra>',\n",
       "              'legendgroup': 'Social',\n",
       "              'marker': {'color': '#636efa', 'pattern': {'shape': ''}},\n",
       "              'name': 'Social',\n",
       "              'offsetgroup': 'Social',\n",
       "              'orientation': 'h',\n",
       "              'showlegend': True,\n",
       "              'textposition': 'auto',\n",
       "              'type': 'bar',\n",
       "              'x': array([  6,  12,  27,  62,  74, 119, 126, 150, 225], dtype=int64),\n",
       "              'xaxis': 'x',\n",
       "              'y': array([\"Volunteering at Dr. Amte's Anandvan\", 'Principle Centered Leadership',\n",
       "                          'Terrace Gardening', 'Teaching Assistantship', 'Mentorship to Juniors',\n",
       "                          'Working with NGO', 'NSS', 'Wall Painting',\n",
       "                          'Mentoring School Children (Abhyudaya)'], dtype=object),\n",
       "              'yaxis': 'y'},\n",
       "             {'alignmentgroup': 'True',\n",
       "              'hovertemplate': 'category=Physical<br>Count of students=%{x}<br>course_name=%{y}<extra></extra>',\n",
       "              'legendgroup': 'Physical',\n",
       "              'marker': {'color': '#EF553B', 'pattern': {'shape': ''}},\n",
       "              'name': 'Physical',\n",
       "              'offsetgroup': 'Physical',\n",
       "              'orientation': 'h',\n",
       "              'showlegend': True,\n",
       "              'textposition': 'auto',\n",
       "              'type': 'bar',\n",
       "              'x': array([ 14,  17,  37,  40,  45,  63, 144, 221, 228, 285, 385], dtype=int64),\n",
       "              'xaxis': 'x',\n",
       "              'y': array(['Kathak', 'Swimming', 'Physical Fitness', 'Astitva', 'Taekwondo',\n",
       "                          'Self Defense for Women', 'Running', 'Trekking', 'Skipping', 'Sports',\n",
       "                          'Staircase Climbing'], dtype=object),\n",
       "              'yaxis': 'y'},\n",
       "             {'alignmentgroup': 'True',\n",
       "              'hovertemplate': 'category=Emotional<br>Count of students=%{x}<br>course_name=%{y}<extra></extra>',\n",
       "              'legendgroup': 'Emotional',\n",
       "              'marker': {'color': '#00cc96', 'pattern': {'shape': ''}},\n",
       "              'name': 'Emotional',\n",
       "              'offsetgroup': 'Emotional',\n",
       "              'orientation': 'h',\n",
       "              'showlegend': True,\n",
       "              'textposition': 'auto',\n",
       "              'type': 'bar',\n",
       "              'x': array([ 16,  38, 198], dtype=int64),\n",
       "              'xaxis': 'x',\n",
       "              'y': array(['Universal Human Value', 'Jeevan Vidya (Work Life Balance)',\n",
       "                          'Integrated Personality Development'], dtype=object),\n",
       "              'yaxis': 'y'},\n",
       "             {'alignmentgroup': 'True',\n",
       "              'hovertemplate': ('category=Intellectual<br>Count' ... 'ourse_name=%{y}<extra></extra>'),\n",
       "              'legendgroup': 'Intellectual',\n",
       "              'marker': {'color': '#ab63fa', 'pattern': {'shape': ''}},\n",
       "              'name': 'Intellectual',\n",
       "              'offsetgroup': 'Intellectual',\n",
       "              'orientation': 'h',\n",
       "              'showlegend': True,\n",
       "              'textposition': 'auto',\n",
       "              'type': 'bar',\n",
       "              'x': array([ 16,  17,  35,  40,  43,  49, 104, 116, 129, 286, 291, 294, 337, 374,\n",
       "                          421], dtype=int64),\n",
       "              'xaxis': 'x',\n",
       "              'y': array(['Social Psychology', 'Technology Entrepreneurship',\n",
       "                          'Basics of Music Composition', 'Cinematography', 'Idea Lab',\n",
       "                          'Indian Knowledge System', 'Study of Life', 'Basic Cooking',\n",
       "                          'Basics of Keyboard playing', 'Basics of Fire Safety',\n",
       "                          'Fundamentals of Photography', 'Innovation and Creativity',\n",
       "                          'Film Appreciation', 'Design Thinking', 'Read a book'], dtype=object),\n",
       "              'yaxis': 'y'},\n",
       "             {'alignmentgroup': 'True',\n",
       "              'hovertemplate': 'category=Spiritual<br>Count of students=%{x}<br>course_name=%{y}<extra></extra>',\n",
       "              'legendgroup': 'Spiritual',\n",
       "              'marker': {'color': '#FFA15A', 'pattern': {'shape': ''}},\n",
       "              'name': 'Spiritual',\n",
       "              'offsetgroup': 'Spiritual',\n",
       "              'orientation': 'h',\n",
       "              'showlegend': True,\n",
       "              'textposition': 'auto',\n",
       "              'type': 'bar',\n",
       "              'x': array([ 27,  56,  87, 123], dtype=int64),\n",
       "              'xaxis': 'x',\n",
       "              'y': array(['Art of living', 'Yog Vidya', 'Pranvidya',\n",
       "                          'Introduction to Bhagvadgita'], dtype=object),\n",
       "              'yaxis': 'y'}],\n",
       "    'layout': {'barmode': 'relative',\n",
       "               'legend': {'title': {'text': 'category'}, 'tracegroupgap': 0},\n",
       "               'margin': {'t': 60},\n",
       "               'template': '...',\n",
       "               'xaxis': {'anchor': 'y', 'domain': [0.0, 1.0], 'title': {'text': 'Count of students'}},\n",
       "               'yaxis': {'anchor': 'x', 'domain': [0.0, 1.0], 'title': {'text': 'course_name'}}}\n",
       "})"
      ]
     },
     "execution_count": 38,
     "metadata": {},
     "output_type": "execute_result"
    }
   ],
   "source": [
    "import plotly.express as px\n",
    "# df = pd.read_csv\n",
    "x = df.groupby('course')['uid'].count()\n",
    "x.name = 'Count of students'\n",
    "x = pd.merge(x, a, left_index=True, right_on='course_name').sort_values(by='Count of students', ascending=True)\n",
    "px.bar(x, x='Count of students', y='course_name', orientation='h', color='category')"
   ]
  },
  {
   "cell_type": "code",
   "execution_count": 29,
   "metadata": {},
   "outputs": [],
   "source": [
    "y = df.groupby('category')['course'].unique()"
   ]
  },
  {
   "cell_type": "code",
   "execution_count": 30,
   "metadata": {},
   "outputs": [
    {
     "data": {
      "text/plain": [
       "category\n",
       "Emotional       [Integrated Personality Development, Jeevan Vi...\n",
       "Intellectual    [Basics of Fire Safety, Basics of Keyboard pla...\n",
       "Physical        [Kathak, Physical Fitness, Self Defense for Wo...\n",
       "Social          [Mentoring School Children (Abhyudaya), Mentor...\n",
       "Spiritual       [Pranvidya, Yog Vidya, Introduction to Bhagvad...\n",
       "Name: course, dtype: object"
      ]
     },
     "execution_count": 30,
     "metadata": {},
     "output_type": "execute_result"
    }
   ],
   "source": [
    "y"
   ]
  },
  {
   "cell_type": "code",
   "execution_count": 33,
   "metadata": {},
   "outputs": [
    {
     "data": {
      "text/html": [
       "<div>\n",
       "<style scoped>\n",
       "    .dataframe tbody tr th:only-of-type {\n",
       "        vertical-align: middle;\n",
       "    }\n",
       "\n",
       "    .dataframe tbody tr th {\n",
       "        vertical-align: top;\n",
       "    }\n",
       "\n",
       "    .dataframe thead th {\n",
       "        text-align: right;\n",
       "    }\n",
       "</style>\n",
       "<table border=\"1\" class=\"dataframe\">\n",
       "  <thead>\n",
       "    <tr style=\"text-align: right;\">\n",
       "      <th></th>\n",
       "      <th>Count of students</th>\n",
       "      <th>course_id</th>\n",
       "      <th>course_name</th>\n",
       "      <th>category</th>\n",
       "    </tr>\n",
       "  </thead>\n",
       "  <tbody>\n",
       "    <tr>\n",
       "      <th>10</th>\n",
       "      <td>6</td>\n",
       "      <td>11</td>\n",
       "      <td>Volunteering at Dr. Amte's Anandvan</td>\n",
       "      <td>Social</td>\n",
       "    </tr>\n",
       "    <tr>\n",
       "      <th>7</th>\n",
       "      <td>12</td>\n",
       "      <td>8</td>\n",
       "      <td>Principle Centered Leadership</td>\n",
       "      <td>Social</td>\n",
       "    </tr>\n",
       "    <tr>\n",
       "      <th>14</th>\n",
       "      <td>14</td>\n",
       "      <td>15</td>\n",
       "      <td>Kathak</td>\n",
       "      <td>Physical</td>\n",
       "    </tr>\n",
       "    <tr>\n",
       "      <th>41</th>\n",
       "      <td>16</td>\n",
       "      <td>42</td>\n",
       "      <td>Universal Human Value</td>\n",
       "      <td>Emotional</td>\n",
       "    </tr>\n",
       "    <tr>\n",
       "      <th>36</th>\n",
       "      <td>16</td>\n",
       "      <td>37</td>\n",
       "      <td>Social Psychology</td>\n",
       "      <td>Intellectual</td>\n",
       "    </tr>\n",
       "    <tr>\n",
       "      <th>38</th>\n",
       "      <td>17</td>\n",
       "      <td>39</td>\n",
       "      <td>Technology Entrepreneurship</td>\n",
       "      <td>Intellectual</td>\n",
       "    </tr>\n",
       "    <tr>\n",
       "      <th>21</th>\n",
       "      <td>17</td>\n",
       "      <td>22</td>\n",
       "      <td>Swimming</td>\n",
       "      <td>Physical</td>\n",
       "    </tr>\n",
       "    <tr>\n",
       "      <th>0</th>\n",
       "      <td>27</td>\n",
       "      <td>1</td>\n",
       "      <td>Art of living</td>\n",
       "      <td>Spiritual</td>\n",
       "    </tr>\n",
       "    <tr>\n",
       "      <th>9</th>\n",
       "      <td>27</td>\n",
       "      <td>10</td>\n",
       "      <td>Terrace Gardening</td>\n",
       "      <td>Social</td>\n",
       "    </tr>\n",
       "    <tr>\n",
       "      <th>27</th>\n",
       "      <td>35</td>\n",
       "      <td>28</td>\n",
       "      <td>Basics of Music Composition</td>\n",
       "      <td>Intellectual</td>\n",
       "    </tr>\n",
       "    <tr>\n",
       "      <th>15</th>\n",
       "      <td>37</td>\n",
       "      <td>16</td>\n",
       "      <td>Physical Fitness</td>\n",
       "      <td>Physical</td>\n",
       "    </tr>\n",
       "    <tr>\n",
       "      <th>40</th>\n",
       "      <td>38</td>\n",
       "      <td>41</td>\n",
       "      <td>Jeevan Vidya (Work Life Balance)</td>\n",
       "      <td>Emotional</td>\n",
       "    </tr>\n",
       "    <tr>\n",
       "      <th>13</th>\n",
       "      <td>40</td>\n",
       "      <td>14</td>\n",
       "      <td>Astitva</td>\n",
       "      <td>Physical</td>\n",
       "    </tr>\n",
       "    <tr>\n",
       "      <th>35</th>\n",
       "      <td>40</td>\n",
       "      <td>36</td>\n",
       "      <td>Cinematography</td>\n",
       "      <td>Intellectual</td>\n",
       "    </tr>\n",
       "    <tr>\n",
       "      <th>31</th>\n",
       "      <td>43</td>\n",
       "      <td>32</td>\n",
       "      <td>Idea Lab</td>\n",
       "      <td>Intellectual</td>\n",
       "    </tr>\n",
       "    <tr>\n",
       "      <th>22</th>\n",
       "      <td>45</td>\n",
       "      <td>23</td>\n",
       "      <td>Taekwondo</td>\n",
       "      <td>Physical</td>\n",
       "    </tr>\n",
       "    <tr>\n",
       "      <th>32</th>\n",
       "      <td>49</td>\n",
       "      <td>33</td>\n",
       "      <td>Indian Knowledge System</td>\n",
       "      <td>Intellectual</td>\n",
       "    </tr>\n",
       "    <tr>\n",
       "      <th>3</th>\n",
       "      <td>56</td>\n",
       "      <td>4</td>\n",
       "      <td>Yog Vidya</td>\n",
       "      <td>Spiritual</td>\n",
       "    </tr>\n",
       "    <tr>\n",
       "      <th>8</th>\n",
       "      <td>62</td>\n",
       "      <td>9</td>\n",
       "      <td>Teaching Assistantship</td>\n",
       "      <td>Social</td>\n",
       "    </tr>\n",
       "    <tr>\n",
       "      <th>17</th>\n",
       "      <td>63</td>\n",
       "      <td>18</td>\n",
       "      <td>Self Defense for Women</td>\n",
       "      <td>Physical</td>\n",
       "    </tr>\n",
       "    <tr>\n",
       "      <th>5</th>\n",
       "      <td>74</td>\n",
       "      <td>6</td>\n",
       "      <td>Mentorship to Juniors</td>\n",
       "      <td>Social</td>\n",
       "    </tr>\n",
       "    <tr>\n",
       "      <th>2</th>\n",
       "      <td>87</td>\n",
       "      <td>3</td>\n",
       "      <td>Pranvidya</td>\n",
       "      <td>Spiritual</td>\n",
       "    </tr>\n",
       "    <tr>\n",
       "      <th>37</th>\n",
       "      <td>104</td>\n",
       "      <td>38</td>\n",
       "      <td>Study of Life</td>\n",
       "      <td>Intellectual</td>\n",
       "    </tr>\n",
       "    <tr>\n",
       "      <th>24</th>\n",
       "      <td>116</td>\n",
       "      <td>25</td>\n",
       "      <td>Basic Cooking</td>\n",
       "      <td>Intellectual</td>\n",
       "    </tr>\n",
       "    <tr>\n",
       "      <th>12</th>\n",
       "      <td>119</td>\n",
       "      <td>13</td>\n",
       "      <td>Working with NGO</td>\n",
       "      <td>Social</td>\n",
       "    </tr>\n",
       "    <tr>\n",
       "      <th>1</th>\n",
       "      <td>123</td>\n",
       "      <td>2</td>\n",
       "      <td>Introduction to Bhagvadgita</td>\n",
       "      <td>Spiritual</td>\n",
       "    </tr>\n",
       "    <tr>\n",
       "      <th>6</th>\n",
       "      <td>126</td>\n",
       "      <td>7</td>\n",
       "      <td>NSS</td>\n",
       "      <td>Social</td>\n",
       "    </tr>\n",
       "    <tr>\n",
       "      <th>26</th>\n",
       "      <td>129</td>\n",
       "      <td>27</td>\n",
       "      <td>Basics of Keyboard playing</td>\n",
       "      <td>Intellectual</td>\n",
       "    </tr>\n",
       "    <tr>\n",
       "      <th>16</th>\n",
       "      <td>144</td>\n",
       "      <td>17</td>\n",
       "      <td>Running</td>\n",
       "      <td>Physical</td>\n",
       "    </tr>\n",
       "    <tr>\n",
       "      <th>11</th>\n",
       "      <td>150</td>\n",
       "      <td>12</td>\n",
       "      <td>Wall Painting</td>\n",
       "      <td>Social</td>\n",
       "    </tr>\n",
       "    <tr>\n",
       "      <th>39</th>\n",
       "      <td>198</td>\n",
       "      <td>40</td>\n",
       "      <td>Integrated Personality Development</td>\n",
       "      <td>Emotional</td>\n",
       "    </tr>\n",
       "    <tr>\n",
       "      <th>23</th>\n",
       "      <td>221</td>\n",
       "      <td>24</td>\n",
       "      <td>Trekking</td>\n",
       "      <td>Physical</td>\n",
       "    </tr>\n",
       "    <tr>\n",
       "      <th>4</th>\n",
       "      <td>225</td>\n",
       "      <td>5</td>\n",
       "      <td>Mentoring School Children (Abhyudaya)</td>\n",
       "      <td>Social</td>\n",
       "    </tr>\n",
       "    <tr>\n",
       "      <th>18</th>\n",
       "      <td>228</td>\n",
       "      <td>19</td>\n",
       "      <td>Skipping</td>\n",
       "      <td>Physical</td>\n",
       "    </tr>\n",
       "    <tr>\n",
       "      <th>19</th>\n",
       "      <td>285</td>\n",
       "      <td>20</td>\n",
       "      <td>Sports</td>\n",
       "      <td>Physical</td>\n",
       "    </tr>\n",
       "    <tr>\n",
       "      <th>25</th>\n",
       "      <td>286</td>\n",
       "      <td>26</td>\n",
       "      <td>Basics of Fire Safety</td>\n",
       "      <td>Intellectual</td>\n",
       "    </tr>\n",
       "    <tr>\n",
       "      <th>30</th>\n",
       "      <td>291</td>\n",
       "      <td>31</td>\n",
       "      <td>Fundamentals of Photography</td>\n",
       "      <td>Intellectual</td>\n",
       "    </tr>\n",
       "    <tr>\n",
       "      <th>33</th>\n",
       "      <td>294</td>\n",
       "      <td>34</td>\n",
       "      <td>Innovation and Creativity</td>\n",
       "      <td>Intellectual</td>\n",
       "    </tr>\n",
       "    <tr>\n",
       "      <th>29</th>\n",
       "      <td>337</td>\n",
       "      <td>30</td>\n",
       "      <td>Film Appreciation</td>\n",
       "      <td>Intellectual</td>\n",
       "    </tr>\n",
       "    <tr>\n",
       "      <th>28</th>\n",
       "      <td>374</td>\n",
       "      <td>29</td>\n",
       "      <td>Design Thinking</td>\n",
       "      <td>Intellectual</td>\n",
       "    </tr>\n",
       "    <tr>\n",
       "      <th>20</th>\n",
       "      <td>385</td>\n",
       "      <td>21</td>\n",
       "      <td>Staircase Climbing</td>\n",
       "      <td>Physical</td>\n",
       "    </tr>\n",
       "    <tr>\n",
       "      <th>34</th>\n",
       "      <td>421</td>\n",
       "      <td>35</td>\n",
       "      <td>Read a book</td>\n",
       "      <td>Intellectual</td>\n",
       "    </tr>\n",
       "  </tbody>\n",
       "</table>\n",
       "</div>"
      ],
      "text/plain": [
       "    Count of students  course_id                            course_name  \\\n",
       "10                  6         11    Volunteering at Dr. Amte's Anandvan   \n",
       "7                  12          8          Principle Centered Leadership   \n",
       "14                 14         15                                 Kathak   \n",
       "41                 16         42                  Universal Human Value   \n",
       "36                 16         37                      Social Psychology   \n",
       "38                 17         39            Technology Entrepreneurship   \n",
       "21                 17         22                               Swimming   \n",
       "0                  27          1                          Art of living   \n",
       "9                  27         10                      Terrace Gardening   \n",
       "27                 35         28            Basics of Music Composition   \n",
       "15                 37         16                       Physical Fitness   \n",
       "40                 38         41       Jeevan Vidya (Work Life Balance)   \n",
       "13                 40         14                                Astitva   \n",
       "35                 40         36                         Cinematography   \n",
       "31                 43         32                               Idea Lab   \n",
       "22                 45         23                              Taekwondo   \n",
       "32                 49         33                Indian Knowledge System   \n",
       "3                  56          4                              Yog Vidya   \n",
       "8                  62          9                 Teaching Assistantship   \n",
       "17                 63         18                 Self Defense for Women   \n",
       "5                  74          6                  Mentorship to Juniors   \n",
       "2                  87          3                              Pranvidya   \n",
       "37                104         38                          Study of Life   \n",
       "24                116         25                          Basic Cooking   \n",
       "12                119         13                       Working with NGO   \n",
       "1                 123          2            Introduction to Bhagvadgita   \n",
       "6                 126          7                                    NSS   \n",
       "26                129         27             Basics of Keyboard playing   \n",
       "16                144         17                                Running   \n",
       "11                150         12                          Wall Painting   \n",
       "39                198         40     Integrated Personality Development   \n",
       "23                221         24                               Trekking   \n",
       "4                 225          5  Mentoring School Children (Abhyudaya)   \n",
       "18                228         19                               Skipping   \n",
       "19                285         20                                 Sports   \n",
       "25                286         26                  Basics of Fire Safety   \n",
       "30                291         31            Fundamentals of Photography   \n",
       "33                294         34              Innovation and Creativity   \n",
       "29                337         30                      Film Appreciation   \n",
       "28                374         29                        Design Thinking   \n",
       "20                385         21                     Staircase Climbing   \n",
       "34                421         35                            Read a book   \n",
       "\n",
       "        category  \n",
       "10        Social  \n",
       "7         Social  \n",
       "14      Physical  \n",
       "41     Emotional  \n",
       "36  Intellectual  \n",
       "38  Intellectual  \n",
       "21      Physical  \n",
       "0      Spiritual  \n",
       "9         Social  \n",
       "27  Intellectual  \n",
       "15      Physical  \n",
       "40     Emotional  \n",
       "13      Physical  \n",
       "35  Intellectual  \n",
       "31  Intellectual  \n",
       "22      Physical  \n",
       "32  Intellectual  \n",
       "3      Spiritual  \n",
       "8         Social  \n",
       "17      Physical  \n",
       "5         Social  \n",
       "2      Spiritual  \n",
       "37  Intellectual  \n",
       "24  Intellectual  \n",
       "12        Social  \n",
       "1      Spiritual  \n",
       "6         Social  \n",
       "26  Intellectual  \n",
       "16      Physical  \n",
       "11        Social  \n",
       "39     Emotional  \n",
       "23      Physical  \n",
       "4         Social  \n",
       "18      Physical  \n",
       "19      Physical  \n",
       "25  Intellectual  \n",
       "30  Intellectual  \n",
       "33  Intellectual  \n",
       "29  Intellectual  \n",
       "28  Intellectual  \n",
       "20      Physical  \n",
       "34  Intellectual  "
      ]
     },
     "execution_count": 33,
     "metadata": {},
     "output_type": "execute_result"
    }
   ],
   "source": [
    "a = pd.read_csv(r'C:\\Users\\arifa\\Desktop\\college stuff\\bap\\ise1\\data\\courses.csv')"
   ]
  },
  {
   "cell_type": "code",
   "execution_count": 32,
   "metadata": {},
   "outputs": [
    {
     "data": {
      "text/html": [
       "<div>\n",
       "<style scoped>\n",
       "    .dataframe tbody tr th:only-of-type {\n",
       "        vertical-align: middle;\n",
       "    }\n",
       "\n",
       "    .dataframe tbody tr th {\n",
       "        vertical-align: top;\n",
       "    }\n",
       "\n",
       "    .dataframe thead th {\n",
       "        text-align: right;\n",
       "    }\n",
       "</style>\n",
       "<table border=\"1\" class=\"dataframe\">\n",
       "  <thead>\n",
       "    <tr style=\"text-align: right;\">\n",
       "      <th></th>\n",
       "      <th>course_id</th>\n",
       "      <th>course_name</th>\n",
       "      <th>category</th>\n",
       "    </tr>\n",
       "  </thead>\n",
       "  <tbody>\n",
       "    <tr>\n",
       "      <th>0</th>\n",
       "      <td>1</td>\n",
       "      <td>Art of living</td>\n",
       "      <td>Spiritual</td>\n",
       "    </tr>\n",
       "    <tr>\n",
       "      <th>1</th>\n",
       "      <td>2</td>\n",
       "      <td>Introduction to Bhagvadgita</td>\n",
       "      <td>Spiritual</td>\n",
       "    </tr>\n",
       "    <tr>\n",
       "      <th>2</th>\n",
       "      <td>3</td>\n",
       "      <td>Pranvidya</td>\n",
       "      <td>Spiritual</td>\n",
       "    </tr>\n",
       "    <tr>\n",
       "      <th>3</th>\n",
       "      <td>4</td>\n",
       "      <td>Yog Vidya</td>\n",
       "      <td>Spiritual</td>\n",
       "    </tr>\n",
       "    <tr>\n",
       "      <th>4</th>\n",
       "      <td>5</td>\n",
       "      <td>Mentoring School Children (Abhyudaya)</td>\n",
       "      <td>Social</td>\n",
       "    </tr>\n",
       "  </tbody>\n",
       "</table>\n",
       "</div>"
      ],
      "text/plain": [
       "   course_id                            course_name   category\n",
       "0          1                          Art of living  Spiritual\n",
       "1          2            Introduction to Bhagvadgita  Spiritual\n",
       "2          3                              Pranvidya  Spiritual\n",
       "3          4                              Yog Vidya  Spiritual\n",
       "4          5  Mentoring School Children (Abhyudaya)     Social"
      ]
     },
     "execution_count": 32,
     "metadata": {},
     "output_type": "execute_result"
    }
   ],
   "source": [
    "a = pd.read_csv(r'C:\\Users\\arifa\\Desktop\\college stuff\\bap\\ise1\\data\\courses.csv')\n",
    "a.head()"
   ]
  },
  {
   "cell_type": "code",
   "execution_count": null,
   "metadata": {},
   "outputs": [],
   "source": []
  }
 ],
 "metadata": {
  "kernelspec": {
   "display_name": "dash-venv",
   "language": "python",
   "name": "python3"
  },
  "language_info": {
   "codemirror_mode": {
    "name": "ipython",
    "version": 3
   },
   "file_extension": ".py",
   "mimetype": "text/x-python",
   "name": "python",
   "nbconvert_exporter": "python",
   "pygments_lexer": "ipython3",
   "version": "3.12.2"
  }
 },
 "nbformat": 4,
 "nbformat_minor": 2
}
