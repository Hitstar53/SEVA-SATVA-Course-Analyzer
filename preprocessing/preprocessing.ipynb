{
 "cells": [
  {
   "cell_type": "markdown",
   "metadata": {},
   "source": [
    "## Data Preprocessing"
   ]
  },
  {
   "cell_type": "code",
   "execution_count": 2,
   "metadata": {},
   "outputs": [],
   "source": [
    "import os\n",
    "import pandas as pd\n",
    "import numpy as np\n",
    "import openpyxl\n",
    "data_dir = '../data'"
   ]
  },
  {
   "cell_type": "markdown",
   "metadata": {},
   "source": [
    "### Generating Courses Data"
   ]
  },
  {
   "cell_type": "code",
   "execution_count": null,
   "metadata": {},
   "outputs": [],
   "source": [
    "courses = pd.read_csv(os.path.join(data_dir, 'courses.csv'))\n",
    "courses.sort_values(by=['category', 'course name'], ascending=[False, True], inplace=True)\n",
    "courses.reset_index(inplace=True, drop=True)\n",
    "courses[\"course_id\"] = courses.index\n",
    "courses.rename(columns={\"course name\": \"course_name\"}, inplace=True)\n",
    "courses = courses[[\"course_id\", \"course_name\", \"category\"]]"
   ]
  },
  {
   "cell_type": "code",
   "execution_count": null,
   "metadata": {},
   "outputs": [],
   "source": [
    "courses[\"course_id\"] = courses.index\n",
    "courses.rename(columns={\"course name\": \"course_name\"}, inplace=True)\n",
    "courses = courses[[\"course_id\", \"course_name\", \"category\"]]\n",
    "courses[\"course_id\"] += 1\n",
    "courses.to_csv(os.path.join(data_dir, \"courses.csv\"), index=False)"
   ]
  },
  {
   "cell_type": "code",
   "execution_count": 3,
   "metadata": {},
   "outputs": [
    {
     "data": {
      "text/html": [
       "<div>\n",
       "<style scoped>\n",
       "    .dataframe tbody tr th:only-of-type {\n",
       "        vertical-align: middle;\n",
       "    }\n",
       "\n",
       "    .dataframe tbody tr th {\n",
       "        vertical-align: top;\n",
       "    }\n",
       "\n",
       "    .dataframe thead th {\n",
       "        text-align: right;\n",
       "    }\n",
       "</style>\n",
       "<table border=\"1\" class=\"dataframe\">\n",
       "  <thead>\n",
       "    <tr style=\"text-align: right;\">\n",
       "      <th></th>\n",
       "      <th>course_id</th>\n",
       "      <th>course_name</th>\n",
       "      <th>category</th>\n",
       "    </tr>\n",
       "  </thead>\n",
       "  <tbody>\n",
       "    <tr>\n",
       "      <th>0</th>\n",
       "      <td>1</td>\n",
       "      <td>Art of living</td>\n",
       "      <td>Spiritual</td>\n",
       "    </tr>\n",
       "    <tr>\n",
       "      <th>1</th>\n",
       "      <td>2</td>\n",
       "      <td>Introduction to Bhagvadgita</td>\n",
       "      <td>Spiritual</td>\n",
       "    </tr>\n",
       "    <tr>\n",
       "      <th>2</th>\n",
       "      <td>3</td>\n",
       "      <td>Pranvidya</td>\n",
       "      <td>Spiritual</td>\n",
       "    </tr>\n",
       "    <tr>\n",
       "      <th>3</th>\n",
       "      <td>4</td>\n",
       "      <td>Yog Vidya</td>\n",
       "      <td>Spiritual</td>\n",
       "    </tr>\n",
       "    <tr>\n",
       "      <th>4</th>\n",
       "      <td>5</td>\n",
       "      <td>Mentoring School Children (Abhyudaya)</td>\n",
       "      <td>Social</td>\n",
       "    </tr>\n",
       "  </tbody>\n",
       "</table>\n",
       "</div>"
      ],
      "text/plain": [
       "   course_id                            course_name   category\n",
       "0          1                          Art of living  Spiritual\n",
       "1          2            Introduction to Bhagvadgita  Spiritual\n",
       "2          3                              Pranvidya  Spiritual\n",
       "3          4                              Yog Vidya  Spiritual\n",
       "4          5  Mentoring School Children (Abhyudaya)     Social"
      ]
     },
     "execution_count": 3,
     "metadata": {},
     "output_type": "execute_result"
    }
   ],
   "source": [
    "courses = pd.read_csv(os.path.join(data_dir, 'courses.csv'))\n",
    "courses.head()"
   ]
  },
  {
   "cell_type": "markdown",
   "metadata": {},
   "source": [
    "### Combine all sheets in a single CSV file\n"
   ]
  },
  {
   "cell_type": "code",
   "execution_count": 14,
   "metadata": {},
   "outputs": [
    {
     "data": {
      "text/html": [
       "<div>\n",
       "<style scoped>\n",
       "    .dataframe tbody tr th:only-of-type {\n",
       "        vertical-align: middle;\n",
       "    }\n",
       "\n",
       "    .dataframe tbody tr th {\n",
       "        vertical-align: top;\n",
       "    }\n",
       "\n",
       "    .dataframe thead th {\n",
       "        text-align: right;\n",
       "    }\n",
       "</style>\n",
       "<table border=\"1\" class=\"dataframe\">\n",
       "  <thead>\n",
       "    <tr style=\"text-align: right;\">\n",
       "      <th></th>\n",
       "      <th>email</th>\n",
       "      <th>name</th>\n",
       "      <th>uid</th>\n",
       "      <th>branch</th>\n",
       "      <th>sem</th>\n",
       "      <th>course</th>\n",
       "    </tr>\n",
       "  </thead>\n",
       "  <tbody>\n",
       "  </tbody>\n",
       "</table>\n",
       "</div>"
      ],
      "text/plain": [
       "Empty DataFrame\n",
       "Columns: [email, name, uid, branch, sem, course]\n",
       "Index: []"
      ]
     },
     "execution_count": 14,
     "metadata": {},
     "output_type": "execute_result"
    }
   ],
   "source": [
    "final = pd.DataFrame(columns=['email', 'name', 'uid', 'branch', 'sem', 'course'])\n",
    "final.head()"
   ]
  },
  {
   "cell_type": "code",
   "execution_count": 15,
   "metadata": {},
   "outputs": [
    {
     "data": {
      "text/html": [
       "<div>\n",
       "<style scoped>\n",
       "    .dataframe tbody tr th:only-of-type {\n",
       "        vertical-align: middle;\n",
       "    }\n",
       "\n",
       "    .dataframe tbody tr th {\n",
       "        vertical-align: top;\n",
       "    }\n",
       "\n",
       "    .dataframe thead th {\n",
       "        text-align: right;\n",
       "    }\n",
       "</style>\n",
       "<table border=\"1\" class=\"dataframe\">\n",
       "  <thead>\n",
       "    <tr style=\"text-align: right;\">\n",
       "      <th></th>\n",
       "      <th>email</th>\n",
       "      <th>name</th>\n",
       "      <th>uid</th>\n",
       "      <th>branch</th>\n",
       "      <th>sem</th>\n",
       "      <th>course</th>\n",
       "      <th>category</th>\n",
       "    </tr>\n",
       "  </thead>\n",
       "  <tbody>\n",
       "    <tr>\n",
       "      <th>0</th>\n",
       "      <td>shaun.dsouza@spit.ac.in</td>\n",
       "      <td>Shaun D'Souza</td>\n",
       "      <td>2021300031</td>\n",
       "      <td>COMP</td>\n",
       "      <td>1</td>\n",
       "      <td>Basics of Fire Safety</td>\n",
       "      <td>Intellectual</td>\n",
       "    </tr>\n",
       "    <tr>\n",
       "      <th>1</th>\n",
       "      <td>ganesh.chaudhari@spit.ac.in</td>\n",
       "      <td>Ganesh Chaudhari</td>\n",
       "      <td>2021510007</td>\n",
       "      <td>MCA</td>\n",
       "      <td>1</td>\n",
       "      <td>Basics of Fire Safety</td>\n",
       "      <td>Intellectual</td>\n",
       "    </tr>\n",
       "    <tr>\n",
       "      <th>2</th>\n",
       "      <td>chetan.dhandge@spit.ac.in</td>\n",
       "      <td>Chetan Dhandge</td>\n",
       "      <td>2021510010</td>\n",
       "      <td>MCA</td>\n",
       "      <td>1</td>\n",
       "      <td>Basics of Fire Safety</td>\n",
       "      <td>Intellectual</td>\n",
       "    </tr>\n",
       "    <tr>\n",
       "      <th>3</th>\n",
       "      <td>sudhir.gomase@spit.ac.in</td>\n",
       "      <td>Sudhir Narayan Gomase</td>\n",
       "      <td>2021510018</td>\n",
       "      <td>MCA</td>\n",
       "      <td>1</td>\n",
       "      <td>Basics of Fire Safety</td>\n",
       "      <td>Intellectual</td>\n",
       "    </tr>\n",
       "    <tr>\n",
       "      <th>4</th>\n",
       "      <td>vishal.padme@spit.ac.in</td>\n",
       "      <td>Vishal Devidas Padme</td>\n",
       "      <td>2021510041</td>\n",
       "      <td>MCA</td>\n",
       "      <td>1</td>\n",
       "      <td>Basics of Fire Safety</td>\n",
       "      <td>Intellectual</td>\n",
       "    </tr>\n",
       "  </tbody>\n",
       "</table>\n",
       "</div>"
      ],
      "text/plain": [
       "                         email                   name         uid branch  sem  \\\n",
       "0      shaun.dsouza@spit.ac.in          Shaun D'Souza  2021300031   COMP    1   \n",
       "1  ganesh.chaudhari@spit.ac.in       Ganesh Chaudhari  2021510007    MCA    1   \n",
       "2    chetan.dhandge@spit.ac.in         Chetan Dhandge  2021510010    MCA    1   \n",
       "3     sudhir.gomase@spit.ac.in  Sudhir Narayan Gomase  2021510018    MCA    1   \n",
       "4      vishal.padme@spit.ac.in   Vishal Devidas Padme  2021510041    MCA    1   \n",
       "\n",
       "                  course      category  \n",
       "0  Basics of Fire Safety  Intellectual  \n",
       "1  Basics of Fire Safety  Intellectual  \n",
       "2  Basics of Fire Safety  Intellectual  \n",
       "3  Basics of Fire Safety  Intellectual  \n",
       "4  Basics of Fire Safety  Intellectual  "
      ]
     },
     "execution_count": 15,
     "metadata": {},
     "output_type": "execute_result"
    }
   ],
   "source": [
    "sem3 = pd.read_csv(os.path.join(data_dir, 'sheet-1.csv'))\n",
    "sem4 = pd.read_csv(os.path.join(data_dir, 'sheet-2.csv'))\n",
    "sem5 = pd.read_csv(os.path.join(data_dir, 'sheet-3.csv'))\n",
    "sem6 = pd.read_csv(os.path.join(data_dir, 'sheet-4.csv'))\n",
    "\n",
    "# merge them all into final\n",
    "final = pd.concat([sem3, sem4, sem5, sem6], ignore_index=True)\n",
    "final.head()"
   ]
  },
  {
   "cell_type": "code",
   "execution_count": 16,
   "metadata": {},
   "outputs": [
    {
     "name": "stdout",
     "output_type": "stream",
     "text": [
      "[1 3 5 7 4 6 8 2]\n"
     ]
    }
   ],
   "source": [
    "# print all unique values in sem column\n",
    "print(final['sem'].unique())\n"
   ]
  },
  {
   "cell_type": "code",
   "execution_count": 17,
   "metadata": {},
   "outputs": [],
   "source": [
    "final.to_csv(os.path.join(data_dir, 'final.csv'), index=False)"
   ]
  },
  {
   "cell_type": "code",
   "execution_count": 22,
   "metadata": {},
   "outputs": [
    {
     "name": "stdout",
     "output_type": "stream",
     "text": [
      "(5377, 7)\n"
     ]
    },
    {
     "data": {
      "text/plain": [
       "email       0\n",
       "name        0\n",
       "uid         0\n",
       "branch      0\n",
       "sem         0\n",
       "course      0\n",
       "category    0\n",
       "dtype: int64"
      ]
     },
     "execution_count": 22,
     "metadata": {},
     "output_type": "execute_result"
    }
   ],
   "source": [
    "df = pd.read_csv(os.path.join(data_dir, \"final.csv\"))\n",
    "print(df.shape)\n",
    "# null values\n",
    "df.isnull().sum()"
   ]
  },
  {
   "cell_type": "code",
   "execution_count": 12,
   "metadata": {},
   "outputs": [
    {
     "name": "stdout",
     "output_type": "stream",
     "text": [
      "ODD SEM 2022-23:  21 sheets\n",
      "EVEN SEM 2022-23:  21 sheets\n",
      "ODD SEM 2023-24:  27 sheets\n",
      "EVEN SEM 2023-24:  33 sheets\n"
     ]
    }
   ],
   "source": [
    "orig_dir = '../data/original'\n",
    "wb1 = openpyxl.load_workbook(os.path.join(orig_dir, 'odd sem 2022-23.xlsx'))\n",
    "wb2 = openpyxl.load_workbook(os.path.join(orig_dir, 'even sem 2022-23.xlsx'))\n",
    "wb3 = openpyxl.load_workbook(os.path.join(orig_dir, 'odd sem 2023-24.xlsx'))\n",
    "wb4 = openpyxl.load_workbook(os.path.join(orig_dir, 'even sem 2023-24.xlsx'))\n",
    "\n",
    "c1 = len(wb1.sheetnames)\n",
    "c2 = len(wb2.sheetnames)\n",
    "c3 = len(wb3.sheetnames)\n",
    "c4 = len(wb4.sheetnames)\n",
    "\n",
    "print(\"ODD SEM 2022-23: \",c1, \"sheets\")\n",
    "print(\"EVEN SEM 2022-23: \", c2, \"sheets\")\n",
    "print(\"ODD SEM 2023-24: \", c3, \"sheets\")\n",
    "print(\"EVEN SEM 2023-24: \", c4, \"sheets\")"
   ]
  },
  {
   "cell_type": "code",
   "execution_count": 86,
   "metadata": {},
   "outputs": [],
   "source": [
    "for sheet_no in range(0, 20):  \n",
    "    df = pd.read_excel(\n",
    "        os.path.join(data_dir, \"odd sem 2022-23.xlsx\"), sheet_name=sheet_no\n",
    "    )\n",
    "    df.columns = [\"email\", \"name\", \"uid\", \"class\", \"branch\", \"course\", \"sem\"]\n",
    "    if sheet_no == 0:\n",
    "        df.drop(16, inplace=True)\n",
    "    df.drop(columns=[\"class\"], inplace=True)\n",
    "    df = df[[\"email\", \"name\", \"uid\", \"branch\", \"sem\", \"course\"]]\n",
    "    final = pd.concat([final, df], ignore_index=True)"
   ]
  },
  {
   "cell_type": "code",
   "execution_count": 87,
   "metadata": {},
   "outputs": [],
   "source": [
    "for sheet_no in range(0, 21):\n",
    "    df = pd.read_excel(\n",
    "        os.path.join(data_dir, \"even sem 2022-23.xlsx\"), sheet_name=sheet_no\n",
    "    )\n",
    "    if sheet_no == 11:\n",
    "        df.drop(columns=[df.columns[-1]], inplace=True)\n",
    "    df.columns = [\"timestamp\", \"email\", \"name\", \"uid\", \"class\", \"branch\", \"course\", \"sem\"]\n",
    "    df.drop(columns=[\"timestamp\", \"class\"], inplace=True)\n",
    "    df = df[[\"email\", \"name\", \"uid\", \"branch\", \"sem\", \"course\"]]\n",
    "    final = pd.concat([final, df], ignore_index=True)"
   ]
  },
  {
   "cell_type": "code",
   "execution_count": null,
   "metadata": {},
   "outputs": [],
   "source": [
    "for sheet_no in range(0, 27):\n",
    "    df = pd.read_excel(os.path.join(data_dir, 'odd sem 2023-24.xlsx'), sheet_name=sheet_no)\n",
    "    df.columns = ['email', 'name', 'uid', 'class', 'branch', 'course', 'sem']\n",
    "    df.drop(columns=['class'], inplace=True)\n",
    "    df = df[['email', 'name', 'uid', 'branch', 'sem', 'course']]\n",
    "    final = pd.concat([final, df], ignore_index=True)"
   ]
  },
  {
   "cell_type": "code",
   "execution_count": null,
   "metadata": {},
   "outputs": [],
   "source": [
    "for sheet_no in range(1, 33): # skipping nptel sheet\n",
    "    df = pd.read_excel(os.path.join(data_dir, 'even sem 2023-24.xlsx'), sheet_name=sheet_no)\n",
    "    df.columns = ['email', 'name', 'uid', 'class', 'branch', 'course', 'sem']\n",
    "    df.drop(columns=['class'], inplace=True)\n",
    "    df = df[['email', 'name', 'uid', 'branch', 'sem', 'course']]\n",
    "    final = pd.concat([final, df], ignore_index=True)"
   ]
  }
 ],
 "metadata": {
  "kernelspec": {
   "display_name": "dash-venv",
   "language": "python",
   "name": "python3"
  },
  "language_info": {
   "codemirror_mode": {
    "name": "ipython",
    "version": 3
   },
   "file_extension": ".py",
   "mimetype": "text/x-python",
   "name": "python",
   "nbconvert_exporter": "python",
   "pygments_lexer": "ipython3",
   "version": "3.11.0"
  }
 },
 "nbformat": 4,
 "nbformat_minor": 2
}
