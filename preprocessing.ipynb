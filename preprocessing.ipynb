{
 "cells": [
  {
   "cell_type": "markdown",
   "metadata": {},
   "source": [
    "## Data Preprocessing"
   ]
  },
  {
   "cell_type": "code",
   "execution_count": 23,
   "metadata": {},
   "outputs": [],
   "source": [
    "import os\n",
    "import pandas as pd\n",
    "import numpy as np\n",
    "import openpyxl\n",
    "data_dir = 'data'"
   ]
  },
  {
   "cell_type": "markdown",
   "metadata": {},
   "source": [
    "### Generating Courses Data"
   ]
  },
  {
   "cell_type": "code",
   "execution_count": null,
   "metadata": {},
   "outputs": [],
   "source": [
    "courses = pd.read_csv(os.path.join(data_dir, 'courses.csv'))\n",
    "courses.sort_values(by=['category', 'course name'], ascending=[False, True], inplace=True)\n",
    "courses.reset_index(inplace=True, drop=True)\n",
    "courses[\"course_id\"] = courses.index\n",
    "courses.rename(columns={\"course name\": \"course_name\"}, inplace=True)\n",
    "courses = courses[[\"course_id\", \"course_name\", \"category\"]]"
   ]
  },
  {
   "cell_type": "code",
   "execution_count": null,
   "metadata": {},
   "outputs": [],
   "source": [
    "courses[\"course_id\"] = courses.index\n",
    "courses.rename(columns={\"course name\": \"course_name\"}, inplace=True)\n",
    "courses = courses[[\"course_id\", \"course_name\", \"category\"]]\n",
    "courses[\"course_id\"] += 1\n",
    "courses.to_csv(os.path.join(data_dir, \"courses.csv\"), index=False)"
   ]
  },
  {
   "cell_type": "code",
   "execution_count": null,
   "metadata": {},
   "outputs": [],
   "source": [
    "courses = pd.read_csv(os.path.join(data_dir, 'courses.csv'))\n",
    "courses"
   ]
  },
  {
   "cell_type": "markdown",
   "metadata": {},
   "source": [
    "### Combine all sheets in a single CSV file\n"
   ]
  },
  {
   "cell_type": "code",
   "execution_count": 54,
   "metadata": {},
   "outputs": [
    {
     "data": {
      "text/html": [
       "<div>\n",
       "<style scoped>\n",
       "    .dataframe tbody tr th:only-of-type {\n",
       "        vertical-align: middle;\n",
       "    }\n",
       "\n",
       "    .dataframe tbody tr th {\n",
       "        vertical-align: top;\n",
       "    }\n",
       "\n",
       "    .dataframe thead th {\n",
       "        text-align: right;\n",
       "    }\n",
       "</style>\n",
       "<table border=\"1\" class=\"dataframe\">\n",
       "  <thead>\n",
       "    <tr style=\"text-align: right;\">\n",
       "      <th></th>\n",
       "      <th>email</th>\n",
       "      <th>name</th>\n",
       "      <th>uid</th>\n",
       "      <th>branch</th>\n",
       "      <th>sem</th>\n",
       "      <th>course</th>\n",
       "    </tr>\n",
       "  </thead>\n",
       "  <tbody>\n",
       "  </tbody>\n",
       "</table>\n",
       "</div>"
      ],
      "text/plain": [
       "Empty DataFrame\n",
       "Columns: [email, name, uid, branch, sem, course]\n",
       "Index: []"
      ]
     },
     "execution_count": 54,
     "metadata": {},
     "output_type": "execute_result"
    }
   ],
   "source": [
    "# even sem 2023-24.xlsx file contains 33 sheets, first one is NPTEL\n",
    "final = pd.DataFrame(columns=['email', 'name', 'uid', 'branch', 'sem', 'course'])\n",
    "final"
   ]
  },
  {
   "cell_type": "code",
   "execution_count": 55,
   "metadata": {},
   "outputs": [
    {
     "name": "stdout",
     "output_type": "stream",
     "text": [
      "20 21 27 33\n"
     ]
    }
   ],
   "source": [
    "wb1 = openpyxl.load_workbook(os.path.join(data_dir, 'odd sem 2022-23.xlsx'))\n",
    "wb2 = openpyxl.load_workbook(os.path.join(data_dir, 'even sem 2022-23.xlsx'))\n",
    "wb3 = openpyxl.load_workbook(os.path.join(data_dir, 'odd sem 2023-24.xlsx'))\n",
    "wb4 = openpyxl.load_workbook(os.path.join(data_dir, 'even sem 2023-24.xlsx'))\n",
    "\n",
    "c1 = len(wb1.sheetnames)\n",
    "c2 = len(wb2.sheetnames)\n",
    "c3 = len(wb3.sheetnames)\n",
    "c4 = len(wb4.sheetnames)\n",
    "\n",
    "print(c1, c2, c3, c4)"
   ]
  },
  {
   "cell_type": "code",
   "execution_count": 56,
   "metadata": {},
   "outputs": [],
   "source": [
    "for sheet_no in range(0, 20):  \n",
    "    df = pd.read_excel(\n",
    "        os.path.join(data_dir, \"odd sem 2022-23.xlsx\"), sheet_name=sheet_no\n",
    "    )\n",
    "    df.columns = [\"email\", \"name\", \"uid\", \"class\", \"branch\", \"course\", \"sem\"]\n",
    "    if sheet_no == 0:\n",
    "        df.drop(16, inplace=True)\n",
    "    df.drop(columns=[\"class\"], inplace=True)\n",
    "    df = df[[\"email\", \"name\", \"uid\", \"branch\", \"sem\", \"course\"]]\n",
    "    final = pd.concat([final, df], ignore_index=True)"
   ]
  },
  {
   "cell_type": "code",
   "execution_count": 69,
   "metadata": {},
   "outputs": [
    {
     "name": "stdout",
     "output_type": "stream",
     "text": [
      "0 (15, 8)\n",
      "1 (27, 8)\n",
      "2 (35, 8)\n",
      "3 (6, 8)\n",
      "4 (43, 8)\n",
      "5 (8, 8)\n",
      "6 (40, 8)\n",
      "7 (46, 8)\n",
      "8 (122, 8)\n",
      "9 (40, 8)\n",
      "10 (42, 8)\n",
      "11 (41, 8)\n",
      "12 (17, 8)\n",
      "13 (30, 8)\n",
      "14 (71, 8)\n",
      "15 (67, 8)\n",
      "16 (159, 8)\n",
      "17 (131, 8)\n",
      "18 (140, 8)\n",
      "19 (18, 8)\n",
      "20 (25, 8)\n"
     ]
    }
   ],
   "source": [
    "for sheet_no in range(0, 21):\n",
    "    df = pd.read_excel(\n",
    "        os.path.join(data_dir, \"even sem 2022-23.xlsx\"), sheet_name=sheet_no\n",
    "    )\n",
    "    if sheet_no == 11:\n",
    "        df.drop(columns=[df.columns[-1]], inplace=True)\n",
    "    df.columns = [\"timestamp\", \"email\", \"name\", \"uid\", \"class\", \"branch\", \"course\", \"sem\"]\n",
    "    df.drop(columns=[\"timestamp\", \"class\"], inplace=True)\n",
    "    df = df[[\"email\", \"name\", \"uid\", \"branch\", \"sem\", \"course\"]]\n",
    "    final = pd.concat([final, df], ignore_index=True)"
   ]
  },
  {
   "cell_type": "code",
   "execution_count": null,
   "metadata": {},
   "outputs": [],
   "source": [
    "for sheet_no in range(0, 27):\n",
    "    df = pd.read_excel(os.path.join(data_dir, 'odd sem 2023-24.xlsx'), sheet_name=sheet_no)\n",
    "    df.columns = ['email', 'name', 'uid', 'class', 'branch', 'course', 'sem']\n",
    "    df.drop(columns=['class'], inplace=True)\n",
    "    df = df[['email', 'name', 'uid', 'branch', 'sem', 'course']]\n",
    "    final = pd.concat([final, df], ignore_index=True)"
   ]
  },
  {
   "cell_type": "code",
   "execution_count": null,
   "metadata": {},
   "outputs": [],
   "source": [
    "for sheet_no in range(1, 33): # skipping nptel sheet\n",
    "    df = pd.read_excel(os.path.join(data_dir, 'even sem 2023-24.xlsx'), sheet_name=sheet_no)\n",
    "    df.columns = ['email', 'name', 'uid', 'class', 'branch', 'course', 'sem']\n",
    "    df.drop(columns=['class'], inplace=True)\n",
    "    df = df[['email', 'name', 'uid', 'branch', 'sem', 'course']]\n",
    "    final = pd.concat([final, df], ignore_index=True)"
   ]
  },
  {
   "cell_type": "code",
   "execution_count": 57,
   "metadata": {},
   "outputs": [
    {
     "data": {
      "text/plain": [
       "email     0\n",
       "name      0\n",
       "uid       0\n",
       "branch    0\n",
       "sem       0\n",
       "course    0\n",
       "dtype: int64"
      ]
     },
     "execution_count": 57,
     "metadata": {},
     "output_type": "execute_result"
    }
   ],
   "source": [
    "final.isnull().sum()"
   ]
  },
  {
   "cell_type": "code",
   "execution_count": 58,
   "metadata": {},
   "outputs": [
    {
     "data": {
      "text/html": [
       "<div>\n",
       "<style scoped>\n",
       "    .dataframe tbody tr th:only-of-type {\n",
       "        vertical-align: middle;\n",
       "    }\n",
       "\n",
       "    .dataframe tbody tr th {\n",
       "        vertical-align: top;\n",
       "    }\n",
       "\n",
       "    .dataframe thead th {\n",
       "        text-align: right;\n",
       "    }\n",
       "</style>\n",
       "<table border=\"1\" class=\"dataframe\">\n",
       "  <thead>\n",
       "    <tr style=\"text-align: right;\">\n",
       "      <th></th>\n",
       "      <th>email</th>\n",
       "      <th>name</th>\n",
       "      <th>uid</th>\n",
       "      <th>branch</th>\n",
       "      <th>sem</th>\n",
       "      <th>course</th>\n",
       "    </tr>\n",
       "  </thead>\n",
       "  <tbody>\n",
       "  </tbody>\n",
       "</table>\n",
       "</div>"
      ],
      "text/plain": [
       "Empty DataFrame\n",
       "Columns: [email, name, uid, branch, sem, course]\n",
       "Index: []"
      ]
     },
     "execution_count": 58,
     "metadata": {},
     "output_type": "execute_result"
    }
   ],
   "source": [
    "# print row with missing values\n",
    "final[final.isnull().any(axis=1)]"
   ]
  },
  {
   "cell_type": "code",
   "execution_count": 59,
   "metadata": {},
   "outputs": [
    {
     "data": {
      "text/plain": [
       "(1204, 6)"
      ]
     },
     "execution_count": 59,
     "metadata": {},
     "output_type": "execute_result"
    }
   ],
   "source": [
    "final.shape"
   ]
  },
  {
   "cell_type": "code",
   "execution_count": null,
   "metadata": {},
   "outputs": [],
   "source": [
    "final.to_csv(os.path.join(data_dir, 'allsem.csv'), index=False)"
   ]
  },
  {
   "cell_type": "code",
   "execution_count": null,
   "metadata": {},
   "outputs": [],
   "source": [
    "final.sort_values(by=['course', 'sem', 'branch', 'uid'])"
   ]
  },
  {
   "cell_type": "code",
   "execution_count": null,
   "metadata": {},
   "outputs": [],
   "source": [
    "normalized_course_names = courses['course_name'].tolist()\n",
    "normalized_course_names"
   ]
  },
  {
   "cell_type": "code",
   "execution_count": null,
   "metadata": {},
   "outputs": [],
   "source": [
    "import difflib\n",
    "\n",
    "difflib.get_close_matches('Technology', normalized_course_names)"
   ]
  },
  {
   "cell_type": "code",
   "execution_count": 73,
   "metadata": {},
   "outputs": [],
   "source": [
    "import numpy as np\n",
    "\n",
    "def find_closet_match(test_str, list2check):\n",
    "    scores = {}\n",
    "    test_str = test_str.lower()\n",
    "    for ii in list2check:\n",
    "        cnt = 0\n",
    "        if len(test_str)<=len(ii):\n",
    "            str1, str2 = test_str, ii\n",
    "        else:\n",
    "            str1, str2 = ii, test_str\n",
    "        for jj in range(len(str1)):\n",
    "            cnt += 1 if str1[jj]==str2[jj] else 0\n",
    "        scores[ii] = cnt\n",
    "    scores_values = np.array(list(scores.values()))\n",
    "    closest_match_idx = np.argmax(scores_values)\n",
    "    # closest_match_idx = np.argsort(scores_values, axis=0, kind='quicksort')[-3:]\n",
    "    closest_match = np.array(list(scores.keys()))[closest_match_idx]\n",
    "    return closest_match, closest_match_idx"
   ]
  },
  {
   "cell_type": "code",
   "execution_count": 74,
   "metadata": {},
   "outputs": [
    {
     "data": {
      "text/plain": [
       "('physical fitness', 15)"
      ]
     },
     "execution_count": 74,
     "metadata": {},
     "output_type": "execute_result"
    }
   ],
   "source": [
    "find_closet_match('Personality', [i.lower() for i in normalized_course_names])"
   ]
  },
  {
   "cell_type": "code",
   "execution_count": null,
   "metadata": {},
   "outputs": [],
   "source": []
  },
  {
   "cell_type": "code",
   "execution_count": null,
   "metadata": {},
   "outputs": [],
   "source": []
  }
 ],
 "metadata": {
  "kernelspec": {
   "display_name": "dash-venv",
   "language": "python",
   "name": "python3"
  },
  "language_info": {
   "codemirror_mode": {
    "name": "ipython",
    "version": 3
   },
   "file_extension": ".py",
   "mimetype": "text/x-python",
   "name": "python",
   "nbconvert_exporter": "python",
   "pygments_lexer": "ipython3",
   "version": "3.11.0"
  }
 },
 "nbformat": 4,
 "nbformat_minor": 2
}
