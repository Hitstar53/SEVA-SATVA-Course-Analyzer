{
 "cells": [
  {
   "cell_type": "markdown",
   "metadata": {},
   "source": [
    "## Data Preprocessing"
   ]
  },
  {
   "cell_type": "code",
   "execution_count": null,
   "metadata": {},
   "outputs": [],
   "source": [
    "import pandas as pd\n",
    "import os\n",
    "data_dir = 'data'"
   ]
  },
  {
   "cell_type": "markdown",
   "metadata": {},
   "source": [
    "### Generating Courses Data"
   ]
  },
  {
   "cell_type": "code",
   "execution_count": null,
   "metadata": {},
   "outputs": [],
   "source": [
    "courses = pd.read_csv(os.path.join(data_dir, 'courses.csv'))\n",
    "courses.sort_values(by=['category', 'course name'], ascending=[False, True], inplace=True)\n",
    "courses.reset_index(inplace=True, drop=True)\n",
    "courses[\"course_id\"] = courses.index\n",
    "courses.rename(columns={\"course name\": \"course_name\"}, inplace=True)\n",
    "courses = courses[[\"course_id\", \"course_name\", \"category\"]]"
   ]
  },
  {
   "cell_type": "code",
   "execution_count": null,
   "metadata": {},
   "outputs": [],
   "source": [
    "courses[\"course_id\"] = courses.index\n",
    "courses.rename(columns={\"course name\": \"course_name\"}, inplace=True)\n",
    "courses = courses[[\"course_id\", \"course_name\", \"category\"]]\n",
    "courses[\"course_id\"] += 1\n",
    "courses.to_csv(os.path.join(data_dir, \"courses.csv\"), index=False)"
   ]
  },
  {
   "cell_type": "code",
   "execution_count": null,
   "metadata": {},
   "outputs": [],
   "source": [
    "courses = pd.read_csv(os.path.join(data_dir, 'courses.csv'))\n",
    "courses"
   ]
  },
  {
   "cell_type": "markdown",
   "metadata": {},
   "source": [
    "### Combine all sheets in a single CSV file\n"
   ]
  },
  {
   "cell_type": "code",
   "execution_count": null,
   "metadata": {},
   "outputs": [],
   "source": [
    "# even sem 2023-24.xlsx file contains 33 sheets, first one is NPTEL\n",
    "final = pd.DataFrame(columns=['email', 'name', 'uid', 'branch', 'sem', 'course'])"
   ]
  },
  {
   "cell_type": "code",
   "execution_count": null,
   "metadata": {},
   "outputs": [],
   "source": [
    "for sheet_no in range(1, 33):  # skipping nptel sheet\n",
    "    df = pd.read_excel(\n",
    "        os.path.join(data_dir, \"odd sem 2022-23.xlsx\"), sheet_name=sheet_no\n",
    "    )\n",
    "    df.columns = [\"email\", \"name\", \"uid\", \"class\", \"branch\", \"course\", \"sem\"]\n",
    "    df.drop(columns=[\"class\"], inplace=True)\n",
    "    df = df[[\"email\", \"name\", \"uid\", \"branch\", \"sem\", \"course\"]]\n",
    "    final = pd.concat([final, df], ignore_index=True)"
   ]
  },
  {
   "cell_type": "code",
   "execution_count": null,
   "metadata": {},
   "outputs": [],
   "source": [
    "for sheet_no in range(1, 33):  # skipping nptel sheet\n",
    "    df = pd.read_excel(\n",
    "    df = pd.read_excel(\n",
    "        os.path.join(data_dir, \"even sem 2022-23.xlsx\"), sheet_name=sheet_no\n",
    "    )\n",
    "    df.columns = [\"email\", \"name\", \"uid\", \"class\", \"branch\", \"course\", \"sem\"]\n",
    "    df.drop(columns=[\"class\"], inplace=True)\n",
    "    df = df[[\"email\", \"name\", \"uid\", \"branch\", \"sem\", \"course\"]]\n",
    "    final = pd.concat([final, df], ignore_index=True)"
   ]
  },
  {
   "cell_type": "code",
   "execution_count": null,
   "metadata": {},
   "outputs": [],
   "source": [
    "for sheet_no in range(1, 33): # skipping nptel sheet\n",
    "    df = pd.read_excel(os.path.join(data_dir, 'odd sem 2023-24.xlsx'), sheet_name=sheet_no)\n",
    "    df.columns = ['email', 'name', 'uid', 'class', 'branch', 'course', 'sem']\n",
    "    df.drop(columns=['class'], inplace=True)\n",
    "    df = df[['email', 'name', 'uid', 'branch', 'sem', 'course']]\n",
    "    final = pd.concat([final, df], ignore_index=True)"
   ]
  },
  {
   "cell_type": "code",
   "execution_count": null,
   "metadata": {},
   "outputs": [],
   "source": [
    "for sheet_no in range(1, 33): # skipping nptel sheet\n",
    "    df = pd.read_excel(os.path.join(data_dir, 'even sem 2023-24.xlsx'), sheet_name=sheet_no)\n",
    "    df.columns = ['email', 'name', 'uid', 'class', 'branch', 'course', 'sem']\n",
    "    df.drop(columns=['class'], inplace=True)\n",
    "    df = df[['email', 'name', 'uid', 'branch', 'sem', 'course']]\n",
    "    final = pd.concat([final, df], ignore_index=True)"
   ]
  },
  {
   "cell_type": "code",
   "execution_count": 36,
   "metadata": {},
   "outputs": [
    {
     "data": {
      "text/plain": [
       "email     0\n",
       "name      0\n",
       "uid       0\n",
       "branch    0\n",
       "sem       0\n",
       "course    0\n",
       "dtype: int64"
      ]
     },
     "execution_count": 36,
     "metadata": {},
     "output_type": "execute_result"
    }
   ],
   "source": [
    "final.isnull().sum()"
   ]
  },
  {
   "cell_type": "code",
   "execution_count": 37,
   "metadata": {},
   "outputs": [
    {
     "data": {
      "text/html": [
       "<div>\n",
       "<style scoped>\n",
       "    .dataframe tbody tr th:only-of-type {\n",
       "        vertical-align: middle;\n",
       "    }\n",
       "\n",
       "    .dataframe tbody tr th {\n",
       "        vertical-align: top;\n",
       "    }\n",
       "\n",
       "    .dataframe thead th {\n",
       "        text-align: right;\n",
       "    }\n",
       "</style>\n",
       "<table border=\"1\" class=\"dataframe\">\n",
       "  <thead>\n",
       "    <tr style=\"text-align: right;\">\n",
       "      <th></th>\n",
       "      <th>email</th>\n",
       "      <th>name</th>\n",
       "      <th>uid</th>\n",
       "      <th>branch</th>\n",
       "      <th>sem</th>\n",
       "      <th>course</th>\n",
       "    </tr>\n",
       "  </thead>\n",
       "  <tbody>\n",
       "    <tr>\n",
       "      <th>0</th>\n",
       "      <td>vijesh.hingu@spit.ac.in</td>\n",
       "      <td>Vijesh Mitesh Hingu</td>\n",
       "      <td>2021300042</td>\n",
       "      <td>COMP</td>\n",
       "      <td>6</td>\n",
       "      <td>ASTITVA</td>\n",
       "    </tr>\n",
       "    <tr>\n",
       "      <th>1</th>\n",
       "      <td>dhruvil.doshi@spit.ac.in</td>\n",
       "      <td>Dhruvil Doshi</td>\n",
       "      <td>2021300027</td>\n",
       "      <td>COMP</td>\n",
       "      <td>6</td>\n",
       "      <td>ASTITVA</td>\n",
       "    </tr>\n",
       "    <tr>\n",
       "      <th>2</th>\n",
       "      <td>aditya.choudhary@spit.ac.in</td>\n",
       "      <td>Aditya Choudhary</td>\n",
       "      <td>2021300022</td>\n",
       "      <td>COMP</td>\n",
       "      <td>6</td>\n",
       "      <td>ASTITVA</td>\n",
       "    </tr>\n",
       "    <tr>\n",
       "      <th>3</th>\n",
       "      <td>kunal.bhatia@spit.ac.in</td>\n",
       "      <td>Kunal Bhatia</td>\n",
       "      <td>2021300010</td>\n",
       "      <td>COMP</td>\n",
       "      <td>6</td>\n",
       "      <td>ASTITVA</td>\n",
       "    </tr>\n",
       "    <tr>\n",
       "      <th>4</th>\n",
       "      <td>ameya.dabholkar@spit.ac.in</td>\n",
       "      <td>Ameya Dabholkar</td>\n",
       "      <td>2021300023</td>\n",
       "      <td>COMP</td>\n",
       "      <td>6</td>\n",
       "      <td>ASTITVA</td>\n",
       "    </tr>\n",
       "    <tr>\n",
       "      <th>5</th>\n",
       "      <td>siddhant.rao@spit.ac.in</td>\n",
       "      <td>Siddhant Paritosh Rao</td>\n",
       "      <td>2021600055</td>\n",
       "      <td>CSE-AIML</td>\n",
       "      <td>6</td>\n",
       "      <td>ASTITVA</td>\n",
       "    </tr>\n",
       "    <tr>\n",
       "      <th>6</th>\n",
       "      <td>rahul.shinde@spit.ac.in</td>\n",
       "      <td>rahul shinde</td>\n",
       "      <td>2021600061</td>\n",
       "      <td>CSE-AIML</td>\n",
       "      <td>6</td>\n",
       "      <td>ASTITVA</td>\n",
       "    </tr>\n",
       "    <tr>\n",
       "      <th>7</th>\n",
       "      <td>vansh.talwar@spit.ac.in</td>\n",
       "      <td>Vansh Talwar</td>\n",
       "      <td>2021600064</td>\n",
       "      <td>CSE-AIML</td>\n",
       "      <td>6</td>\n",
       "      <td>ASTITVA</td>\n",
       "    </tr>\n",
       "    <tr>\n",
       "      <th>8</th>\n",
       "      <td>divya.raichura@spit.ac.in</td>\n",
       "      <td>Divya Raichura</td>\n",
       "      <td>2021600052</td>\n",
       "      <td>CSE-AIML</td>\n",
       "      <td>6</td>\n",
       "      <td>ASTITVA</td>\n",
       "    </tr>\n",
       "    <tr>\n",
       "      <th>9</th>\n",
       "      <td>aditya.kadam@spit.ac.in</td>\n",
       "      <td>Aditya Kadam</td>\n",
       "      <td>2021200046</td>\n",
       "      <td>EXTC</td>\n",
       "      <td>6</td>\n",
       "      <td>ASTITVA</td>\n",
       "    </tr>\n",
       "  </tbody>\n",
       "</table>\n",
       "</div>"
      ],
      "text/plain": [
       "                         email                   name         uid    branch  \\\n",
       "0      vijesh.hingu@spit.ac.in    Vijesh Mitesh Hingu  2021300042      COMP   \n",
       "1     dhruvil.doshi@spit.ac.in          Dhruvil Doshi  2021300027      COMP   \n",
       "2  aditya.choudhary@spit.ac.in       Aditya Choudhary  2021300022      COMP   \n",
       "3      kunal.bhatia@spit.ac.in           Kunal Bhatia  2021300010      COMP   \n",
       "4   ameya.dabholkar@spit.ac.in        Ameya Dabholkar  2021300023      COMP   \n",
       "5      siddhant.rao@spit.ac.in  Siddhant Paritosh Rao  2021600055  CSE-AIML   \n",
       "6      rahul.shinde@spit.ac.in           rahul shinde  2021600061  CSE-AIML   \n",
       "7      vansh.talwar@spit.ac.in           Vansh Talwar  2021600064  CSE-AIML   \n",
       "8    divya.raichura@spit.ac.in         Divya Raichura  2021600052  CSE-AIML   \n",
       "9      aditya.kadam@spit.ac.in           Aditya Kadam  2021200046      EXTC   \n",
       "\n",
       "  sem   course  \n",
       "0   6  ASTITVA  \n",
       "1   6  ASTITVA  \n",
       "2   6  ASTITVA  \n",
       "3   6  ASTITVA  \n",
       "4   6  ASTITVA  \n",
       "5   6  ASTITVA  \n",
       "6   6  ASTITVA  \n",
       "7   6  ASTITVA  \n",
       "8   6  ASTITVA  \n",
       "9   6  ASTITVA  "
      ]
     },
     "execution_count": 37,
     "metadata": {},
     "output_type": "execute_result"
    }
   ],
   "source": [
    "final.head(10)"
   ]
  },
  {
   "cell_type": "code",
   "execution_count": 38,
   "metadata": {},
   "outputs": [
    {
     "data": {
      "text/plain": [
       "(17850, 6)"
      ]
     },
     "execution_count": 38,
     "metadata": {},
     "output_type": "execute_result"
    }
   ],
   "source": [
    "final.shape"
   ]
  },
  {
   "cell_type": "code",
   "execution_count": 39,
   "metadata": {},
   "outputs": [],
   "source": [
    "final.to_csv(os.path.join(data_dir, 'allsem.csv'), index=False)"
   ]
  },
  {
   "cell_type": "code",
   "execution_count": 40,
   "metadata": {},
   "outputs": [
    {
     "data": {
      "text/html": [
       "<div>\n",
       "<style scoped>\n",
       "    .dataframe tbody tr th:only-of-type {\n",
       "        vertical-align: middle;\n",
       "    }\n",
       "\n",
       "    .dataframe tbody tr th {\n",
       "        vertical-align: top;\n",
       "    }\n",
       "\n",
       "    .dataframe thead th {\n",
       "        text-align: right;\n",
       "    }\n",
       "</style>\n",
       "<table border=\"1\" class=\"dataframe\">\n",
       "  <thead>\n",
       "    <tr style=\"text-align: right;\">\n",
       "      <th></th>\n",
       "      <th>email</th>\n",
       "      <th>name</th>\n",
       "      <th>uid</th>\n",
       "      <th>branch</th>\n",
       "      <th>sem</th>\n",
       "      <th>course</th>\n",
       "    </tr>\n",
       "  </thead>\n",
       "  <tbody>\n",
       "    <tr>\n",
       "      <th>25</th>\n",
       "      <td>soham.ghorpade23@spit.ac.in</td>\n",
       "      <td>Soham Amol Ghorpade</td>\n",
       "      <td>2023300064</td>\n",
       "      <td>COMP</td>\n",
       "      <td>2</td>\n",
       "      <td>ASTITVA</td>\n",
       "    </tr>\n",
       "    <tr>\n",
       "      <th>780</th>\n",
       "      <td>soham.ghorpade23@spit.ac.in</td>\n",
       "      <td>Soham Amol Ghorpade</td>\n",
       "      <td>2023300064</td>\n",
       "      <td>COMP</td>\n",
       "      <td>2</td>\n",
       "      <td>ASTITVA</td>\n",
       "    </tr>\n",
       "    <tr>\n",
       "      <th>1535</th>\n",
       "      <td>soham.ghorpade23@spit.ac.in</td>\n",
       "      <td>Soham Amol Ghorpade</td>\n",
       "      <td>2023300064</td>\n",
       "      <td>COMP</td>\n",
       "      <td>2</td>\n",
       "      <td>ASTITVA</td>\n",
       "    </tr>\n",
       "    <tr>\n",
       "      <th>2315</th>\n",
       "      <td>soham.ghorpade23@spit.ac.in</td>\n",
       "      <td>Soham Amol Ghorpade</td>\n",
       "      <td>2023300064</td>\n",
       "      <td>COMP</td>\n",
       "      <td>2</td>\n",
       "      <td>ASTITVA</td>\n",
       "    </tr>\n",
       "    <tr>\n",
       "      <th>3095</th>\n",
       "      <td>soham.ghorpade23@spit.ac.in</td>\n",
       "      <td>Soham Amol Ghorpade</td>\n",
       "      <td>2023300064</td>\n",
       "      <td>COMP</td>\n",
       "      <td>2</td>\n",
       "      <td>ASTITVA</td>\n",
       "    </tr>\n",
       "    <tr>\n",
       "      <th>...</th>\n",
       "      <td>...</td>\n",
       "      <td>...</td>\n",
       "      <td>...</td>\n",
       "      <td>...</td>\n",
       "      <td>...</td>\n",
       "      <td>...</td>\n",
       "    </tr>\n",
       "    <tr>\n",
       "      <th>17811</th>\n",
       "      <td>aryan.adav22@spit.ac.in</td>\n",
       "      <td>Aryan Ambarish Adav</td>\n",
       "      <td>2022201001</td>\n",
       "      <td>EXTC</td>\n",
       "      <td>6</td>\n",
       "      <td>yoga 1</td>\n",
       "    </tr>\n",
       "    <tr>\n",
       "      <th>11289</th>\n",
       "      <td>nilesh.admane22@spit.ac.in</td>\n",
       "      <td>Nilesh Sahebrao Admane</td>\n",
       "      <td>2022201002</td>\n",
       "      <td>EXTC</td>\n",
       "      <td>6</td>\n",
       "      <td>yoga 1</td>\n",
       "    </tr>\n",
       "    <tr>\n",
       "      <th>14336</th>\n",
       "      <td>nilesh.admane22@spit.ac.in</td>\n",
       "      <td>Nilesh Sahebrao Admane</td>\n",
       "      <td>2022201002</td>\n",
       "      <td>EXTC</td>\n",
       "      <td>6</td>\n",
       "      <td>yoga 1</td>\n",
       "    </tr>\n",
       "    <tr>\n",
       "      <th>16071</th>\n",
       "      <td>nilesh.admane22@spit.ac.in</td>\n",
       "      <td>Nilesh Sahebrao Admane</td>\n",
       "      <td>2022201002</td>\n",
       "      <td>EXTC</td>\n",
       "      <td>6</td>\n",
       "      <td>yoga 1</td>\n",
       "    </tr>\n",
       "    <tr>\n",
       "      <th>17813</th>\n",
       "      <td>nilesh.admane22@spit.ac.in</td>\n",
       "      <td>Nilesh Sahebrao Admane</td>\n",
       "      <td>2022201002</td>\n",
       "      <td>EXTC</td>\n",
       "      <td>6</td>\n",
       "      <td>yoga 1</td>\n",
       "    </tr>\n",
       "  </tbody>\n",
       "</table>\n",
       "<p>17850 rows × 6 columns</p>\n",
       "</div>"
      ],
      "text/plain": [
       "                             email                    name         uid branch  \\\n",
       "25     soham.ghorpade23@spit.ac.in     Soham Amol Ghorpade  2023300064   COMP   \n",
       "780    soham.ghorpade23@spit.ac.in     Soham Amol Ghorpade  2023300064   COMP   \n",
       "1535   soham.ghorpade23@spit.ac.in     Soham Amol Ghorpade  2023300064   COMP   \n",
       "2315   soham.ghorpade23@spit.ac.in     Soham Amol Ghorpade  2023300064   COMP   \n",
       "3095   soham.ghorpade23@spit.ac.in     Soham Amol Ghorpade  2023300064   COMP   \n",
       "...                            ...                     ...         ...    ...   \n",
       "17811      aryan.adav22@spit.ac.in     Aryan Ambarish Adav  2022201001   EXTC   \n",
       "11289   nilesh.admane22@spit.ac.in  Nilesh Sahebrao Admane  2022201002   EXTC   \n",
       "14336   nilesh.admane22@spit.ac.in  Nilesh Sahebrao Admane  2022201002   EXTC   \n",
       "16071   nilesh.admane22@spit.ac.in  Nilesh Sahebrao Admane  2022201002   EXTC   \n",
       "17813   nilesh.admane22@spit.ac.in  Nilesh Sahebrao Admane  2022201002   EXTC   \n",
       "\n",
       "      sem   course  \n",
       "25      2  ASTITVA  \n",
       "780     2  ASTITVA  \n",
       "1535    2  ASTITVA  \n",
       "2315    2  ASTITVA  \n",
       "3095    2  ASTITVA  \n",
       "...    ..      ...  \n",
       "17811   6   yoga 1  \n",
       "11289   6   yoga 1  \n",
       "14336   6   yoga 1  \n",
       "16071   6   yoga 1  \n",
       "17813   6   yoga 1  \n",
       "\n",
       "[17850 rows x 6 columns]"
      ]
     },
     "execution_count": 40,
     "metadata": {},
     "output_type": "execute_result"
    }
   ],
   "source": [
    "final.sort_values(by=['course', 'sem', 'branch', 'uid'])"
   ]
  },
  {
   "cell_type": "code",
   "execution_count": 42,
   "metadata": {},
   "outputs": [
    {
     "data": {
      "text/plain": [
       "['Art of living',\n",
       " 'Introduction to Bhagvadgita',\n",
       " 'Pranvidya',\n",
       " 'Yog Vidya',\n",
       " 'Mentoring of School Children (Abhudaya)',\n",
       " 'Mentorship to Juniors',\n",
       " 'NSS',\n",
       " 'Principle Centered Leadership',\n",
       " 'Teaching Assistantship',\n",
       " 'Terrace Gardening',\n",
       " \"Volunteering at Dr. Amte's Anandvan\",\n",
       " 'Wall Painting',\n",
       " 'Working with NGO',\n",
       " 'Astitva',\n",
       " 'Kathak',\n",
       " 'Physical Fitness',\n",
       " 'Running',\n",
       " 'Self Defense for Women',\n",
       " 'Skipping',\n",
       " 'Sports',\n",
       " 'Staircase Climbing',\n",
       " 'Swimming',\n",
       " 'Taekwondo',\n",
       " 'Trekking',\n",
       " 'Basic Cooking',\n",
       " 'Basic of Fire Safety',\n",
       " 'Basics of Keyboard playing',\n",
       " 'Basics of Music Composition',\n",
       " 'Design Thinking',\n",
       " 'Film Appreciation',\n",
       " 'Fundamentals of Photography',\n",
       " 'Idea Lab',\n",
       " 'Indian Knowledge System',\n",
       " 'Innovation and Creativity',\n",
       " 'Read a book',\n",
       " 'Short Film Making/ Cinematography',\n",
       " 'Social Psychology',\n",
       " 'Study of Life',\n",
       " 'Technology Entrepreneurship',\n",
       " 'Integrated Personality Development',\n",
       " 'Jeevan Vidya (Work Life Balance)',\n",
       " 'Universal Human Value']"
      ]
     },
     "execution_count": 42,
     "metadata": {},
     "output_type": "execute_result"
    }
   ],
   "source": [
    "normalized_course_names = courses['course_name'].tolist()\n",
    "normalized_course_names"
   ]
  },
  {
   "cell_type": "code",
   "execution_count": 49,
   "metadata": {},
   "outputs": [
    {
     "data": {
      "text/plain": [
       "[]"
      ]
     },
     "execution_count": 49,
     "metadata": {},
     "output_type": "execute_result"
    }
   ],
   "source": [
    "import difflib\n",
    "\n",
    "difflib.get_close_matches('Technology', normalized_course_names)"
   ]
  },
  {
   "cell_type": "code",
   "execution_count": 73,
   "metadata": {},
   "outputs": [],
   "source": [
    "import numpy as np\n",
    "\n",
    "def find_closet_match(test_str, list2check):\n",
    "    scores = {}\n",
    "    test_str = test_str.lower()\n",
    "    for ii in list2check:\n",
    "        cnt = 0\n",
    "        if len(test_str)<=len(ii):\n",
    "            str1, str2 = test_str, ii\n",
    "        else:\n",
    "            str1, str2 = ii, test_str\n",
    "        for jj in range(len(str1)):\n",
    "            cnt += 1 if str1[jj]==str2[jj] else 0\n",
    "        scores[ii] = cnt\n",
    "    scores_values = np.array(list(scores.values()))\n",
    "    closest_match_idx = np.argmax(scores_values)\n",
    "    # closest_match_idx = np.argsort(scores_values, axis=0, kind='quicksort')[-3:]\n",
    "    closest_match = np.array(list(scores.keys()))[closest_match_idx]\n",
    "    return closest_match, closest_match_idx"
   ]
  },
  {
   "cell_type": "code",
   "execution_count": 74,
   "metadata": {},
   "outputs": [
    {
     "data": {
      "text/plain": [
       "('physical fitness', 15)"
      ]
     },
     "execution_count": 74,
     "metadata": {},
     "output_type": "execute_result"
    }
   ],
   "source": [
    "find_closet_match('Personality', [i.lower() for i in normalized_course_names])"
   ]
  },
  {
   "cell_type": "code",
   "execution_count": null,
   "metadata": {},
   "outputs": [],
   "source": []
  },
  {
   "cell_type": "code",
   "execution_count": null,
   "metadata": {},
   "outputs": [],
   "source": []
  }
 ],
 "metadata": {
  "kernelspec": {
   "display_name": "dash-venv",
   "language": "python",
   "name": "python3"
  },
  "language_info": {
   "codemirror_mode": {
    "name": "ipython",
    "version": 3
   },
   "file_extension": ".py",
   "mimetype": "text/x-python",
   "name": "python",
   "nbconvert_exporter": "python",
   "pygments_lexer": "ipython3",
   "version": "3.11.0"
  }
 },
 "nbformat": 4,
 "nbformat_minor": 2
}
