{
 "cells": [
  {
   "cell_type": "code",
   "execution_count": 2,
   "metadata": {},
   "outputs": [],
   "source": [
    "import os\n",
    "import pandas as pd\n",
    "import numpy as np\n",
    "data_dir = '../data'"
   ]
  },
  {
   "cell_type": "code",
   "execution_count": 5,
   "metadata": {},
   "outputs": [
    {
     "data": {
      "text/html": [
       "<div>\n",
       "<style scoped>\n",
       "    .dataframe tbody tr th:only-of-type {\n",
       "        vertical-align: middle;\n",
       "    }\n",
       "\n",
       "    .dataframe tbody tr th {\n",
       "        vertical-align: top;\n",
       "    }\n",
       "\n",
       "    .dataframe thead th {\n",
       "        text-align: right;\n",
       "    }\n",
       "</style>\n",
       "<table border=\"1\" class=\"dataframe\">\n",
       "  <thead>\n",
       "    <tr style=\"text-align: right;\">\n",
       "      <th></th>\n",
       "      <th>Email Address</th>\n",
       "      <th>Name (as in the college records)</th>\n",
       "      <th>UID No.</th>\n",
       "      <th>Class (to be entered in next Semester)</th>\n",
       "      <th>Branch</th>\n",
       "      <th>Course Allocated</th>\n",
       "      <th>Sem</th>\n",
       "    </tr>\n",
       "  </thead>\n",
       "  <tbody>\n",
       "    <tr>\n",
       "      <th>0</th>\n",
       "      <td>dilip.patel@spit.ac.in</td>\n",
       "      <td>Dilip Mahadev Patel</td>\n",
       "      <td>2020300051</td>\n",
       "      <td>TY</td>\n",
       "      <td>COMP</td>\n",
       "      <td>Design Thinking</td>\n",
       "      <td>5</td>\n",
       "    </tr>\n",
       "    <tr>\n",
       "      <th>1</th>\n",
       "      <td>prince.mishra@spit.ac.in</td>\n",
       "      <td>Prince Vireshwar Mishra</td>\n",
       "      <td>2020300043</td>\n",
       "      <td>TY</td>\n",
       "      <td>COMP</td>\n",
       "      <td>Design Thinking</td>\n",
       "      <td>5</td>\n",
       "    </tr>\n",
       "    <tr>\n",
       "      <th>2</th>\n",
       "      <td>nikhil.naik@spit.ac.in</td>\n",
       "      <td>Nikhil Madhukar Naik</td>\n",
       "      <td>2020300044</td>\n",
       "      <td>TY</td>\n",
       "      <td>COMP</td>\n",
       "      <td>Design Thinking</td>\n",
       "      <td>5</td>\n",
       "    </tr>\n",
       "    <tr>\n",
       "      <th>3</th>\n",
       "      <td>chinmay.pichad@spit.ac.in</td>\n",
       "      <td>Chinmay Vasant Pichad</td>\n",
       "      <td>2020300053</td>\n",
       "      <td>TY</td>\n",
       "      <td>COMP</td>\n",
       "      <td>Design Thinking</td>\n",
       "      <td>5</td>\n",
       "    </tr>\n",
       "    <tr>\n",
       "      <th>4</th>\n",
       "      <td>shantanu.milkhe@spit.ac.in</td>\n",
       "      <td>Shantanu Milkhe</td>\n",
       "      <td>2020300042</td>\n",
       "      <td>TY</td>\n",
       "      <td>COMP</td>\n",
       "      <td>Design Thinking</td>\n",
       "      <td>5</td>\n",
       "    </tr>\n",
       "  </tbody>\n",
       "</table>\n",
       "</div>"
      ],
      "text/plain": [
       "                Email Address Name (as in the college records)     UID No.  \\\n",
       "0      dilip.patel@spit.ac.in              Dilip Mahadev Patel  2020300051   \n",
       "1    prince.mishra@spit.ac.in          Prince Vireshwar Mishra  2020300043   \n",
       "2      nikhil.naik@spit.ac.in             Nikhil Madhukar Naik  2020300044   \n",
       "3   chinmay.pichad@spit.ac.in            Chinmay Vasant Pichad  2020300053   \n",
       "4  shantanu.milkhe@spit.ac.in                  Shantanu Milkhe  2020300042   \n",
       "\n",
       "  Class (to be entered in next Semester) Branch Course Allocated  Sem  \n",
       "0                                     TY   COMP  Design Thinking    5  \n",
       "1                                     TY   COMP  Design Thinking    5  \n",
       "2                                     TY   COMP  Design Thinking    5  \n",
       "3                                     TY   COMP  Design Thinking    5  \n",
       "4                                     TY   COMP  Design Thinking    5  "
      ]
     },
     "execution_count": 5,
     "metadata": {},
     "output_type": "execute_result"
    }
   ],
   "source": [
    "sheet1 = pd.read_excel(os.path.join(data_dir, 'odd sem 2022-23.xlsx'), sheet_name='Sheet1')\n",
    "sheet1.head()"
   ]
  },
  {
   "cell_type": "code",
   "execution_count": 4,
   "metadata": {},
   "outputs": [
    {
     "data": {
      "text/plain": [
       "['Art of living',\n",
       " 'Introduction to Bhagvadgita',\n",
       " 'Pranvidya',\n",
       " 'Yog Vidya',\n",
       " 'Mentoring School Children (Abhyudaya)',\n",
       " 'Mentorship to Juniors',\n",
       " 'NSS',\n",
       " 'Principle Centered Leadership',\n",
       " 'Teaching Assistantship',\n",
       " 'Terrace Gardening',\n",
       " \"Volunteering at Dr. Amte's Anandvan\",\n",
       " 'Wall Painting',\n",
       " 'Working with NGO',\n",
       " 'Astitva',\n",
       " 'Kathak',\n",
       " 'Physical Fitness',\n",
       " 'Running',\n",
       " 'Self Defense for Women',\n",
       " 'Skipping',\n",
       " 'Sports',\n",
       " 'Staircase Climbing',\n",
       " 'Swimming',\n",
       " 'Taekwondo',\n",
       " 'Trekking',\n",
       " 'Basic Cooking',\n",
       " 'Basics of Fire Safety',\n",
       " 'Basics of Keyboard playing',\n",
       " 'Basics of Music Composition',\n",
       " 'Design Thinking',\n",
       " 'Film Appreciation',\n",
       " 'Fundamentals of Photography',\n",
       " 'Idea Lab',\n",
       " 'Indian Knowledge System',\n",
       " 'Innovation and Creativity',\n",
       " 'Read a book',\n",
       " 'Short Film Making/ Cinematography',\n",
       " 'Social Psychology',\n",
       " 'Study of Life',\n",
       " 'Technology Entrepreneurship',\n",
       " 'Integrated Personality Development',\n",
       " 'Jeevan Vidya (Work Life Balance)',\n",
       " 'Universal Human Value']"
      ]
     },
     "execution_count": 4,
     "metadata": {},
     "output_type": "execute_result"
    }
   ],
   "source": [
    "courses = pd.read_csv(os.path.join(data_dir, \"courses.csv\"))\n",
    "course_names = courses[\"course_name\"].tolist()\n",
    "course_names"
   ]
  },
  {
   "cell_type": "code",
   "execution_count": 6,
   "metadata": {},
   "outputs": [
    {
     "ename": "KeyError",
     "evalue": "'course'",
     "output_type": "error",
     "traceback": [
      "\u001b[1;31m---------------------------------------------------------------------------\u001b[0m",
      "\u001b[1;31mKeyError\u001b[0m                                  Traceback (most recent call last)",
      "File \u001b[1;32md:\\SEM_6\\SEVA-SATVA-Course-Analyzer\\venv\\Lib\\site-packages\\pandas\\core\\indexes\\base.py:3805\u001b[0m, in \u001b[0;36mIndex.get_loc\u001b[1;34m(self, key)\u001b[0m\n\u001b[0;32m   3804\u001b[0m \u001b[38;5;28;01mtry\u001b[39;00m:\n\u001b[1;32m-> 3805\u001b[0m     \u001b[38;5;28;01mreturn\u001b[39;00m \u001b[38;5;28;43mself\u001b[39;49m\u001b[38;5;241;43m.\u001b[39;49m\u001b[43m_engine\u001b[49m\u001b[38;5;241;43m.\u001b[39;49m\u001b[43mget_loc\u001b[49m\u001b[43m(\u001b[49m\u001b[43mcasted_key\u001b[49m\u001b[43m)\u001b[49m\n\u001b[0;32m   3806\u001b[0m \u001b[38;5;28;01mexcept\u001b[39;00m \u001b[38;5;167;01mKeyError\u001b[39;00m \u001b[38;5;28;01mas\u001b[39;00m err:\n",
      "File \u001b[1;32mindex.pyx:167\u001b[0m, in \u001b[0;36mpandas._libs.index.IndexEngine.get_loc\u001b[1;34m()\u001b[0m\n",
      "File \u001b[1;32mindex.pyx:196\u001b[0m, in \u001b[0;36mpandas._libs.index.IndexEngine.get_loc\u001b[1;34m()\u001b[0m\n",
      "File \u001b[1;32mpandas\\\\_libs\\\\hashtable_class_helper.pxi:7081\u001b[0m, in \u001b[0;36mpandas._libs.hashtable.PyObjectHashTable.get_item\u001b[1;34m()\u001b[0m\n",
      "File \u001b[1;32mpandas\\\\_libs\\\\hashtable_class_helper.pxi:7089\u001b[0m, in \u001b[0;36mpandas._libs.hashtable.PyObjectHashTable.get_item\u001b[1;34m()\u001b[0m\n",
      "\u001b[1;31mKeyError\u001b[0m: 'course'",
      "\nThe above exception was the direct cause of the following exception:\n",
      "\u001b[1;31mKeyError\u001b[0m                                  Traceback (most recent call last)",
      "Cell \u001b[1;32mIn[6], line 1\u001b[0m\n\u001b[1;32m----> 1\u001b[0m \u001b[43msheet1\u001b[49m\u001b[43m[\u001b[49m\u001b[38;5;124;43m\"\u001b[39;49m\u001b[38;5;124;43mcourse\u001b[39;49m\u001b[38;5;124;43m\"\u001b[39;49m\u001b[43m]\u001b[49m\u001b[38;5;241m.\u001b[39munique()\n",
      "File \u001b[1;32md:\\SEM_6\\SEVA-SATVA-Course-Analyzer\\venv\\Lib\\site-packages\\pandas\\core\\frame.py:4102\u001b[0m, in \u001b[0;36mDataFrame.__getitem__\u001b[1;34m(self, key)\u001b[0m\n\u001b[0;32m   4100\u001b[0m \u001b[38;5;28;01mif\u001b[39;00m \u001b[38;5;28mself\u001b[39m\u001b[38;5;241m.\u001b[39mcolumns\u001b[38;5;241m.\u001b[39mnlevels \u001b[38;5;241m>\u001b[39m \u001b[38;5;241m1\u001b[39m:\n\u001b[0;32m   4101\u001b[0m     \u001b[38;5;28;01mreturn\u001b[39;00m \u001b[38;5;28mself\u001b[39m\u001b[38;5;241m.\u001b[39m_getitem_multilevel(key)\n\u001b[1;32m-> 4102\u001b[0m indexer \u001b[38;5;241m=\u001b[39m \u001b[38;5;28;43mself\u001b[39;49m\u001b[38;5;241;43m.\u001b[39;49m\u001b[43mcolumns\u001b[49m\u001b[38;5;241;43m.\u001b[39;49m\u001b[43mget_loc\u001b[49m\u001b[43m(\u001b[49m\u001b[43mkey\u001b[49m\u001b[43m)\u001b[49m\n\u001b[0;32m   4103\u001b[0m \u001b[38;5;28;01mif\u001b[39;00m is_integer(indexer):\n\u001b[0;32m   4104\u001b[0m     indexer \u001b[38;5;241m=\u001b[39m [indexer]\n",
      "File \u001b[1;32md:\\SEM_6\\SEVA-SATVA-Course-Analyzer\\venv\\Lib\\site-packages\\pandas\\core\\indexes\\base.py:3812\u001b[0m, in \u001b[0;36mIndex.get_loc\u001b[1;34m(self, key)\u001b[0m\n\u001b[0;32m   3807\u001b[0m     \u001b[38;5;28;01mif\u001b[39;00m \u001b[38;5;28misinstance\u001b[39m(casted_key, \u001b[38;5;28mslice\u001b[39m) \u001b[38;5;129;01mor\u001b[39;00m (\n\u001b[0;32m   3808\u001b[0m         \u001b[38;5;28misinstance\u001b[39m(casted_key, abc\u001b[38;5;241m.\u001b[39mIterable)\n\u001b[0;32m   3809\u001b[0m         \u001b[38;5;129;01mand\u001b[39;00m \u001b[38;5;28many\u001b[39m(\u001b[38;5;28misinstance\u001b[39m(x, \u001b[38;5;28mslice\u001b[39m) \u001b[38;5;28;01mfor\u001b[39;00m x \u001b[38;5;129;01min\u001b[39;00m casted_key)\n\u001b[0;32m   3810\u001b[0m     ):\n\u001b[0;32m   3811\u001b[0m         \u001b[38;5;28;01mraise\u001b[39;00m InvalidIndexError(key)\n\u001b[1;32m-> 3812\u001b[0m     \u001b[38;5;28;01mraise\u001b[39;00m \u001b[38;5;167;01mKeyError\u001b[39;00m(key) \u001b[38;5;28;01mfrom\u001b[39;00m \u001b[38;5;21;01merr\u001b[39;00m\n\u001b[0;32m   3813\u001b[0m \u001b[38;5;28;01mexcept\u001b[39;00m \u001b[38;5;167;01mTypeError\u001b[39;00m:\n\u001b[0;32m   3814\u001b[0m     \u001b[38;5;66;03m# If we have a listlike key, _check_indexing_error will raise\u001b[39;00m\n\u001b[0;32m   3815\u001b[0m     \u001b[38;5;66;03m#  InvalidIndexError. Otherwise we fall through and re-raise\u001b[39;00m\n\u001b[0;32m   3816\u001b[0m     \u001b[38;5;66;03m#  the TypeError.\u001b[39;00m\n\u001b[0;32m   3817\u001b[0m     \u001b[38;5;28mself\u001b[39m\u001b[38;5;241m.\u001b[39m_check_indexing_error(key)\n",
      "\u001b[1;31mKeyError\u001b[0m: 'course'"
     ]
    }
   ],
   "source": [
    "sheet1[\"course\"].unique()"
   ]
  },
  {
   "cell_type": "code",
   "execution_count": null,
   "metadata": {},
   "outputs": [],
   "source": []
  }
 ],
 "metadata": {
  "kernelspec": {
   "display_name": "venv",
   "language": "python",
   "name": "python3"
  },
  "language_info": {
   "codemirror_mode": {
    "name": "ipython",
    "version": 3
   },
   "file_extension": ".py",
   "mimetype": "text/x-python",
   "name": "python",
   "nbconvert_exporter": "python",
   "pygments_lexer": "ipython3",
   "version": "3.11.0"
  }
 },
 "nbformat": 4,
 "nbformat_minor": 2
}
